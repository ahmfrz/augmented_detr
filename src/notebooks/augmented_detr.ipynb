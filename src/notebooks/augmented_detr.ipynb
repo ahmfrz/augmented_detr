{
 "cells": [
  {
   "cell_type": "code",
   "execution_count": null,
   "metadata": {},
   "outputs": [],
   "source": [
    "%load_ext autoreload\n",
    "%autoreload 2"
   ]
  },
  {
   "cell_type": "code",
   "execution_count": null,
   "metadata": {},
   "outputs": [],
   "source": [
    "# load libraries\n",
    "import os\n",
    "from typing import Dict, List, Tuple\n",
    "import random\n",
    "import json\n",
    "\n",
    "import numpy as np\n",
    "import pandas as pd\n",
    "\n",
    "from pycocotools.coco import COCO\n",
    "\n",
    "import skimage.io as io\n",
    "import cv2\n",
    "from tensorflow.keras.preprocessing.image import ImageDataGenerator\n",
    "\n",
    "import matplotlib.pyplot as plt\n",
    "import matplotlib.gridspec as gridspec\n",
    "%matplotlib inline"
   ]
  },
  {
   "attachments": {},
   "cell_type": "markdown",
   "metadata": {},
   "source": [
    "## Load COCO"
   ]
  },
  {
   "cell_type": "code",
   "execution_count": null,
   "metadata": {},
   "outputs": [],
   "source": [
    "def get_img_ids_for_object_classes(coco: COCO, class_names: List[str], img_cnt_per_obj_type: int) -> List[int]:\n",
    "    img_ids = []\n",
    "    for obj_name in class_names:\n",
    "        # filter images based on category\n",
    "        filtered_cat_ids = coco.getCatIds(catNms=[obj_name])\n",
    "        \n",
    "        # find all image ids of the selected object\n",
    "        ids = coco.getImgIds(catIds=filtered_cat_ids)\n",
    "        \n",
    "        # due to resource constraints, limit number of images per class\n",
    "        if len(ids) > img_cnt_per_obj_type:\n",
    "            ids = np.random.choice(ids, img_cnt_per_obj_type)\n",
    "            img_ids.extend(ids.tolist())\n",
    "        else:\n",
    "            img_ids.extend(ids)\n",
    "\n",
    "    # same objects may appear in multiple images\n",
    "    img_ids = list(set(img_ids))\n",
    "    \n",
    "    return img_ids"
   ]
  },
  {
   "cell_type": "code",
   "execution_count": null,
   "metadata": {},
   "outputs": [],
   "source": [
    "# load config\n",
    "def update_config(key, value):\n",
    "    if check_config_exists():\n",
    "        config = load_config()\n",
    "    else:\n",
    "        config = {}\n",
    "    config[key] = value\n",
    "    with open('./augmented_detr_config.json', 'w') as f:\n",
    "        json.dump(config, f, indent=4)\n",
    "\n",
    "def load_config():\n",
    "    with open('./augmented_detr_config.json') as f:\n",
    "        return json.load(f)\n",
    "\n",
    "def check_config_exists():\n",
    "    return os.path.exists('./augmented_detr_config.json')"
   ]
  },
  {
   "cell_type": "code",
   "execution_count": null,
   "metadata": {},
   "outputs": [],
   "source": [
    "data_dir='./data/coco/'\n",
    "ann_file=f'{data_dir}/annotations/instances_train2017.json'\n",
    "\n",
    "obj_types_to_be_selected = 5\n",
    "img_cnt_for_training = 500\n",
    "img_cnt_per_obj_type = img_cnt_for_training//obj_types_to_be_selected\n",
    "\n",
    "# Initialize the COCO api\n",
    "coco=COCO(ann_file)"
   ]
  },
  {
   "cell_type": "code",
   "execution_count": null,
   "metadata": {},
   "outputs": [],
   "source": [
    "if not check_config_exists():\n",
    "    # Load the categories in a variable\n",
    "    all_cat_ids = coco.getCatIds()\n",
    "    cats = coco.loadCats(all_cat_ids)\n",
    "\n",
    "    def find_category_with_id(class_id: int, categories: List[Dict[str, str]]):\n",
    "        for i in range(len(categories)):\n",
    "            if categories[i]['id']==class_id:\n",
    "                return categories[i]\n",
    "        return None\n",
    "\n",
    "    selected_objects = []\n",
    "    for i in np.random.randint(0,90,obj_types_to_be_selected):\n",
    "        category = find_category_with_id(i, cats)\n",
    "\n",
    "        # check if it's a valid category and it is not already selected\n",
    "        while category is None or category['name'] in selected_objects:\n",
    "            i = np.random.randint(0,90)\n",
    "            category = find_category_with_id(i, cats)\n",
    "\n",
    "        # remember object name\n",
    "        selected_objects.append(category['name'])\n",
    "        print(f'selected id: {i}, super category: {category[\"supercategory\"]}, name: {category[\"name\"]}')\n",
    "\n",
    "    print(f'Total number of images found: {len(get_img_ids_for_object_classes(coco,selected_objects,img_cnt_per_obj_type))}')"
   ]
  },
  {
   "attachments": {},
   "cell_type": "markdown",
   "metadata": {},
   "source": [
    "## Exploratory Data Analysis"
   ]
  },
  {
   "cell_type": "code",
   "execution_count": null,
   "metadata": {},
   "outputs": [],
   "source": [
    "if not check_config_exists():\n",
    "    # selected coco class names\n",
    "    coco_class_names = ['sports ball', 'frisbee', 'broccoli', 'bench', 'handbag']\n",
    "    update_config('coco_selected_object_names', coco_class_names)\n",
    "else:\n",
    "    config = load_config()\n",
    "    coco_class_names = config['coco_selected_object_names']\n",
    "\n",
    "img_ids = get_img_ids_for_object_classes(coco,coco_class_names,img_cnt_per_obj_type)\n",
    "\n",
    "# load and display a random image\n",
    "img_id = img_ids[0]\n",
    "img = coco.loadImgs(img_id)[0]\n",
    "I = io.imread(f'{data_dir}/train2017/{img[\"file_name\"]}')/255.0\n",
    "\n",
    "plt.axis('off')\n",
    "plt.imshow(I)\n",
    "\n",
    "annIds = coco.getAnnIds(imgIds=img_id,iscrowd=None)\n",
    "anns = coco.loadAnns(annIds)\n",
    "coco.showAnns(anns)\n",
    "\n",
    "plt.show()"
   ]
  },
  {
   "cell_type": "code",
   "execution_count": null,
   "metadata": {},
   "outputs": [],
   "source": [
    "# check total images\n",
    "len(img_ids)"
   ]
  },
  {
   "attachments": {},
   "cell_type": "markdown",
   "metadata": {},
   "source": [
    "Total 960 images are found for object types 'sports ball', 'pizza', 'toaster', 'frisbee', 'clock', 'broccoli', 'apple', 'bench', 'handbag', 'giraffe' with a maximum of 100 per object type"
   ]
  },
  {
   "attachments": {},
   "cell_type": "markdown",
   "metadata": {},
   "source": [
    "Apply segmentation mask to loaded image"
   ]
  },
  {
   "cell_type": "code",
   "execution_count": null,
   "metadata": {},
   "outputs": [],
   "source": [
    "mask = np.zeros((img['height'],img['width']))\n",
    "for i in range(len(anns)):\n",
    "    mask = np.maximum(coco.annToMask(anns[i]), mask)\n",
    "plt.imshow(mask)\n",
    "plt.show()"
   ]
  },
  {
   "attachments": {},
   "cell_type": "markdown",
   "metadata": {},
   "source": [
    "Find objects that are in selected class names"
   ]
  },
  {
   "cell_type": "code",
   "execution_count": null,
   "metadata": {},
   "outputs": [],
   "source": [
    "all_cat_ids = coco.getCatIds()\n",
    "cats = coco.loadCats(all_cat_ids)\n",
    "def get_class_name(classID, cats):\n",
    "    for i in range(len(cats)):\n",
    "        if cats[i]['id']==classID:\n",
    "            return cats[i]['name']\n",
    "    return \"None\"\n",
    "\n",
    "mask = np.zeros((img['height'],img['width']))\n",
    "for i in range(len(anns)):\n",
    "    className = get_class_name(anns[i]['category_id'], cats)\n",
    "    if className in coco_class_names:\n",
    "        pixel_value = coco_class_names.index(className)+1\n",
    "        mask = np.maximum(coco.annToMask(anns[i])*pixel_value, mask)\n",
    "plt.imshow(mask)\n",
    "plt.show()"
   ]
  },
  {
   "attachments": {},
   "cell_type": "markdown",
   "metadata": {},
   "source": [
    "Load selected images"
   ]
  },
  {
   "cell_type": "code",
   "execution_count": null,
   "metadata": {},
   "outputs": [],
   "source": [
    "def load_img_obj_from_ids(img_ids: List[int], coco: COCO):\n",
    "    # load selected images\n",
    "    images = coco.loadImgs(img_ids)\n",
    "        \n",
    "    # Now, filter out the repeated images\n",
    "    unique_images = []\n",
    "    for i in range(len(images)):\n",
    "        if images[i] not in unique_images:\n",
    "            unique_images.append(images[i])\n",
    "                \n",
    "    random.shuffle(unique_images)\n",
    "    \n",
    "    return unique_images\n",
    "\n",
    "unique_images = load_img_obj_from_ids(img_ids, coco)"
   ]
  },
  {
   "attachments": {},
   "cell_type": "markdown",
   "metadata": {},
   "source": [
    "## Subset COCO to only selected images to save computational resources"
   ]
  },
  {
   "cell_type": "code",
   "execution_count": null,
   "metadata": {},
   "outputs": [],
   "source": [
    "import shutil\n",
    "\n",
    "def subset_data(mode: str):\n",
    "    if not os.path.exists(f'{data_dir}/{mode}2017'):\n",
    "        os.mkdir(f'{data_dir}/{mode}2017')\n",
    "    else:\n",
    "        return # already present\n",
    "    \n",
    "    ann_file=f'{data_dir}/annotations/instances_{mode}2017.json'\n",
    "    coco=COCO(ann_file)\n",
    "    \n",
    "    img_ids = get_img_ids_for_object_classes(coco,coco_class_names,img_cnt_per_obj_type)\n",
    "    update_config(f'{mode}_img_ids', img_ids)\n",
    "    \n",
    "    imgs = load_img_obj_from_ids(img_ids, coco)\n",
    "    for img in imgs:\n",
    "        shutil.copyfile(f'{data_dir}/images/{mode}/{img[\"file_name\"]}', f'{data_dir}/{mode}2017/{img[\"file_name\"]}')\n",
    "\n",
    "subset_data('val')\n",
    "subset_data('train')"
   ]
  },
  {
   "cell_type": "code",
   "execution_count": null,
   "metadata": {},
   "outputs": [],
   "source": [
    "def subset_ann(mode: str):\n",
    "    ann_file=f'{data_dir}/annotations/instances_{mode}2017.json'\n",
    "    with open(ann_file) as f:\n",
    "        d = json.load(f)\n",
    "        \n",
    "    img_ids = load_config()[f'{mode}_img_ids']\n",
    "\n",
    "    selected_objs = []\n",
    "    for img in d['images']:\n",
    "        if img['id'] in img_ids:\n",
    "            selected_objs.append(img)\n",
    "\n",
    "    d['images'] = selected_objs\n",
    "\n",
    "    selected_objs = []\n",
    "    coco=COCO(ann_file)\n",
    "    id2label = {k: v['name'] for k,v in coco.cats.items() if v['name'] in coco_class_names}\n",
    "    for i in img_ids:\n",
    "        for a in coco.loadAnns(coco.getAnnIds(i)):\n",
    "            if a['category_id'] in id2label:\n",
    "                selected_objs.append(a)\n",
    "\n",
    "\n",
    "    # for a in d['annotations']:\n",
    "    #     if a['image_id'] in img_ids:\n",
    "    #         selected_objs.append(a)\n",
    "\n",
    "    d['annotations'] = selected_objs\n",
    "\n",
    "    selected_objs = []\n",
    "    filtered_cat_ids = []\n",
    "    for obj_name in coco_class_names:\n",
    "        filtered_cat_ids.append(coco.getCatIds(catNms=[obj_name])[0])\n",
    "\n",
    "    filtered_cat_ids = list(set(filtered_cat_ids))\n",
    "    for c in d['categories']:\n",
    "        if c['id'] in filtered_cat_ids:\n",
    "            selected_objs.append(c)\n",
    "\n",
    "    d['categories'] = selected_objs\n",
    "    \n",
    "    with open(f'{data_dir}/annotations/instances_{mode}2017.json', 'w') as f:\n",
    "        json.dump(d, f)\n",
    "\n",
    "\n",
    "# subset_ann('val')\n",
    "# subset_ann('train')"
   ]
  },
  {
   "attachments": {},
   "cell_type": "markdown",
   "metadata": {},
   "source": [
    "## Data Augmentations"
   ]
  },
  {
   "cell_type": "code",
   "execution_count": null,
   "metadata": {},
   "outputs": [],
   "source": [
    "%cd detr"
   ]
  },
  {
   "cell_type": "code",
   "execution_count": null,
   "metadata": {},
   "outputs": [],
   "source": [
    "from datasets.coco import CocoDetection\n",
    "\n",
    "data_dir = '../data/coco/'\n",
    "train_dataset = CocoDetection(f'{data_dir}/train2017', f'{data_dir}/annotations/instances_train2017.json', None, True)\n",
    "cats = train_dataset.coco.cats\n",
    "id2label = {k: v['name'] for k,v in cats.items()}\n",
    "id2label\n"
   ]
  },
  {
   "cell_type": "code",
   "execution_count": null,
   "metadata": {},
   "outputs": [],
   "source": [
    "%cd ..\n",
    "data_dir = './data/coco/'\n"
   ]
  },
  {
   "cell_type": "code",
   "execution_count": null,
   "metadata": {},
   "outputs": [],
   "source": [
    "# https://albumentations.ai/docs/examples/example_bboxes/\n",
    "\n",
    "BOX_COLOR = (255, 0, 0) # Red\n",
    "TEXT_COLOR = (255, 255, 255) # White\n",
    "\n",
    "\n",
    "def visualize_bbox(img, bbox, class_name, color=BOX_COLOR, thickness=2):\n",
    "    \"\"\"Visualizes a single bounding box on the image\"\"\"\n",
    "    x_min, y_min, w, h = bbox\n",
    "    x_min, x_max, y_min, y_max = int(x_min), int(x_min + w), int(y_min), int(y_min + h)\n",
    "   \n",
    "    cv2.rectangle(img, (x_min, y_min), (x_max, y_max), color=color, thickness=thickness)\n",
    "    \n",
    "    ((text_width, text_height), _) = cv2.getTextSize(class_name, cv2.FONT_HERSHEY_SIMPLEX, 0.35, 1)    \n",
    "    cv2.rectangle(img, (x_min, y_min - int(1.3 * text_height)), (x_min + text_width, y_min), BOX_COLOR, -1)\n",
    "    cv2.putText(\n",
    "        img,\n",
    "        text=class_name,\n",
    "        org=(x_min, y_min - int(0.3 * text_height)),\n",
    "        fontFace=cv2.FONT_HERSHEY_SIMPLEX,\n",
    "        fontScale=0.35, \n",
    "        color=TEXT_COLOR, \n",
    "        lineType=cv2.LINE_AA,\n",
    "    )\n",
    "    return img\n",
    "\n",
    "\n",
    "def visualize(image, bboxes, category_ids, category_id_to_name):\n",
    "    img = image.copy()\n",
    "    for bbox, category_id in zip(bboxes, category_ids):\n",
    "        class_name = category_id_to_name[category_id]\n",
    "        img = visualize_bbox(img, bbox, class_name)\n",
    "    plt.figure(figsize=(6, 6))\n",
    "    plt.axis('off')\n",
    "    plt.imshow(img)\n",
    "\n"
   ]
  },
  {
   "attachments": {},
   "cell_type": "markdown",
   "metadata": {},
   "source": [
    "### Color space"
   ]
  },
  {
   "attachments": {},
   "cell_type": "markdown",
   "metadata": {},
   "source": [
    "#### Grayscale"
   ]
  },
  {
   "cell_type": "code",
   "execution_count": null,
   "metadata": {},
   "outputs": [],
   "source": [
    "from PIL import Image\n",
    "\n",
    "def get_img_and_anns(mode: str):\n",
    "    img_ids = load_config()[f'{mode}_img_ids']\n",
    "    coco = COCO(f'{data_dir}/annotations/instances_{mode}2017.json')\n",
    "    img_id = np.random.choice(img_ids)\n",
    "    img_obj = coco.loadImgs([img_id])[0]\n",
    "    img = io.imread(f'{data_dir}/{mode}2017/{img_obj[\"file_name\"]}') #Image.open(f'{data_dir}/{mode}2017/{img_obj[\"file_name\"]}')\n",
    "\n",
    "    annIds = coco.getAnnIds(imgIds=img_id, iscrowd=None)\n",
    "    anns = coco.loadAnns(annIds)\n",
    "\n",
    "    return img, anns, img_obj\n",
    "\n",
    "\n",
    "def get_bboxes_and_cats_from_anns(anns):\n",
    "    return [ann['bbox'] for ann in anns], [ann['category_id'] for ann in anns]\n",
    "\n",
    "\n",
    "img, anns, img_obj = get_img_and_anns('train')\n",
    "bboxes, cats = get_bboxes_and_cats_from_anns(anns)\n",
    "\n",
    "plt.figure(figsize=(6, 6))\n",
    "plt.axis('off')\n",
    "plt.imshow(img)\n",
    "coco.showAnns(anns, draw_bbox=True)\n"
   ]
  },
  {
   "cell_type": "code",
   "execution_count": null,
   "metadata": {},
   "outputs": [],
   "source": [
    "from skimage import color\n",
    "plt.figure(figsize=(6, 6))\n",
    "plt.axis('off')\n",
    "plt.imshow(color.rgb2gray(img))\n",
    "coco.showAnns(anns, draw_bbox=True)"
   ]
  },
  {
   "attachments": {},
   "cell_type": "markdown",
   "metadata": {},
   "source": [
    "Converting to grayscale has no effect on the bounding box"
   ]
  },
  {
   "cell_type": "code",
   "execution_count": null,
   "metadata": {},
   "outputs": [],
   "source": [
    "img.shape, color.rgb2gray(img).shape\n"
   ]
  },
  {
   "attachments": {},
   "cell_type": "markdown",
   "metadata": {},
   "source": [
    "Converting to grayscale removes the third dimension, reducing computational complexity"
   ]
  },
  {
   "attachments": {},
   "cell_type": "markdown",
   "metadata": {},
   "source": [
    "### Geometric"
   ]
  },
  {
   "cell_type": "code",
   "execution_count": null,
   "metadata": {},
   "outputs": [],
   "source": [
    "!pip install albumentations\n"
   ]
  },
  {
   "cell_type": "code",
   "execution_count": null,
   "metadata": {},
   "outputs": [],
   "source": [
    "import albumentations as A\n",
    "import cv2\n"
   ]
  },
  {
   "attachments": {},
   "cell_type": "markdown",
   "metadata": {},
   "source": [
    "#### Flipping"
   ]
  },
  {
   "cell_type": "code",
   "execution_count": null,
   "metadata": {},
   "outputs": [],
   "source": [
    "transform = A.Compose([\n",
    "    A.HorizontalFlip(p=1.0),\n",
    "], bbox_params=A.BboxParams(format='coco', label_fields=['category_ids']))\n",
    "\n",
    "transformed = transform(image=img, bboxes=bboxes, category_ids=cats)\n",
    "\n",
    "visualize(transformed['image'], transformed['bboxes'],\n",
    "          transformed['category_ids'], id2label)\n"
   ]
  },
  {
   "attachments": {},
   "cell_type": "markdown",
   "metadata": {},
   "source": [
    "#### Translation"
   ]
  },
  {
   "cell_type": "code",
   "execution_count": null,
   "metadata": {},
   "outputs": [],
   "source": [
    "transform = A.Compose([\n",
    "    A.Affine(translate_percent=np.random.random_sample(),p=1.0),\n",
    "], bbox_params=A.BboxParams(format='coco', label_fields=['category_ids']))\n",
    "\n",
    "transformed = transform(image=img, bboxes=bboxes, category_ids=cats)\n",
    "\n",
    "visualize(transformed['image'], transformed['bboxes'],\n",
    "          transformed['category_ids'], id2label)\n"
   ]
  },
  {
   "attachments": {},
   "cell_type": "markdown",
   "metadata": {},
   "source": [
    "#### Rotation"
   ]
  },
  {
   "cell_type": "code",
   "execution_count": null,
   "metadata": {},
   "outputs": [],
   "source": [
    "transform = A.Compose([\n",
    "    A.Affine(rotate=np.random.randint(1,359), p=1.0),\n",
    "], bbox_params=A.BboxParams(format='coco', label_fields=['category_ids']))\n",
    "\n",
    "transformed = transform(image=img, bboxes=bboxes, category_ids=cats)\n",
    "\n",
    "visualize(transformed['image'], transformed['bboxes'],\n",
    "          transformed['category_ids'], id2label)\n"
   ]
  },
  {
   "attachments": {},
   "cell_type": "markdown",
   "metadata": {},
   "source": [
    "#### Cropping"
   ]
  },
  {
   "cell_type": "code",
   "execution_count": null,
   "metadata": {},
   "outputs": [],
   "source": [
    "transform = A.Compose([\n",
    "    A.RandomSizedBBoxSafeCrop(350, 350),\n",
    "], bbox_params=A.BboxParams(format='coco', label_fields=['category_ids']))\n",
    "\n",
    "transformed = transform(image=img, bboxes=bboxes, category_ids=cats)\n",
    "\n",
    "visualize(transformed['image'], transformed['bboxes'],\n",
    "          transformed['category_ids'], id2label)"
   ]
  },
  {
   "attachments": {},
   "cell_type": "markdown",
   "metadata": {},
   "source": [
    "### Copy Paste"
   ]
  },
  {
   "cell_type": "code",
   "execution_count": null,
   "metadata": {},
   "outputs": [],
   "source": [
    "%cd detr\n"
   ]
  },
  {
   "cell_type": "code",
   "execution_count": null,
   "metadata": {},
   "outputs": [],
   "source": [
    "def get_mask(img, anns):\n",
    "    mask = np.zeros((img.shape[0], img.shape[1]), dtype=np.uint8)\n",
    "    for i in range(len(anns)):\n",
    "        mask = np.maximum(coco.annToMask(anns[i]), mask)\n",
    "\n",
    "    return mask"
   ]
  },
  {
   "cell_type": "code",
   "execution_count": null,
   "metadata": {},
   "outputs": [],
   "source": [
    "img, anns, img_obj = get_img_and_anns('train')\n",
    "bboxes, cats = get_bboxes_and_cats_from_anns(anns)\n",
    "mask = get_mask(img, anns)"
   ]
  },
  {
   "cell_type": "code",
   "execution_count": null,
   "metadata": {},
   "outputs": [],
   "source": [
    "def extract_objects(img: np.array, anns: list, coco: COCO):\n",
    "    outputs = []\n",
    "    for ann in anns:\n",
    "        mask = coco.annToMask(ann)\n",
    "        if img.ndim == 3:\n",
    "            img_cropped = img * mask[:,:,np.newaxis]\n",
    "        else:\n",
    "            img_cropped = img * mask[:,:]\n",
    "            img_cropped = img_cropped.reshape(img_cropped.shape[0], img_cropped.shape[1], 1)\n",
    "\n",
    "        rows, cols = np.where(mask)\n",
    "        top_row, bottom_row = rows.min(), rows.max()\n",
    "        left_col, right_col = cols.min(), cols.max()\n",
    "        \n",
    "        if top_row == bottom_row:\n",
    "            bottom_row += 1\n",
    "        \n",
    "        if left_col == right_col:\n",
    "            right_col += 1\n",
    "        \n",
    "        outputs.append((img_cropped[top_row:bottom_row, left_col:right_col], ann))\n",
    "    return outputs\n",
    "\n",
    "coco = COCO(f'{data_dir}/annotations/instances_train2017.json')"
   ]
  },
  {
   "cell_type": "code",
   "execution_count": null,
   "metadata": {},
   "outputs": [],
   "source": [
    "num_of_copies = 2\n",
    "objects = extract_objects(img, anns, coco)\n",
    "img_obj, ann_obj = objects[0]\n",
    "mask_obj = coco.annToMask(ann_obj)\n",
    "\n",
    "pil_img = Image.fromarray(img)\n",
    "\n",
    "for i in range(num_of_copies):\n",
    "    # check if x,y overlap with other objects\n",
    "    mask =np.zeros((img.shape[0], img.shape[1]), dtype=np.uint8)\n",
    "    for ann in anns:\n",
    "        mask = np.maximum(coco.annToMask(ann), mask)\n",
    "        \n",
    "    has_overlap = True\n",
    "    while has_overlap:\n",
    "        # generate random positions\n",
    "        x, y = np.random.randint(\n",
    "            0, img.shape[1]), np.random.randint(0, img.shape[0])\n",
    "\n",
    "        mask_bg_cropped = mask[y:y+img_obj.shape[0], x:x+img_obj.shape[1]]\n",
    "        mask_obj_cropped = cv2.resize(\n",
    "            mask_obj, (mask_bg_cropped.shape[1], mask_bg_cropped.shape[0]))\n",
    "\n",
    "        has_overlap = np.bitwise_and(mask_bg_cropped, mask_obj_cropped).any()\n",
    "        \n",
    "        has_overlap = has_overlap or (\n",
    "            (y+img_obj.shape[0]) > img.shape[0]) or ((x+img_obj.shape[1]) > img.shape[1])\n",
    "    \n",
    "    # blend image\n",
    "    alpha = np.ones(img_obj.shape[:2], dtype=np.float32) * 0.7\n",
    "    alpha = np.dstack((alpha, alpha, alpha))\n",
    "    img_obj_alpha = np.concatenate((img_obj, alpha), axis=2)\n",
    "    \n",
    "    # blend with object\n",
    "    img[y:y+img_obj.shape[0], x:x+img_obj.shape[1],\n",
    "        :] = img[y:y+img_obj.shape[0], x:x+img_obj.shape[1], :] * (1-alpha) + img_obj_alpha[:,:,:3] * alpha\n",
    "    \n",
    "    # img[y:y+img_obj.shape[0], x:x+img_obj.shape[1],:] = img_obj\n",
    "\n",
    "plt.imshow(img)"
   ]
  },
  {
   "attachments": {},
   "cell_type": "markdown",
   "metadata": {},
   "source": [
    "### Random Erasing"
   ]
  },
  {
   "cell_type": "code",
   "execution_count": null,
   "metadata": {},
   "outputs": [],
   "source": [
    "from torchvision.transforms import RandomErasing\n",
    "import torchvision.transforms as transforms"
   ]
  },
  {
   "cell_type": "code",
   "execution_count": null,
   "metadata": {},
   "outputs": [],
   "source": [
    "# @inproceedings{zhong2020random,\n",
    "# title={Random Erasing Data Augmentation},\n",
    "# author={Zhong, Zhun and Zheng, Liang and Kang, Guoliang and Li, Shaozi and Yang, Yi},\n",
    "# booktitle={Proceedings of the AAAI Conference on Artificial Intelligence (AAAI)},\n",
    "# year={2020}\n",
    "# }"
   ]
  },
  {
   "cell_type": "code",
   "execution_count": null,
   "metadata": {},
   "outputs": [],
   "source": [
    "transform = transforms.Compose([\n",
    "    transforms.PILToTensor(),\n",
    "    transforms.RandomErasing(p=1, value='random'),\n",
    "    transforms.ToPILImage()\n",
    "])\n",
    "\n",
    "pil_img = Image.fromarray(img)\n",
    "transformed = np.array(transform(pil_img))\n",
    "\n",
    "visualize(transformed, bboxes,\n",
    "          cats, id2label)\n"
   ]
  },
  {
   "attachments": {},
   "cell_type": "markdown",
   "metadata": {},
   "source": [
    "### Noise Injection"
   ]
  },
  {
   "cell_type": "code",
   "execution_count": null,
   "metadata": {},
   "outputs": [],
   "source": [
    "transform = A.Compose([\n",
    "    A.GaussNoise(p=1),\n",
    "], bbox_params=A.BboxParams(format='coco', label_fields=['category_ids']))\n",
    "\n",
    "transformed = transform(image=img, bboxes=bboxes, category_ids=cats)\n",
    "\n",
    "visualize(transformed['image'], transformed['bboxes'],\n",
    "          transformed['category_ids'], id2label)\n"
   ]
  },
  {
   "attachments": {},
   "cell_type": "markdown",
   "metadata": {},
   "source": [
    "### Pretraining"
   ]
  },
  {
   "cell_type": "code",
   "execution_count": null,
   "metadata": {},
   "outputs": [],
   "source": [
    "import shutil\n",
    "\n",
    "# save cropped objects\n",
    "def crop_and_save_objects():\n",
    "    if os.path.exists('./data/coco/objects'):\n",
    "        shutil.rmtree('./data/coco/objects')\n",
    "\n",
    "    os.mkdir('./data/coco/objects')\n",
    "\n",
    "    coco = COCO(f'{data_dir}/annotations/instances_train2017.json')\n",
    "    img_ids = load_config()['train_img_ids']\n",
    "    img_objs = coco.loadImgs(img_ids)\n",
    "    for img_obj in img_objs:\n",
    "        img = io.imread(f'{data_dir}/train2017/{img_obj[\"file_name\"]}')\n",
    "        annIds = coco.getAnnIds(imgIds=img_obj['id'], iscrowd=None)\n",
    "        anns = coco.loadAnns(annIds)\n",
    "\n",
    "        objects = extract_objects(img, anns, coco)\n",
    "        \n",
    "        for o in objects:\n",
    "            obj, ann = o\n",
    "            # obj = cv2.resize(obj, (256, 128))\n",
    "            obj_type = id2label[ann[\"category_id\"]]\n",
    "            p = f'./data/coco/objects/{obj_type}'\n",
    "            if not os.path.exists(p):\n",
    "                os.mkdir(p)\n",
    "\n",
    "            cv2.imwrite(\n",
    "                f'{p}/{img_obj[\"id\"]}_{obj_type}.jpg', obj)\n",
    "\n",
    "\n",
    "crop_and_save_objects()\n"
   ]
  },
  {
   "cell_type": "code",
   "execution_count": 1,
   "metadata": {},
   "outputs": [],
   "source": [
    "import dataclasses\n",
    "\n",
    "@dataclasses.dataclass\n",
    "class Pretraining_Config():\n",
    "    epochs: int=100\n",
    "    num_patches: int=5\n",
    "    lr_drop: float=40\n",
    "    output_dir: str=\"..\\output\\pretrain\"\n",
    "    batch_size: int=5\n",
    "    obj_path=\"..\\data\\coco\\objects\"\n",
    "    num_workers: int = 1\n"
   ]
  },
  {
   "cell_type": "code",
   "execution_count": 2,
   "metadata": {},
   "outputs": [
    {
     "name": "stdout",
     "output_type": "stream",
     "text": [
      "c:\\Code\\augmented_detr\\src\\notebooks\\up-detr\n"
     ]
    },
    {
     "name": "stderr",
     "output_type": "stream",
     "text": [
      "fatal: destination path 'up-detr' already exists and is not an empty directory.\n"
     ]
    }
   ],
   "source": [
    "!git clone https://github.com/dddzg/up-detr.git\n",
    "%cd up-detr"
   ]
  },
  {
   "cell_type": "code",
   "execution_count": 3,
   "metadata": {},
   "outputs": [
    {
     "ename": "NameError",
     "evalue": "name 'os' is not defined",
     "output_type": "error",
     "traceback": [
      "\u001b[1;31m---------------------------------------------------------------------------\u001b[0m",
      "\u001b[1;31mNameError\u001b[0m                                 Traceback (most recent call last)",
      "Cell \u001b[1;32mIn[3], line 1\u001b[0m\n\u001b[1;32m----> 1\u001b[0m os\u001b[39m.\u001b[39mgetcwd()\n",
      "\u001b[1;31mNameError\u001b[0m: name 'os' is not defined"
     ]
    }
   ],
   "source": [
    "os.getcwd()"
   ]
  },
  {
   "cell_type": "code",
   "execution_count": 4,
   "metadata": {},
   "outputs": [],
   "source": [
    "from main import main as pre_main, get_args_parser\n",
    "import argparse\n",
    "from pathlib import Path\n",
    "\n",
    "def pretrain_detr(config: Pretraining_Config):\n",
    "    parser = argparse.ArgumentParser(\n",
    "        'DETR training and evaluation script', parents=[get_args_parser()])\n",
    "    args = parser.parse_args([\n",
    "        '--lr_drop', str(config.lr_drop),\n",
    "        '--num_patches', str(config.num_patches),\n",
    "        '--output_dir', config.output_dir,\n",
    "        '--pre_norm',\n",
    "        '--feature_recon',\n",
    "        '--fre_cnn',\n",
    "        '--imagenet_path', config.obj_path,\n",
    "        '--batch_size', str(config.batch_size),\n",
    "        '--epochs', str(config.epochs),\n",
    "        '--num_workers', str(config.num_workers)\n",
    "    ])\n",
    "\n",
    "    if args.output_dir:\n",
    "        Path(args.output_dir).mkdir(parents=True, exist_ok=True)\n",
    "\n",
    "    pre_main(args)\n"
   ]
  },
  {
   "cell_type": "code",
   "execution_count": 5,
   "metadata": {},
   "outputs": [
    {
     "name": "stdout",
     "output_type": "stream",
     "text": [
      "Not using distributed mode\n",
      "git:\n",
      "  sha: be066dfca5e8f1f35a4331490e8239b579bbf497, status: clean, branch: master\n",
      "\n",
      "Namespace(lr=0.0001, batch_size=5, weight_decay=0.0001, epochs=200, lr_drop=40, clip_max_norm=0.1, backbone='resnet50', dilation=False, position_embedding='sine', enc_layers=6, dec_layers=6, dim_feedforward=2048, hidden_dim=256, dropout=0.1, nheads=8, num_queries=100, num_patches=5, pre_norm=True, aux_loss=True, set_cost_class=1, set_cost_bbox=5, set_cost_giou=2, mask_loss_coef=1, dice_loss_coef=1, bbox_loss_coef=5, giou_loss_coef=2, eos_coef=0.1, output_dir='..\\\\output\\\\pretrain', device='cuda', seed=42, resume='', start_epoch=0, eval=False, num_workers=1, world_size=1, dist_url='env://', imagenet_path='..\\\\data\\\\coco\\\\objects', feature_recon=True, query_shuffle=False, fre_cnn=True, distributed=False, dataset_file='ImageNet', masks=None, lr_backbone=0)\n"
     ]
    },
    {
     "name": "stderr",
     "output_type": "stream",
     "text": [
      "c:\\Code\\augmented_detr\\env\\lib\\site-packages\\torchvision\\models\\_utils.py:208: UserWarning: The parameter 'pretrained' is deprecated since 0.13 and will be removed in 0.15, please use 'weights' instead.\n",
      "  warnings.warn(\n",
      "c:\\Code\\augmented_detr\\env\\lib\\site-packages\\torchvision\\models\\_utils.py:223: UserWarning: Arguments other than a weight enum or `None` for 'weights' are deprecated since 0.13 and will be removed in 0.15. The current behavior is equivalent to passing `weights=None`.\n",
      "  warnings.warn(msg)\n"
     ]
    },
    {
     "name": "stdout",
     "output_type": "stream",
     "text": [
      "number of params: 19164167\n",
      "num of files:527\n",
      "21000\n",
      "Start training\n"
     ]
    },
    {
     "name": "stderr",
     "output_type": "stream",
     "text": [
      "c:\\Code\\augmented_detr\\src\\notebooks\\up-detr\\models\\position_encoding.py:47: UserWarning: __floordiv__ is deprecated, and its behavior will change in a future version of pytorch. It currently rounds toward 0 (like the 'trunc' function NOT 'floor'). This results in incorrect rounding for negative values. To keep the current behavior, use torch.div(a, b, rounding_mode='trunc'), or for actual floor division, use torch.div(a, b, rounding_mode='floor').\n",
      "  dim_t = self.temperature ** (2 * (dim_t // 2) / self.num_pos_feats)\n"
     ]
    },
    {
     "name": "stdout",
     "output_type": "stream",
     "text": [
      "Epoch: [0]  [  0/105]  eta: 0:06:11  lr: 0.000100  class_error: 96.00  loss: 50.1255 (50.1255)  loss_ce: 1.7988 (1.7988)  loss_bbox: 3.1584 (3.1584)  loss_giou: 1.5814 (1.5814)  loss_feature: 2.0264 (2.0264)  loss_ce_0: 1.5087 (1.5087)  loss_bbox_0: 3.1094 (3.1094)  loss_giou_0: 1.5764 (1.5764)  loss_feature_0: 2.0342 (2.0342)  loss_ce_1: 1.3177 (1.3177)  loss_bbox_1: 3.0815 (3.0815)  loss_giou_1: 1.5590 (1.5590)  loss_feature_1: 2.0337 (2.0337)  loss_ce_2: 1.8895 (1.8895)  loss_bbox_2: 3.1590 (3.1590)  loss_giou_2: 1.6042 (1.6042)  loss_feature_2: 2.0428 (2.0428)  loss_ce_3: 1.6804 (1.6804)  loss_bbox_3: 3.1500 (3.1500)  loss_giou_3: 1.5774 (1.5774)  loss_feature_3: 2.0213 (2.0213)  loss_ce_4: 1.4876 (1.4876)  loss_bbox_4: 3.1412 (3.1412)  loss_giou_4: 1.5693 (1.5693)  loss_feature_4: 2.0168 (2.0168)  loss_ce_unscaled: 1.7988 (1.7988)  class_error_unscaled: 96.0000 (96.0000)  loss_bbox_unscaled: 0.6317 (0.6317)  loss_giou_unscaled: 0.7907 (0.7907)  cardinality_error_unscaled: 95.0000 (95.0000)  loss_feature_unscaled: 2.0264 (2.0264)  loss_ce_0_unscaled: 1.5087 (1.5087)  loss_bbox_0_unscaled: 0.6219 (0.6219)  loss_giou_0_unscaled: 0.7882 (0.7882)  cardinality_error_0_unscaled: 94.0000 (94.0000)  loss_feature_0_unscaled: 2.0342 (2.0342)  loss_ce_1_unscaled: 1.3177 (1.3177)  loss_bbox_1_unscaled: 0.6163 (0.6163)  loss_giou_1_unscaled: 0.7795 (0.7795)  cardinality_error_1_unscaled: 78.4000 (78.4000)  loss_feature_1_unscaled: 2.0337 (2.0337)  loss_ce_2_unscaled: 1.8895 (1.8895)  loss_bbox_2_unscaled: 0.6318 (0.6318)  loss_giou_2_unscaled: 0.8021 (0.8021)  cardinality_error_2_unscaled: 95.0000 (95.0000)  loss_feature_2_unscaled: 2.0428 (2.0428)  loss_ce_3_unscaled: 1.6804 (1.6804)  loss_bbox_3_unscaled: 0.6300 (0.6300)  loss_giou_3_unscaled: 0.7887 (0.7887)  cardinality_error_3_unscaled: 95.0000 (95.0000)  loss_feature_3_unscaled: 2.0213 (2.0213)  loss_ce_4_unscaled: 1.4876 (1.4876)  loss_bbox_4_unscaled: 0.6282 (0.6282)  loss_giou_4_unscaled: 0.7847 (0.7847)  cardinality_error_4_unscaled: 95.0000 (95.0000)  loss_feature_4_unscaled: 2.0168 (2.0168)  time: 3.5421  data: 1.2412  max mem: 871\n",
      "Epoch: [0]  [ 10/105]  eta: 0:01:06  lr: 0.000100  class_error: 100.00  loss: 41.9275 (42.8361)  loss_ce: 0.6560 (0.7711)  loss_bbox: 3.1007 (3.0194)  loss_giou: 1.5484 (1.5524)  loss_feature: 1.8110 (1.8153)  loss_ce_0: 0.6164 (0.7047)  loss_bbox_0: 3.0818 (2.9999)  loss_giou_0: 1.5764 (1.5772)  loss_feature_0: 1.8448 (1.8464)  loss_ce_1: 0.6342 (0.6996)  loss_bbox_1: 3.0717 (2.9945)  loss_giou_1: 1.5590 (1.5632)  loss_feature_1: 1.8403 (1.8429)  loss_ce_2: 0.6364 (0.7691)  loss_bbox_2: 3.1163 (3.0155)  loss_giou_2: 1.5658 (1.5680)  loss_feature_2: 1.8298 (1.8358)  loss_ce_3: 0.6421 (0.7483)  loss_bbox_3: 3.0979 (3.0270)  loss_giou_3: 1.5554 (1.5544)  loss_feature_3: 1.8056 (1.8151)  loss_ce_4: 0.6463 (0.7311)  loss_bbox_4: 3.0793 (3.0213)  loss_giou_4: 1.5569 (1.5544)  loss_feature_4: 1.8054 (1.8096)  loss_ce_unscaled: 0.6560 (0.7711)  class_error_unscaled: 96.0000 (70.1818)  loss_bbox_unscaled: 0.6201 (0.6039)  loss_giou_unscaled: 0.7742 (0.7762)  cardinality_error_unscaled: 5.0000 (28.8182)  loss_feature_unscaled: 1.8110 (1.8153)  loss_ce_0_unscaled: 0.6164 (0.7047)  loss_bbox_0_unscaled: 0.6164 (0.6000)  loss_giou_0_unscaled: 0.7882 (0.7886)  cardinality_error_0_unscaled: 5.0000 (16.1818)  loss_feature_0_unscaled: 1.8448 (1.8464)  loss_ce_1_unscaled: 0.6342 (0.6996)  loss_bbox_1_unscaled: 0.6143 (0.5989)  loss_giou_1_unscaled: 0.7795 (0.7816)  cardinality_error_1_unscaled: 5.0000 (21.6364)  loss_feature_1_unscaled: 1.8403 (1.8429)  loss_ce_2_unscaled: 0.6364 (0.7691)  loss_bbox_2_unscaled: 0.6233 (0.6031)  loss_giou_2_unscaled: 0.7829 (0.7840)  cardinality_error_2_unscaled: 5.0000 (28.4545)  loss_feature_2_unscaled: 1.8298 (1.8358)  loss_ce_3_unscaled: 0.6421 (0.7483)  loss_bbox_3_unscaled: 0.6196 (0.6054)  loss_giou_3_unscaled: 0.7777 (0.7772)  cardinality_error_3_unscaled: 5.0000 (24.3455)  loss_feature_3_unscaled: 1.8056 (1.8151)  loss_ce_4_unscaled: 0.6463 (0.7311)  loss_bbox_4_unscaled: 0.6159 (0.6043)  loss_giou_4_unscaled: 0.7784 (0.7772)  cardinality_error_4_unscaled: 5.0000 (24.9273)  loss_feature_4_unscaled: 1.8054 (1.8096)  time: 0.6950  data: 0.1169  max mem: 1340\n",
      "Epoch: [0]  [ 20/105]  eta: 0:00:48  lr: 0.000100  class_error: 100.00  loss: 39.8121 (40.7717)  loss_ce: 0.6185 (0.6962)  loss_bbox: 2.9336 (2.9526)  loss_giou: 1.4768 (1.4949)  loss_feature: 1.6109 (1.6682)  loss_ce_0: 0.6074 (0.6547)  loss_bbox_0: 2.8583 (2.9159)  loss_giou_0: 1.4551 (1.5056)  loss_feature_0: 1.6756 (1.7136)  loss_ce_1: 0.5998 (0.6506)  loss_bbox_1: 2.9115 (2.9279)  loss_giou_1: 1.4381 (1.4951)  loss_feature_1: 1.6437 (1.6953)  loss_ce_2: 0.6100 (0.6917)  loss_bbox_2: 2.9203 (2.9497)  loss_giou_2: 1.4501 (1.4945)  loss_feature_2: 1.6320 (1.6837)  loss_ce_3: 0.6219 (0.6856)  loss_bbox_3: 2.9205 (2.9506)  loss_giou_3: 1.4723 (1.4927)  loss_feature_3: 1.6153 (1.6653)  loss_ce_4: 0.6113 (0.6741)  loss_bbox_4: 2.9471 (2.9544)  loss_giou_4: 1.4834 (1.4953)  loss_feature_4: 1.6043 (1.6634)  loss_ce_unscaled: 0.6185 (0.6962)  class_error_unscaled: 100.0000 (81.1429)  loss_bbox_unscaled: 0.5867 (0.5905)  loss_giou_unscaled: 0.7384 (0.7475)  cardinality_error_unscaled: 5.0000 (17.0762)  loss_feature_unscaled: 1.6109 (1.6682)  loss_ce_0_unscaled: 0.6074 (0.6547)  loss_bbox_0_unscaled: 0.5717 (0.5832)  loss_giou_0_unscaled: 0.7276 (0.7528)  cardinality_error_0_unscaled: 4.8000 (10.4857)  loss_feature_0_unscaled: 1.6756 (1.7136)  loss_ce_1_unscaled: 0.5998 (0.6506)  loss_bbox_1_unscaled: 0.5823 (0.5856)  loss_giou_1_unscaled: 0.7190 (0.7476)  cardinality_error_1_unscaled: 5.0000 (13.3238)  loss_feature_1_unscaled: 1.6437 (1.6953)  loss_ce_2_unscaled: 0.6100 (0.6917)  loss_bbox_2_unscaled: 0.5841 (0.5899)  loss_giou_2_unscaled: 0.7250 (0.7473)  cardinality_error_2_unscaled: 5.0000 (17.0476)  loss_feature_2_unscaled: 1.6320 (1.6837)  loss_ce_3_unscaled: 0.6219 (0.6856)  loss_bbox_3_unscaled: 0.5841 (0.5901)  loss_giou_3_unscaled: 0.7362 (0.7463)  cardinality_error_3_unscaled: 5.0000 (14.7333)  loss_feature_3_unscaled: 1.6153 (1.6653)  loss_ce_4_unscaled: 0.6113 (0.6741)  loss_bbox_4_unscaled: 0.5894 (0.5909)  loss_giou_4_unscaled: 0.7417 (0.7477)  cardinality_error_4_unscaled: 5.0000 (15.1048)  loss_feature_4_unscaled: 1.6043 (1.6634)  time: 0.4182  data: 0.0045  max mem: 1340\n",
      "Epoch: [0]  [ 30/105]  eta: 0:00:38  lr: 0.000100  class_error: 96.00  loss: 38.3465 (40.1569)  loss_ce: 0.6079 (0.6684)  loss_bbox: 2.9112 (2.9815)  loss_giou: 1.4768 (1.5030)  loss_feature: 1.4029 (1.5574)  loss_ce_0: 0.6048 (0.6382)  loss_bbox_0: 2.8529 (2.9439)  loss_giou_0: 1.4294 (1.5022)  loss_feature_0: 1.4565 (1.6060)  loss_ce_1: 0.5972 (0.6331)  loss_bbox_1: 2.8431 (2.9534)  loss_giou_1: 1.4381 (1.4982)  loss_feature_1: 1.4132 (1.5812)  loss_ce_2: 0.5986 (0.6590)  loss_bbox_2: 2.9127 (2.9746)  loss_giou_2: 1.4501 (1.5020)  loss_feature_2: 1.4050 (1.5719)  loss_ce_3: 0.6081 (0.6580)  loss_bbox_3: 2.8855 (2.9764)  loss_giou_3: 1.4663 (1.5019)  loss_feature_3: 1.3895 (1.5528)  loss_ce_4: 0.6089 (0.6537)  loss_bbox_4: 2.9016 (2.9871)  loss_giou_4: 1.4792 (1.5007)  loss_feature_4: 1.3973 (1.5523)  loss_ce_unscaled: 0.6079 (0.6684)  class_error_unscaled: 100.0000 (85.8065)  loss_bbox_unscaled: 0.5822 (0.5963)  loss_giou_unscaled: 0.7384 (0.7515)  cardinality_error_unscaled: 4.8000 (12.9548)  loss_feature_unscaled: 1.4029 (1.5574)  loss_ce_0_unscaled: 0.6048 (0.6382)  loss_bbox_0_unscaled: 0.5706 (0.5888)  loss_giou_0_unscaled: 0.7147 (0.7511)  cardinality_error_0_unscaled: 4.4000 (8.3355)  loss_feature_0_unscaled: 1.4565 (1.6060)  loss_ce_1_unscaled: 0.5972 (0.6331)  loss_bbox_1_unscaled: 0.5686 (0.5907)  loss_giou_1_unscaled: 0.7190 (0.7491)  cardinality_error_1_unscaled: 4.8000 (10.4323)  loss_feature_1_unscaled: 1.4132 (1.5812)  loss_ce_2_unscaled: 0.5986 (0.6590)  loss_bbox_2_unscaled: 0.5825 (0.5949)  loss_giou_2_unscaled: 0.7250 (0.7510)  cardinality_error_2_unscaled: 3.8000 (12.6194)  loss_feature_2_unscaled: 1.4050 (1.5719)  loss_ce_3_unscaled: 0.6081 (0.6580)  loss_bbox_3_unscaled: 0.5771 (0.5953)  loss_giou_3_unscaled: 0.7332 (0.7510)  cardinality_error_3_unscaled: 4.4000 (11.2968)  loss_feature_3_unscaled: 1.3895 (1.5528)  loss_ce_4_unscaled: 0.6089 (0.6537)  loss_bbox_4_unscaled: 0.5803 (0.5974)  loss_giou_4_unscaled: 0.7396 (0.7503)  cardinality_error_4_unscaled: 4.8000 (11.7419)  loss_feature_4_unscaled: 1.3973 (1.5523)  time: 0.4198  data: 0.0045  max mem: 1340\n",
      "Epoch: [0]  [ 40/105]  eta: 0:00:32  lr: 0.000100  class_error: 84.00  loss: 37.0430 (39.2521)  loss_ce: 0.6048 (0.6529)  loss_bbox: 2.9429 (2.9582)  loss_giou: 1.5053 (1.4893)  loss_feature: 1.2220 (1.4647)  loss_ce_0: 0.6061 (0.6290)  loss_bbox_0: 2.8919 (2.9124)  loss_giou_0: 1.4769 (1.4852)  loss_feature_0: 1.2647 (1.5140)  loss_ce_1: 0.5999 (0.6260)  loss_bbox_1: 2.8806 (2.9194)  loss_giou_1: 1.4675 (1.4817)  loss_feature_1: 1.2223 (1.4842)  loss_ce_2: 0.5980 (0.6444)  loss_bbox_2: 2.8913 (2.9393)  loss_giou_2: 1.4918 (1.4872)  loss_feature_2: 1.2247 (1.4777)  loss_ce_3: 0.5967 (0.6436)  loss_bbox_3: 2.9056 (2.9460)  loss_giou_3: 1.4943 (1.4879)  loss_feature_3: 1.2094 (1.4597)  loss_ce_4: 0.6076 (0.6403)  loss_bbox_4: 2.9452 (2.9629)  loss_giou_4: 1.5020 (1.4855)  loss_feature_4: 1.2195 (1.4607)  loss_ce_unscaled: 0.6048 (0.6529)  class_error_unscaled: 92.0000 (86.5366)  loss_bbox_unscaled: 0.5886 (0.5916)  loss_giou_unscaled: 0.7526 (0.7447)  cardinality_error_unscaled: 4.2000 (10.7463)  loss_feature_unscaled: 1.2220 (1.4647)  loss_ce_0_unscaled: 0.6061 (0.6290)  loss_bbox_0_unscaled: 0.5784 (0.5825)  loss_giou_0_unscaled: 0.7385 (0.7426)  cardinality_error_0_unscaled: 4.2000 (7.1463)  loss_feature_0_unscaled: 1.2647 (1.5140)  loss_ce_1_unscaled: 0.5999 (0.6260)  loss_bbox_1_unscaled: 0.5761 (0.5839)  loss_giou_1_unscaled: 0.7337 (0.7409)  cardinality_error_1_unscaled: 4.6000 (8.9122)  loss_feature_1_unscaled: 1.2223 (1.4842)  loss_ce_2_unscaled: 0.5980 (0.6444)  loss_bbox_2_unscaled: 0.5783 (0.5879)  loss_giou_2_unscaled: 0.7459 (0.7436)  cardinality_error_2_unscaled: 3.4000 (10.2341)  loss_feature_2_unscaled: 1.2247 (1.4777)  loss_ce_3_unscaled: 0.5967 (0.6436)  loss_bbox_3_unscaled: 0.5811 (0.5892)  loss_giou_3_unscaled: 0.7472 (0.7440)  cardinality_error_3_unscaled: 4.0000 (9.4049)  loss_feature_3_unscaled: 1.2094 (1.4597)  loss_ce_4_unscaled: 0.6076 (0.6403)  loss_bbox_4_unscaled: 0.5890 (0.5926)  loss_giou_4_unscaled: 0.7510 (0.7428)  cardinality_error_4_unscaled: 4.6000 (9.9317)  loss_feature_4_unscaled: 1.2195 (1.4607)  time: 0.4286  data: 0.0043  max mem: 1340\n",
      "Epoch: [0]  [ 50/105]  eta: 0:00:27  lr: 0.000100  class_error: 84.00  loss: 35.8074 (38.3373)  loss_ce: 0.6025 (0.6443)  loss_bbox: 2.8470 (2.9155)  loss_giou: 1.3980 (1.4584)  loss_feature: 1.1047 (1.3882)  loss_ce_0: 0.5988 (0.6219)  loss_bbox_0: 2.8007 (2.8853)  loss_giou_0: 1.4250 (1.4645)  loss_feature_0: 1.1575 (1.4349)  loss_ce_1: 0.5983 (0.6183)  loss_bbox_1: 2.7995 (2.8821)  loss_giou_1: 1.4028 (1.4580)  loss_feature_1: 1.1123 (1.4055)  loss_ce_2: 0.5985 (0.6340)  loss_bbox_2: 2.8123 (2.8964)  loss_giou_2: 1.4109 (1.4623)  loss_feature_2: 1.1179 (1.3993)  loss_ce_3: 0.5967 (0.6342)  loss_bbox_3: 2.7940 (2.9026)  loss_giou_3: 1.4133 (1.4613)  loss_feature_3: 1.0977 (1.3825)  loss_ce_4: 0.5913 (0.6314)  loss_bbox_4: 2.8398 (2.9175)  loss_giou_4: 1.3931 (1.4552)  loss_feature_4: 1.1010 (1.3838)  loss_ce_unscaled: 0.6025 (0.6443)  class_error_unscaled: 92.0000 (87.4510)  loss_bbox_unscaled: 0.5694 (0.5831)  loss_giou_unscaled: 0.6990 (0.7292)  cardinality_error_unscaled: 3.4000 (9.2353)  loss_feature_unscaled: 1.1047 (1.3882)  loss_ce_0_unscaled: 0.5988 (0.6219)  loss_bbox_0_unscaled: 0.5601 (0.5771)  loss_giou_0_unscaled: 0.7125 (0.7322)  cardinality_error_0_unscaled: 2.6000 (6.1333)  loss_feature_0_unscaled: 1.1575 (1.4349)  loss_ce_1_unscaled: 0.5983 (0.6183)  loss_bbox_1_unscaled: 0.5599 (0.5764)  loss_giou_1_unscaled: 0.7014 (0.7290)  cardinality_error_1_unscaled: 2.8000 (7.6157)  loss_feature_1_unscaled: 1.1123 (1.4055)  loss_ce_2_unscaled: 0.5985 (0.6340)  loss_bbox_2_unscaled: 0.5625 (0.5793)  loss_giou_2_unscaled: 0.7054 (0.7311)  cardinality_error_2_unscaled: 2.6000 (8.7255)  loss_feature_2_unscaled: 1.1179 (1.3993)  loss_ce_3_unscaled: 0.5967 (0.6342)  loss_bbox_3_unscaled: 0.5588 (0.5805)  loss_giou_3_unscaled: 0.7066 (0.7306)  cardinality_error_3_unscaled: 3.2000 (8.1843)  loss_feature_3_unscaled: 1.0977 (1.3825)  loss_ce_4_unscaled: 0.5913 (0.6314)  loss_bbox_4_unscaled: 0.5680 (0.5835)  loss_giou_4_unscaled: 0.6966 (0.7276)  cardinality_error_4_unscaled: 2.6000 (8.5294)  loss_feature_4_unscaled: 1.1010 (1.3838)  time: 0.4583  data: 0.0041  max mem: 1340\n",
      "Epoch: [0]  [ 60/105]  eta: 0:00:22  lr: 0.000100  class_error: 32.00  loss: 32.1259 (37.2228)  loss_ce: 0.5941 (0.6331)  loss_bbox: 2.3804 (2.8209)  loss_giou: 1.2689 (1.4215)  loss_feature: 1.0502 (1.3310)  loss_ce_0: 0.5859 (0.6132)  loss_bbox_0: 2.5973 (2.8294)  loss_giou_0: 1.3421 (1.4423)  loss_feature_0: 1.0748 (1.3714)  loss_ce_1: 0.5787 (0.6092)  loss_bbox_1: 2.4753 (2.8058)  loss_giou_1: 1.3220 (1.4299)  loss_feature_1: 1.0504 (1.3427)  loss_ce_2: 0.5861 (0.6239)  loss_bbox_2: 2.4725 (2.8097)  loss_giou_2: 1.2905 (1.4292)  loss_feature_2: 1.0540 (1.3398)  loss_ce_3: 0.5894 (0.6266)  loss_bbox_3: 2.4148 (2.8081)  loss_giou_3: 1.2585 (1.4240)  loss_feature_3: 1.0390 (1.3239)  loss_ce_4: 0.5893 (0.6216)  loss_bbox_4: 2.4204 (2.8222)  loss_giou_4: 1.2638 (1.4175)  loss_feature_4: 1.0421 (1.3258)  loss_ce_unscaled: 0.5941 (0.6331)  class_error_unscaled: 80.0000 (81.9672)  loss_bbox_unscaled: 0.4761 (0.5642)  loss_giou_unscaled: 0.6345 (0.7108)  cardinality_error_unscaled: 3.4000 (9.2361)  loss_feature_unscaled: 1.0502 (1.3310)  loss_ce_0_unscaled: 0.5859 (0.6132)  loss_bbox_0_unscaled: 0.5195 (0.5659)  loss_giou_0_unscaled: 0.6711 (0.7211)  cardinality_error_0_unscaled: 2.2000 (5.5574)  loss_feature_0_unscaled: 1.0748 (1.3714)  loss_ce_1_unscaled: 0.5787 (0.6092)  loss_bbox_1_unscaled: 0.4951 (0.5612)  loss_giou_1_unscaled: 0.6610 (0.7150)  cardinality_error_1_unscaled: 2.2000 (6.8262)  loss_feature_1_unscaled: 1.0504 (1.3427)  loss_ce_2_unscaled: 0.5861 (0.6239)  loss_bbox_2_unscaled: 0.4945 (0.5619)  loss_giou_2_unscaled: 0.6453 (0.7146)  cardinality_error_2_unscaled: 2.6000 (8.0984)  loss_feature_2_unscaled: 1.0540 (1.3398)  loss_ce_3_unscaled: 0.5894 (0.6266)  loss_bbox_3_unscaled: 0.4830 (0.5616)  loss_giou_3_unscaled: 0.6292 (0.7120)  cardinality_error_3_unscaled: 3.2000 (8.1279)  loss_feature_3_unscaled: 1.0390 (1.3239)  loss_ce_4_unscaled: 0.5893 (0.6216)  loss_bbox_4_unscaled: 0.4841 (0.5644)  loss_giou_4_unscaled: 0.6319 (0.7088)  cardinality_error_4_unscaled: 3.0000 (8.6131)  loss_feature_4_unscaled: 1.0421 (1.3258)  time: 0.4792  data: 0.0043  max mem: 1340\n",
      "Epoch: [0]  [ 70/105]  eta: 0:00:17  lr: 0.000100  class_error: 28.00  loss: 30.9605 (36.3378)  loss_ce: 0.5803 (0.6270)  loss_bbox: 2.3108 (2.7550)  loss_giou: 1.2025 (1.3978)  loss_feature: 1.0109 (1.2823)  loss_ce_0: 0.5806 (0.6070)  loss_bbox_0: 2.5086 (2.7707)  loss_giou_0: 1.2887 (1.4223)  loss_feature_0: 1.0113 (1.3184)  loss_ce_1: 0.5659 (0.6032)  loss_bbox_1: 2.3749 (2.7394)  loss_giou_1: 1.2583 (1.4045)  loss_feature_1: 0.9946 (1.2906)  loss_ce_2: 0.5822 (0.6178)  loss_bbox_2: 2.3178 (2.7370)  loss_giou_2: 1.2070 (1.4017)  loss_feature_2: 1.0025 (1.2897)  loss_ce_3: 0.5838 (0.6229)  loss_bbox_3: 2.2671 (2.7344)  loss_giou_3: 1.2147 (1.3982)  loss_feature_3: 1.0022 (1.2757)  loss_ce_4: 0.5805 (0.6193)  loss_bbox_4: 2.3090 (2.7509)  loss_giou_4: 1.2152 (1.3943)  loss_feature_4: 1.0082 (1.2777)  loss_ce_unscaled: 0.5803 (0.6270)  class_error_unscaled: 52.0000 (77.6901)  loss_bbox_unscaled: 0.4622 (0.5510)  loss_giou_unscaled: 0.6012 (0.6989)  cardinality_error_unscaled: 7.0000 (9.8958)  loss_feature_unscaled: 1.0109 (1.2823)  loss_ce_0_unscaled: 0.5806 (0.6070)  loss_bbox_0_unscaled: 0.5017 (0.5541)  loss_giou_0_unscaled: 0.6443 (0.7112)  cardinality_error_0_unscaled: 2.8000 (5.2958)  loss_feature_0_unscaled: 1.0113 (1.3184)  loss_ce_1_unscaled: 0.5659 (0.6032)  loss_bbox_1_unscaled: 0.4750 (0.5479)  loss_giou_1_unscaled: 0.6291 (0.7023)  cardinality_error_1_unscaled: 3.2000 (6.3746)  loss_feature_1_unscaled: 0.9946 (1.2906)  loss_ce_2_unscaled: 0.5822 (0.6178)  loss_bbox_2_unscaled: 0.4636 (0.5474)  loss_giou_2_unscaled: 0.6035 (0.7008)  cardinality_error_2_unscaled: 4.6000 (7.7972)  loss_feature_2_unscaled: 1.0025 (1.2897)  loss_ce_3_unscaled: 0.5838 (0.6229)  loss_bbox_3_unscaled: 0.4534 (0.5469)  loss_giou_3_unscaled: 0.6073 (0.6991)  cardinality_error_3_unscaled: 5.6000 (8.6394)  loss_feature_3_unscaled: 1.0022 (1.2757)  loss_ce_4_unscaled: 0.5805 (0.6193)  loss_bbox_4_unscaled: 0.4618 (0.5502)  loss_giou_4_unscaled: 0.6076 (0.6971)  cardinality_error_4_unscaled: 5.0000 (9.4704)  loss_feature_4_unscaled: 1.0082 (1.2777)  time: 0.4675  data: 0.0047  max mem: 1340\n",
      "Epoch: [0]  [ 80/105]  eta: 0:00:12  lr: 0.000100  class_error: 76.00  loss: 30.0558 (35.4204)  loss_ce: 0.5612 (0.6156)  loss_bbox: 2.3072 (2.6808)  loss_giou: 1.2004 (1.3702)  loss_feature: 0.9406 (1.2366)  loss_ce_0: 0.5806 (0.6041)  loss_bbox_0: 2.3649 (2.7121)  loss_giou_0: 1.2674 (1.3980)  loss_feature_0: 0.9546 (1.2705)  loss_ce_1: 0.5659 (0.6010)  loss_bbox_1: 2.2357 (2.6660)  loss_giou_1: 1.2432 (1.3764)  loss_feature_1: 0.9296 (1.2432)  loss_ce_2: 0.5566 (0.6112)  loss_bbox_2: 2.2400 (2.6613)  loss_giou_2: 1.1983 (1.3719)  loss_feature_2: 0.9423 (1.2434)  loss_ce_3: 0.5722 (0.6158)  loss_bbox_3: 2.2099 (2.6584)  loss_giou_3: 1.2049 (1.3682)  loss_feature_3: 0.9445 (1.2314)  loss_ce_4: 0.5778 (0.6118)  loss_bbox_4: 2.2842 (2.6742)  loss_giou_4: 1.2063 (1.3659)  loss_feature_4: 0.9413 (1.2326)  loss_ce_unscaled: 0.5612 (0.6156)  class_error_unscaled: 56.0000 (75.0123)  loss_bbox_unscaled: 0.4614 (0.5362)  loss_giou_unscaled: 0.6002 (0.6851)  cardinality_error_unscaled: 5.4000 (9.5111)  loss_feature_unscaled: 0.9406 (1.2366)  loss_ce_0_unscaled: 0.5806 (0.6041)  loss_bbox_0_unscaled: 0.4730 (0.5424)  loss_giou_0_unscaled: 0.6337 (0.6990)  cardinality_error_0_unscaled: 3.6000 (5.2247)  loss_feature_0_unscaled: 0.9546 (1.2705)  loss_ce_1_unscaled: 0.5659 (0.6010)  loss_bbox_1_unscaled: 0.4471 (0.5332)  loss_giou_1_unscaled: 0.6216 (0.6882)  cardinality_error_1_unscaled: 3.8000 (6.2864)  loss_feature_1_unscaled: 0.9296 (1.2432)  loss_ce_2_unscaled: 0.5566 (0.6112)  loss_bbox_2_unscaled: 0.4480 (0.5323)  loss_giou_2_unscaled: 0.5991 (0.6859)  cardinality_error_2_unscaled: 5.4000 (7.7901)  loss_feature_2_unscaled: 0.9423 (1.2434)  loss_ce_3_unscaled: 0.5722 (0.6158)  loss_bbox_3_unscaled: 0.4420 (0.5317)  loss_giou_3_unscaled: 0.6024 (0.6841)  cardinality_error_3_unscaled: 5.6000 (8.4519)  loss_feature_3_unscaled: 0.9445 (1.2314)  loss_ce_4_unscaled: 0.5778 (0.6118)  loss_bbox_4_unscaled: 0.4568 (0.5348)  loss_giou_4_unscaled: 0.6031 (0.6829)  cardinality_error_4_unscaled: 5.0000 (9.1407)  loss_feature_4_unscaled: 0.9413 (1.2326)  time: 0.4564  data: 0.0046  max mem: 1340\n",
      "Epoch: [0]  [ 90/105]  eta: 0:00:07  lr: 0.000100  class_error: 80.00  loss: 28.5365 (34.6202)  loss_ce: 0.5773 (0.6173)  loss_bbox: 2.0667 (2.6061)  loss_giou: 1.1337 (1.3406)  loss_feature: 0.8864 (1.1974)  loss_ce_0: 0.5888 (0.6037)  loss_bbox_0: 2.2862 (2.6567)  loss_giou_0: 1.2117 (1.3766)  loss_feature_0: 0.9091 (1.2299)  loss_ce_1: 0.5743 (0.6003)  loss_bbox_1: 2.1585 (2.6032)  loss_giou_1: 1.1413 (1.3500)  loss_feature_1: 0.8834 (1.2035)  loss_ce_2: 0.5680 (0.6089)  loss_bbox_2: 2.1084 (2.5956)  loss_giou_2: 1.1308 (1.3431)  loss_feature_2: 0.8889 (1.2044)  loss_ce_3: 0.5993 (0.6170)  loss_bbox_3: 2.0143 (2.5880)  loss_giou_3: 1.1206 (1.3385)  loss_feature_3: 0.8934 (1.1929)  loss_ce_4: 0.5975 (0.6152)  loss_bbox_4: 2.0257 (2.6003)  loss_giou_4: 1.1441 (1.3371)  loss_feature_4: 0.8869 (1.1939)  loss_ce_unscaled: 0.5773 (0.6173)  class_error_unscaled: 56.0000 (72.6154)  loss_bbox_unscaled: 0.4133 (0.5212)  loss_giou_unscaled: 0.5669 (0.6703)  cardinality_error_unscaled: 6.4000 (10.3165)  loss_feature_unscaled: 0.8864 (1.1974)  loss_ce_0_unscaled: 0.5888 (0.6037)  loss_bbox_0_unscaled: 0.4572 (0.5313)  loss_giou_0_unscaled: 0.6058 (0.6883)  cardinality_error_0_unscaled: 3.6000 (5.0286)  loss_feature_0_unscaled: 0.9091 (1.2299)  loss_ce_1_unscaled: 0.5743 (0.6003)  loss_bbox_1_unscaled: 0.4317 (0.5206)  loss_giou_1_unscaled: 0.5707 (0.6750)  cardinality_error_1_unscaled: 4.8000 (6.1209)  loss_feature_1_unscaled: 0.8834 (1.2035)  loss_ce_2_unscaled: 0.5680 (0.6089)  loss_bbox_2_unscaled: 0.4217 (0.5191)  loss_giou_2_unscaled: 0.5654 (0.6715)  cardinality_error_2_unscaled: 6.2000 (7.6286)  loss_feature_2_unscaled: 0.8889 (1.2044)  loss_ce_3_unscaled: 0.5993 (0.6170)  loss_bbox_3_unscaled: 0.4029 (0.5176)  loss_giou_3_unscaled: 0.5603 (0.6693)  cardinality_error_3_unscaled: 5.8000 (8.7165)  loss_feature_3_unscaled: 0.8934 (1.1929)  loss_ce_4_unscaled: 0.5975 (0.6152)  loss_bbox_4_unscaled: 0.4051 (0.5201)  loss_giou_4_unscaled: 0.5720 (0.6686)  cardinality_error_4_unscaled: 6.8000 (9.8571)  loss_feature_4_unscaled: 0.8869 (1.1939)  time: 0.4795  data: 0.0045  max mem: 1340\n",
      "Epoch: [0]  [100/105]  eta: 0:00:02  lr: 0.000100  class_error: 68.00  loss: 26.8348 (33.8377)  loss_ce: 0.6159 (0.6185)  loss_bbox: 1.7899 (2.5240)  loss_giou: 1.0601 (1.3146)  loss_feature: 0.8615 (1.1640)  loss_ce_0: 0.5888 (0.6014)  loss_bbox_0: 2.1752 (2.6010)  loss_giou_0: 1.1799 (1.3580)  loss_feature_0: 0.8906 (1.1963)  loss_ce_1: 0.5803 (0.5992)  loss_bbox_1: 1.9268 (2.5299)  loss_giou_1: 1.1149 (1.3261)  loss_feature_1: 0.8784 (1.1709)  loss_ce_2: 0.5938 (0.6093)  loss_bbox_2: 1.8911 (2.5191)  loss_giou_2: 1.1081 (1.3183)  loss_feature_2: 0.8889 (1.1725)  loss_ce_3: 0.6152 (0.6185)  loss_bbox_3: 1.8458 (2.5109)  loss_giou_3: 1.0879 (1.3146)  loss_feature_3: 0.8742 (1.1611)  loss_ce_4: 0.6466 (0.6177)  loss_bbox_4: 1.8349 (2.5180)  loss_giou_4: 1.0856 (1.3125)  loss_feature_4: 0.8665 (1.1613)  loss_ce_unscaled: 0.6159 (0.6185)  class_error_unscaled: 56.0000 (71.8020)  loss_bbox_unscaled: 0.3580 (0.5048)  loss_giou_unscaled: 0.5300 (0.6573)  cardinality_error_unscaled: 11.6000 (10.5347)  loss_feature_unscaled: 0.8615 (1.1640)  loss_ce_0_unscaled: 0.5888 (0.6014)  loss_bbox_0_unscaled: 0.4350 (0.5202)  loss_giou_0_unscaled: 0.5899 (0.6790)  cardinality_error_0_unscaled: 4.0000 (5.1069)  loss_feature_0_unscaled: 0.8906 (1.1963)  loss_ce_1_unscaled: 0.5803 (0.5992)  loss_bbox_1_unscaled: 0.3854 (0.5060)  loss_giou_1_unscaled: 0.5574 (0.6630)  cardinality_error_1_unscaled: 5.6000 (6.5980)  loss_feature_1_unscaled: 0.8784 (1.1709)  loss_ce_2_unscaled: 0.5938 (0.6093)  loss_bbox_2_unscaled: 0.3782 (0.5038)  loss_giou_2_unscaled: 0.5541 (0.6591)  cardinality_error_2_unscaled: 7.6000 (8.6238)  loss_feature_2_unscaled: 0.8889 (1.1725)  loss_ce_3_unscaled: 0.6152 (0.6185)  loss_bbox_3_unscaled: 0.3692 (0.5022)  loss_giou_3_unscaled: 0.5440 (0.6573)  cardinality_error_3_unscaled: 9.8000 (9.6139)  loss_feature_3_unscaled: 0.8742 (1.1611)  loss_ce_4_unscaled: 0.6466 (0.6177)  loss_bbox_4_unscaled: 0.3670 (0.5036)  loss_giou_4_unscaled: 0.5428 (0.6562)  cardinality_error_4_unscaled: 10.0000 (10.3485)  loss_feature_4_unscaled: 0.8665 (1.1613)  time: 0.4795  data: 0.0045  max mem: 1340\n",
      "Epoch: [0]  [104/105]  eta: 0:00:00  lr: 0.000100  class_error: 72.00  loss: 26.6539 (33.4864)  loss_ce: 0.6415 (0.6209)  loss_bbox: 1.6453 (2.4852)  loss_giou: 1.0601 (1.3029)  loss_feature: 0.8589 (1.1507)  loss_ce_0: 0.5774 (0.6012)  loss_bbox_0: 2.1077 (2.5723)  loss_giou_0: 1.1799 (1.3471)  loss_feature_0: 0.8872 (1.1829)  loss_ce_1: 0.6013 (0.6003)  loss_bbox_1: 1.9121 (2.4958)  loss_giou_1: 1.1086 (1.3142)  loss_feature_1: 0.8773 (1.1580)  loss_ce_2: 0.6128 (0.6120)  loss_bbox_2: 1.7867 (2.4836)  loss_giou_2: 1.1081 (1.3061)  loss_feature_2: 0.8901 (1.1600)  loss_ce_3: 0.6475 (0.6211)  loss_bbox_3: 1.6829 (2.4736)  loss_giou_3: 1.0879 (1.3025)  loss_feature_3: 0.8742 (1.1485)  loss_ce_4: 0.6569 (0.6209)  loss_bbox_4: 1.6493 (2.4787)  loss_giou_4: 1.0856 (1.2999)  loss_feature_4: 0.8665 (1.1484)  loss_ce_unscaled: 0.6415 (0.6209)  class_error_unscaled: 68.0000 (72.0762)  loss_bbox_unscaled: 0.3291 (0.4970)  loss_giou_unscaled: 0.5300 (0.6514)  cardinality_error_unscaled: 6.4000 (10.2267)  loss_feature_unscaled: 0.8589 (1.1507)  loss_ce_0_unscaled: 0.5774 (0.6012)  loss_bbox_0_unscaled: 0.4215 (0.5145)  loss_giou_0_unscaled: 0.5899 (0.6735)  cardinality_error_0_unscaled: 4.0000 (5.0400)  loss_feature_0_unscaled: 0.8872 (1.1829)  loss_ce_1_unscaled: 0.6013 (0.6003)  loss_bbox_1_unscaled: 0.3824 (0.4992)  loss_giou_1_unscaled: 0.5543 (0.6571)  cardinality_error_1_unscaled: 3.8000 (6.4495)  loss_feature_1_unscaled: 0.8773 (1.1580)  loss_ce_2_unscaled: 0.6128 (0.6120)  loss_bbox_2_unscaled: 0.3573 (0.4967)  loss_giou_2_unscaled: 0.5541 (0.6530)  cardinality_error_2_unscaled: 6.2000 (8.3943)  loss_feature_2_unscaled: 0.8901 (1.1600)  loss_ce_3_unscaled: 0.6475 (0.6211)  loss_bbox_3_unscaled: 0.3366 (0.4947)  loss_giou_3_unscaled: 0.5440 (0.6512)  cardinality_error_3_unscaled: 5.8000 (9.3200)  loss_feature_3_unscaled: 0.8742 (1.1485)  loss_ce_4_unscaled: 0.6569 (0.6209)  loss_bbox_4_unscaled: 0.3299 (0.4957)  loss_giou_4_unscaled: 0.5428 (0.6500)  cardinality_error_4_unscaled: 5.8000 (10.0248)  loss_feature_4_unscaled: 0.8665 (1.1484)  time: 0.4725  data: 0.0043  max mem: 1340\n",
      "Epoch: [0] Total time: 0:00:50 (0.4840 s / it)\n",
      "Averaged stats: lr: 0.000100  class_error: 72.00  loss: 26.6539 (33.4864)  loss_ce: 0.6415 (0.6209)  loss_bbox: 1.6453 (2.4852)  loss_giou: 1.0601 (1.3029)  loss_feature: 0.8589 (1.1507)  loss_ce_0: 0.5774 (0.6012)  loss_bbox_0: 2.1077 (2.5723)  loss_giou_0: 1.1799 (1.3471)  loss_feature_0: 0.8872 (1.1829)  loss_ce_1: 0.6013 (0.6003)  loss_bbox_1: 1.9121 (2.4958)  loss_giou_1: 1.1086 (1.3142)  loss_feature_1: 0.8773 (1.1580)  loss_ce_2: 0.6128 (0.6120)  loss_bbox_2: 1.7867 (2.4836)  loss_giou_2: 1.1081 (1.3061)  loss_feature_2: 0.8901 (1.1600)  loss_ce_3: 0.6475 (0.6211)  loss_bbox_3: 1.6829 (2.4736)  loss_giou_3: 1.0879 (1.3025)  loss_feature_3: 0.8742 (1.1485)  loss_ce_4: 0.6569 (0.6209)  loss_bbox_4: 1.6493 (2.4787)  loss_giou_4: 1.0856 (1.2999)  loss_feature_4: 0.8665 (1.1484)  loss_ce_unscaled: 0.6415 (0.6209)  class_error_unscaled: 68.0000 (72.0762)  loss_bbox_unscaled: 0.3291 (0.4970)  loss_giou_unscaled: 0.5300 (0.6514)  cardinality_error_unscaled: 6.4000 (10.2267)  loss_feature_unscaled: 0.8589 (1.1507)  loss_ce_0_unscaled: 0.5774 (0.6012)  loss_bbox_0_unscaled: 0.4215 (0.5145)  loss_giou_0_unscaled: 0.5899 (0.6735)  cardinality_error_0_unscaled: 4.0000 (5.0400)  loss_feature_0_unscaled: 0.8872 (1.1829)  loss_ce_1_unscaled: 0.6013 (0.6003)  loss_bbox_1_unscaled: 0.3824 (0.4992)  loss_giou_1_unscaled: 0.5543 (0.6571)  cardinality_error_1_unscaled: 3.8000 (6.4495)  loss_feature_1_unscaled: 0.8773 (1.1580)  loss_ce_2_unscaled: 0.6128 (0.6120)  loss_bbox_2_unscaled: 0.3573 (0.4967)  loss_giou_2_unscaled: 0.5541 (0.6530)  cardinality_error_2_unscaled: 6.2000 (8.3943)  loss_feature_2_unscaled: 0.8901 (1.1600)  loss_ce_3_unscaled: 0.6475 (0.6211)  loss_bbox_3_unscaled: 0.3366 (0.4947)  loss_giou_3_unscaled: 0.5440 (0.6512)  cardinality_error_3_unscaled: 5.8000 (9.3200)  loss_feature_3_unscaled: 0.8742 (1.1485)  loss_ce_4_unscaled: 0.6569 (0.6209)  loss_bbox_4_unscaled: 0.3299 (0.4957)  loss_giou_4_unscaled: 0.5428 (0.6500)  cardinality_error_4_unscaled: 5.8000 (10.0248)  loss_feature_4_unscaled: 0.8665 (1.1484)\n",
      "Epoch: [1]  [  0/105]  eta: 0:03:08  lr: 0.000100  class_error: 76.00  loss: 22.9398 (22.9398)  loss_ce: 0.6772 (0.6772)  loss_bbox: 1.3713 (1.3713)  loss_giou: 0.8301 (0.8301)  loss_feature: 0.8148 (0.8148)  loss_ce_0: 0.5748 (0.5748)  loss_bbox_0: 1.6743 (1.6743)  loss_giou_0: 1.0284 (1.0284)  loss_feature_0: 0.8520 (0.8520)  loss_ce_1: 0.6363 (0.6363)  loss_bbox_1: 1.5449 (1.5449)  loss_giou_1: 0.8944 (0.8944)  loss_feature_1: 0.8307 (0.8307)  loss_ce_2: 0.6948 (0.6948)  loss_bbox_2: 1.3837 (1.3837)  loss_giou_2: 0.8780 (0.8780)  loss_feature_2: 0.8430 (0.8430)  loss_ce_3: 0.7196 (0.7196)  loss_bbox_3: 1.3010 (1.3010)  loss_giou_3: 0.8750 (0.8750)  loss_feature_3: 0.8280 (0.8280)  loss_ce_4: 0.6926 (0.6926)  loss_bbox_4: 1.3416 (1.3416)  loss_giou_4: 0.8320 (0.8320)  loss_feature_4: 0.8210 (0.8210)  loss_ce_unscaled: 0.6772 (0.6772)  class_error_unscaled: 76.0000 (76.0000)  loss_bbox_unscaled: 0.2743 (0.2743)  loss_giou_unscaled: 0.4151 (0.4151)  cardinality_error_unscaled: 15.2000 (15.2000)  loss_feature_unscaled: 0.8148 (0.8148)  loss_ce_0_unscaled: 0.5748 (0.5748)  loss_bbox_0_unscaled: 0.3349 (0.3349)  loss_giou_0_unscaled: 0.5142 (0.5142)  cardinality_error_0_unscaled: 5.2000 (5.2000)  loss_feature_0_unscaled: 0.8520 (0.8520)  loss_ce_1_unscaled: 0.6363 (0.6363)  loss_bbox_1_unscaled: 0.3090 (0.3090)  loss_giou_1_unscaled: 0.4472 (0.4472)  cardinality_error_1_unscaled: 5.4000 (5.4000)  loss_feature_1_unscaled: 0.8307 (0.8307)  loss_ce_2_unscaled: 0.6948 (0.6948)  loss_bbox_2_unscaled: 0.2767 (0.2767)  loss_giou_2_unscaled: 0.4390 (0.4390)  cardinality_error_2_unscaled: 10.2000 (10.2000)  loss_feature_2_unscaled: 0.8430 (0.8430)  loss_ce_3_unscaled: 0.7196 (0.7196)  loss_bbox_3_unscaled: 0.2602 (0.2602)  loss_giou_3_unscaled: 0.4375 (0.4375)  cardinality_error_3_unscaled: 9.2000 (9.2000)  loss_feature_3_unscaled: 0.8280 (0.8280)  loss_ce_4_unscaled: 0.6926 (0.6926)  loss_bbox_4_unscaled: 0.2683 (0.2683)  loss_giou_4_unscaled: 0.4160 (0.4160)  cardinality_error_4_unscaled: 13.4000 (13.4000)  loss_feature_4_unscaled: 0.8210 (0.8210)  time: 1.7915  data: 1.2884  max mem: 1340\n",
      "Epoch: [1]  [ 10/105]  eta: 0:00:56  lr: 0.000100  class_error: 92.00  loss: 24.3617 (24.3670)  loss_ce: 0.6459 (0.6571)  loss_bbox: 1.5025 (1.4931)  loss_giou: 1.0222 (1.0054)  loss_feature: 0.8055 (0.8081)  loss_ce_0: 0.6077 (0.6013)  loss_bbox_0: 1.9079 (1.8421)  loss_giou_0: 1.0478 (1.0964)  loss_feature_0: 0.8377 (0.8361)  loss_ce_1: 0.6363 (0.6308)  loss_bbox_1: 1.5908 (1.5884)  loss_giou_1: 1.0465 (1.0180)  loss_feature_1: 0.8202 (0.8246)  loss_ce_2: 0.6578 (0.6482)  loss_bbox_2: 1.5289 (1.5372)  loss_giou_2: 0.9957 (1.0123)  loss_feature_2: 0.8306 (0.8326)  loss_ce_3: 0.6674 (0.6472)  loss_bbox_3: 1.4933 (1.5078)  loss_giou_3: 0.9768 (1.0048)  loss_feature_3: 0.8172 (0.8217)  loss_ce_4: 0.6663 (0.6586)  loss_bbox_4: 1.4898 (1.4836)  loss_giou_4: 0.9955 (0.9968)  loss_feature_4: 0.8094 (0.8148)  loss_ce_unscaled: 0.6459 (0.6571)  class_error_unscaled: 60.0000 (65.4545)  loss_bbox_unscaled: 0.3005 (0.2986)  loss_giou_unscaled: 0.5111 (0.5027)  cardinality_error_unscaled: 15.2000 (19.8364)  loss_feature_unscaled: 0.8055 (0.8081)  loss_ce_0_unscaled: 0.6077 (0.6013)  loss_bbox_0_unscaled: 0.3816 (0.3684)  loss_giou_0_unscaled: 0.5239 (0.5482)  cardinality_error_0_unscaled: 7.2000 (8.6727)  loss_feature_0_unscaled: 0.8377 (0.8361)  loss_ce_1_unscaled: 0.6363 (0.6308)  loss_bbox_1_unscaled: 0.3182 (0.3177)  loss_giou_1_unscaled: 0.5233 (0.5090)  cardinality_error_1_unscaled: 5.8000 (11.3273)  loss_feature_1_unscaled: 0.8202 (0.8246)  loss_ce_2_unscaled: 0.6578 (0.6482)  loss_bbox_2_unscaled: 0.3058 (0.3074)  loss_giou_2_unscaled: 0.4978 (0.5061)  cardinality_error_2_unscaled: 10.2000 (13.3636)  loss_feature_2_unscaled: 0.8306 (0.8326)  loss_ce_3_unscaled: 0.6674 (0.6472)  loss_bbox_3_unscaled: 0.2987 (0.3016)  loss_giou_3_unscaled: 0.4884 (0.5024)  cardinality_error_3_unscaled: 9.2000 (13.3636)  loss_feature_3_unscaled: 0.8172 (0.8217)  loss_ce_4_unscaled: 0.6663 (0.6586)  loss_bbox_4_unscaled: 0.2980 (0.2967)  loss_giou_4_unscaled: 0.4978 (0.4984)  cardinality_error_4_unscaled: 13.4000 (16.0909)  loss_feature_4_unscaled: 0.8094 (0.8148)  time: 0.5948  data: 0.1210  max mem: 1340\n",
      "Epoch: [1]  [ 20/105]  eta: 0:00:45  lr: 0.000100  class_error: 88.00  loss: 23.5899 (23.6006)  loss_ce: 0.6459 (0.6530)  loss_bbox: 1.4656 (1.4338)  loss_giou: 0.9826 (0.9731)  loss_feature: 0.7856 (0.7907)  loss_ce_0: 0.6077 (0.6011)  loss_bbox_0: 1.7042 (1.7351)  loss_giou_0: 1.0295 (1.0359)  loss_feature_0: 0.8223 (0.8245)  loss_ce_1: 0.6321 (0.6297)  loss_bbox_1: 1.5322 (1.5243)  loss_giou_1: 0.9811 (0.9747)  loss_feature_1: 0.8162 (0.8137)  loss_ce_2: 0.6443 (0.6406)  loss_bbox_2: 1.4856 (1.4665)  loss_giou_2: 0.9746 (0.9725)  loss_feature_2: 0.8086 (0.8170)  loss_ce_3: 0.6475 (0.6441)  loss_bbox_3: 1.4908 (1.4465)  loss_giou_3: 0.9699 (0.9702)  loss_feature_3: 0.7968 (0.8042)  loss_ce_4: 0.6538 (0.6590)  loss_bbox_4: 1.4839 (1.4319)  loss_giou_4: 0.9790 (0.9620)  loss_feature_4: 0.7913 (0.7967)  loss_ce_unscaled: 0.6459 (0.6530)  class_error_unscaled: 76.0000 (71.0476)  loss_bbox_unscaled: 0.2931 (0.2868)  loss_giou_unscaled: 0.4913 (0.4866)  cardinality_error_unscaled: 9.0000 (15.0000)  loss_feature_unscaled: 0.7856 (0.7907)  loss_ce_0_unscaled: 0.6077 (0.6011)  loss_bbox_0_unscaled: 0.3408 (0.3470)  loss_giou_0_unscaled: 0.5147 (0.5179)  cardinality_error_0_unscaled: 4.8000 (6.6095)  loss_feature_0_unscaled: 0.8223 (0.8245)  loss_ce_1_unscaled: 0.6321 (0.6297)  loss_bbox_1_unscaled: 0.3064 (0.3049)  loss_giou_1_unscaled: 0.4905 (0.4874)  cardinality_error_1_unscaled: 8.0000 (9.6667)  loss_feature_1_unscaled: 0.8162 (0.8137)  loss_ce_2_unscaled: 0.6443 (0.6406)  loss_bbox_2_unscaled: 0.2971 (0.2933)  loss_giou_2_unscaled: 0.4873 (0.4862)  cardinality_error_2_unscaled: 11.2000 (12.1619)  loss_feature_2_unscaled: 0.8086 (0.8170)  loss_ce_3_unscaled: 0.6475 (0.6441)  loss_bbox_3_unscaled: 0.2982 (0.2893)  loss_giou_3_unscaled: 0.4850 (0.4851)  cardinality_error_3_unscaled: 10.2000 (12.7619)  loss_feature_3_unscaled: 0.7968 (0.8042)  loss_ce_4_unscaled: 0.6538 (0.6590)  loss_bbox_4_unscaled: 0.2968 (0.2864)  loss_giou_4_unscaled: 0.4895 (0.4810)  cardinality_error_4_unscaled: 10.2000 (14.0476)  loss_feature_4_unscaled: 0.7913 (0.7967)  time: 0.4696  data: 0.0043  max mem: 1340\n",
      "Epoch: [1]  [ 30/105]  eta: 0:00:39  lr: 0.000100  class_error: 100.00  loss: 23.2770 (23.5117)  loss_ce: 0.6593 (0.6545)  loss_bbox: 1.4068 (1.4148)  loss_giou: 0.9703 (0.9794)  loss_feature: 0.7637 (0.7832)  loss_ce_0: 0.6035 (0.6044)  loss_bbox_0: 1.6218 (1.7029)  loss_giou_0: 1.0335 (1.0464)  loss_feature_0: 0.8025 (0.8189)  loss_ce_1: 0.6354 (0.6335)  loss_bbox_1: 1.4922 (1.5017)  loss_giou_1: 0.9814 (0.9845)  loss_feature_1: 0.8003 (0.8107)  loss_ce_2: 0.6454 (0.6470)  loss_bbox_2: 1.4313 (1.4477)  loss_giou_2: 0.9734 (0.9818)  loss_feature_2: 0.7905 (0.8118)  loss_ce_3: 0.6574 (0.6531)  loss_bbox_3: 1.4108 (1.4269)  loss_giou_3: 0.9699 (0.9781)  loss_feature_3: 0.7762 (0.7965)  loss_ce_4: 0.6619 (0.6605)  loss_bbox_4: 1.4033 (1.4141)  loss_giou_4: 0.9527 (0.9697)  loss_feature_4: 0.7681 (0.7894)  loss_ce_unscaled: 0.6593 (0.6545)  class_error_unscaled: 80.0000 (73.2903)  loss_bbox_unscaled: 0.2814 (0.2830)  loss_giou_unscaled: 0.4852 (0.4897)  cardinality_error_unscaled: 9.0000 (13.4774)  loss_feature_unscaled: 0.7637 (0.7832)  loss_ce_0_unscaled: 0.6035 (0.6044)  loss_bbox_0_unscaled: 0.3244 (0.3406)  loss_giou_0_unscaled: 0.5167 (0.5232)  cardinality_error_0_unscaled: 5.0000 (6.8194)  loss_feature_0_unscaled: 0.8025 (0.8189)  loss_ce_1_unscaled: 0.6354 (0.6335)  loss_bbox_1_unscaled: 0.2984 (0.3003)  loss_giou_1_unscaled: 0.4907 (0.4923)  cardinality_error_1_unscaled: 8.0000 (9.8323)  loss_feature_1_unscaled: 0.8003 (0.8107)  loss_ce_2_unscaled: 0.6454 (0.6470)  loss_bbox_2_unscaled: 0.2863 (0.2895)  loss_giou_2_unscaled: 0.4867 (0.4909)  cardinality_error_2_unscaled: 11.6000 (13.5097)  loss_feature_2_unscaled: 0.7905 (0.8118)  loss_ce_3_unscaled: 0.6574 (0.6531)  loss_bbox_3_unscaled: 0.2822 (0.2854)  loss_giou_3_unscaled: 0.4850 (0.4890)  cardinality_error_3_unscaled: 11.0000 (13.5290)  loss_feature_3_unscaled: 0.7762 (0.7965)  loss_ce_4_unscaled: 0.6619 (0.6605)  loss_bbox_4_unscaled: 0.2807 (0.2828)  loss_giou_4_unscaled: 0.4764 (0.4849)  cardinality_error_4_unscaled: 9.6000 (13.0581)  loss_feature_4_unscaled: 0.7681 (0.7894)  time: 0.4919  data: 0.0050  max mem: 1340\n",
      "Epoch: [1]  [ 40/105]  eta: 0:00:33  lr: 0.000100  class_error: 84.00  loss: 23.2770 (23.4685)  loss_ce: 0.6593 (0.6502)  loss_bbox: 1.4312 (1.4079)  loss_giou: 0.9633 (0.9852)  loss_feature: 0.7611 (0.7717)  loss_ce_0: 0.6020 (0.6054)  loss_bbox_0: 1.6293 (1.6826)  loss_giou_0: 1.0878 (1.0547)  loss_feature_0: 0.7992 (0.8078)  loss_ce_1: 0.6242 (0.6268)  loss_bbox_1: 1.5054 (1.5079)  loss_giou_1: 1.0080 (0.9976)  loss_feature_1: 0.7966 (0.8006)  loss_ce_2: 0.6343 (0.6395)  loss_bbox_2: 1.4538 (1.4514)  loss_giou_2: 0.9813 (0.9939)  loss_feature_2: 0.7905 (0.8003)  loss_ce_3: 0.6535 (0.6463)  loss_bbox_3: 1.4503 (1.4367)  loss_giou_3: 0.9808 (0.9895)  loss_feature_3: 0.7755 (0.7849)  loss_ce_4: 0.6576 (0.6533)  loss_bbox_4: 1.4280 (1.4173)  loss_giou_4: 0.9588 (0.9797)  loss_feature_4: 0.7650 (0.7776)  loss_ce_unscaled: 0.6593 (0.6502)  class_error_unscaled: 76.0000 (73.4634)  loss_bbox_unscaled: 0.2862 (0.2816)  loss_giou_unscaled: 0.4816 (0.4926)  cardinality_error_unscaled: 5.2000 (12.8634)  loss_feature_unscaled: 0.7611 (0.7717)  loss_ce_0_unscaled: 0.6020 (0.6054)  loss_bbox_0_unscaled: 0.3259 (0.3365)  loss_giou_0_unscaled: 0.5439 (0.5273)  cardinality_error_0_unscaled: 6.4000 (7.2244)  loss_feature_0_unscaled: 0.7992 (0.8078)  loss_ce_1_unscaled: 0.6242 (0.6268)  loss_bbox_1_unscaled: 0.3011 (0.3016)  loss_giou_1_unscaled: 0.5040 (0.4988)  cardinality_error_1_unscaled: 9.2000 (9.9220)  loss_feature_1_unscaled: 0.7966 (0.8006)  loss_ce_2_unscaled: 0.6343 (0.6395)  loss_bbox_2_unscaled: 0.2908 (0.2903)  loss_giou_2_unscaled: 0.4906 (0.4969)  cardinality_error_2_unscaled: 12.8000 (13.2732)  loss_feature_2_unscaled: 0.7905 (0.8003)  loss_ce_3_unscaled: 0.6535 (0.6463)  loss_bbox_3_unscaled: 0.2901 (0.2873)  loss_giou_3_unscaled: 0.4904 (0.4948)  cardinality_error_3_unscaled: 12.2000 (13.8195)  loss_feature_3_unscaled: 0.7755 (0.7849)  loss_ce_4_unscaled: 0.6576 (0.6533)  loss_bbox_4_unscaled: 0.2856 (0.2835)  loss_giou_4_unscaled: 0.4794 (0.4898)  cardinality_error_4_unscaled: 8.2000 (12.7317)  loss_feature_4_unscaled: 0.7650 (0.7776)  time: 0.5113  data: 0.0056  max mem: 1340\n",
      "Epoch: [1]  [ 50/105]  eta: 0:00:28  lr: 0.000100  class_error: 80.00  loss: 23.4702 (23.5826)  loss_ce: 0.6447 (0.6502)  loss_bbox: 1.5033 (1.4388)  loss_giou: 1.0562 (1.0133)  loss_feature: 0.7234 (0.7629)  loss_ce_0: 0.5992 (0.6019)  loss_bbox_0: 1.6469 (1.6836)  loss_giou_0: 1.0652 (1.0556)  loss_feature_0: 0.7659 (0.7997)  loss_ce_1: 0.6143 (0.6288)  loss_bbox_1: 1.5226 (1.5067)  loss_giou_1: 1.0124 (1.0038)  loss_feature_1: 0.7555 (0.7918)  loss_ce_2: 0.6378 (0.6440)  loss_bbox_2: 1.4679 (1.4578)  loss_giou_2: 1.0396 (1.0060)  loss_feature_2: 0.7482 (0.7905)  loss_ce_3: 0.6403 (0.6468)  loss_bbox_3: 1.4998 (1.4496)  loss_giou_3: 1.0182 (1.0098)  loss_feature_3: 0.7375 (0.7753)  loss_ce_4: 0.6407 (0.6519)  loss_bbox_4: 1.4928 (1.4390)  loss_giou_4: 1.0428 (1.0073)  loss_feature_4: 0.7331 (0.7679)  loss_ce_unscaled: 0.6447 (0.6502)  class_error_unscaled: 88.0000 (77.7255)  loss_bbox_unscaled: 0.3007 (0.2878)  loss_giou_unscaled: 0.5281 (0.5066)  cardinality_error_unscaled: 4.6000 (11.1529)  loss_feature_unscaled: 0.7234 (0.7629)  loss_ce_0_unscaled: 0.5992 (0.6019)  loss_bbox_0_unscaled: 0.3294 (0.3367)  loss_giou_0_unscaled: 0.5326 (0.5278)  cardinality_error_0_unscaled: 5.0000 (6.5804)  loss_feature_0_unscaled: 0.7659 (0.7997)  loss_ce_1_unscaled: 0.6143 (0.6288)  loss_bbox_1_unscaled: 0.3045 (0.3013)  loss_giou_1_unscaled: 0.5062 (0.5019)  cardinality_error_1_unscaled: 2.2000 (8.6431)  loss_feature_1_unscaled: 0.7555 (0.7918)  loss_ce_2_unscaled: 0.6378 (0.6440)  loss_bbox_2_unscaled: 0.2936 (0.2916)  loss_giou_2_unscaled: 0.5198 (0.5030)  cardinality_error_2_unscaled: 2.4000 (11.3137)  loss_feature_2_unscaled: 0.7482 (0.7905)  loss_ce_3_unscaled: 0.6403 (0.6468)  loss_bbox_3_unscaled: 0.3000 (0.2899)  loss_giou_3_unscaled: 0.5091 (0.5049)  cardinality_error_3_unscaled: 3.0000 (11.8039)  loss_feature_3_unscaled: 0.7375 (0.7753)  loss_ce_4_unscaled: 0.6407 (0.6519)  loss_bbox_4_unscaled: 0.2986 (0.2878)  loss_giou_4_unscaled: 0.5214 (0.5036)  cardinality_error_4_unscaled: 3.6000 (10.9529)  loss_feature_4_unscaled: 0.7331 (0.7679)  time: 0.4819  data: 0.0054  max mem: 1340\n",
      "Epoch: [1]  [ 60/105]  eta: 0:00:22  lr: 0.000100  class_error: 92.00  loss: 23.4702 (23.5052)  loss_ce: 0.6329 (0.6473)  loss_bbox: 1.5033 (1.4296)  loss_giou: 1.0588 (1.0185)  loss_feature: 0.7195 (0.7542)  loss_ce_0: 0.6017 (0.6028)  loss_bbox_0: 1.6120 (1.6589)  loss_giou_0: 1.0652 (1.0568)  loss_feature_0: 0.7600 (0.7923)  loss_ce_1: 0.6441 (0.6305)  loss_bbox_1: 1.4474 (1.4940)  loss_giou_1: 1.0222 (1.0089)  loss_feature_1: 0.7525 (0.7850)  loss_ce_2: 0.6483 (0.6448)  loss_bbox_2: 1.4371 (1.4517)  loss_giou_2: 1.0634 (1.0131)  loss_feature_2: 0.7452 (0.7824)  loss_ce_3: 0.6396 (0.6436)  loss_bbox_3: 1.4521 (1.4466)  loss_giou_3: 1.0774 (1.0207)  loss_feature_3: 0.7302 (0.7671)  loss_ce_4: 0.6344 (0.6483)  loss_bbox_4: 1.4882 (1.4342)  loss_giou_4: 1.0724 (1.0148)  loss_feature_4: 0.7243 (0.7593)  loss_ce_unscaled: 0.6329 (0.6473)  class_error_unscaled: 92.0000 (77.7705)  loss_bbox_unscaled: 0.3007 (0.2859)  loss_giou_unscaled: 0.5294 (0.5092)  cardinality_error_unscaled: 4.0000 (10.6426)  loss_feature_unscaled: 0.7195 (0.7542)  loss_ce_0_unscaled: 0.6017 (0.6028)  loss_bbox_0_unscaled: 0.3224 (0.3318)  loss_giou_0_unscaled: 0.5326 (0.5284)  cardinality_error_0_unscaled: 3.4000 (6.4656)  loss_feature_0_unscaled: 0.7600 (0.7923)  loss_ce_1_unscaled: 0.6441 (0.6305)  loss_bbox_1_unscaled: 0.2895 (0.2988)  loss_giou_1_unscaled: 0.5111 (0.5045)  cardinality_error_1_unscaled: 2.2000 (9.0492)  loss_feature_1_unscaled: 0.7525 (0.7850)  loss_ce_2_unscaled: 0.6483 (0.6448)  loss_bbox_2_unscaled: 0.2874 (0.2903)  loss_giou_2_unscaled: 0.5317 (0.5066)  cardinality_error_2_unscaled: 2.0000 (11.4820)  loss_feature_2_unscaled: 0.7452 (0.7824)  loss_ce_3_unscaled: 0.6396 (0.6436)  loss_bbox_3_unscaled: 0.2904 (0.2893)  loss_giou_3_unscaled: 0.5387 (0.5103)  cardinality_error_3_unscaled: 2.4000 (11.4098)  loss_feature_3_unscaled: 0.7302 (0.7671)  loss_ce_4_unscaled: 0.6344 (0.6483)  loss_bbox_4_unscaled: 0.2976 (0.2868)  loss_giou_4_unscaled: 0.5362 (0.5074)  cardinality_error_4_unscaled: 3.0000 (10.5377)  loss_feature_4_unscaled: 0.7243 (0.7593)  time: 0.4816  data: 0.0055  max mem: 1340\n",
      "Epoch: [1]  [ 70/105]  eta: 0:00:17  lr: 0.000100  class_error: 76.00  loss: 23.1211 (23.4455)  loss_ce: 0.6247 (0.6432)  loss_bbox: 1.4103 (1.4296)  loss_giou: 1.0199 (1.0167)  loss_feature: 0.7264 (0.7510)  loss_ce_0: 0.6037 (0.6026)  loss_bbox_0: 1.5839 (1.6524)  loss_giou_0: 1.0974 (1.0545)  loss_feature_0: 0.7673 (0.7894)  loss_ce_1: 0.6142 (0.6258)  loss_bbox_1: 1.4454 (1.4925)  loss_giou_1: 1.0389 (1.0135)  loss_feature_1: 0.7651 (0.7827)  loss_ce_2: 0.6405 (0.6415)  loss_bbox_2: 1.4149 (1.4495)  loss_giou_2: 1.0095 (1.0148)  loss_feature_2: 0.7591 (0.7794)  loss_ce_3: 0.6142 (0.6402)  loss_bbox_3: 1.4323 (1.4425)  loss_giou_3: 1.0623 (1.0183)  loss_feature_3: 0.7439 (0.7643)  loss_ce_4: 0.6251 (0.6442)  loss_bbox_4: 1.3857 (1.4292)  loss_giou_4: 1.0242 (1.0115)  loss_feature_4: 0.7322 (0.7561)  loss_ce_unscaled: 0.6247 (0.6432)  class_error_unscaled: 76.0000 (77.8592)  loss_bbox_unscaled: 0.2821 (0.2859)  loss_giou_unscaled: 0.5099 (0.5084)  cardinality_error_unscaled: 5.4000 (9.9324)  loss_feature_unscaled: 0.7264 (0.7510)  loss_ce_0_unscaled: 0.6037 (0.6026)  loss_bbox_0_unscaled: 0.3168 (0.3305)  loss_giou_0_unscaled: 0.5487 (0.5272)  cardinality_error_0_unscaled: 5.8000 (6.4817)  loss_feature_0_unscaled: 0.7673 (0.7894)  loss_ce_1_unscaled: 0.6142 (0.6258)  loss_bbox_1_unscaled: 0.2891 (0.2985)  loss_giou_1_unscaled: 0.5194 (0.5067)  cardinality_error_1_unscaled: 10.8000 (9.2535)  loss_feature_1_unscaled: 0.7651 (0.7827)  loss_ce_2_unscaled: 0.6405 (0.6415)  loss_bbox_2_unscaled: 0.2830 (0.2899)  loss_giou_2_unscaled: 0.5048 (0.5074)  cardinality_error_2_unscaled: 5.8000 (10.7014)  loss_feature_2_unscaled: 0.7591 (0.7794)  loss_ce_3_unscaled: 0.6142 (0.6402)  loss_bbox_3_unscaled: 0.2865 (0.2885)  loss_giou_3_unscaled: 0.5311 (0.5092)  cardinality_error_3_unscaled: 7.2000 (10.9155)  loss_feature_3_unscaled: 0.7439 (0.7643)  loss_ce_4_unscaled: 0.6251 (0.6442)  loss_bbox_4_unscaled: 0.2771 (0.2858)  loss_giou_4_unscaled: 0.5121 (0.5058)  cardinality_error_4_unscaled: 7.0000 (10.0451)  loss_feature_4_unscaled: 0.7322 (0.7561)  time: 0.4889  data: 0.0053  max mem: 1340\n",
      "Epoch: [1]  [ 80/105]  eta: 0:00:12  lr: 0.000100  class_error: 92.00  loss: 22.1511 (23.2531)  loss_ce: 0.6307 (0.6421)  loss_bbox: 1.3806 (1.4154)  loss_giou: 0.9507 (1.0057)  loss_feature: 0.7065 (0.7451)  loss_ce_0: 0.6102 (0.6052)  loss_bbox_0: 1.5806 (1.6309)  loss_giou_0: 1.0369 (1.0452)  loss_feature_0: 0.7487 (0.7836)  loss_ce_1: 0.6103 (0.6258)  loss_bbox_1: 1.4098 (1.4760)  loss_giou_1: 0.9923 (1.0012)  loss_feature_1: 0.7412 (0.7775)  loss_ce_2: 0.6405 (0.6424)  loss_bbox_2: 1.3541 (1.4342)  loss_giou_2: 0.9535 (1.0023)  loss_feature_2: 0.7373 (0.7735)  loss_ce_3: 0.6407 (0.6422)  loss_bbox_3: 1.3684 (1.4274)  loss_giou_3: 0.9375 (1.0084)  loss_feature_3: 0.7190 (0.7584)  loss_ce_4: 0.6260 (0.6443)  loss_bbox_4: 1.3476 (1.4150)  loss_giou_4: 0.9198 (1.0014)  loss_feature_4: 0.7094 (0.7500)  loss_ce_unscaled: 0.6307 (0.6421)  class_error_unscaled: 88.0000 (79.8025)  loss_bbox_unscaled: 0.2761 (0.2831)  loss_giou_unscaled: 0.4754 (0.5028)  cardinality_error_unscaled: 2.2000 (8.9432)  loss_feature_unscaled: 0.7065 (0.7451)  loss_ce_0_unscaled: 0.6102 (0.6052)  loss_bbox_0_unscaled: 0.3161 (0.3262)  loss_giou_0_unscaled: 0.5184 (0.5226)  cardinality_error_0_unscaled: 5.6000 (6.2938)  loss_feature_0_unscaled: 0.7487 (0.7836)  loss_ce_1_unscaled: 0.6103 (0.6258)  loss_bbox_1_unscaled: 0.2820 (0.2952)  loss_giou_1_unscaled: 0.4961 (0.5006)  cardinality_error_1_unscaled: 8.2000 (8.9062)  loss_feature_1_unscaled: 0.7412 (0.7775)  loss_ce_2_unscaled: 0.6405 (0.6424)  loss_bbox_2_unscaled: 0.2708 (0.2868)  loss_giou_2_unscaled: 0.4767 (0.5011)  cardinality_error_2_unscaled: 6.4000 (10.4593)  loss_feature_2_unscaled: 0.7373 (0.7735)  loss_ce_3_unscaled: 0.6407 (0.6422)  loss_bbox_3_unscaled: 0.2737 (0.2855)  loss_giou_3_unscaled: 0.4688 (0.5042)  cardinality_error_3_unscaled: 7.2000 (10.5037)  loss_feature_3_unscaled: 0.7190 (0.7584)  loss_ce_4_unscaled: 0.6260 (0.6443)  loss_bbox_4_unscaled: 0.2695 (0.2830)  loss_giou_4_unscaled: 0.4599 (0.5007)  cardinality_error_4_unscaled: 5.2000 (9.1728)  loss_feature_4_unscaled: 0.7094 (0.7500)  time: 0.4890  data: 0.0053  max mem: 1340\n",
      "Epoch: [1]  [ 90/105]  eta: 0:00:07  lr: 0.000100  class_error: 84.00  loss: 22.2179 (23.1498)  loss_ce: 0.6309 (0.6403)  loss_bbox: 1.3336 (1.4093)  loss_giou: 0.9421 (1.0011)  loss_feature: 0.6929 (0.7388)  loss_ce_0: 0.6268 (0.6060)  loss_bbox_0: 1.4516 (1.6118)  loss_giou_0: 0.9892 (1.0393)  loss_feature_0: 0.7315 (0.7772)  loss_ce_1: 0.6377 (0.6252)  loss_bbox_1: 1.4040 (1.4763)  loss_giou_1: 0.9734 (1.0013)  loss_feature_1: 0.7263 (0.7716)  loss_ce_2: 0.6454 (0.6411)  loss_bbox_2: 1.3291 (1.4287)  loss_giou_2: 0.9584 (1.0004)  loss_feature_2: 0.7185 (0.7672)  loss_ce_3: 0.6383 (0.6398)  loss_bbox_3: 1.3385 (1.4233)  loss_giou_3: 0.9820 (1.0062)  loss_feature_3: 0.7051 (0.7521)  loss_ce_4: 0.6422 (0.6413)  loss_bbox_4: 1.3370 (1.4104)  loss_giou_4: 0.9598 (0.9975)  loss_feature_4: 0.6949 (0.7436)  loss_ce_unscaled: 0.6309 (0.6403)  class_error_unscaled: 92.0000 (80.7033)  loss_bbox_unscaled: 0.2667 (0.2819)  loss_giou_unscaled: 0.4711 (0.5006)  cardinality_error_unscaled: 2.2000 (8.2967)  loss_feature_unscaled: 0.6929 (0.7388)  loss_ce_0_unscaled: 0.6268 (0.6060)  loss_bbox_0_unscaled: 0.2903 (0.3224)  loss_giou_0_unscaled: 0.4946 (0.5197)  cardinality_error_0_unscaled: 5.2000 (6.5824)  loss_feature_0_unscaled: 0.7315 (0.7772)  loss_ce_1_unscaled: 0.6377 (0.6252)  loss_bbox_1_unscaled: 0.2808 (0.2953)  loss_giou_1_unscaled: 0.4867 (0.5007)  cardinality_error_1_unscaled: 7.2000 (9.1956)  loss_feature_1_unscaled: 0.7263 (0.7716)  loss_ce_2_unscaled: 0.6454 (0.6411)  loss_bbox_2_unscaled: 0.2658 (0.2857)  loss_giou_2_unscaled: 0.4792 (0.5002)  cardinality_error_2_unscaled: 9.6000 (10.8176)  loss_feature_2_unscaled: 0.7185 (0.7672)  loss_ce_3_unscaled: 0.6383 (0.6398)  loss_bbox_3_unscaled: 0.2677 (0.2847)  loss_giou_3_unscaled: 0.4910 (0.5031)  cardinality_error_3_unscaled: 6.4000 (10.0088)  loss_feature_3_unscaled: 0.7051 (0.7521)  loss_ce_4_unscaled: 0.6422 (0.6413)  loss_bbox_4_unscaled: 0.2674 (0.2821)  loss_giou_4_unscaled: 0.4799 (0.4987)  cardinality_error_4_unscaled: 2.2000 (8.4549)  loss_feature_4_unscaled: 0.6949 (0.7436)  time: 0.5104  data: 0.0058  max mem: 1340\n",
      "Epoch: [1]  [100/105]  eta: 0:00:02  lr: 0.000100  class_error: 96.00  loss: 22.2179 (23.0501)  loss_ce: 0.6317 (0.6393)  loss_bbox: 1.3406 (1.4027)  loss_giou: 0.9525 (0.9957)  loss_feature: 0.6834 (0.7327)  loss_ce_0: 0.6062 (0.6050)  loss_bbox_0: 1.4614 (1.6080)  loss_giou_0: 0.9892 (1.0346)  loss_feature_0: 0.7134 (0.7714)  loss_ce_1: 0.6209 (0.6245)  loss_bbox_1: 1.4359 (1.4694)  loss_giou_1: 0.9734 (0.9961)  loss_feature_1: 0.7240 (0.7661)  loss_ce_2: 0.6195 (0.6383)  loss_bbox_2: 1.3524 (1.4272)  loss_giou_2: 0.9584 (0.9959)  loss_feature_2: 0.7159 (0.7616)  loss_ce_3: 0.6179 (0.6374)  loss_bbox_3: 1.3783 (1.4195)  loss_giou_3: 0.9820 (1.0014)  loss_feature_3: 0.6991 (0.7463)  loss_ce_4: 0.6183 (0.6399)  loss_bbox_4: 1.3609 (1.4065)  loss_giou_4: 0.9624 (0.9929)  loss_feature_4: 0.6884 (0.7378)  loss_ce_unscaled: 0.6317 (0.6393)  class_error_unscaled: 84.0000 (80.7921)  loss_bbox_unscaled: 0.2681 (0.2805)  loss_giou_unscaled: 0.4762 (0.4979)  cardinality_error_unscaled: 2.8000 (7.9802)  loss_feature_unscaled: 0.6834 (0.7327)  loss_ce_0_unscaled: 0.6062 (0.6050)  loss_bbox_0_unscaled: 0.2923 (0.3216)  loss_giou_0_unscaled: 0.4946 (0.5173)  cardinality_error_0_unscaled: 4.2000 (6.2653)  loss_feature_0_unscaled: 0.7134 (0.7714)  loss_ce_1_unscaled: 0.6209 (0.6245)  loss_bbox_1_unscaled: 0.2872 (0.2939)  loss_giou_1_unscaled: 0.4867 (0.4980)  cardinality_error_1_unscaled: 4.6000 (8.8238)  loss_feature_1_unscaled: 0.7240 (0.7661)  loss_ce_2_unscaled: 0.6195 (0.6383)  loss_bbox_2_unscaled: 0.2705 (0.2854)  loss_giou_2_unscaled: 0.4792 (0.4980)  cardinality_error_2_unscaled: 7.4000 (10.4653)  loss_feature_2_unscaled: 0.7159 (0.7616)  loss_ce_3_unscaled: 0.6179 (0.6374)  loss_bbox_3_unscaled: 0.2757 (0.2839)  loss_giou_3_unscaled: 0.4910 (0.5007)  cardinality_error_3_unscaled: 6.0000 (9.6515)  loss_feature_3_unscaled: 0.6991 (0.7463)  loss_ce_4_unscaled: 0.6183 (0.6399)  loss_bbox_4_unscaled: 0.2722 (0.2813)  loss_giou_4_unscaled: 0.4812 (0.4964)  cardinality_error_4_unscaled: 2.6000 (8.2059)  loss_feature_4_unscaled: 0.6884 (0.7378)  time: 0.5230  data: 0.0064  max mem: 1340\n",
      "Epoch: [1]  [104/105]  eta: 0:00:00  lr: 0.000100  class_error: 100.00  loss: 22.2391 (23.0477)  loss_ce: 0.6429 (0.6400)  loss_bbox: 1.3406 (1.4033)  loss_giou: 0.9525 (0.9965)  loss_feature: 0.6834 (0.7312)  loss_ce_0: 0.6085 (0.6056)  loss_bbox_0: 1.4793 (1.6033)  loss_giou_0: 0.9762 (1.0328)  loss_feature_0: 0.7134 (0.7697)  loss_ce_1: 0.6386 (0.6252)  loss_bbox_1: 1.4359 (1.4706)  loss_giou_1: 0.9899 (0.9981)  loss_feature_1: 0.7263 (0.7646)  loss_ce_2: 0.6321 (0.6387)  loss_bbox_2: 1.3552 (1.4271)  loss_giou_2: 0.9584 (0.9975)  loss_feature_2: 0.7159 (0.7599)  loss_ce_3: 0.6374 (0.6380)  loss_bbox_3: 1.3783 (1.4208)  loss_giou_3: 0.9820 (1.0023)  loss_feature_3: 0.7025 (0.7446)  loss_ce_4: 0.6427 (0.6404)  loss_bbox_4: 1.3609 (1.4070)  loss_giou_4: 0.9499 (0.9941)  loss_feature_4: 0.6931 (0.7362)  loss_ce_unscaled: 0.6429 (0.6400)  class_error_unscaled: 88.0000 (81.4095)  loss_bbox_unscaled: 0.2681 (0.2807)  loss_giou_unscaled: 0.4762 (0.4983)  cardinality_error_unscaled: 3.0000 (7.7867)  loss_feature_unscaled: 0.6834 (0.7312)  loss_ce_0_unscaled: 0.6085 (0.6056)  loss_bbox_0_unscaled: 0.2959 (0.3207)  loss_giou_0_unscaled: 0.4881 (0.5164)  cardinality_error_0_unscaled: 4.6000 (6.2952)  loss_feature_0_unscaled: 0.7134 (0.7697)  loss_ce_1_unscaled: 0.6386 (0.6252)  loss_bbox_1_unscaled: 0.2872 (0.2941)  loss_giou_1_unscaled: 0.4949 (0.4990)  cardinality_error_1_unscaled: 7.6000 (8.9067)  loss_feature_1_unscaled: 0.7263 (0.7646)  loss_ce_2_unscaled: 0.6321 (0.6387)  loss_bbox_2_unscaled: 0.2710 (0.2854)  loss_giou_2_unscaled: 0.4792 (0.4987)  cardinality_error_2_unscaled: 7.4000 (10.3562)  loss_feature_2_unscaled: 0.7159 (0.7599)  loss_ce_3_unscaled: 0.6374 (0.6380)  loss_bbox_3_unscaled: 0.2757 (0.2842)  loss_giou_3_unscaled: 0.4910 (0.5012)  cardinality_error_3_unscaled: 3.8000 (9.4076)  loss_feature_3_unscaled: 0.7025 (0.7446)  loss_ce_4_unscaled: 0.6427 (0.6404)  loss_bbox_4_unscaled: 0.2722 (0.2814)  loss_giou_4_unscaled: 0.4749 (0.4971)  cardinality_error_4_unscaled: 3.0000 (7.9848)  loss_feature_4_unscaled: 0.6931 (0.7362)  time: 0.5253  data: 0.0065  max mem: 1340\n",
      "Epoch: [1] Total time: 0:00:53 (0.5100 s / it)\n",
      "Averaged stats: lr: 0.000100  class_error: 100.00  loss: 22.2391 (23.0477)  loss_ce: 0.6429 (0.6400)  loss_bbox: 1.3406 (1.4033)  loss_giou: 0.9525 (0.9965)  loss_feature: 0.6834 (0.7312)  loss_ce_0: 0.6085 (0.6056)  loss_bbox_0: 1.4793 (1.6033)  loss_giou_0: 0.9762 (1.0328)  loss_feature_0: 0.7134 (0.7697)  loss_ce_1: 0.6386 (0.6252)  loss_bbox_1: 1.4359 (1.4706)  loss_giou_1: 0.9899 (0.9981)  loss_feature_1: 0.7263 (0.7646)  loss_ce_2: 0.6321 (0.6387)  loss_bbox_2: 1.3552 (1.4271)  loss_giou_2: 0.9584 (0.9975)  loss_feature_2: 0.7159 (0.7599)  loss_ce_3: 0.6374 (0.6380)  loss_bbox_3: 1.3783 (1.4208)  loss_giou_3: 0.9820 (1.0023)  loss_feature_3: 0.7025 (0.7446)  loss_ce_4: 0.6427 (0.6404)  loss_bbox_4: 1.3609 (1.4070)  loss_giou_4: 0.9499 (0.9941)  loss_feature_4: 0.6931 (0.7362)  loss_ce_unscaled: 0.6429 (0.6400)  class_error_unscaled: 88.0000 (81.4095)  loss_bbox_unscaled: 0.2681 (0.2807)  loss_giou_unscaled: 0.4762 (0.4983)  cardinality_error_unscaled: 3.0000 (7.7867)  loss_feature_unscaled: 0.6834 (0.7312)  loss_ce_0_unscaled: 0.6085 (0.6056)  loss_bbox_0_unscaled: 0.2959 (0.3207)  loss_giou_0_unscaled: 0.4881 (0.5164)  cardinality_error_0_unscaled: 4.6000 (6.2952)  loss_feature_0_unscaled: 0.7134 (0.7697)  loss_ce_1_unscaled: 0.6386 (0.6252)  loss_bbox_1_unscaled: 0.2872 (0.2941)  loss_giou_1_unscaled: 0.4949 (0.4990)  cardinality_error_1_unscaled: 7.6000 (8.9067)  loss_feature_1_unscaled: 0.7263 (0.7646)  loss_ce_2_unscaled: 0.6321 (0.6387)  loss_bbox_2_unscaled: 0.2710 (0.2854)  loss_giou_2_unscaled: 0.4792 (0.4987)  cardinality_error_2_unscaled: 7.4000 (10.3562)  loss_feature_2_unscaled: 0.7159 (0.7599)  loss_ce_3_unscaled: 0.6374 (0.6380)  loss_bbox_3_unscaled: 0.2757 (0.2842)  loss_giou_3_unscaled: 0.4910 (0.5012)  cardinality_error_3_unscaled: 3.8000 (9.4076)  loss_feature_3_unscaled: 0.7025 (0.7446)  loss_ce_4_unscaled: 0.6427 (0.6404)  loss_bbox_4_unscaled: 0.2722 (0.2814)  loss_giou_4_unscaled: 0.4749 (0.4971)  cardinality_error_4_unscaled: 3.0000 (7.9848)  loss_feature_4_unscaled: 0.6931 (0.7362)\n",
      "Epoch: [2]  [  0/105]  eta: 0:05:14  lr: 0.000100  class_error: 92.00  loss: 20.2789 (20.2789)  loss_ce: 0.6844 (0.6844)  loss_bbox: 1.0997 (1.0997)  loss_giou: 0.7651 (0.7651)  loss_feature: 0.7442 (0.7442)  loss_ce_0: 0.6510 (0.6510)  loss_bbox_0: 1.3012 (1.3012)  loss_giou_0: 0.8395 (0.8395)  loss_feature_0: 0.7799 (0.7799)  loss_ce_1: 0.6913 (0.6913)  loss_bbox_1: 1.2290 (1.2290)  loss_giou_1: 0.7617 (0.7617)  loss_feature_1: 0.7788 (0.7788)  loss_ce_2: 0.7144 (0.7144)  loss_bbox_2: 1.1537 (1.1537)  loss_giou_2: 0.7288 (0.7288)  loss_feature_2: 0.7721 (0.7721)  loss_ce_3: 0.6882 (0.6882)  loss_bbox_3: 1.1060 (1.1060)  loss_giou_3: 0.7603 (0.7603)  loss_feature_3: 0.7542 (0.7542)  loss_ce_4: 0.6900 (0.6900)  loss_bbox_4: 1.0621 (1.0621)  loss_giou_4: 0.7734 (0.7734)  loss_feature_4: 0.7499 (0.7499)  loss_ce_unscaled: 0.6844 (0.6844)  class_error_unscaled: 92.0000 (92.0000)  loss_bbox_unscaled: 0.2199 (0.2199)  loss_giou_unscaled: 0.3826 (0.3826)  cardinality_error_unscaled: 4.0000 (4.0000)  loss_feature_unscaled: 0.7442 (0.7442)  loss_ce_0_unscaled: 0.6510 (0.6510)  loss_bbox_0_unscaled: 0.2602 (0.2602)  loss_giou_0_unscaled: 0.4198 (0.4198)  cardinality_error_0_unscaled: 4.8000 (4.8000)  loss_feature_0_unscaled: 0.7799 (0.7799)  loss_ce_1_unscaled: 0.6913 (0.6913)  loss_bbox_1_unscaled: 0.2458 (0.2458)  loss_giou_1_unscaled: 0.3808 (0.3808)  cardinality_error_1_unscaled: 3.8000 (3.8000)  loss_feature_1_unscaled: 0.7788 (0.7788)  loss_ce_2_unscaled: 0.7144 (0.7144)  loss_bbox_2_unscaled: 0.2307 (0.2307)  loss_giou_2_unscaled: 0.3644 (0.3644)  cardinality_error_2_unscaled: 1.4000 (1.4000)  loss_feature_2_unscaled: 0.7721 (0.7721)  loss_ce_3_unscaled: 0.6882 (0.6882)  loss_bbox_3_unscaled: 0.2212 (0.2212)  loss_giou_3_unscaled: 0.3802 (0.3802)  cardinality_error_3_unscaled: 1.8000 (1.8000)  loss_feature_3_unscaled: 0.7542 (0.7542)  loss_ce_4_unscaled: 0.6900 (0.6900)  loss_bbox_4_unscaled: 0.2124 (0.2124)  loss_giou_4_unscaled: 0.3867 (0.3867)  cardinality_error_4_unscaled: 2.6000 (2.6000)  loss_feature_4_unscaled: 0.7499 (0.7499)  time: 2.9998  data: 2.4691  max mem: 1340\n",
      "Epoch: [2]  [ 10/105]  eta: 0:01:56  lr: 0.000100  class_error: 72.00  loss: 22.2773 (22.0627)  loss_ce: 0.6272 (0.6300)  loss_bbox: 1.3446 (1.3491)  loss_giou: 0.9807 (0.9740)  loss_feature: 0.6838 (0.6861)  loss_ce_0: 0.5924 (0.5945)  loss_bbox_0: 1.4771 (1.4949)  loss_giou_0: 0.9805 (1.0093)  loss_feature_0: 0.7184 (0.7219)  loss_ce_1: 0.6339 (0.6242)  loss_bbox_1: 1.3409 (1.3655)  loss_giou_1: 0.9786 (0.9680)  loss_feature_1: 0.7150 (0.7179)  loss_ce_2: 0.6147 (0.6262)  loss_bbox_2: 1.3493 (1.3560)  loss_giou_2: 0.9998 (0.9700)  loss_feature_2: 0.7043 (0.7085)  loss_ce_3: 0.6256 (0.6276)  loss_bbox_3: 1.3599 (1.3272)  loss_giou_3: 1.0128 (0.9806)  loss_feature_3: 0.6923 (0.6952)  loss_ce_4: 0.6289 (0.6308)  loss_bbox_4: 1.3444 (1.3383)  loss_giou_4: 1.0187 (0.9783)  loss_feature_4: 0.6855 (0.6888)  loss_ce_unscaled: 0.6272 (0.6300)  class_error_unscaled: 88.0000 (84.3636)  loss_bbox_unscaled: 0.2689 (0.2698)  loss_giou_unscaled: 0.4904 (0.4870)  cardinality_error_unscaled: 4.0000 (5.6000)  loss_feature_unscaled: 0.6838 (0.6861)  loss_ce_0_unscaled: 0.5924 (0.5945)  loss_bbox_0_unscaled: 0.2954 (0.2990)  loss_giou_0_unscaled: 0.4903 (0.5046)  cardinality_error_0_unscaled: 2.8000 (4.3091)  loss_feature_0_unscaled: 0.7184 (0.7219)  loss_ce_1_unscaled: 0.6339 (0.6242)  loss_bbox_1_unscaled: 0.2682 (0.2731)  loss_giou_1_unscaled: 0.4893 (0.4840)  cardinality_error_1_unscaled: 8.8000 (9.5455)  loss_feature_1_unscaled: 0.7150 (0.7179)  loss_ce_2_unscaled: 0.6147 (0.6262)  loss_bbox_2_unscaled: 0.2699 (0.2712)  loss_giou_2_unscaled: 0.4999 (0.4850)  cardinality_error_2_unscaled: 6.0000 (8.1636)  loss_feature_2_unscaled: 0.7043 (0.7085)  loss_ce_3_unscaled: 0.6256 (0.6276)  loss_bbox_3_unscaled: 0.2720 (0.2654)  loss_giou_3_unscaled: 0.5064 (0.4903)  cardinality_error_3_unscaled: 6.0000 (7.0182)  loss_feature_3_unscaled: 0.6923 (0.6952)  loss_ce_4_unscaled: 0.6289 (0.6308)  loss_bbox_4_unscaled: 0.2689 (0.2677)  loss_giou_4_unscaled: 0.5093 (0.4891)  cardinality_error_4_unscaled: 5.2000 (6.3091)  loss_feature_4_unscaled: 0.6855 (0.6888)  time: 1.2212  data: 0.2301  max mem: 1340\n",
      "Epoch: [2]  [ 20/105]  eta: 0:02:06  lr: 0.000100  class_error: 92.00  loss: 21.8691 (22.0088)  loss_ce: 0.6344 (0.6345)  loss_bbox: 1.3318 (1.3218)  loss_giou: 0.9333 (0.9641)  loss_feature: 0.6789 (0.6862)  loss_ce_0: 0.5808 (0.5907)  loss_bbox_0: 1.5114 (1.5016)  loss_giou_0: 1.0021 (1.0163)  loss_feature_0: 0.7154 (0.7229)  loss_ce_1: 0.6081 (0.6157)  loss_bbox_1: 1.3559 (1.3785)  loss_giou_1: 0.9891 (0.9852)  loss_feature_1: 0.7107 (0.7192)  loss_ce_2: 0.6233 (0.6293)  loss_bbox_2: 1.3275 (1.3346)  loss_giou_2: 0.9942 (0.9725)  loss_feature_2: 0.7007 (0.7087)  loss_ce_3: 0.6259 (0.6336)  loss_bbox_3: 1.3116 (1.3134)  loss_giou_3: 1.0128 (0.9724)  loss_feature_3: 0.6915 (0.6964)  loss_ce_4: 0.6289 (0.6334)  loss_bbox_4: 1.3062 (1.3193)  loss_giou_4: 0.9847 (0.9691)  loss_feature_4: 0.6827 (0.6893)  loss_ce_unscaled: 0.6344 (0.6345)  class_error_unscaled: 92.0000 (88.9524)  loss_bbox_unscaled: 0.2664 (0.2644)  loss_giou_unscaled: 0.4666 (0.4821)  cardinality_error_unscaled: 3.0000 (3.9429)  loss_feature_unscaled: 0.6789 (0.6862)  loss_ce_0_unscaled: 0.5808 (0.5907)  loss_bbox_0_unscaled: 0.3023 (0.3003)  loss_giou_0_unscaled: 0.5010 (0.5081)  cardinality_error_0_unscaled: 2.6000 (4.2095)  loss_feature_0_unscaled: 0.7154 (0.7229)  loss_ce_1_unscaled: 0.6081 (0.6157)  loss_bbox_1_unscaled: 0.2712 (0.2757)  loss_giou_1_unscaled: 0.4946 (0.4926)  cardinality_error_1_unscaled: 5.4000 (7.3905)  loss_feature_1_unscaled: 0.7107 (0.7192)  loss_ce_2_unscaled: 0.6233 (0.6293)  loss_bbox_2_unscaled: 0.2655 (0.2669)  loss_giou_2_unscaled: 0.4971 (0.4862)  cardinality_error_2_unscaled: 4.2000 (6.8000)  loss_feature_2_unscaled: 0.7007 (0.7087)  loss_ce_3_unscaled: 0.6259 (0.6336)  loss_bbox_3_unscaled: 0.2623 (0.2627)  loss_giou_3_unscaled: 0.5064 (0.4862)  cardinality_error_3_unscaled: 3.4000 (6.0762)  loss_feature_3_unscaled: 0.6915 (0.6964)  loss_ce_4_unscaled: 0.6289 (0.6334)  loss_bbox_4_unscaled: 0.2612 (0.2639)  loss_giou_4_unscaled: 0.4923 (0.4846)  cardinality_error_4_unscaled: 2.8000 (4.6762)  loss_feature_4_unscaled: 0.6827 (0.6893)  time: 1.4182  data: 0.0054  max mem: 1340\n",
      "Epoch: [2]  [ 30/105]  eta: 0:02:01  lr: 0.000100  class_error: 84.00  loss: 21.7319 (21.9365)  loss_ce: 0.6356 (0.6344)  loss_bbox: 1.2473 (1.3057)  loss_giou: 0.9275 (0.9594)  loss_feature: 0.6804 (0.6849)  loss_ce_0: 0.6016 (0.6014)  loss_bbox_0: 1.4827 (1.4861)  loss_giou_0: 1.0262 (1.0139)  loss_feature_0: 0.7154 (0.7194)  loss_ce_1: 0.6168 (0.6252)  loss_bbox_1: 1.3559 (1.3609)  loss_giou_1: 0.9891 (0.9800)  loss_feature_1: 0.7187 (0.7181)  loss_ce_2: 0.6373 (0.6377)  loss_bbox_2: 1.2957 (1.3220)  loss_giou_2: 0.9751 (0.9687)  loss_feature_2: 0.7059 (0.7082)  loss_ce_3: 0.6445 (0.6384)  loss_bbox_3: 1.2487 (1.3065)  loss_giou_3: 0.9584 (0.9703)  loss_feature_3: 0.6950 (0.6958)  loss_ce_4: 0.6327 (0.6345)  loss_bbox_4: 1.2481 (1.3091)  loss_giou_4: 0.9758 (0.9675)  loss_feature_4: 0.6857 (0.6884)  loss_ce_unscaled: 0.6356 (0.6344)  class_error_unscaled: 96.0000 (90.7097)  loss_bbox_unscaled: 0.2495 (0.2611)  loss_giou_unscaled: 0.4637 (0.4797)  cardinality_error_unscaled: 2.2000 (3.4065)  loss_feature_unscaled: 0.6804 (0.6849)  loss_ce_0_unscaled: 0.6016 (0.6014)  loss_bbox_0_unscaled: 0.2965 (0.2972)  loss_giou_0_unscaled: 0.5131 (0.5069)  cardinality_error_0_unscaled: 5.6000 (5.7935)  loss_feature_0_unscaled: 0.7154 (0.7194)  loss_ce_1_unscaled: 0.6168 (0.6252)  loss_bbox_1_unscaled: 0.2712 (0.2722)  loss_giou_1_unscaled: 0.4946 (0.4900)  cardinality_error_1_unscaled: 4.0000 (6.7806)  loss_feature_1_unscaled: 0.7187 (0.7181)  loss_ce_2_unscaled: 0.6373 (0.6377)  loss_bbox_2_unscaled: 0.2591 (0.2644)  loss_giou_2_unscaled: 0.4875 (0.4844)  cardinality_error_2_unscaled: 5.6000 (7.8839)  loss_feature_2_unscaled: 0.7059 (0.7082)  loss_ce_3_unscaled: 0.6445 (0.6384)  loss_bbox_3_unscaled: 0.2497 (0.2613)  loss_giou_3_unscaled: 0.4792 (0.4852)  cardinality_error_3_unscaled: 7.0000 (7.5355)  loss_feature_3_unscaled: 0.6950 (0.6958)  loss_ce_4_unscaled: 0.6327 (0.6345)  loss_bbox_4_unscaled: 0.2496 (0.2618)  loss_giou_4_unscaled: 0.4879 (0.4837)  cardinality_error_4_unscaled: 2.0000 (3.9161)  loss_feature_4_unscaled: 0.6857 (0.6884)  time: 1.8366  data: 0.0048  max mem: 1340\n",
      "Epoch: [2]  [ 40/105]  eta: 0:01:47  lr: 0.000100  class_error: 80.00  loss: 21.6761 (21.9210)  loss_ce: 0.6453 (0.6406)  loss_bbox: 1.2578 (1.3105)  loss_giou: 0.9836 (0.9680)  loss_feature: 0.6621 (0.6779)  loss_ce_0: 0.6225 (0.6065)  loss_bbox_0: 1.4827 (1.4827)  loss_giou_0: 1.0329 (1.0165)  loss_feature_0: 0.6939 (0.7110)  loss_ce_1: 0.6262 (0.6248)  loss_bbox_1: 1.3328 (1.3635)  loss_giou_1: 0.9901 (0.9800)  loss_feature_1: 0.6927 (0.7096)  loss_ce_2: 0.6412 (0.6372)  loss_bbox_2: 1.2957 (1.3273)  loss_giou_2: 0.9751 (0.9699)  loss_feature_2: 0.6840 (0.7000)  loss_ce_3: 0.6375 (0.6375)  loss_bbox_3: 1.2567 (1.3162)  loss_giou_3: 0.9584 (0.9686)  loss_feature_3: 0.6754 (0.6886)  loss_ce_4: 0.6398 (0.6359)  loss_bbox_4: 1.2350 (1.3034)  loss_giou_4: 0.9758 (0.9635)  loss_feature_4: 0.6661 (0.6814)  loss_ce_unscaled: 0.6453 (0.6406)  class_error_unscaled: 92.0000 (90.1463)  loss_bbox_unscaled: 0.2516 (0.2621)  loss_giou_unscaled: 0.4918 (0.4840)  cardinality_error_unscaled: 3.2000 (4.2098)  loss_feature_unscaled: 0.6621 (0.6779)  loss_ce_0_unscaled: 0.6225 (0.6065)  loss_bbox_0_unscaled: 0.2965 (0.2965)  loss_giou_0_unscaled: 0.5164 (0.5082)  cardinality_error_0_unscaled: 5.4000 (5.4195)  loss_feature_0_unscaled: 0.6939 (0.7110)  loss_ce_1_unscaled: 0.6262 (0.6248)  loss_bbox_1_unscaled: 0.2666 (0.2727)  loss_giou_1_unscaled: 0.4950 (0.4900)  cardinality_error_1_unscaled: 3.8000 (6.1951)  loss_feature_1_unscaled: 0.6927 (0.7096)  loss_ce_2_unscaled: 0.6412 (0.6372)  loss_bbox_2_unscaled: 0.2591 (0.2655)  loss_giou_2_unscaled: 0.4875 (0.4850)  cardinality_error_2_unscaled: 4.6000 (6.7512)  loss_feature_2_unscaled: 0.6840 (0.7000)  loss_ce_3_unscaled: 0.6375 (0.6375)  loss_bbox_3_unscaled: 0.2513 (0.2632)  loss_giou_3_unscaled: 0.4792 (0.4843)  cardinality_error_3_unscaled: 4.0000 (6.3073)  loss_feature_3_unscaled: 0.6754 (0.6886)  loss_ce_4_unscaled: 0.6398 (0.6359)  loss_bbox_4_unscaled: 0.2470 (0.2607)  loss_giou_4_unscaled: 0.4879 (0.4818)  cardinality_error_4_unscaled: 1.8000 (3.4195)  loss_feature_4_unscaled: 0.6661 (0.6814)  time: 1.8270  data: 0.0051  max mem: 1340\n",
      "Epoch: [2]  [ 50/105]  eta: 0:01:32  lr: 0.000100  class_error: 88.00  loss: 21.6555 (21.9240)  loss_ce: 0.6483 (0.6424)  loss_bbox: 1.2735 (1.3027)  loss_giou: 0.9801 (0.9675)  loss_feature: 0.6641 (0.6766)  loss_ce_0: 0.6205 (0.6092)  loss_bbox_0: 1.5155 (1.4852)  loss_giou_0: 1.0370 (1.0151)  loss_feature_0: 0.6939 (0.7088)  loss_ce_1: 0.6237 (0.6278)  loss_bbox_1: 1.3461 (1.3646)  loss_giou_1: 0.9901 (0.9834)  loss_feature_1: 0.6949 (0.7077)  loss_ce_2: 0.6402 (0.6385)  loss_bbox_2: 1.3103 (1.3270)  loss_giou_2: 0.9601 (0.9686)  loss_feature_2: 0.6857 (0.6984)  loss_ce_3: 0.6352 (0.6378)  loss_bbox_3: 1.2955 (1.3134)  loss_giou_3: 0.9620 (0.9712)  loss_feature_3: 0.6757 (0.6872)  loss_ce_4: 0.6405 (0.6370)  loss_bbox_4: 1.3341 (1.3072)  loss_giou_4: 0.9571 (0.9666)  loss_feature_4: 0.6674 (0.6800)  loss_ce_unscaled: 0.6483 (0.6424)  class_error_unscaled: 92.0000 (91.2941)  loss_bbox_unscaled: 0.2547 (0.2605)  loss_giou_unscaled: 0.4900 (0.4838)  cardinality_error_unscaled: 4.4000 (4.1020)  loss_feature_unscaled: 0.6641 (0.6766)  loss_ce_0_unscaled: 0.6205 (0.6092)  loss_bbox_0_unscaled: 0.3031 (0.2970)  loss_giou_0_unscaled: 0.5185 (0.5075)  cardinality_error_0_unscaled: 3.6000 (4.8667)  loss_feature_0_unscaled: 0.6939 (0.7088)  loss_ce_1_unscaled: 0.6237 (0.6278)  loss_bbox_1_unscaled: 0.2692 (0.2729)  loss_giou_1_unscaled: 0.4950 (0.4917)  cardinality_error_1_unscaled: 5.0000 (6.6392)  loss_feature_1_unscaled: 0.6949 (0.7077)  loss_ce_2_unscaled: 0.6402 (0.6385)  loss_bbox_2_unscaled: 0.2621 (0.2654)  loss_giou_2_unscaled: 0.4801 (0.4843)  cardinality_error_2_unscaled: 2.6000 (6.4627)  loss_feature_2_unscaled: 0.6857 (0.6984)  loss_ce_3_unscaled: 0.6352 (0.6378)  loss_bbox_3_unscaled: 0.2591 (0.2627)  loss_giou_3_unscaled: 0.4810 (0.4856)  cardinality_error_3_unscaled: 2.0000 (5.6745)  loss_feature_3_unscaled: 0.6757 (0.6872)  loss_ce_4_unscaled: 0.6405 (0.6370)  loss_bbox_4_unscaled: 0.2668 (0.2614)  loss_giou_4_unscaled: 0.4785 (0.4833)  cardinality_error_4_unscaled: 2.2000 (3.3451)  loss_feature_4_unscaled: 0.6674 (0.6800)  time: 1.7757  data: 0.0048  max mem: 1340\n",
      "Epoch: [2]  [ 60/105]  eta: 0:01:17  lr: 0.000100  class_error: 92.00  loss: 21.3869 (21.8215)  loss_ce: 0.6472 (0.6434)  loss_bbox: 1.2694 (1.2981)  loss_giou: 0.9183 (0.9634)  loss_feature: 0.6641 (0.6711)  loss_ce_0: 0.6237 (0.6109)  loss_bbox_0: 1.4490 (1.4703)  loss_giou_0: 1.0136 (1.0126)  loss_feature_0: 0.6910 (0.7022)  loss_ce_1: 0.6318 (0.6301)  loss_bbox_1: 1.3349 (1.3541)  loss_giou_1: 0.9808 (0.9783)  loss_feature_1: 0.6949 (0.7017)  loss_ce_2: 0.6477 (0.6405)  loss_bbox_2: 1.2918 (1.3207)  loss_giou_2: 0.9583 (0.9639)  loss_feature_2: 0.6857 (0.6927)  loss_ce_3: 0.6436 (0.6402)  loss_bbox_3: 1.2573 (1.3045)  loss_giou_3: 0.9546 (0.9656)  loss_feature_3: 0.6757 (0.6818)  loss_ce_4: 0.6472 (0.6384)  loss_bbox_4: 1.2653 (1.2993)  loss_giou_4: 0.9348 (0.9631)  loss_feature_4: 0.6674 (0.6744)  loss_ce_unscaled: 0.6472 (0.6434)  class_error_unscaled: 92.0000 (90.5574)  loss_bbox_unscaled: 0.2539 (0.2596)  loss_giou_unscaled: 0.4592 (0.4817)  cardinality_error_unscaled: 4.0000 (4.2098)  loss_feature_unscaled: 0.6641 (0.6711)  loss_ce_0_unscaled: 0.6237 (0.6109)  loss_bbox_0_unscaled: 0.2898 (0.2941)  loss_giou_0_unscaled: 0.5068 (0.5063)  cardinality_error_0_unscaled: 2.0000 (4.5967)  loss_feature_0_unscaled: 0.6910 (0.7022)  loss_ce_1_unscaled: 0.6318 (0.6301)  loss_bbox_1_unscaled: 0.2670 (0.2708)  loss_giou_1_unscaled: 0.4904 (0.4891)  cardinality_error_1_unscaled: 9.2000 (7.0656)  loss_feature_1_unscaled: 0.6949 (0.7017)  loss_ce_2_unscaled: 0.6477 (0.6405)  loss_bbox_2_unscaled: 0.2584 (0.2641)  loss_giou_2_unscaled: 0.4792 (0.4820)  cardinality_error_2_unscaled: 6.0000 (6.7115)  loss_feature_2_unscaled: 0.6857 (0.6927)  loss_ce_3_unscaled: 0.6436 (0.6402)  loss_bbox_3_unscaled: 0.2515 (0.2609)  loss_giou_3_unscaled: 0.4773 (0.4828)  cardinality_error_3_unscaled: 3.4000 (5.8689)  loss_feature_3_unscaled: 0.6757 (0.6818)  loss_ce_4_unscaled: 0.6472 (0.6384)  loss_bbox_4_unscaled: 0.2531 (0.2599)  loss_giou_4_unscaled: 0.4674 (0.4816)  cardinality_error_4_unscaled: 3.6000 (3.5016)  loss_feature_4_unscaled: 0.6674 (0.6744)  time: 1.8622  data: 0.0048  max mem: 1340\n",
      "Epoch: [2]  [ 70/105]  eta: 0:01:01  lr: 0.000100  class_error: 100.00  loss: 21.3593 (21.7860)  loss_ce: 0.6486 (0.6447)  loss_bbox: 1.2745 (1.3002)  loss_giou: 0.9182 (0.9587)  loss_feature: 0.6374 (0.6674)  loss_ce_0: 0.6249 (0.6114)  loss_bbox_0: 1.3606 (1.4605)  loss_giou_0: 0.9647 (1.0030)  loss_feature_0: 0.6601 (0.6979)  loss_ce_1: 0.6274 (0.6311)  loss_bbox_1: 1.3201 (1.3547)  loss_giou_1: 0.9410 (0.9748)  loss_feature_1: 0.6656 (0.6981)  loss_ce_2: 0.6407 (0.6416)  loss_bbox_2: 1.3057 (1.3255)  loss_giou_2: 0.9321 (0.9607)  loss_feature_2: 0.6570 (0.6888)  loss_ce_3: 0.6534 (0.6413)  loss_bbox_3: 1.2831 (1.3104)  loss_giou_3: 0.9206 (0.9604)  loss_feature_3: 0.6500 (0.6783)  loss_ce_4: 0.6484 (0.6404)  loss_bbox_4: 1.2658 (1.3043)  loss_giou_4: 0.9233 (0.9611)  loss_feature_4: 0.6390 (0.6707)  loss_ce_unscaled: 0.6486 (0.6447)  class_error_unscaled: 92.0000 (91.1549)  loss_bbox_unscaled: 0.2549 (0.2600)  loss_giou_unscaled: 0.4591 (0.4794)  cardinality_error_unscaled: 3.0000 (3.9549)  loss_feature_unscaled: 0.6374 (0.6674)  loss_ce_0_unscaled: 0.6249 (0.6114)  loss_bbox_0_unscaled: 0.2721 (0.2921)  loss_giou_0_unscaled: 0.4823 (0.5015)  cardinality_error_0_unscaled: 3.0000 (4.4535)  loss_feature_0_unscaled: 0.6601 (0.6979)  loss_ce_1_unscaled: 0.6274 (0.6311)  loss_bbox_1_unscaled: 0.2640 (0.2709)  loss_giou_1_unscaled: 0.4705 (0.4874)  cardinality_error_1_unscaled: 7.8000 (6.7380)  loss_feature_1_unscaled: 0.6656 (0.6981)  loss_ce_2_unscaled: 0.6407 (0.6416)  loss_bbox_2_unscaled: 0.2611 (0.2651)  loss_giou_2_unscaled: 0.4661 (0.4804)  cardinality_error_2_unscaled: 3.8000 (6.1408)  loss_feature_2_unscaled: 0.6570 (0.6888)  loss_ce_3_unscaled: 0.6534 (0.6413)  loss_bbox_3_unscaled: 0.2566 (0.2621)  loss_giou_3_unscaled: 0.4603 (0.4802)  cardinality_error_3_unscaled: 3.6000 (5.4366)  loss_feature_3_unscaled: 0.6500 (0.6783)  loss_ce_4_unscaled: 0.6484 (0.6404)  loss_bbox_4_unscaled: 0.2532 (0.2609)  loss_giou_4_unscaled: 0.4616 (0.4806)  cardinality_error_4_unscaled: 2.6000 (3.3746)  loss_feature_4_unscaled: 0.6390 (0.6707)  time: 1.9176  data: 0.0051  max mem: 1340\n",
      "Epoch: [2]  [ 80/105]  eta: 0:00:44  lr: 0.000100  class_error: 96.00  loss: 21.5585 (21.7713)  loss_ce: 0.6306 (0.6425)  loss_bbox: 1.3054 (1.2995)  loss_giou: 0.9214 (0.9595)  loss_feature: 0.6593 (0.6681)  loss_ce_0: 0.6197 (0.6109)  loss_bbox_0: 1.3563 (1.4454)  loss_giou_0: 0.9620 (1.0030)  loss_feature_0: 0.6842 (0.6984)  loss_ce_1: 0.6311 (0.6320)  loss_bbox_1: 1.3615 (1.3566)  loss_giou_1: 0.9678 (0.9798)  loss_feature_1: 0.6896 (0.6992)  loss_ce_2: 0.6363 (0.6389)  loss_bbox_2: 1.3277 (1.3216)  loss_giou_2: 0.9321 (0.9627)  loss_feature_2: 0.6807 (0.6894)  loss_ce_3: 0.6320 (0.6389)  loss_bbox_3: 1.2881 (1.3102)  loss_giou_3: 0.9342 (0.9631)  loss_feature_3: 0.6715 (0.6788)  loss_ce_4: 0.6384 (0.6386)  loss_bbox_4: 1.2760 (1.3022)  loss_giou_4: 0.9319 (0.9609)  loss_feature_4: 0.6628 (0.6713)  loss_ce_unscaled: 0.6306 (0.6425)  class_error_unscaled: 96.0000 (92.0000)  loss_bbox_unscaled: 0.2611 (0.2599)  loss_giou_unscaled: 0.4607 (0.4797)  cardinality_error_unscaled: 3.2000 (3.9877)  loss_feature_unscaled: 0.6593 (0.6681)  loss_ce_0_unscaled: 0.6197 (0.6109)  loss_bbox_0_unscaled: 0.2713 (0.2891)  loss_giou_0_unscaled: 0.4810 (0.5015)  cardinality_error_0_unscaled: 6.0000 (5.1432)  loss_feature_0_unscaled: 0.6842 (0.6984)  loss_ce_1_unscaled: 0.6311 (0.6320)  loss_bbox_1_unscaled: 0.2723 (0.2713)  loss_giou_1_unscaled: 0.4839 (0.4899)  cardinality_error_1_unscaled: 7.2000 (7.5951)  loss_feature_1_unscaled: 0.6896 (0.6992)  loss_ce_2_unscaled: 0.6363 (0.6389)  loss_bbox_2_unscaled: 0.2655 (0.2643)  loss_giou_2_unscaled: 0.4661 (0.4813)  cardinality_error_2_unscaled: 2.6000 (5.6938)  loss_feature_2_unscaled: 0.6807 (0.6894)  loss_ce_3_unscaled: 0.6320 (0.6389)  loss_bbox_3_unscaled: 0.2576 (0.2620)  loss_giou_3_unscaled: 0.4671 (0.4816)  cardinality_error_3_unscaled: 2.4000 (5.1506)  loss_feature_3_unscaled: 0.6715 (0.6788)  loss_ce_4_unscaled: 0.6384 (0.6386)  loss_bbox_4_unscaled: 0.2552 (0.2604)  loss_giou_4_unscaled: 0.4659 (0.4804)  cardinality_error_4_unscaled: 2.8000 (3.4469)  loss_feature_4_unscaled: 0.6628 (0.6713)  time: 1.8825  data: 0.0049  max mem: 1340\n",
      "Epoch: [2]  [ 90/105]  eta: 0:00:26  lr: 0.000100  class_error: 96.00  loss: 21.2438 (21.7132)  loss_ce: 0.6267 (0.6413)  loss_bbox: 1.2855 (1.2995)  loss_giou: 0.9244 (0.9544)  loss_feature: 0.6783 (0.6671)  loss_ce_0: 0.5967 (0.6089)  loss_bbox_0: 1.3698 (1.4406)  loss_giou_0: 0.9686 (1.0033)  loss_feature_0: 0.7073 (0.6977)  loss_ce_1: 0.6301 (0.6309)  loss_bbox_1: 1.3210 (1.3487)  loss_giou_1: 0.9747 (0.9771)  loss_feature_1: 0.7082 (0.6984)  loss_ce_2: 0.6185 (0.6358)  loss_bbox_2: 1.2496 (1.3160)  loss_giou_2: 0.9232 (0.9579)  loss_feature_2: 0.6931 (0.6882)  loss_ce_3: 0.6218 (0.6370)  loss_bbox_3: 1.2615 (1.3082)  loss_giou_3: 0.9469 (0.9596)  loss_feature_3: 0.6820 (0.6776)  loss_ce_4: 0.6340 (0.6375)  loss_bbox_4: 1.2565 (1.2992)  loss_giou_4: 0.9307 (0.9581)  loss_feature_4: 0.6797 (0.6703)  loss_ce_unscaled: 0.6267 (0.6413)  class_error_unscaled: 96.0000 (90.4615)  loss_bbox_unscaled: 0.2571 (0.2599)  loss_giou_unscaled: 0.4622 (0.4772)  cardinality_error_unscaled: 4.8000 (4.4242)  loss_feature_unscaled: 0.6783 (0.6671)  loss_ce_0_unscaled: 0.5967 (0.6089)  loss_bbox_0_unscaled: 0.2740 (0.2881)  loss_giou_0_unscaled: 0.4843 (0.5016)  cardinality_error_0_unscaled: 3.2000 (4.8264)  loss_feature_0_unscaled: 0.7073 (0.6977)  loss_ce_1_unscaled: 0.6301 (0.6309)  loss_bbox_1_unscaled: 0.2642 (0.2697)  loss_giou_1_unscaled: 0.4873 (0.4885)  cardinality_error_1_unscaled: 3.0000 (7.0000)  loss_feature_1_unscaled: 0.7082 (0.6984)  loss_ce_2_unscaled: 0.6185 (0.6358)  loss_bbox_2_unscaled: 0.2499 (0.2632)  loss_giou_2_unscaled: 0.4616 (0.4790)  cardinality_error_2_unscaled: 3.0000 (5.5231)  loss_feature_2_unscaled: 0.6931 (0.6882)  loss_ce_3_unscaled: 0.6218 (0.6370)  loss_bbox_3_unscaled: 0.2523 (0.2616)  loss_giou_3_unscaled: 0.4734 (0.4798)  cardinality_error_3_unscaled: 2.8000 (5.4637)  loss_feature_3_unscaled: 0.6820 (0.6776)  loss_ce_4_unscaled: 0.6340 (0.6375)  loss_bbox_4_unscaled: 0.2513 (0.2598)  loss_giou_4_unscaled: 0.4653 (0.4790)  cardinality_error_4_unscaled: 4.6000 (4.0220)  loss_feature_4_unscaled: 0.6797 (0.6703)  time: 1.8929  data: 0.0047  max mem: 1340\n",
      "Epoch: [2]  [100/105]  eta: 0:00:08  lr: 0.000100  class_error: 92.00  loss: 20.8674 (21.5651)  loss_ce: 0.6377 (0.6414)  loss_bbox: 1.2437 (1.2901)  loss_giou: 0.8848 (0.9456)  loss_feature: 0.6370 (0.6633)  loss_ce_0: 0.6050 (0.6096)  loss_bbox_0: 1.2794 (1.4233)  loss_giou_0: 0.9063 (0.9930)  loss_feature_0: 0.6668 (0.6938)  loss_ce_1: 0.6222 (0.6305)  loss_bbox_1: 1.2402 (1.3337)  loss_giou_1: 0.9069 (0.9679)  loss_feature_1: 0.6715 (0.6945)  loss_ce_2: 0.6310 (0.6363)  loss_bbox_2: 1.2042 (1.3040)  loss_giou_2: 0.8644 (0.9496)  loss_feature_2: 0.6551 (0.6838)  loss_ce_3: 0.6403 (0.6381)  loss_bbox_3: 1.2214 (1.2985)  loss_giou_3: 0.8850 (0.9508)  loss_feature_3: 0.6435 (0.6734)  loss_ce_4: 0.6436 (0.6385)  loss_bbox_4: 1.2135 (1.2897)  loss_giou_4: 0.9006 (0.9494)  loss_feature_4: 0.6398 (0.6663)  loss_ce_unscaled: 0.6377 (0.6414)  class_error_unscaled: 92.0000 (91.1683)  loss_bbox_unscaled: 0.2487 (0.2580)  loss_giou_unscaled: 0.4424 (0.4728)  cardinality_error_unscaled: 3.6000 (4.3109)  loss_feature_unscaled: 0.6370 (0.6633)  loss_ce_0_unscaled: 0.6050 (0.6096)  loss_bbox_0_unscaled: 0.2559 (0.2847)  loss_giou_0_unscaled: 0.4531 (0.4965)  cardinality_error_0_unscaled: 3.0000 (4.9327)  loss_feature_0_unscaled: 0.6668 (0.6938)  loss_ce_1_unscaled: 0.6222 (0.6305)  loss_bbox_1_unscaled: 0.2480 (0.2667)  loss_giou_1_unscaled: 0.4535 (0.4839)  cardinality_error_1_unscaled: 3.0000 (6.8158)  loss_feature_1_unscaled: 0.6715 (0.6945)  loss_ce_2_unscaled: 0.6310 (0.6363)  loss_bbox_2_unscaled: 0.2408 (0.2608)  loss_giou_2_unscaled: 0.4322 (0.4748)  cardinality_error_2_unscaled: 4.8000 (5.5188)  loss_feature_2_unscaled: 0.6551 (0.6838)  loss_ce_3_unscaled: 0.6403 (0.6381)  loss_bbox_3_unscaled: 0.2443 (0.2597)  loss_giou_3_unscaled: 0.4425 (0.4754)  cardinality_error_3_unscaled: 3.2000 (5.2832)  loss_feature_3_unscaled: 0.6435 (0.6734)  loss_ce_4_unscaled: 0.6436 (0.6385)  loss_bbox_4_unscaled: 0.2427 (0.2579)  loss_giou_4_unscaled: 0.4503 (0.4747)  cardinality_error_4_unscaled: 3.0000 (3.8891)  loss_feature_4_unscaled: 0.6398 (0.6663)  time: 1.9153  data: 0.0050  max mem: 1340\n",
      "Epoch: [2]  [104/105]  eta: 0:00:01  lr: 0.000100  class_error: 88.00  loss: 20.6185 (21.5565)  loss_ce: 0.6528 (0.6416)  loss_bbox: 1.2285 (1.2909)  loss_giou: 0.8958 (0.9471)  loss_feature: 0.6357 (0.6624)  loss_ce_0: 0.6117 (0.6110)  loss_bbox_0: 1.2560 (1.4213)  loss_giou_0: 0.9063 (0.9921)  loss_feature_0: 0.6635 (0.6929)  loss_ce_1: 0.6229 (0.6306)  loss_bbox_1: 1.2402 (1.3327)  loss_giou_1: 0.9069 (0.9673)  loss_feature_1: 0.6639 (0.6935)  loss_ce_2: 0.6430 (0.6376)  loss_bbox_2: 1.2042 (1.3020)  loss_giou_2: 0.8627 (0.9494)  loss_feature_2: 0.6511 (0.6827)  loss_ce_3: 0.6473 (0.6389)  loss_bbox_3: 1.2081 (1.2971)  loss_giou_3: 0.8850 (0.9501)  loss_feature_3: 0.6422 (0.6725)  loss_ce_4: 0.6486 (0.6391)  loss_bbox_4: 1.1949 (1.2886)  loss_giou_4: 0.9006 (0.9501)  loss_feature_4: 0.6395 (0.6654)  loss_ce_unscaled: 0.6528 (0.6416)  class_error_unscaled: 92.0000 (91.0857)  loss_bbox_unscaled: 0.2457 (0.2582)  loss_giou_unscaled: 0.4479 (0.4735)  cardinality_error_unscaled: 3.6000 (4.2610)  loss_feature_unscaled: 0.6357 (0.6624)  loss_ce_0_unscaled: 0.6117 (0.6110)  loss_bbox_0_unscaled: 0.2512 (0.2843)  loss_giou_0_unscaled: 0.4531 (0.4960)  cardinality_error_0_unscaled: 4.6000 (4.9181)  loss_feature_0_unscaled: 0.6635 (0.6929)  loss_ce_1_unscaled: 0.6229 (0.6306)  loss_bbox_1_unscaled: 0.2480 (0.2665)  loss_giou_1_unscaled: 0.4535 (0.4836)  cardinality_error_1_unscaled: 4.4000 (6.8362)  loss_feature_1_unscaled: 0.6639 (0.6935)  loss_ce_2_unscaled: 0.6430 (0.6376)  loss_bbox_2_unscaled: 0.2408 (0.2604)  loss_giou_2_unscaled: 0.4314 (0.4747)  cardinality_error_2_unscaled: 5.8000 (5.6514)  loss_feature_2_unscaled: 0.6511 (0.6827)  loss_ce_3_unscaled: 0.6473 (0.6389)  loss_bbox_3_unscaled: 0.2416 (0.2594)  loss_giou_3_unscaled: 0.4425 (0.4750)  cardinality_error_3_unscaled: 4.4000 (5.2267)  loss_feature_3_unscaled: 0.6422 (0.6725)  loss_ce_4_unscaled: 0.6486 (0.6391)  loss_bbox_4_unscaled: 0.2390 (0.2577)  loss_giou_4_unscaled: 0.4503 (0.4751)  cardinality_error_4_unscaled: 3.2000 (3.8686)  loss_feature_4_unscaled: 0.6395 (0.6654)  time: 1.8844  data: 0.0050  max mem: 1340\n",
      "Epoch: [2] Total time: 0:03:08 (1.7924 s / it)\n",
      "Averaged stats: lr: 0.000100  class_error: 88.00  loss: 20.6185 (21.5565)  loss_ce: 0.6528 (0.6416)  loss_bbox: 1.2285 (1.2909)  loss_giou: 0.8958 (0.9471)  loss_feature: 0.6357 (0.6624)  loss_ce_0: 0.6117 (0.6110)  loss_bbox_0: 1.2560 (1.4213)  loss_giou_0: 0.9063 (0.9921)  loss_feature_0: 0.6635 (0.6929)  loss_ce_1: 0.6229 (0.6306)  loss_bbox_1: 1.2402 (1.3327)  loss_giou_1: 0.9069 (0.9673)  loss_feature_1: 0.6639 (0.6935)  loss_ce_2: 0.6430 (0.6376)  loss_bbox_2: 1.2042 (1.3020)  loss_giou_2: 0.8627 (0.9494)  loss_feature_2: 0.6511 (0.6827)  loss_ce_3: 0.6473 (0.6389)  loss_bbox_3: 1.2081 (1.2971)  loss_giou_3: 0.8850 (0.9501)  loss_feature_3: 0.6422 (0.6725)  loss_ce_4: 0.6486 (0.6391)  loss_bbox_4: 1.1949 (1.2886)  loss_giou_4: 0.9006 (0.9501)  loss_feature_4: 0.6395 (0.6654)  loss_ce_unscaled: 0.6528 (0.6416)  class_error_unscaled: 92.0000 (91.0857)  loss_bbox_unscaled: 0.2457 (0.2582)  loss_giou_unscaled: 0.4479 (0.4735)  cardinality_error_unscaled: 3.6000 (4.2610)  loss_feature_unscaled: 0.6357 (0.6624)  loss_ce_0_unscaled: 0.6117 (0.6110)  loss_bbox_0_unscaled: 0.2512 (0.2843)  loss_giou_0_unscaled: 0.4531 (0.4960)  cardinality_error_0_unscaled: 4.6000 (4.9181)  loss_feature_0_unscaled: 0.6635 (0.6929)  loss_ce_1_unscaled: 0.6229 (0.6306)  loss_bbox_1_unscaled: 0.2480 (0.2665)  loss_giou_1_unscaled: 0.4535 (0.4836)  cardinality_error_1_unscaled: 4.4000 (6.8362)  loss_feature_1_unscaled: 0.6639 (0.6935)  loss_ce_2_unscaled: 0.6430 (0.6376)  loss_bbox_2_unscaled: 0.2408 (0.2604)  loss_giou_2_unscaled: 0.4314 (0.4747)  cardinality_error_2_unscaled: 5.8000 (5.6514)  loss_feature_2_unscaled: 0.6511 (0.6827)  loss_ce_3_unscaled: 0.6473 (0.6389)  loss_bbox_3_unscaled: 0.2416 (0.2594)  loss_giou_3_unscaled: 0.4425 (0.4750)  cardinality_error_3_unscaled: 4.4000 (5.2267)  loss_feature_3_unscaled: 0.6422 (0.6725)  loss_ce_4_unscaled: 0.6486 (0.6391)  loss_bbox_4_unscaled: 0.2390 (0.2577)  loss_giou_4_unscaled: 0.4503 (0.4751)  cardinality_error_4_unscaled: 3.2000 (3.8686)  loss_feature_4_unscaled: 0.6395 (0.6654)\n",
      "Epoch: [3]  [  0/105]  eta: 0:07:10  lr: 0.000100  class_error: 84.00  loss: 19.6112 (19.6112)  loss_ce: 0.6300 (0.6300)  loss_bbox: 1.1106 (1.1106)  loss_giou: 0.8584 (0.8584)  loss_feature: 0.6704 (0.6704)  loss_ce_0: 0.6252 (0.6252)  loss_bbox_0: 1.1711 (1.1711)  loss_giou_0: 0.8803 (0.8803)  loss_feature_0: 0.7036 (0.7036)  loss_ce_1: 0.6447 (0.6447)  loss_bbox_1: 1.1618 (1.1618)  loss_giou_1: 0.7661 (0.7661)  loss_feature_1: 0.6978 (0.6978)  loss_ce_2: 0.6400 (0.6400)  loss_bbox_2: 1.1588 (1.1588)  loss_giou_2: 0.8268 (0.8268)  loss_feature_2: 0.6846 (0.6846)  loss_ce_3: 0.6394 (0.6394)  loss_bbox_3: 1.1157 (1.1157)  loss_giou_3: 0.7690 (0.7690)  loss_feature_3: 0.6780 (0.6780)  loss_ce_4: 0.6387 (0.6387)  loss_bbox_4: 1.0638 (1.0638)  loss_giou_4: 0.8042 (0.8042)  loss_feature_4: 0.6721 (0.6721)  loss_ce_unscaled: 0.6300 (0.6300)  class_error_unscaled: 84.0000 (84.0000)  loss_bbox_unscaled: 0.2221 (0.2221)  loss_giou_unscaled: 0.4292 (0.4292)  cardinality_error_unscaled: 3.8000 (3.8000)  loss_feature_unscaled: 0.6704 (0.6704)  loss_ce_0_unscaled: 0.6252 (0.6252)  loss_bbox_0_unscaled: 0.2342 (0.2342)  loss_giou_0_unscaled: 0.4401 (0.4401)  cardinality_error_0_unscaled: 4.2000 (4.2000)  loss_feature_0_unscaled: 0.7036 (0.7036)  loss_ce_1_unscaled: 0.6447 (0.6447)  loss_bbox_1_unscaled: 0.2324 (0.2324)  loss_giou_1_unscaled: 0.3830 (0.3830)  cardinality_error_1_unscaled: 7.0000 (7.0000)  loss_feature_1_unscaled: 0.6978 (0.6978)  loss_ce_2_unscaled: 0.6400 (0.6400)  loss_bbox_2_unscaled: 0.2318 (0.2318)  loss_giou_2_unscaled: 0.4134 (0.4134)  cardinality_error_2_unscaled: 6.8000 (6.8000)  loss_feature_2_unscaled: 0.6846 (0.6846)  loss_ce_3_unscaled: 0.6394 (0.6394)  loss_bbox_3_unscaled: 0.2231 (0.2231)  loss_giou_3_unscaled: 0.3845 (0.3845)  cardinality_error_3_unscaled: 2.4000 (2.4000)  loss_feature_3_unscaled: 0.6780 (0.6780)  loss_ce_4_unscaled: 0.6387 (0.6387)  loss_bbox_4_unscaled: 0.2128 (0.2128)  loss_giou_4_unscaled: 0.4021 (0.4021)  cardinality_error_4_unscaled: 3.0000 (3.0000)  loss_feature_4_unscaled: 0.6721 (0.6721)  time: 4.1013  data: 2.1059  max mem: 1340\n",
      "Epoch: [3]  [ 10/105]  eta: 0:03:24  lr: 0.000100  class_error: 100.00  loss: 21.0357 (20.8691)  loss_ce: 0.6383 (0.6429)  loss_bbox: 1.1995 (1.2018)  loss_giou: 0.8979 (0.9011)  loss_feature: 0.6666 (0.6598)  loss_ce_0: 0.6162 (0.6113)  loss_bbox_0: 1.4259 (1.4035)  loss_giou_0: 0.9701 (0.9776)  loss_feature_0: 0.6916 (0.6857)  loss_ce_1: 0.6447 (0.6392)  loss_bbox_1: 1.2952 (1.2719)  loss_giou_1: 0.9644 (0.9198)  loss_feature_1: 0.6873 (0.6847)  loss_ce_2: 0.6403 (0.6385)  loss_bbox_2: 1.2153 (1.2238)  loss_giou_2: 0.9022 (0.8976)  loss_feature_2: 0.6832 (0.6745)  loss_ce_3: 0.6399 (0.6400)  loss_bbox_3: 1.2439 (1.2197)  loss_giou_3: 0.9056 (0.8946)  loss_feature_3: 0.6768 (0.6679)  loss_ce_4: 0.6511 (0.6436)  loss_bbox_4: 1.1994 (1.2060)  loss_giou_4: 0.9201 (0.9015)  loss_feature_4: 0.6698 (0.6624)  loss_ce_unscaled: 0.6383 (0.6429)  class_error_unscaled: 100.0000 (96.0000)  loss_bbox_unscaled: 0.2399 (0.2404)  loss_giou_unscaled: 0.4490 (0.4505)  cardinality_error_unscaled: 2.6000 (2.9818)  loss_feature_unscaled: 0.6666 (0.6598)  loss_ce_0_unscaled: 0.6162 (0.6113)  loss_bbox_0_unscaled: 0.2852 (0.2807)  loss_giou_0_unscaled: 0.4850 (0.4888)  cardinality_error_0_unscaled: 3.2000 (3.6545)  loss_feature_0_unscaled: 0.6916 (0.6857)  loss_ce_1_unscaled: 0.6447 (0.6392)  loss_bbox_1_unscaled: 0.2590 (0.2544)  loss_giou_1_unscaled: 0.4822 (0.4599)  cardinality_error_1_unscaled: 7.0000 (9.6182)  loss_feature_1_unscaled: 0.6873 (0.6847)  loss_ce_2_unscaled: 0.6403 (0.6385)  loss_bbox_2_unscaled: 0.2431 (0.2448)  loss_giou_2_unscaled: 0.4511 (0.4488)  cardinality_error_2_unscaled: 3.2000 (3.8727)  loss_feature_2_unscaled: 0.6832 (0.6745)  loss_ce_3_unscaled: 0.6399 (0.6400)  loss_bbox_3_unscaled: 0.2488 (0.2439)  loss_giou_3_unscaled: 0.4528 (0.4473)  cardinality_error_3_unscaled: 2.4000 (2.5818)  loss_feature_3_unscaled: 0.6768 (0.6679)  loss_ce_4_unscaled: 0.6511 (0.6436)  loss_bbox_4_unscaled: 0.2399 (0.2412)  loss_giou_4_unscaled: 0.4600 (0.4508)  cardinality_error_4_unscaled: 3.0000 (2.8727)  loss_feature_4_unscaled: 0.6698 (0.6624)  time: 2.1560  data: 0.1958  max mem: 1340\n",
      "Epoch: [3]  [ 20/105]  eta: 0:02:46  lr: 0.000100  class_error: 92.00  loss: 21.0357 (21.0478)  loss_ce: 0.6365 (0.6383)  loss_bbox: 1.2272 (1.2283)  loss_giou: 0.9254 (0.9181)  loss_feature: 0.6629 (0.6602)  loss_ce_0: 0.5960 (0.6063)  loss_bbox_0: 1.4235 (1.4002)  loss_giou_0: 0.9955 (0.9732)  loss_feature_0: 0.6898 (0.6851)  loss_ce_1: 0.6457 (0.6444)  loss_bbox_1: 1.2952 (1.2904)  loss_giou_1: 0.9792 (0.9421)  loss_feature_1: 0.6869 (0.6842)  loss_ce_2: 0.6436 (0.6446)  loss_bbox_2: 1.2420 (1.2482)  loss_giou_2: 0.9022 (0.9227)  loss_feature_2: 0.6769 (0.6745)  loss_ce_3: 0.6341 (0.6383)  loss_bbox_3: 1.2439 (1.2291)  loss_giou_3: 0.9159 (0.9121)  loss_feature_3: 0.6688 (0.6680)  loss_ce_4: 0.6378 (0.6388)  loss_bbox_4: 1.2429 (1.2211)  loss_giou_4: 0.9260 (0.9171)  loss_feature_4: 0.6646 (0.6625)  loss_ce_unscaled: 0.6365 (0.6383)  class_error_unscaled: 92.0000 (92.5714)  loss_bbox_unscaled: 0.2454 (0.2457)  loss_giou_unscaled: 0.4627 (0.4591)  cardinality_error_unscaled: 3.0000 (3.1238)  loss_feature_unscaled: 0.6629 (0.6602)  loss_ce_0_unscaled: 0.5960 (0.6063)  loss_bbox_0_unscaled: 0.2847 (0.2800)  loss_giou_0_unscaled: 0.4977 (0.4866)  cardinality_error_0_unscaled: 3.0000 (3.8286)  loss_feature_0_unscaled: 0.6898 (0.6851)  loss_ce_1_unscaled: 0.6457 (0.6444)  loss_bbox_1_unscaled: 0.2590 (0.2581)  loss_giou_1_unscaled: 0.4896 (0.4711)  cardinality_error_1_unscaled: 5.8000 (9.4095)  loss_feature_1_unscaled: 0.6869 (0.6842)  loss_ce_2_unscaled: 0.6436 (0.6446)  loss_bbox_2_unscaled: 0.2484 (0.2496)  loss_giou_2_unscaled: 0.4511 (0.4614)  cardinality_error_2_unscaled: 3.0000 (3.8857)  loss_feature_2_unscaled: 0.6769 (0.6745)  loss_ce_3_unscaled: 0.6341 (0.6383)  loss_bbox_3_unscaled: 0.2488 (0.2458)  loss_giou_3_unscaled: 0.4580 (0.4561)  cardinality_error_3_unscaled: 2.6000 (3.0952)  loss_feature_3_unscaled: 0.6688 (0.6680)  loss_ce_4_unscaled: 0.6378 (0.6388)  loss_bbox_4_unscaled: 0.2486 (0.2442)  loss_giou_4_unscaled: 0.4630 (0.4586)  cardinality_error_4_unscaled: 3.2000 (2.8762)  loss_feature_4_unscaled: 0.6646 (0.6625)  time: 1.8533  data: 0.0048  max mem: 1340\n",
      "Epoch: [3]  [ 30/105]  eta: 0:02:24  lr: 0.000100  class_error: 96.00  loss: 20.8997 (21.0055)  loss_ce: 0.6354 (0.6372)  loss_bbox: 1.2474 (1.2297)  loss_giou: 0.9320 (0.9178)  loss_feature: 0.6572 (0.6568)  loss_ce_0: 0.5920 (0.6072)  loss_bbox_0: 1.4054 (1.3904)  loss_giou_0: 0.9690 (0.9720)  loss_feature_0: 0.6784 (0.6817)  loss_ce_1: 0.6457 (0.6435)  loss_bbox_1: 1.2854 (1.2798)  loss_giou_1: 0.9250 (0.9322)  loss_feature_1: 0.6784 (0.6793)  loss_ce_2: 0.6447 (0.6469)  loss_bbox_2: 1.2420 (1.2545)  loss_giou_2: 0.9032 (0.9247)  loss_feature_2: 0.6689 (0.6702)  loss_ce_3: 0.6318 (0.6387)  loss_bbox_3: 1.1927 (1.2326)  loss_giou_3: 0.9092 (0.9139)  loss_feature_3: 0.6644 (0.6639)  loss_ce_4: 0.6330 (0.6384)  loss_bbox_4: 1.2289 (1.2226)  loss_giou_4: 0.9258 (0.9126)  loss_feature_4: 0.6585 (0.6589)  loss_ce_unscaled: 0.6354 (0.6372)  class_error_unscaled: 92.0000 (93.1613)  loss_bbox_unscaled: 0.2495 (0.2459)  loss_giou_unscaled: 0.4660 (0.4589)  cardinality_error_unscaled: 2.6000 (2.7935)  loss_feature_unscaled: 0.6572 (0.6568)  loss_ce_0_unscaled: 0.5920 (0.6072)  loss_bbox_0_unscaled: 0.2811 (0.2781)  loss_giou_0_unscaled: 0.4845 (0.4860)  cardinality_error_0_unscaled: 2.4000 (3.6581)  loss_feature_0_unscaled: 0.6784 (0.6817)  loss_ce_1_unscaled: 0.6457 (0.6435)  loss_bbox_1_unscaled: 0.2571 (0.2560)  loss_giou_1_unscaled: 0.4625 (0.4661)  cardinality_error_1_unscaled: 5.0000 (7.3935)  loss_feature_1_unscaled: 0.6784 (0.6793)  loss_ce_2_unscaled: 0.6447 (0.6469)  loss_bbox_2_unscaled: 0.2484 (0.2509)  loss_giou_2_unscaled: 0.4516 (0.4624)  cardinality_error_2_unscaled: 3.0000 (3.6129)  loss_feature_2_unscaled: 0.6689 (0.6702)  loss_ce_3_unscaled: 0.6318 (0.6387)  loss_bbox_3_unscaled: 0.2385 (0.2465)  loss_giou_3_unscaled: 0.4546 (0.4570)  cardinality_error_3_unscaled: 2.4000 (2.9226)  loss_feature_3_unscaled: 0.6644 (0.6639)  loss_ce_4_unscaled: 0.6330 (0.6384)  loss_bbox_4_unscaled: 0.2458 (0.2445)  loss_giou_4_unscaled: 0.4629 (0.4563)  cardinality_error_4_unscaled: 2.4000 (2.6452)  loss_feature_4_unscaled: 0.6585 (0.6589)  time: 1.8042  data: 0.0048  max mem: 1340\n",
      "Epoch: [3]  [ 40/105]  eta: 0:02:02  lr: 0.000100  class_error: 100.00  loss: 20.5392 (20.8655)  loss_ce: 0.6236 (0.6317)  loss_bbox: 1.2043 (1.2343)  loss_giou: 0.8981 (0.9135)  loss_feature: 0.6402 (0.6503)  loss_ce_0: 0.6195 (0.6104)  loss_bbox_0: 1.3131 (1.3680)  loss_giou_0: 0.9412 (0.9516)  loss_feature_0: 0.6640 (0.6752)  loss_ce_1: 0.6234 (0.6382)  loss_bbox_1: 1.2737 (1.2741)  loss_giou_1: 0.8883 (0.9223)  loss_feature_1: 0.6591 (0.6727)  loss_ce_2: 0.6393 (0.6444)  loss_bbox_2: 1.1823 (1.2426)  loss_giou_2: 0.8896 (0.9114)  loss_feature_2: 0.6510 (0.6634)  loss_ce_3: 0.6198 (0.6336)  loss_bbox_3: 1.1927 (1.2378)  loss_giou_3: 0.8856 (0.9101)  loss_feature_3: 0.6450 (0.6568)  loss_ce_4: 0.6183 (0.6336)  loss_bbox_4: 1.2128 (1.2299)  loss_giou_4: 0.8758 (0.9073)  loss_feature_4: 0.6411 (0.6523)  loss_ce_unscaled: 0.6236 (0.6317)  class_error_unscaled: 96.0000 (92.0976)  loss_bbox_unscaled: 0.2409 (0.2469)  loss_giou_unscaled: 0.4491 (0.4567)  cardinality_error_unscaled: 2.0000 (2.6488)  loss_feature_unscaled: 0.6402 (0.6503)  loss_ce_0_unscaled: 0.6195 (0.6104)  loss_bbox_0_unscaled: 0.2626 (0.2736)  loss_giou_0_unscaled: 0.4706 (0.4758)  cardinality_error_0_unscaled: 3.0000 (4.0098)  loss_feature_0_unscaled: 0.6640 (0.6752)  loss_ce_1_unscaled: 0.6234 (0.6382)  loss_bbox_1_unscaled: 0.2547 (0.2548)  loss_giou_1_unscaled: 0.4442 (0.4611)  cardinality_error_1_unscaled: 4.6000 (6.8049)  loss_feature_1_unscaled: 0.6591 (0.6727)  loss_ce_2_unscaled: 0.6393 (0.6444)  loss_bbox_2_unscaled: 0.2365 (0.2485)  loss_giou_2_unscaled: 0.4448 (0.4557)  cardinality_error_2_unscaled: 2.0000 (3.3024)  loss_feature_2_unscaled: 0.6510 (0.6634)  loss_ce_3_unscaled: 0.6198 (0.6336)  loss_bbox_3_unscaled: 0.2385 (0.2476)  loss_giou_3_unscaled: 0.4428 (0.4550)  cardinality_error_3_unscaled: 2.0000 (2.7024)  loss_feature_3_unscaled: 0.6450 (0.6568)  loss_ce_4_unscaled: 0.6183 (0.6336)  loss_bbox_4_unscaled: 0.2426 (0.2460)  loss_giou_4_unscaled: 0.4379 (0.4537)  cardinality_error_4_unscaled: 1.8000 (2.4829)  loss_feature_4_unscaled: 0.6411 (0.6523)  time: 1.8026  data: 0.0049  max mem: 1340\n",
      "Epoch: [3]  [ 50/105]  eta: 0:01:42  lr: 0.000100  class_error: 96.00  loss: 21.1267 (20.9613)  loss_ce: 0.6319 (0.6339)  loss_bbox: 1.2389 (1.2473)  loss_giou: 0.9073 (0.9245)  loss_feature: 0.6289 (0.6480)  loss_ce_0: 0.6241 (0.6115)  loss_bbox_0: 1.2737 (1.3649)  loss_giou_0: 0.9179 (0.9525)  loss_feature_0: 0.6503 (0.6725)  loss_ce_1: 0.6254 (0.6373)  loss_bbox_1: 1.3031 (1.2842)  loss_giou_1: 0.8883 (0.9282)  loss_feature_1: 0.6551 (0.6702)  loss_ce_2: 0.6424 (0.6448)  loss_bbox_2: 1.2357 (1.2554)  loss_giou_2: 0.8809 (0.9186)  loss_feature_2: 0.6415 (0.6612)  loss_ce_3: 0.6253 (0.6353)  loss_bbox_3: 1.2641 (1.2496)  loss_giou_3: 0.9186 (0.9200)  loss_feature_3: 0.6348 (0.6544)  loss_ce_4: 0.6201 (0.6366)  loss_bbox_4: 1.2427 (1.2443)  loss_giou_4: 0.8748 (0.9165)  loss_feature_4: 0.6288 (0.6499)  loss_ce_unscaled: 0.6319 (0.6339)  class_error_unscaled: 92.0000 (92.3137)  loss_bbox_unscaled: 0.2478 (0.2495)  loss_giou_unscaled: 0.4536 (0.4622)  cardinality_error_unscaled: 2.2000 (2.5725)  loss_feature_unscaled: 0.6289 (0.6480)  loss_ce_0_unscaled: 0.6241 (0.6115)  loss_bbox_0_unscaled: 0.2547 (0.2730)  loss_giou_0_unscaled: 0.4590 (0.4763)  cardinality_error_0_unscaled: 4.0000 (4.0471)  loss_feature_0_unscaled: 0.6503 (0.6725)  loss_ce_1_unscaled: 0.6254 (0.6373)  loss_bbox_1_unscaled: 0.2606 (0.2568)  loss_giou_1_unscaled: 0.4442 (0.4641)  cardinality_error_1_unscaled: 4.8000 (6.6000)  loss_feature_1_unscaled: 0.6551 (0.6702)  loss_ce_2_unscaled: 0.6424 (0.6448)  loss_bbox_2_unscaled: 0.2471 (0.2511)  loss_giou_2_unscaled: 0.4405 (0.4593)  cardinality_error_2_unscaled: 2.0000 (3.0549)  loss_feature_2_unscaled: 0.6415 (0.6612)  loss_ce_3_unscaled: 0.6253 (0.6353)  loss_bbox_3_unscaled: 0.2528 (0.2499)  loss_giou_3_unscaled: 0.4593 (0.4600)  cardinality_error_3_unscaled: 2.2000 (2.6667)  loss_feature_3_unscaled: 0.6348 (0.6544)  loss_ce_4_unscaled: 0.6201 (0.6366)  loss_bbox_4_unscaled: 0.2485 (0.2489)  loss_giou_4_unscaled: 0.4374 (0.4583)  cardinality_error_4_unscaled: 1.8000 (2.3922)  loss_feature_4_unscaled: 0.6288 (0.6499)  time: 1.7760  data: 0.0049  max mem: 1340\n",
      "Epoch: [3]  [ 60/105]  eta: 0:01:24  lr: 0.000100  class_error: 88.00  loss: 21.2392 (20.8972)  loss_ce: 0.6383 (0.6338)  loss_bbox: 1.2389 (1.2427)  loss_giou: 0.9342 (0.9195)  loss_feature: 0.6481 (0.6516)  loss_ce_0: 0.6175 (0.6107)  loss_bbox_0: 1.3697 (1.3580)  loss_giou_0: 0.9839 (0.9506)  loss_feature_0: 0.6684 (0.6756)  loss_ce_1: 0.6372 (0.6365)  loss_bbox_1: 1.2353 (1.2742)  loss_giou_1: 0.9250 (0.9250)  loss_feature_1: 0.6665 (0.6735)  loss_ce_2: 0.6462 (0.6448)  loss_bbox_2: 1.2220 (1.2425)  loss_giou_2: 0.9399 (0.9148)  loss_feature_2: 0.6582 (0.6645)  loss_ce_3: 0.6435 (0.6367)  loss_bbox_3: 1.2629 (1.2384)  loss_giou_3: 0.9191 (0.9130)  loss_feature_3: 0.6518 (0.6577)  loss_ce_4: 0.6446 (0.6364)  loss_bbox_4: 1.2396 (1.2341)  loss_giou_4: 0.9203 (0.9094)  loss_feature_4: 0.6487 (0.6534)  loss_ce_unscaled: 0.6383 (0.6338)  class_error_unscaled: 92.0000 (91.4098)  loss_bbox_unscaled: 0.2478 (0.2485)  loss_giou_unscaled: 0.4671 (0.4597)  cardinality_error_unscaled: 2.2000 (2.6098)  loss_feature_unscaled: 0.6481 (0.6516)  loss_ce_0_unscaled: 0.6175 (0.6107)  loss_bbox_0_unscaled: 0.2739 (0.2716)  loss_giou_0_unscaled: 0.4919 (0.4753)  cardinality_error_0_unscaled: 4.0000 (4.0820)  loss_feature_0_unscaled: 0.6684 (0.6756)  loss_ce_1_unscaled: 0.6372 (0.6365)  loss_bbox_1_unscaled: 0.2471 (0.2548)  loss_giou_1_unscaled: 0.4625 (0.4625)  cardinality_error_1_unscaled: 5.2000 (6.3770)  loss_feature_1_unscaled: 0.6665 (0.6735)  loss_ce_2_unscaled: 0.6462 (0.6448)  loss_bbox_2_unscaled: 0.2444 (0.2485)  loss_giou_2_unscaled: 0.4700 (0.4574)  cardinality_error_2_unscaled: 2.4000 (3.1016)  loss_feature_2_unscaled: 0.6582 (0.6645)  loss_ce_3_unscaled: 0.6435 (0.6367)  loss_bbox_3_unscaled: 0.2526 (0.2477)  loss_giou_3_unscaled: 0.4595 (0.4565)  cardinality_error_3_unscaled: 2.8000 (2.9246)  loss_feature_3_unscaled: 0.6518 (0.6577)  loss_ce_4_unscaled: 0.6446 (0.6364)  loss_bbox_4_unscaled: 0.2479 (0.2468)  loss_giou_4_unscaled: 0.4602 (0.4547)  cardinality_error_4_unscaled: 2.0000 (2.4066)  loss_feature_4_unscaled: 0.6487 (0.6534)  time: 1.8493  data: 0.0047  max mem: 1340\n",
      "Epoch: [3]  [ 70/105]  eta: 0:01:05  lr: 0.000100  class_error: 96.00  loss: 20.7120 (20.9240)  loss_ce: 0.6286 (0.6324)  loss_bbox: 1.1956 (1.2479)  loss_giou: 0.8879 (0.9220)  loss_feature: 0.6455 (0.6494)  loss_ce_0: 0.6121 (0.6126)  loss_bbox_0: 1.3697 (1.3665)  loss_giou_0: 1.0012 (0.9551)  loss_feature_0: 0.6684 (0.6733)  loss_ce_1: 0.6300 (0.6353)  loss_bbox_1: 1.2353 (1.2794)  loss_giou_1: 0.9276 (0.9276)  loss_feature_1: 0.6610 (0.6708)  loss_ce_2: 0.6462 (0.6440)  loss_bbox_2: 1.1699 (1.2434)  loss_giou_2: 0.9252 (0.9179)  loss_feature_2: 0.6535 (0.6620)  loss_ce_3: 0.6402 (0.6360)  loss_bbox_3: 1.1475 (1.2420)  loss_giou_3: 0.8909 (0.9145)  loss_feature_3: 0.6476 (0.6552)  loss_ce_4: 0.6374 (0.6356)  loss_bbox_4: 1.1613 (1.2386)  loss_giou_4: 0.8917 (0.9112)  loss_feature_4: 0.6462 (0.6511)  loss_ce_unscaled: 0.6286 (0.6324)  class_error_unscaled: 92.0000 (92.0563)  loss_bbox_unscaled: 0.2391 (0.2496)  loss_giou_unscaled: 0.4439 (0.4610)  cardinality_error_unscaled: 3.2000 (2.7239)  loss_feature_unscaled: 0.6455 (0.6494)  loss_ce_0_unscaled: 0.6121 (0.6126)  loss_bbox_0_unscaled: 0.2739 (0.2733)  loss_giou_0_unscaled: 0.5006 (0.4776)  cardinality_error_0_unscaled: 4.4000 (4.2479)  loss_feature_0_unscaled: 0.6684 (0.6733)  loss_ce_1_unscaled: 0.6300 (0.6353)  loss_bbox_1_unscaled: 0.2471 (0.2559)  loss_giou_1_unscaled: 0.4638 (0.4638)  cardinality_error_1_unscaled: 3.4000 (5.7944)  loss_feature_1_unscaled: 0.6610 (0.6708)  loss_ce_2_unscaled: 0.6462 (0.6440)  loss_bbox_2_unscaled: 0.2340 (0.2487)  loss_giou_2_unscaled: 0.4626 (0.4589)  cardinality_error_2_unscaled: 2.6000 (2.9859)  loss_feature_2_unscaled: 0.6535 (0.6620)  loss_ce_3_unscaled: 0.6402 (0.6360)  loss_bbox_3_unscaled: 0.2295 (0.2484)  loss_giou_3_unscaled: 0.4454 (0.4573)  cardinality_error_3_unscaled: 2.8000 (2.8366)  loss_feature_3_unscaled: 0.6476 (0.6552)  loss_ce_4_unscaled: 0.6374 (0.6356)  loss_bbox_4_unscaled: 0.2323 (0.2477)  loss_giou_4_unscaled: 0.4458 (0.4556)  cardinality_error_4_unscaled: 3.2000 (2.5549)  loss_feature_4_unscaled: 0.6462 (0.6511)  time: 1.8690  data: 0.0047  max mem: 1340\n",
      "Epoch: [3]  [ 80/105]  eta: 0:00:46  lr: 0.000100  class_error: 100.00  loss: 19.9474 (20.8196)  loss_ce: 0.6292 (0.6337)  loss_bbox: 1.1687 (1.2397)  loss_giou: 0.8759 (0.9172)  loss_feature: 0.6268 (0.6463)  loss_ce_0: 0.6391 (0.6171)  loss_bbox_0: 1.2973 (1.3573)  loss_giou_0: 0.9186 (0.9487)  loss_feature_0: 0.6522 (0.6696)  loss_ce_1: 0.6372 (0.6374)  loss_bbox_1: 1.2107 (1.2682)  loss_giou_1: 0.9276 (0.9216)  loss_feature_1: 0.6469 (0.6670)  loss_ce_2: 0.6428 (0.6451)  loss_bbox_2: 1.1179 (1.2315)  loss_giou_2: 0.8831 (0.9132)  loss_feature_2: 0.6384 (0.6585)  loss_ce_3: 0.6458 (0.6383)  loss_bbox_3: 1.1475 (1.2289)  loss_giou_3: 0.8782 (0.9092)  loss_feature_3: 0.6320 (0.6521)  loss_ce_4: 0.6374 (0.6366)  loss_bbox_4: 1.1535 (1.2292)  loss_giou_4: 0.8748 (0.9054)  loss_feature_4: 0.6287 (0.6479)  loss_ce_unscaled: 0.6292 (0.6337)  class_error_unscaled: 96.0000 (92.0000)  loss_bbox_unscaled: 0.2337 (0.2479)  loss_giou_unscaled: 0.4380 (0.4586)  cardinality_error_unscaled: 3.0000 (2.6840)  loss_feature_unscaled: 0.6268 (0.6463)  loss_ce_0_unscaled: 0.6391 (0.6171)  loss_bbox_0_unscaled: 0.2595 (0.2715)  loss_giou_0_unscaled: 0.4593 (0.4743)  cardinality_error_0_unscaled: 7.6000 (4.8099)  loss_feature_0_unscaled: 0.6522 (0.6696)  loss_ce_1_unscaled: 0.6372 (0.6374)  loss_bbox_1_unscaled: 0.2421 (0.2536)  loss_giou_1_unscaled: 0.4638 (0.4608)  cardinality_error_1_unscaled: 3.2000 (5.7185)  loss_feature_1_unscaled: 0.6469 (0.6670)  loss_ce_2_unscaled: 0.6428 (0.6451)  loss_bbox_2_unscaled: 0.2236 (0.2463)  loss_giou_2_unscaled: 0.4416 (0.4566)  cardinality_error_2_unscaled: 3.0000 (3.0889)  loss_feature_2_unscaled: 0.6384 (0.6585)  loss_ce_3_unscaled: 0.6458 (0.6383)  loss_bbox_3_unscaled: 0.2295 (0.2458)  loss_giou_3_unscaled: 0.4391 (0.4546)  cardinality_error_3_unscaled: 2.6000 (2.7753)  loss_feature_3_unscaled: 0.6320 (0.6521)  loss_ce_4_unscaled: 0.6374 (0.6366)  loss_bbox_4_unscaled: 0.2307 (0.2458)  loss_giou_4_unscaled: 0.4374 (0.4527)  cardinality_error_4_unscaled: 2.8000 (2.5580)  loss_feature_4_unscaled: 0.6287 (0.6479)  time: 1.8504  data: 0.0049  max mem: 1340\n",
      "Epoch: [3]  [ 90/105]  eta: 0:00:27  lr: 0.000100  class_error: 100.00  loss: 19.7461 (20.7563)  loss_ce: 0.6411 (0.6345)  loss_bbox: 1.1466 (1.2369)  loss_giou: 0.8464 (0.9133)  loss_feature: 0.6127 (0.6429)  loss_ce_0: 0.6387 (0.6186)  loss_bbox_0: 1.2443 (1.3481)  loss_giou_0: 0.8718 (0.9430)  loss_feature_0: 0.6297 (0.6657)  loss_ce_1: 0.6600 (0.6390)  loss_bbox_1: 1.1960 (1.2646)  loss_giou_1: 0.8567 (0.9181)  loss_feature_1: 0.6299 (0.6628)  loss_ce_2: 0.6428 (0.6442)  loss_bbox_2: 1.1500 (1.2286)  loss_giou_2: 0.8514 (0.9103)  loss_feature_2: 0.6228 (0.6547)  loss_ce_3: 0.6458 (0.6386)  loss_bbox_3: 1.1488 (1.2274)  loss_giou_3: 0.8410 (0.9068)  loss_feature_3: 0.6192 (0.6486)  loss_ce_4: 0.6439 (0.6370)  loss_bbox_4: 1.1474 (1.2261)  loss_giou_4: 0.8304 (0.9021)  loss_feature_4: 0.6139 (0.6445)  loss_ce_unscaled: 0.6411 (0.6345)  class_error_unscaled: 96.0000 (92.5714)  loss_bbox_unscaled: 0.2293 (0.2474)  loss_giou_unscaled: 0.4232 (0.4566)  cardinality_error_unscaled: 3.0000 (2.7912)  loss_feature_unscaled: 0.6127 (0.6429)  loss_ce_0_unscaled: 0.6387 (0.6186)  loss_bbox_0_unscaled: 0.2489 (0.2696)  loss_giou_0_unscaled: 0.4359 (0.4715)  cardinality_error_0_unscaled: 3.4000 (4.5824)  loss_feature_0_unscaled: 0.6297 (0.6657)  loss_ce_1_unscaled: 0.6600 (0.6390)  loss_bbox_1_unscaled: 0.2392 (0.2529)  loss_giou_1_unscaled: 0.4283 (0.4591)  cardinality_error_1_unscaled: 4.2000 (5.4022)  loss_feature_1_unscaled: 0.6299 (0.6628)  loss_ce_2_unscaled: 0.6428 (0.6442)  loss_bbox_2_unscaled: 0.2300 (0.2457)  loss_giou_2_unscaled: 0.4257 (0.4552)  cardinality_error_2_unscaled: 2.8000 (3.0088)  loss_feature_2_unscaled: 0.6228 (0.6547)  loss_ce_3_unscaled: 0.6458 (0.6386)  loss_bbox_3_unscaled: 0.2298 (0.2455)  loss_giou_3_unscaled: 0.4205 (0.4534)  cardinality_error_3_unscaled: 2.4000 (2.7473)  loss_feature_3_unscaled: 0.6192 (0.6486)  loss_ce_4_unscaled: 0.6439 (0.6370)  loss_bbox_4_unscaled: 0.2295 (0.2452)  loss_giou_4_unscaled: 0.4152 (0.4511)  cardinality_error_4_unscaled: 2.8000 (2.6659)  loss_feature_4_unscaled: 0.6139 (0.6445)  time: 1.7914  data: 0.0051  max mem: 1340\n",
      "Epoch: [3]  [100/105]  eta: 0:00:09  lr: 0.000100  class_error: 84.00  loss: 20.5317 (20.7757)  loss_ce: 0.6455 (0.6353)  loss_bbox: 1.2106 (1.2360)  loss_giou: 0.8648 (0.9131)  loss_feature: 0.6286 (0.6440)  loss_ce_0: 0.6251 (0.6184)  loss_bbox_0: 1.3137 (1.3550)  loss_giou_0: 0.9070 (0.9435)  loss_feature_0: 0.6474 (0.6664)  loss_ce_1: 0.6474 (0.6393)  loss_bbox_1: 1.2738 (1.2680)  loss_giou_1: 0.9053 (0.9189)  loss_feature_1: 0.6425 (0.6631)  loss_ce_2: 0.6462 (0.6449)  loss_bbox_2: 1.2229 (1.2296)  loss_giou_2: 0.8889 (0.9100)  loss_feature_2: 0.6362 (0.6554)  loss_ce_3: 0.6407 (0.6387)  loss_bbox_3: 1.1968 (1.2264)  loss_giou_3: 0.8512 (0.9075)  loss_feature_3: 0.6320 (0.6495)  loss_ce_4: 0.6431 (0.6372)  loss_bbox_4: 1.1942 (1.2263)  loss_giou_4: 0.8616 (0.9038)  loss_feature_4: 0.6288 (0.6455)  loss_ce_unscaled: 0.6455 (0.6353)  class_error_unscaled: 92.0000 (92.4356)  loss_bbox_unscaled: 0.2421 (0.2472)  loss_giou_unscaled: 0.4324 (0.4565)  cardinality_error_unscaled: 2.8000 (2.6950)  loss_feature_unscaled: 0.6286 (0.6440)  loss_ce_0_unscaled: 0.6251 (0.6184)  loss_bbox_0_unscaled: 0.2627 (0.2710)  loss_giou_0_unscaled: 0.4535 (0.4718)  cardinality_error_0_unscaled: 3.2000 (4.7228)  loss_feature_0_unscaled: 0.6474 (0.6664)  loss_ce_1_unscaled: 0.6474 (0.6393)  loss_bbox_1_unscaled: 0.2548 (0.2536)  loss_giou_1_unscaled: 0.4526 (0.4594)  cardinality_error_1_unscaled: 4.2000 (5.5327)  loss_feature_1_unscaled: 0.6425 (0.6631)  loss_ce_2_unscaled: 0.6462 (0.6449)  loss_bbox_2_unscaled: 0.2446 (0.2459)  loss_giou_2_unscaled: 0.4445 (0.4550)  cardinality_error_2_unscaled: 2.6000 (3.0475)  loss_feature_2_unscaled: 0.6362 (0.6554)  loss_ce_3_unscaled: 0.6407 (0.6387)  loss_bbox_3_unscaled: 0.2394 (0.2453)  loss_giou_3_unscaled: 0.4256 (0.4537)  cardinality_error_3_unscaled: 2.6000 (2.7921)  loss_feature_3_unscaled: 0.6320 (0.6495)  loss_ce_4_unscaled: 0.6431 (0.6372)  loss_bbox_4_unscaled: 0.2388 (0.2453)  loss_giou_4_unscaled: 0.4308 (0.4519)  cardinality_error_4_unscaled: 3.0000 (2.6297)  loss_feature_4_unscaled: 0.6288 (0.6455)  time: 1.7864  data: 0.0054  max mem: 1340\n",
      "Epoch: [3]  [104/105]  eta: 0:00:01  lr: 0.000100  class_error: 100.00  loss: 20.7934 (20.7904)  loss_ce: 0.6366 (0.6348)  loss_bbox: 1.2353 (1.2375)  loss_giou: 0.8750 (0.9131)  loss_feature: 0.6422 (0.6450)  loss_ce_0: 0.6238 (0.6187)  loss_bbox_0: 1.3335 (1.3555)  loss_giou_0: 0.9347 (0.9433)  loss_feature_0: 0.6583 (0.6672)  loss_ce_1: 0.6406 (0.6391)  loss_bbox_1: 1.2745 (1.2673)  loss_giou_1: 0.9194 (0.9194)  loss_feature_1: 0.6625 (0.6642)  loss_ce_2: 0.6404 (0.6440)  loss_bbox_2: 1.2295 (1.2320)  loss_giou_2: 0.8923 (0.9111)  loss_feature_2: 0.6546 (0.6565)  loss_ce_3: 0.6355 (0.6385)  loss_bbox_3: 1.2046 (1.2279)  loss_giou_3: 0.9021 (0.9084)  loss_feature_3: 0.6481 (0.6507)  loss_ce_4: 0.6406 (0.6365)  loss_bbox_4: 1.2150 (1.2276)  loss_giou_4: 0.8939 (0.9055)  loss_feature_4: 0.6437 (0.6465)  loss_ce_unscaled: 0.6366 (0.6348)  class_error_unscaled: 92.0000 (92.3429)  loss_bbox_unscaled: 0.2471 (0.2475)  loss_giou_unscaled: 0.4375 (0.4566)  cardinality_error_unscaled: 2.6000 (2.6743)  loss_feature_unscaled: 0.6422 (0.6450)  loss_ce_0_unscaled: 0.6238 (0.6187)  loss_bbox_0_unscaled: 0.2667 (0.2711)  loss_giou_0_unscaled: 0.4673 (0.4716)  cardinality_error_0_unscaled: 5.2000 (4.7924)  loss_feature_0_unscaled: 0.6583 (0.6672)  loss_ce_1_unscaled: 0.6406 (0.6391)  loss_bbox_1_unscaled: 0.2549 (0.2535)  loss_giou_1_unscaled: 0.4597 (0.4597)  cardinality_error_1_unscaled: 4.2000 (5.4019)  loss_feature_1_unscaled: 0.6625 (0.6642)  loss_ce_2_unscaled: 0.6404 (0.6440)  loss_bbox_2_unscaled: 0.2459 (0.2464)  loss_giou_2_unscaled: 0.4461 (0.4555)  cardinality_error_2_unscaled: 2.6000 (3.0114)  loss_feature_2_unscaled: 0.6546 (0.6565)  loss_ce_3_unscaled: 0.6355 (0.6385)  loss_bbox_3_unscaled: 0.2409 (0.2456)  loss_giou_3_unscaled: 0.4511 (0.4542)  cardinality_error_3_unscaled: 2.4000 (2.7619)  loss_feature_3_unscaled: 0.6481 (0.6507)  loss_ce_4_unscaled: 0.6406 (0.6365)  loss_bbox_4_unscaled: 0.2430 (0.2455)  loss_giou_4_unscaled: 0.4470 (0.4527)  cardinality_error_4_unscaled: 2.6000 (2.6229)  loss_feature_4_unscaled: 0.6437 (0.6465)  time: 1.8106  data: 0.0052  max mem: 1340\n",
      "Epoch: [3] Total time: 0:03:14 (1.8530 s / it)\n",
      "Averaged stats: lr: 0.000100  class_error: 100.00  loss: 20.7934 (20.7904)  loss_ce: 0.6366 (0.6348)  loss_bbox: 1.2353 (1.2375)  loss_giou: 0.8750 (0.9131)  loss_feature: 0.6422 (0.6450)  loss_ce_0: 0.6238 (0.6187)  loss_bbox_0: 1.3335 (1.3555)  loss_giou_0: 0.9347 (0.9433)  loss_feature_0: 0.6583 (0.6672)  loss_ce_1: 0.6406 (0.6391)  loss_bbox_1: 1.2745 (1.2673)  loss_giou_1: 0.9194 (0.9194)  loss_feature_1: 0.6625 (0.6642)  loss_ce_2: 0.6404 (0.6440)  loss_bbox_2: 1.2295 (1.2320)  loss_giou_2: 0.8923 (0.9111)  loss_feature_2: 0.6546 (0.6565)  loss_ce_3: 0.6355 (0.6385)  loss_bbox_3: 1.2046 (1.2279)  loss_giou_3: 0.9021 (0.9084)  loss_feature_3: 0.6481 (0.6507)  loss_ce_4: 0.6406 (0.6365)  loss_bbox_4: 1.2150 (1.2276)  loss_giou_4: 0.8939 (0.9055)  loss_feature_4: 0.6437 (0.6465)  loss_ce_unscaled: 0.6366 (0.6348)  class_error_unscaled: 92.0000 (92.3429)  loss_bbox_unscaled: 0.2471 (0.2475)  loss_giou_unscaled: 0.4375 (0.4566)  cardinality_error_unscaled: 2.6000 (2.6743)  loss_feature_unscaled: 0.6422 (0.6450)  loss_ce_0_unscaled: 0.6238 (0.6187)  loss_bbox_0_unscaled: 0.2667 (0.2711)  loss_giou_0_unscaled: 0.4673 (0.4716)  cardinality_error_0_unscaled: 5.2000 (4.7924)  loss_feature_0_unscaled: 0.6583 (0.6672)  loss_ce_1_unscaled: 0.6406 (0.6391)  loss_bbox_1_unscaled: 0.2549 (0.2535)  loss_giou_1_unscaled: 0.4597 (0.4597)  cardinality_error_1_unscaled: 4.2000 (5.4019)  loss_feature_1_unscaled: 0.6625 (0.6642)  loss_ce_2_unscaled: 0.6404 (0.6440)  loss_bbox_2_unscaled: 0.2459 (0.2464)  loss_giou_2_unscaled: 0.4461 (0.4555)  cardinality_error_2_unscaled: 2.6000 (3.0114)  loss_feature_2_unscaled: 0.6546 (0.6565)  loss_ce_3_unscaled: 0.6355 (0.6385)  loss_bbox_3_unscaled: 0.2409 (0.2456)  loss_giou_3_unscaled: 0.4511 (0.4542)  cardinality_error_3_unscaled: 2.4000 (2.7619)  loss_feature_3_unscaled: 0.6481 (0.6507)  loss_ce_4_unscaled: 0.6406 (0.6365)  loss_bbox_4_unscaled: 0.2430 (0.2455)  loss_giou_4_unscaled: 0.4470 (0.4527)  cardinality_error_4_unscaled: 2.6000 (2.6229)  loss_feature_4_unscaled: 0.6437 (0.6465)\n",
      "Epoch: [4]  [  0/105]  eta: 0:12:13  lr: 0.000100  class_error: 68.00  loss: 24.2390 (24.2390)  loss_ce: 0.5654 (0.5654)  loss_bbox: 1.4274 (1.4274)  loss_giou: 1.0924 (1.0924)  loss_feature: 0.7527 (0.7527)  loss_ce_0: 0.5585 (0.5585)  loss_bbox_0: 1.8024 (1.8024)  loss_giou_0: 1.2449 (1.2449)  loss_feature_0: 0.7644 (0.7644)  loss_ce_1: 0.5601 (0.5601)  loss_bbox_1: 1.6479 (1.6479)  loss_giou_1: 1.1109 (1.1109)  loss_feature_1: 0.7715 (0.7715)  loss_ce_2: 0.5883 (0.5883)  loss_bbox_2: 1.5399 (1.5399)  loss_giou_2: 1.1662 (1.1662)  loss_feature_2: 0.7686 (0.7686)  loss_ce_3: 0.5812 (0.5812)  loss_bbox_3: 1.5009 (1.5009)  loss_giou_3: 1.1136 (1.1136)  loss_feature_3: 0.7600 (0.7600)  loss_ce_4: 0.5802 (0.5802)  loss_bbox_4: 1.4430 (1.4430)  loss_giou_4: 1.1438 (1.1438)  loss_feature_4: 0.7548 (0.7548)  loss_ce_unscaled: 0.5654 (0.5654)  class_error_unscaled: 68.0000 (68.0000)  loss_bbox_unscaled: 0.2855 (0.2855)  loss_giou_unscaled: 0.5462 (0.5462)  cardinality_error_unscaled: 3.2000 (3.2000)  loss_feature_unscaled: 0.7527 (0.7527)  loss_ce_0_unscaled: 0.5585 (0.5585)  loss_bbox_0_unscaled: 0.3605 (0.3605)  loss_giou_0_unscaled: 0.6225 (0.6225)  cardinality_error_0_unscaled: 6.6000 (6.6000)  loss_feature_0_unscaled: 0.7644 (0.7644)  loss_ce_1_unscaled: 0.5601 (0.5601)  loss_bbox_1_unscaled: 0.3296 (0.3296)  loss_giou_1_unscaled: 0.5555 (0.5555)  cardinality_error_1_unscaled: 2.0000 (2.0000)  loss_feature_1_unscaled: 0.7715 (0.7715)  loss_ce_2_unscaled: 0.5883 (0.5883)  loss_bbox_2_unscaled: 0.3080 (0.3080)  loss_giou_2_unscaled: 0.5831 (0.5831)  cardinality_error_2_unscaled: 4.6000 (4.6000)  loss_feature_2_unscaled: 0.7686 (0.7686)  loss_ce_3_unscaled: 0.5812 (0.5812)  loss_bbox_3_unscaled: 0.3002 (0.3002)  loss_giou_3_unscaled: 0.5568 (0.5568)  cardinality_error_3_unscaled: 3.8000 (3.8000)  loss_feature_3_unscaled: 0.7600 (0.7600)  loss_ce_4_unscaled: 0.5802 (0.5802)  loss_bbox_4_unscaled: 0.2886 (0.2886)  loss_giou_4_unscaled: 0.5719 (0.5719)  cardinality_error_4_unscaled: 5.8000 (5.8000)  loss_feature_4_unscaled: 0.7548 (0.7548)  time: 6.9825  data: 5.6032  max mem: 1340\n",
      "Epoch: [4]  [ 10/105]  eta: 0:03:41  lr: 0.000100  class_error: 92.00  loss: 21.7779 (21.3197)  loss_ce: 0.6479 (0.6425)  loss_bbox: 1.2791 (1.2699)  loss_giou: 0.9159 (0.9211)  loss_feature: 0.6345 (0.6462)  loss_ce_0: 0.6295 (0.6201)  loss_bbox_0: 1.4524 (1.4201)  loss_giou_0: 0.9894 (0.9791)  loss_feature_0: 0.6523 (0.6613)  loss_ce_1: 0.6294 (0.6229)  loss_bbox_1: 1.4028 (1.3744)  loss_giou_1: 0.9222 (0.9383)  loss_feature_1: 0.6512 (0.6623)  loss_ce_2: 0.6430 (0.6350)  loss_bbox_2: 1.3546 (1.3279)  loss_giou_2: 0.9024 (0.9439)  loss_feature_2: 0.6433 (0.6572)  loss_ce_3: 0.6426 (0.6398)  loss_bbox_3: 1.2708 (1.2709)  loss_giou_3: 0.9242 (0.9298)  loss_feature_3: 0.6403 (0.6516)  loss_ce_4: 0.6495 (0.6463)  loss_bbox_4: 1.2963 (1.2839)  loss_giou_4: 0.8921 (0.9281)  loss_feature_4: 0.6355 (0.6470)  loss_ce_unscaled: 0.6479 (0.6425)  class_error_unscaled: 88.0000 (84.3636)  loss_bbox_unscaled: 0.2558 (0.2540)  loss_giou_unscaled: 0.4580 (0.4606)  cardinality_error_unscaled: 4.6000 (4.4727)  loss_feature_unscaled: 0.6345 (0.6462)  loss_ce_0_unscaled: 0.6295 (0.6201)  loss_bbox_0_unscaled: 0.2905 (0.2840)  loss_giou_0_unscaled: 0.4947 (0.4896)  cardinality_error_0_unscaled: 3.4000 (3.6909)  loss_feature_0_unscaled: 0.6523 (0.6613)  loss_ce_1_unscaled: 0.6294 (0.6229)  loss_bbox_1_unscaled: 0.2806 (0.2749)  loss_giou_1_unscaled: 0.4611 (0.4692)  cardinality_error_1_unscaled: 2.0000 (2.0909)  loss_feature_1_unscaled: 0.6512 (0.6623)  loss_ce_2_unscaled: 0.6430 (0.6350)  loss_bbox_2_unscaled: 0.2709 (0.2656)  loss_giou_2_unscaled: 0.4512 (0.4719)  cardinality_error_2_unscaled: 5.6000 (5.6364)  loss_feature_2_unscaled: 0.6433 (0.6572)  loss_ce_3_unscaled: 0.6426 (0.6398)  loss_bbox_3_unscaled: 0.2542 (0.2542)  loss_giou_3_unscaled: 0.4621 (0.4649)  cardinality_error_3_unscaled: 3.0000 (3.2545)  loss_feature_3_unscaled: 0.6403 (0.6516)  loss_ce_4_unscaled: 0.6495 (0.6463)  loss_bbox_4_unscaled: 0.2593 (0.2568)  loss_giou_4_unscaled: 0.4461 (0.4641)  cardinality_error_4_unscaled: 5.2000 (5.2000)  loss_feature_4_unscaled: 0.6355 (0.6470)  time: 2.3341  data: 0.5138  max mem: 1340\n",
      "Epoch: [4]  [ 20/105]  eta: 0:02:58  lr: 0.000100  class_error: 84.00  loss: 20.5328 (20.9415)  loss_ce: 0.6237 (0.6295)  loss_bbox: 1.1861 (1.2497)  loss_giou: 0.8790 (0.9093)  loss_feature: 0.6345 (0.6442)  loss_ce_0: 0.6239 (0.6167)  loss_bbox_0: 1.3934 (1.3900)  loss_giou_0: 0.9694 (0.9690)  loss_feature_0: 0.6523 (0.6613)  loss_ce_1: 0.6283 (0.6251)  loss_bbox_1: 1.2774 (1.3118)  loss_giou_1: 0.9140 (0.9193)  loss_feature_1: 0.6512 (0.6612)  loss_ce_2: 0.6334 (0.6320)  loss_bbox_2: 1.2609 (1.2728)  loss_giou_2: 0.9024 (0.9278)  loss_feature_2: 0.6433 (0.6546)  loss_ce_3: 0.6277 (0.6317)  loss_bbox_3: 1.1977 (1.2336)  loss_giou_3: 0.8893 (0.9146)  loss_feature_3: 0.6403 (0.6498)  loss_ce_4: 0.6368 (0.6311)  loss_bbox_4: 1.2076 (1.2497)  loss_giou_4: 0.8921 (0.9119)  loss_feature_4: 0.6355 (0.6448)  loss_ce_unscaled: 0.6237 (0.6295)  class_error_unscaled: 88.0000 (84.7619)  loss_bbox_unscaled: 0.2372 (0.2499)  loss_giou_unscaled: 0.4395 (0.4546)  cardinality_error_unscaled: 3.2000 (3.8571)  loss_feature_unscaled: 0.6345 (0.6442)  loss_ce_0_unscaled: 0.6239 (0.6167)  loss_bbox_0_unscaled: 0.2787 (0.2780)  loss_giou_0_unscaled: 0.4847 (0.4845)  cardinality_error_0_unscaled: 3.6000 (4.4667)  loss_feature_0_unscaled: 0.6523 (0.6613)  loss_ce_1_unscaled: 0.6283 (0.6251)  loss_bbox_1_unscaled: 0.2555 (0.2624)  loss_giou_1_unscaled: 0.4570 (0.4596)  cardinality_error_1_unscaled: 2.2000 (3.5333)  loss_feature_1_unscaled: 0.6512 (0.6612)  loss_ce_2_unscaled: 0.6334 (0.6320)  loss_bbox_2_unscaled: 0.2522 (0.2546)  loss_giou_2_unscaled: 0.4512 (0.4639)  cardinality_error_2_unscaled: 4.6000 (4.4667)  loss_feature_2_unscaled: 0.6433 (0.6546)  loss_ce_3_unscaled: 0.6277 (0.6317)  loss_bbox_3_unscaled: 0.2395 (0.2467)  loss_giou_3_unscaled: 0.4447 (0.4573)  cardinality_error_3_unscaled: 3.0000 (3.2286)  loss_feature_3_unscaled: 0.6403 (0.6498)  loss_ce_4_unscaled: 0.6368 (0.6311)  loss_bbox_4_unscaled: 0.2415 (0.2499)  loss_giou_4_unscaled: 0.4461 (0.4560)  cardinality_error_4_unscaled: 3.4000 (4.2000)  loss_feature_4_unscaled: 0.6355 (0.6448)  time: 1.8567  data: 0.0048  max mem: 1340\n",
      "Epoch: [4]  [ 30/105]  eta: 0:02:34  lr: 0.000100  class_error: 88.00  loss: 20.4060 (21.0198)  loss_ce: 0.6288 (0.6374)  loss_bbox: 1.1866 (1.2456)  loss_giou: 0.9289 (0.9239)  loss_feature: 0.6382 (0.6462)  loss_ce_0: 0.6201 (0.6174)  loss_bbox_0: 1.2782 (1.3730)  loss_giou_0: 0.9457 (0.9736)  loss_feature_0: 0.6605 (0.6636)  loss_ce_1: 0.6238 (0.6288)  loss_bbox_1: 1.2354 (1.2938)  loss_giou_1: 0.9013 (0.9295)  loss_feature_1: 0.6589 (0.6643)  loss_ce_2: 0.6334 (0.6370)  loss_bbox_2: 1.2111 (1.2707)  loss_giou_2: 0.9271 (0.9362)  loss_feature_2: 0.6518 (0.6579)  loss_ce_3: 0.6343 (0.6420)  loss_bbox_3: 1.2191 (1.2373)  loss_giou_3: 0.9021 (0.9269)  loss_feature_3: 0.6462 (0.6528)  loss_ce_4: 0.6368 (0.6413)  loss_bbox_4: 1.2054 (1.2490)  loss_giou_4: 0.9060 (0.9246)  loss_feature_4: 0.6391 (0.6470)  loss_ce_unscaled: 0.6288 (0.6374)  class_error_unscaled: 88.0000 (84.5161)  loss_bbox_unscaled: 0.2373 (0.2491)  loss_giou_unscaled: 0.4645 (0.4620)  cardinality_error_unscaled: 3.2000 (4.5742)  loss_feature_unscaled: 0.6382 (0.6462)  loss_ce_0_unscaled: 0.6201 (0.6174)  loss_bbox_0_unscaled: 0.2556 (0.2746)  loss_giou_0_unscaled: 0.4729 (0.4868)  cardinality_error_0_unscaled: 4.4000 (4.9935)  loss_feature_0_unscaled: 0.6605 (0.6636)  loss_ce_1_unscaled: 0.6238 (0.6288)  loss_bbox_1_unscaled: 0.2471 (0.2588)  loss_giou_1_unscaled: 0.4507 (0.4647)  cardinality_error_1_unscaled: 3.0000 (4.0065)  loss_feature_1_unscaled: 0.6589 (0.6643)  loss_ce_2_unscaled: 0.6334 (0.6370)  loss_bbox_2_unscaled: 0.2422 (0.2541)  loss_giou_2_unscaled: 0.4635 (0.4681)  cardinality_error_2_unscaled: 2.8000 (4.4774)  loss_feature_2_unscaled: 0.6518 (0.6579)  loss_ce_3_unscaled: 0.6343 (0.6420)  loss_bbox_3_unscaled: 0.2438 (0.2475)  loss_giou_3_unscaled: 0.4510 (0.4635)  cardinality_error_3_unscaled: 3.4000 (3.8323)  loss_feature_3_unscaled: 0.6462 (0.6528)  loss_ce_4_unscaled: 0.6368 (0.6413)  loss_bbox_4_unscaled: 0.2411 (0.2498)  loss_giou_4_unscaled: 0.4530 (0.4623)  cardinality_error_4_unscaled: 3.0000 (4.4323)  loss_feature_4_unscaled: 0.6391 (0.6470)  time: 1.8992  data: 0.0048  max mem: 1340\n",
      "Epoch: [4]  [ 40/105]  eta: 0:02:09  lr: 0.000100  class_error: 88.00  loss: 20.2819 (20.9263)  loss_ce: 0.6370 (0.6358)  loss_bbox: 1.1980 (1.2378)  loss_giou: 0.9162 (0.9262)  loss_feature: 0.6296 (0.6416)  loss_ce_0: 0.6244 (0.6188)  loss_bbox_0: 1.2522 (1.3551)  loss_giou_0: 0.9436 (0.9716)  loss_feature_0: 0.6450 (0.6593)  loss_ce_1: 0.6392 (0.6318)  loss_bbox_1: 1.2477 (1.2891)  loss_giou_1: 0.9068 (0.9360)  loss_feature_1: 0.6420 (0.6590)  loss_ce_2: 0.6478 (0.6386)  loss_bbox_2: 1.2111 (1.2533)  loss_giou_2: 0.9141 (0.9335)  loss_feature_2: 0.6391 (0.6526)  loss_ce_3: 0.6440 (0.6420)  loss_bbox_3: 1.1739 (1.2257)  loss_giou_3: 0.9021 (0.9283)  loss_feature_3: 0.6359 (0.6476)  loss_ce_4: 0.6496 (0.6412)  loss_bbox_4: 1.1938 (1.2355)  loss_giou_4: 0.9168 (0.9239)  loss_feature_4: 0.6304 (0.6422)  loss_ce_unscaled: 0.6370 (0.6358)  class_error_unscaled: 84.0000 (84.7805)  loss_bbox_unscaled: 0.2396 (0.2476)  loss_giou_unscaled: 0.4581 (0.4631)  cardinality_error_unscaled: 3.2000 (4.1659)  loss_feature_unscaled: 0.6296 (0.6416)  loss_ce_0_unscaled: 0.6244 (0.6188)  loss_bbox_0_unscaled: 0.2504 (0.2710)  loss_giou_0_unscaled: 0.4718 (0.4858)  cardinality_error_0_unscaled: 4.4000 (4.8488)  loss_feature_0_unscaled: 0.6450 (0.6593)  loss_ce_1_unscaled: 0.6392 (0.6318)  loss_bbox_1_unscaled: 0.2495 (0.2578)  loss_giou_1_unscaled: 0.4534 (0.4680)  cardinality_error_1_unscaled: 3.0000 (4.1415)  loss_feature_1_unscaled: 0.6420 (0.6590)  loss_ce_2_unscaled: 0.6478 (0.6386)  loss_bbox_2_unscaled: 0.2422 (0.2507)  loss_giou_2_unscaled: 0.4571 (0.4667)  cardinality_error_2_unscaled: 3.6000 (4.6390)  loss_feature_2_unscaled: 0.6391 (0.6526)  loss_ce_3_unscaled: 0.6440 (0.6420)  loss_bbox_3_unscaled: 0.2348 (0.2451)  loss_giou_3_unscaled: 0.4510 (0.4642)  cardinality_error_3_unscaled: 3.4000 (3.7415)  loss_feature_3_unscaled: 0.6359 (0.6476)  loss_ce_4_unscaled: 0.6496 (0.6412)  loss_bbox_4_unscaled: 0.2388 (0.2471)  loss_giou_4_unscaled: 0.4584 (0.4620)  cardinality_error_4_unscaled: 3.0000 (4.0293)  loss_feature_4_unscaled: 0.6304 (0.6422)  time: 1.8729  data: 0.0047  max mem: 1340\n",
      "Epoch: [4]  [ 50/105]  eta: 0:01:47  lr: 0.000100  class_error: 80.00  loss: 20.1094 (20.9598)  loss_ce: 0.6439 (0.6392)  loss_bbox: 1.1835 (1.2363)  loss_giou: 0.8743 (0.9249)  loss_feature: 0.6310 (0.6426)  loss_ce_0: 0.6135 (0.6177)  loss_bbox_0: 1.3587 (1.3703)  loss_giou_0: 1.0047 (0.9843)  loss_feature_0: 0.6460 (0.6601)  loss_ce_1: 0.6336 (0.6310)  loss_bbox_1: 1.2273 (1.2928)  loss_giou_1: 0.8903 (0.9351)  loss_feature_1: 0.6420 (0.6597)  loss_ce_2: 0.6406 (0.6390)  loss_bbox_2: 1.1561 (1.2555)  loss_giou_2: 0.8746 (0.9332)  loss_feature_2: 0.6391 (0.6529)  loss_ce_3: 0.6436 (0.6434)  loss_bbox_3: 1.1554 (1.2265)  loss_giou_3: 0.8739 (0.9260)  loss_feature_3: 0.6349 (0.6480)  loss_ce_4: 0.6455 (0.6436)  loss_bbox_4: 1.1621 (1.2344)  loss_giou_4: 0.8685 (0.9203)  loss_feature_4: 0.6304 (0.6430)  loss_ce_unscaled: 0.6439 (0.6392)  class_error_unscaled: 92.0000 (86.2745)  loss_bbox_unscaled: 0.2367 (0.2473)  loss_giou_unscaled: 0.4372 (0.4624)  cardinality_error_unscaled: 2.8000 (3.8824)  loss_feature_unscaled: 0.6310 (0.6426)  loss_ce_0_unscaled: 0.6135 (0.6177)  loss_bbox_0_unscaled: 0.2717 (0.2741)  loss_giou_0_unscaled: 0.5023 (0.4922)  cardinality_error_0_unscaled: 3.2000 (4.4510)  loss_feature_0_unscaled: 0.6460 (0.6601)  loss_ce_1_unscaled: 0.6336 (0.6310)  loss_bbox_1_unscaled: 0.2455 (0.2586)  loss_giou_1_unscaled: 0.4452 (0.4675)  cardinality_error_1_unscaled: 3.4000 (4.0235)  loss_feature_1_unscaled: 0.6420 (0.6597)  loss_ce_2_unscaled: 0.6406 (0.6390)  loss_bbox_2_unscaled: 0.2312 (0.2511)  loss_giou_2_unscaled: 0.4373 (0.4666)  cardinality_error_2_unscaled: 3.6000 (4.5804)  loss_feature_2_unscaled: 0.6391 (0.6529)  loss_ce_3_unscaled: 0.6436 (0.6434)  loss_bbox_3_unscaled: 0.2311 (0.2453)  loss_giou_3_unscaled: 0.4370 (0.4630)  cardinality_error_3_unscaled: 3.0000 (3.6471)  loss_feature_3_unscaled: 0.6349 (0.6480)  loss_ce_4_unscaled: 0.6455 (0.6436)  loss_bbox_4_unscaled: 0.2324 (0.2469)  loss_giou_4_unscaled: 0.4342 (0.4602)  cardinality_error_4_unscaled: 2.8000 (3.8392)  loss_feature_4_unscaled: 0.6304 (0.6430)  time: 1.8104  data: 0.0047  max mem: 1340\n",
      "Epoch: [4]  [ 60/105]  eta: 0:01:27  lr: 0.000100  class_error: 92.00  loss: 20.1094 (20.7942)  loss_ce: 0.6463 (0.6391)  loss_bbox: 1.1607 (1.2227)  loss_giou: 0.8495 (0.9180)  loss_feature: 0.6411 (0.6412)  loss_ce_0: 0.6146 (0.6187)  loss_bbox_0: 1.3587 (1.3518)  loss_giou_0: 0.9607 (0.9702)  loss_feature_0: 0.6589 (0.6589)  loss_ce_1: 0.6336 (0.6327)  loss_bbox_1: 1.2167 (1.2722)  loss_giou_1: 0.8899 (0.9244)  loss_feature_1: 0.6586 (0.6580)  loss_ce_2: 0.6421 (0.6395)  loss_bbox_2: 1.2277 (1.2384)  loss_giou_2: 0.8500 (0.9221)  loss_feature_2: 0.6520 (0.6512)  loss_ce_3: 0.6453 (0.6429)  loss_bbox_3: 1.1676 (1.2138)  loss_giou_3: 0.8517 (0.9157)  loss_feature_3: 0.6465 (0.6463)  loss_ce_4: 0.6442 (0.6421)  loss_bbox_4: 1.1621 (1.2199)  loss_giou_4: 0.8579 (0.9129)  loss_feature_4: 0.6421 (0.6417)  loss_ce_unscaled: 0.6463 (0.6391)  class_error_unscaled: 92.0000 (87.2131)  loss_bbox_unscaled: 0.2321 (0.2445)  loss_giou_unscaled: 0.4248 (0.4590)  cardinality_error_unscaled: 2.8000 (3.7475)  loss_feature_unscaled: 0.6411 (0.6412)  loss_ce_0_unscaled: 0.6146 (0.6187)  loss_bbox_0_unscaled: 0.2717 (0.2704)  loss_giou_0_unscaled: 0.4803 (0.4851)  cardinality_error_0_unscaled: 3.6000 (4.6197)  loss_feature_0_unscaled: 0.6589 (0.6589)  loss_ce_1_unscaled: 0.6336 (0.6327)  loss_bbox_1_unscaled: 0.2433 (0.2544)  loss_giou_1_unscaled: 0.4450 (0.4622)  cardinality_error_1_unscaled: 2.8000 (3.9443)  loss_feature_1_unscaled: 0.6586 (0.6580)  loss_ce_2_unscaled: 0.6421 (0.6395)  loss_bbox_2_unscaled: 0.2455 (0.2477)  loss_giou_2_unscaled: 0.4250 (0.4611)  cardinality_error_2_unscaled: 2.6000 (4.4525)  loss_feature_2_unscaled: 0.6520 (0.6512)  loss_ce_3_unscaled: 0.6453 (0.6429)  loss_bbox_3_unscaled: 0.2335 (0.2428)  loss_giou_3_unscaled: 0.4258 (0.4578)  cardinality_error_3_unscaled: 2.8000 (3.5115)  loss_feature_3_unscaled: 0.6465 (0.6463)  loss_ce_4_unscaled: 0.6442 (0.6421)  loss_bbox_4_unscaled: 0.2324 (0.2440)  loss_giou_4_unscaled: 0.4289 (0.4564)  cardinality_error_4_unscaled: 2.6000 (3.6328)  loss_feature_4_unscaled: 0.6421 (0.6417)  time: 1.8671  data: 0.0049  max mem: 1340\n",
      "Epoch: [4]  [ 70/105]  eta: 0:01:07  lr: 0.000100  class_error: 88.00  loss: 20.0371 (20.7064)  loss_ce: 0.6401 (0.6396)  loss_bbox: 1.1607 (1.2138)  loss_giou: 0.8350 (0.9107)  loss_feature: 0.6471 (0.6439)  loss_ce_0: 0.6329 (0.6211)  loss_bbox_0: 1.2316 (1.3371)  loss_giou_0: 0.8492 (0.9597)  loss_feature_0: 0.6618 (0.6616)  loss_ce_1: 0.6368 (0.6339)  loss_bbox_1: 1.1504 (1.2593)  loss_giou_1: 0.8415 (0.9184)  loss_feature_1: 0.6625 (0.6605)  loss_ce_2: 0.6448 (0.6399)  loss_bbox_2: 1.1608 (1.2301)  loss_giou_2: 0.8592 (0.9155)  loss_feature_2: 0.6558 (0.6536)  loss_ce_3: 0.6373 (0.6422)  loss_bbox_3: 1.1347 (1.2059)  loss_giou_3: 0.8484 (0.9089)  loss_feature_3: 0.6509 (0.6488)  loss_ce_4: 0.6382 (0.6419)  loss_bbox_4: 1.1519 (1.2109)  loss_giou_4: 0.8489 (0.9047)  loss_feature_4: 0.6468 (0.6444)  loss_ce_unscaled: 0.6401 (0.6396)  class_error_unscaled: 92.0000 (87.7746)  loss_bbox_unscaled: 0.2321 (0.2428)  loss_giou_unscaled: 0.4175 (0.4553)  cardinality_error_unscaled: 2.8000 (3.6761)  loss_feature_unscaled: 0.6471 (0.6439)  loss_ce_0_unscaled: 0.6329 (0.6211)  loss_bbox_0_unscaled: 0.2463 (0.2674)  loss_giou_0_unscaled: 0.4246 (0.4799)  cardinality_error_0_unscaled: 5.8000 (4.7690)  loss_feature_0_unscaled: 0.6618 (0.6616)  loss_ce_1_unscaled: 0.6368 (0.6339)  loss_bbox_1_unscaled: 0.2301 (0.2519)  loss_giou_1_unscaled: 0.4207 (0.4592)  cardinality_error_1_unscaled: 2.8000 (3.8028)  loss_feature_1_unscaled: 0.6625 (0.6605)  loss_ce_2_unscaled: 0.6448 (0.6399)  loss_bbox_2_unscaled: 0.2322 (0.2460)  loss_giou_2_unscaled: 0.4296 (0.4578)  cardinality_error_2_unscaled: 2.0000 (4.1127)  loss_feature_2_unscaled: 0.6558 (0.6536)  loss_ce_3_unscaled: 0.6373 (0.6422)  loss_bbox_3_unscaled: 0.2269 (0.2412)  loss_giou_3_unscaled: 0.4242 (0.4544)  cardinality_error_3_unscaled: 3.0000 (3.4423)  loss_feature_3_unscaled: 0.6509 (0.6488)  loss_ce_4_unscaled: 0.6382 (0.6419)  loss_bbox_4_unscaled: 0.2304 (0.2422)  loss_giou_4_unscaled: 0.4245 (0.4523)  cardinality_error_4_unscaled: 2.6000 (3.5352)  loss_feature_4_unscaled: 0.6468 (0.6444)  time: 1.8263  data: 0.0048  max mem: 1340\n",
      "Epoch: [4]  [ 80/105]  eta: 0:00:47  lr: 0.000100  class_error: 92.00  loss: 20.0644 (20.6844)  loss_ce: 0.6358 (0.6384)  loss_bbox: 1.1741 (1.2121)  loss_giou: 0.8725 (0.9077)  loss_feature: 0.6471 (0.6436)  loss_ce_0: 0.6226 (0.6207)  loss_bbox_0: 1.2801 (1.3356)  loss_giou_0: 0.8990 (0.9630)  loss_feature_0: 0.6650 (0.6612)  loss_ce_1: 0.6315 (0.6324)  loss_bbox_1: 1.1844 (1.2565)  loss_giou_1: 0.8943 (0.9226)  loss_feature_1: 0.6625 (0.6599)  loss_ce_2: 0.6432 (0.6393)  loss_bbox_2: 1.1675 (1.2266)  loss_giou_2: 0.8636 (0.9154)  loss_feature_2: 0.6563 (0.6531)  loss_ce_3: 0.6355 (0.6412)  loss_bbox_3: 1.1347 (1.2032)  loss_giou_3: 0.8484 (0.9080)  loss_feature_3: 0.6512 (0.6483)  loss_ce_4: 0.6358 (0.6403)  loss_bbox_4: 1.1727 (1.2086)  loss_giou_4: 0.8489 (0.9026)  loss_feature_4: 0.6471 (0.6441)  loss_ce_unscaled: 0.6358 (0.6384)  class_error_unscaled: 92.0000 (88.7407)  loss_bbox_unscaled: 0.2348 (0.2424)  loss_giou_unscaled: 0.4362 (0.4539)  cardinality_error_unscaled: 3.0000 (3.6593)  loss_feature_unscaled: 0.6471 (0.6436)  loss_ce_0_unscaled: 0.6226 (0.6207)  loss_bbox_0_unscaled: 0.2560 (0.2671)  loss_giou_0_unscaled: 0.4495 (0.4815)  cardinality_error_0_unscaled: 4.8000 (4.7457)  loss_feature_0_unscaled: 0.6650 (0.6612)  loss_ce_1_unscaled: 0.6315 (0.6324)  loss_bbox_1_unscaled: 0.2369 (0.2513)  loss_giou_1_unscaled: 0.4471 (0.4613)  cardinality_error_1_unscaled: 2.4000 (3.5901)  loss_feature_1_unscaled: 0.6625 (0.6599)  loss_ce_2_unscaled: 0.6432 (0.6393)  loss_bbox_2_unscaled: 0.2335 (0.2453)  loss_giou_2_unscaled: 0.4318 (0.4577)  cardinality_error_2_unscaled: 2.0000 (3.8765)  loss_feature_2_unscaled: 0.6563 (0.6531)  loss_ce_3_unscaled: 0.6355 (0.6412)  loss_bbox_3_unscaled: 0.2269 (0.2406)  loss_giou_3_unscaled: 0.4242 (0.4540)  cardinality_error_3_unscaled: 2.6000 (3.3358)  loss_feature_3_unscaled: 0.6512 (0.6483)  loss_ce_4_unscaled: 0.6358 (0.6403)  loss_bbox_4_unscaled: 0.2345 (0.2417)  loss_giou_4_unscaled: 0.4245 (0.4513)  cardinality_error_4_unscaled: 2.8000 (3.5037)  loss_feature_4_unscaled: 0.6471 (0.6441)  time: 1.7974  data: 0.0047  max mem: 1340\n",
      "Epoch: [4]  [ 90/105]  eta: 0:00:28  lr: 0.000100  class_error: 96.00  loss: 20.9853 (20.7788)  loss_ce: 0.6321 (0.6390)  loss_bbox: 1.2261 (1.2180)  loss_giou: 0.9005 (0.9128)  loss_feature: 0.6338 (0.6419)  loss_ce_0: 0.6226 (0.6228)  loss_bbox_0: 1.3624 (1.3414)  loss_giou_0: 0.9733 (0.9653)  loss_feature_0: 0.6565 (0.6597)  loss_ce_1: 0.6362 (0.6341)  loss_bbox_1: 1.2956 (1.2770)  loss_giou_1: 0.9218 (0.9262)  loss_feature_1: 0.6493 (0.6583)  loss_ce_2: 0.6337 (0.6396)  loss_bbox_2: 1.2246 (1.2435)  loss_giou_2: 0.9105 (0.9181)  loss_feature_2: 0.6426 (0.6514)  loss_ce_3: 0.6330 (0.6413)  loss_bbox_3: 1.2618 (1.2180)  loss_giou_3: 0.8953 (0.9134)  loss_feature_3: 0.6363 (0.6466)  loss_ce_4: 0.6325 (0.6404)  loss_bbox_4: 1.2114 (1.2183)  loss_giou_4: 0.9100 (0.9091)  loss_feature_4: 0.6340 (0.6425)  loss_ce_unscaled: 0.6321 (0.6390)  class_error_unscaled: 96.0000 (89.6703)  loss_bbox_unscaled: 0.2452 (0.2436)  loss_giou_unscaled: 0.4502 (0.4564)  cardinality_error_unscaled: 3.4000 (3.6396)  loss_feature_unscaled: 0.6338 (0.6419)  loss_ce_0_unscaled: 0.6226 (0.6228)  loss_bbox_0_unscaled: 0.2725 (0.2683)  loss_giou_0_unscaled: 0.4866 (0.4827)  cardinality_error_0_unscaled: 5.6000 (4.9890)  loss_feature_0_unscaled: 0.6565 (0.6597)  loss_ce_1_unscaled: 0.6362 (0.6341)  loss_bbox_1_unscaled: 0.2591 (0.2554)  loss_giou_1_unscaled: 0.4609 (0.4631)  cardinality_error_1_unscaled: 3.6000 (4.2615)  loss_feature_1_unscaled: 0.6493 (0.6583)  loss_ce_2_unscaled: 0.6337 (0.6396)  loss_bbox_2_unscaled: 0.2449 (0.2487)  loss_giou_2_unscaled: 0.4552 (0.4591)  cardinality_error_2_unscaled: 2.8000 (3.9758)  loss_feature_2_unscaled: 0.6426 (0.6514)  loss_ce_3_unscaled: 0.6330 (0.6413)  loss_bbox_3_unscaled: 0.2524 (0.2436)  loss_giou_3_unscaled: 0.4476 (0.4567)  cardinality_error_3_unscaled: 2.4000 (3.2725)  loss_feature_3_unscaled: 0.6363 (0.6466)  loss_ce_4_unscaled: 0.6325 (0.6404)  loss_bbox_4_unscaled: 0.2423 (0.2437)  loss_giou_4_unscaled: 0.4550 (0.4546)  cardinality_error_4_unscaled: 3.2000 (3.4725)  loss_feature_4_unscaled: 0.6340 (0.6425)  time: 1.8521  data: 0.0048  max mem: 1340\n",
      "Epoch: [4]  [100/105]  eta: 0:00:09  lr: 0.000100  class_error: 84.00  loss: 20.9853 (20.7512)  loss_ce: 0.6369 (0.6393)  loss_bbox: 1.2037 (1.2167)  loss_giou: 0.9121 (0.9135)  loss_feature: 0.6139 (0.6406)  loss_ce_0: 0.6235 (0.6222)  loss_bbox_0: 1.3510 (1.3353)  loss_giou_0: 0.9864 (0.9635)  loss_feature_0: 0.6312 (0.6582)  loss_ce_1: 0.6362 (0.6338)  loss_bbox_1: 1.2956 (1.2756)  loss_giou_1: 0.9199 (0.9270)  loss_feature_1: 0.6279 (0.6567)  loss_ce_2: 0.6337 (0.6391)  loss_bbox_2: 1.2684 (1.2402)  loss_giou_2: 0.9469 (0.9195)  loss_feature_2: 0.6189 (0.6497)  loss_ce_3: 0.6387 (0.6410)  loss_bbox_3: 1.2415 (1.2155)  loss_giou_3: 0.9261 (0.9129)  loss_feature_3: 0.6161 (0.6452)  loss_ce_4: 0.6331 (0.6402)  loss_bbox_4: 1.2055 (1.2155)  loss_giou_4: 0.9460 (0.9089)  loss_feature_4: 0.6134 (0.6411)  loss_ce_unscaled: 0.6369 (0.6393)  class_error_unscaled: 96.0000 (90.1782)  loss_bbox_unscaled: 0.2407 (0.2433)  loss_giou_unscaled: 0.4561 (0.4568)  cardinality_error_unscaled: 3.4000 (3.6020)  loss_feature_unscaled: 0.6139 (0.6406)  loss_ce_0_unscaled: 0.6235 (0.6222)  loss_bbox_0_unscaled: 0.2702 (0.2671)  loss_giou_0_unscaled: 0.4932 (0.4817)  cardinality_error_0_unscaled: 4.6000 (4.7901)  loss_feature_0_unscaled: 0.6312 (0.6582)  loss_ce_1_unscaled: 0.6362 (0.6338)  loss_bbox_1_unscaled: 0.2591 (0.2551)  loss_giou_1_unscaled: 0.4600 (0.4635)  cardinality_error_1_unscaled: 7.4000 (4.2673)  loss_feature_1_unscaled: 0.6279 (0.6567)  loss_ce_2_unscaled: 0.6337 (0.6391)  loss_bbox_2_unscaled: 0.2537 (0.2480)  loss_giou_2_unscaled: 0.4735 (0.4598)  cardinality_error_2_unscaled: 2.6000 (3.7921)  loss_feature_2_unscaled: 0.6189 (0.6497)  loss_ce_3_unscaled: 0.6387 (0.6410)  loss_bbox_3_unscaled: 0.2483 (0.2431)  loss_giou_3_unscaled: 0.4631 (0.4564)  cardinality_error_3_unscaled: 2.6000 (3.2277)  loss_feature_3_unscaled: 0.6161 (0.6452)  loss_ce_4_unscaled: 0.6331 (0.6402)  loss_bbox_4_unscaled: 0.2411 (0.2431)  loss_giou_4_unscaled: 0.4730 (0.4545)  cardinality_error_4_unscaled: 3.6000 (3.4693)  loss_feature_4_unscaled: 0.6134 (0.6411)  time: 1.8921  data: 0.0050  max mem: 1340\n",
      "Epoch: [4]  [104/105]  eta: 0:00:01  lr: 0.000100  class_error: 84.00  loss: 20.1028 (20.7144)  loss_ce: 0.6369 (0.6399)  loss_bbox: 1.2037 (1.2167)  loss_giou: 0.8918 (0.9115)  loss_feature: 0.6111 (0.6391)  loss_ce_0: 0.6185 (0.6224)  loss_bbox_0: 1.3371 (1.3337)  loss_giou_0: 0.9144 (0.9611)  loss_feature_0: 0.6306 (0.6568)  loss_ce_1: 0.6409 (0.6344)  loss_bbox_1: 1.2514 (1.2719)  loss_giou_1: 0.8819 (0.9235)  loss_feature_1: 0.6278 (0.6552)  loss_ce_2: 0.6364 (0.6398)  loss_bbox_2: 1.2219 (1.2369)  loss_giou_2: 0.9105 (0.9162)  loss_feature_2: 0.6183 (0.6481)  loss_ce_3: 0.6400 (0.6420)  loss_bbox_3: 1.1763 (1.2124)  loss_giou_3: 0.8728 (0.9093)  loss_feature_3: 0.6160 (0.6436)  loss_ce_4: 0.6356 (0.6406)  loss_bbox_4: 1.2055 (1.2139)  loss_giou_4: 0.8937 (0.9062)  loss_feature_4: 0.6120 (0.6395)  loss_ce_unscaled: 0.6369 (0.6399)  class_error_unscaled: 96.0000 (90.0952)  loss_bbox_unscaled: 0.2407 (0.2433)  loss_giou_unscaled: 0.4459 (0.4557)  cardinality_error_unscaled: 3.6000 (3.5962)  loss_feature_unscaled: 0.6111 (0.6391)  loss_ce_0_unscaled: 0.6185 (0.6224)  loss_bbox_0_unscaled: 0.2674 (0.2667)  loss_giou_0_unscaled: 0.4572 (0.4805)  cardinality_error_0_unscaled: 3.2000 (4.7219)  loss_feature_0_unscaled: 0.6306 (0.6568)  loss_ce_1_unscaled: 0.6409 (0.6344)  loss_bbox_1_unscaled: 0.2503 (0.2544)  loss_giou_1_unscaled: 0.4409 (0.4617)  cardinality_error_1_unscaled: 3.2000 (4.1810)  loss_feature_1_unscaled: 0.6278 (0.6552)  loss_ce_2_unscaled: 0.6364 (0.6398)  loss_bbox_2_unscaled: 0.2444 (0.2474)  loss_giou_2_unscaled: 0.4552 (0.4581)  cardinality_error_2_unscaled: 2.2000 (3.7562)  loss_feature_2_unscaled: 0.6183 (0.6481)  loss_ce_3_unscaled: 0.6400 (0.6420)  loss_bbox_3_unscaled: 0.2353 (0.2425)  loss_giou_3_unscaled: 0.4364 (0.4546)  cardinality_error_3_unscaled: 2.6000 (3.2076)  loss_feature_3_unscaled: 0.6160 (0.6436)  loss_ce_4_unscaled: 0.6356 (0.6406)  loss_bbox_4_unscaled: 0.2411 (0.2428)  loss_giou_4_unscaled: 0.4468 (0.4531)  cardinality_error_4_unscaled: 3.8000 (3.4419)  loss_feature_4_unscaled: 0.6120 (0.6395)  time: 1.9079  data: 0.0050  max mem: 1340\n",
      "Epoch: [4] Total time: 0:03:20 (1.9088 s / it)\n",
      "Averaged stats: lr: 0.000100  class_error: 84.00  loss: 20.1028 (20.7144)  loss_ce: 0.6369 (0.6399)  loss_bbox: 1.2037 (1.2167)  loss_giou: 0.8918 (0.9115)  loss_feature: 0.6111 (0.6391)  loss_ce_0: 0.6185 (0.6224)  loss_bbox_0: 1.3371 (1.3337)  loss_giou_0: 0.9144 (0.9611)  loss_feature_0: 0.6306 (0.6568)  loss_ce_1: 0.6409 (0.6344)  loss_bbox_1: 1.2514 (1.2719)  loss_giou_1: 0.8819 (0.9235)  loss_feature_1: 0.6278 (0.6552)  loss_ce_2: 0.6364 (0.6398)  loss_bbox_2: 1.2219 (1.2369)  loss_giou_2: 0.9105 (0.9162)  loss_feature_2: 0.6183 (0.6481)  loss_ce_3: 0.6400 (0.6420)  loss_bbox_3: 1.1763 (1.2124)  loss_giou_3: 0.8728 (0.9093)  loss_feature_3: 0.6160 (0.6436)  loss_ce_4: 0.6356 (0.6406)  loss_bbox_4: 1.2055 (1.2139)  loss_giou_4: 0.8937 (0.9062)  loss_feature_4: 0.6120 (0.6395)  loss_ce_unscaled: 0.6369 (0.6399)  class_error_unscaled: 96.0000 (90.0952)  loss_bbox_unscaled: 0.2407 (0.2433)  loss_giou_unscaled: 0.4459 (0.4557)  cardinality_error_unscaled: 3.6000 (3.5962)  loss_feature_unscaled: 0.6111 (0.6391)  loss_ce_0_unscaled: 0.6185 (0.6224)  loss_bbox_0_unscaled: 0.2674 (0.2667)  loss_giou_0_unscaled: 0.4572 (0.4805)  cardinality_error_0_unscaled: 3.2000 (4.7219)  loss_feature_0_unscaled: 0.6306 (0.6568)  loss_ce_1_unscaled: 0.6409 (0.6344)  loss_bbox_1_unscaled: 0.2503 (0.2544)  loss_giou_1_unscaled: 0.4409 (0.4617)  cardinality_error_1_unscaled: 3.2000 (4.1810)  loss_feature_1_unscaled: 0.6278 (0.6552)  loss_ce_2_unscaled: 0.6364 (0.6398)  loss_bbox_2_unscaled: 0.2444 (0.2474)  loss_giou_2_unscaled: 0.4552 (0.4581)  cardinality_error_2_unscaled: 2.2000 (3.7562)  loss_feature_2_unscaled: 0.6183 (0.6481)  loss_ce_3_unscaled: 0.6400 (0.6420)  loss_bbox_3_unscaled: 0.2353 (0.2425)  loss_giou_3_unscaled: 0.4364 (0.4546)  cardinality_error_3_unscaled: 2.6000 (3.2076)  loss_feature_3_unscaled: 0.6160 (0.6436)  loss_ce_4_unscaled: 0.6356 (0.6406)  loss_bbox_4_unscaled: 0.2411 (0.2428)  loss_giou_4_unscaled: 0.4468 (0.4531)  cardinality_error_4_unscaled: 3.8000 (3.4419)  loss_feature_4_unscaled: 0.6120 (0.6395)\n",
      "Epoch: [5]  [  0/105]  eta: 0:06:47  lr: 0.000100  class_error: 76.00  loss: 20.6507 (20.6507)  loss_ce: 0.6369 (0.6369)  loss_bbox: 1.2298 (1.2298)  loss_giou: 0.9352 (0.9352)  loss_feature: 0.6448 (0.6448)  loss_ce_0: 0.6302 (0.6302)  loss_bbox_0: 1.3665 (1.3665)  loss_giou_0: 0.9288 (0.9288)  loss_feature_0: 0.6577 (0.6577)  loss_ce_1: 0.6404 (0.6404)  loss_bbox_1: 1.1922 (1.1922)  loss_giou_1: 0.9520 (0.9520)  loss_feature_1: 0.6583 (0.6583)  loss_ce_2: 0.6291 (0.6291)  loss_bbox_2: 1.1806 (1.1806)  loss_giou_2: 0.8942 (0.8942)  loss_feature_2: 0.6515 (0.6515)  loss_ce_3: 0.6337 (0.6337)  loss_bbox_3: 1.2561 (1.2561)  loss_giou_3: 0.9163 (0.9163)  loss_feature_3: 0.6470 (0.6470)  loss_ce_4: 0.6353 (0.6353)  loss_bbox_4: 1.1836 (1.1836)  loss_giou_4: 0.9058 (0.9058)  loss_feature_4: 0.6447 (0.6447)  loss_ce_unscaled: 0.6369 (0.6369)  class_error_unscaled: 76.0000 (76.0000)  loss_bbox_unscaled: 0.2460 (0.2460)  loss_giou_unscaled: 0.4676 (0.4676)  cardinality_error_unscaled: 5.2000 (5.2000)  loss_feature_unscaled: 0.6448 (0.6448)  loss_ce_0_unscaled: 0.6302 (0.6302)  loss_bbox_0_unscaled: 0.2733 (0.2733)  loss_giou_0_unscaled: 0.4644 (0.4644)  cardinality_error_0_unscaled: 7.8000 (7.8000)  loss_feature_0_unscaled: 0.6577 (0.6577)  loss_ce_1_unscaled: 0.6404 (0.6404)  loss_bbox_1_unscaled: 0.2384 (0.2384)  loss_giou_1_unscaled: 0.4760 (0.4760)  cardinality_error_1_unscaled: 6.8000 (6.8000)  loss_feature_1_unscaled: 0.6583 (0.6583)  loss_ce_2_unscaled: 0.6291 (0.6291)  loss_bbox_2_unscaled: 0.2361 (0.2361)  loss_giou_2_unscaled: 0.4471 (0.4471)  cardinality_error_2_unscaled: 6.0000 (6.0000)  loss_feature_2_unscaled: 0.6515 (0.6515)  loss_ce_3_unscaled: 0.6337 (0.6337)  loss_bbox_3_unscaled: 0.2512 (0.2512)  loss_giou_3_unscaled: 0.4581 (0.4581)  cardinality_error_3_unscaled: 3.6000 (3.6000)  loss_feature_3_unscaled: 0.6470 (0.6470)  loss_ce_4_unscaled: 0.6353 (0.6353)  loss_bbox_4_unscaled: 0.2367 (0.2367)  loss_giou_4_unscaled: 0.4529 (0.4529)  cardinality_error_4_unscaled: 4.0000 (4.0000)  loss_feature_4_unscaled: 0.6447 (0.6447)  time: 3.8775  data: 1.8955  max mem: 1340\n",
      "Epoch: [5]  [ 10/105]  eta: 0:03:13  lr: 0.000100  class_error: 100.00  loss: 20.4436 (20.5416)  loss_ce: 0.6588 (0.6530)  loss_bbox: 1.1608 (1.1900)  loss_giou: 0.8906 (0.8949)  loss_feature: 0.6247 (0.6283)  loss_ce_0: 0.6319 (0.6271)  loss_bbox_0: 1.3301 (1.3363)  loss_giou_0: 0.9362 (0.9668)  loss_feature_0: 0.6476 (0.6495)  loss_ce_1: 0.6400 (0.6332)  loss_bbox_1: 1.2146 (1.2578)  loss_giou_1: 0.9633 (0.9563)  loss_feature_1: 0.6477 (0.6468)  loss_ce_2: 0.6427 (0.6430)  loss_bbox_2: 1.1763 (1.1848)  loss_giou_2: 0.9004 (0.9053)  loss_feature_2: 0.6382 (0.6384)  loss_ce_3: 0.6441 (0.6548)  loss_bbox_3: 1.1658 (1.1931)  loss_giou_3: 0.8813 (0.8939)  loss_feature_3: 0.6308 (0.6334)  loss_ce_4: 0.6489 (0.6526)  loss_bbox_4: 1.1836 (1.1879)  loss_giou_4: 0.8755 (0.8853)  loss_feature_4: 0.6260 (0.6291)  loss_ce_unscaled: 0.6588 (0.6530)  class_error_unscaled: 96.0000 (94.5455)  loss_bbox_unscaled: 0.2322 (0.2380)  loss_giou_unscaled: 0.4453 (0.4475)  cardinality_error_unscaled: 4.0000 (3.7091)  loss_feature_unscaled: 0.6247 (0.6283)  loss_ce_0_unscaled: 0.6319 (0.6271)  loss_bbox_0_unscaled: 0.2660 (0.2673)  loss_giou_0_unscaled: 0.4681 (0.4834)  cardinality_error_0_unscaled: 7.8000 (7.7455)  loss_feature_0_unscaled: 0.6476 (0.6495)  loss_ce_1_unscaled: 0.6400 (0.6332)  loss_bbox_1_unscaled: 0.2429 (0.2516)  loss_giou_1_unscaled: 0.4816 (0.4782)  cardinality_error_1_unscaled: 4.2000 (4.3091)  loss_feature_1_unscaled: 0.6477 (0.6468)  loss_ce_2_unscaled: 0.6427 (0.6430)  loss_bbox_2_unscaled: 0.2353 (0.2370)  loss_giou_2_unscaled: 0.4502 (0.4526)  cardinality_error_2_unscaled: 4.6000 (5.0364)  loss_feature_2_unscaled: 0.6382 (0.6384)  loss_ce_3_unscaled: 0.6441 (0.6548)  loss_bbox_3_unscaled: 0.2332 (0.2386)  loss_giou_3_unscaled: 0.4406 (0.4469)  cardinality_error_3_unscaled: 3.4000 (3.6000)  loss_feature_3_unscaled: 0.6308 (0.6334)  loss_ce_4_unscaled: 0.6489 (0.6526)  loss_bbox_4_unscaled: 0.2367 (0.2376)  loss_giou_4_unscaled: 0.4378 (0.4427)  cardinality_error_4_unscaled: 3.4000 (3.2909)  loss_feature_4_unscaled: 0.6260 (0.6291)  time: 2.0378  data: 0.1766  max mem: 1340\n",
      "Epoch: [5]  [ 20/105]  eta: 0:02:44  lr: 0.000100  class_error: 80.00  loss: 20.3275 (20.5370)  loss_ce: 0.6448 (0.6424)  loss_bbox: 1.1608 (1.2029)  loss_giou: 0.8850 (0.9034)  loss_feature: 0.6254 (0.6324)  loss_ce_0: 0.6274 (0.6251)  loss_bbox_0: 1.2752 (1.3162)  loss_giou_0: 0.9342 (0.9410)  loss_feature_0: 0.6476 (0.6525)  loss_ce_1: 0.6312 (0.6342)  loss_bbox_1: 1.2146 (1.2501)  loss_giou_1: 0.9465 (0.9374)  loss_feature_1: 0.6477 (0.6501)  loss_ce_2: 0.6422 (0.6378)  loss_bbox_2: 1.1742 (1.1933)  loss_giou_2: 0.8934 (0.9067)  loss_feature_2: 0.6382 (0.6416)  loss_ce_3: 0.6368 (0.6459)  loss_bbox_3: 1.1658 (1.2008)  loss_giou_3: 0.8813 (0.9065)  loss_feature_3: 0.6308 (0.6368)  loss_ce_4: 0.6354 (0.6399)  loss_bbox_4: 1.1440 (1.2025)  loss_giou_4: 0.8611 (0.9045)  loss_feature_4: 0.6263 (0.6330)  loss_ce_unscaled: 0.6448 (0.6424)  class_error_unscaled: 96.0000 (93.7143)  loss_bbox_unscaled: 0.2322 (0.2406)  loss_giou_unscaled: 0.4425 (0.4517)  cardinality_error_unscaled: 3.8000 (3.6095)  loss_feature_unscaled: 0.6254 (0.6324)  loss_ce_0_unscaled: 0.6274 (0.6251)  loss_bbox_0_unscaled: 0.2550 (0.2632)  loss_giou_0_unscaled: 0.4671 (0.4705)  cardinality_error_0_unscaled: 6.6000 (7.1619)  loss_feature_0_unscaled: 0.6476 (0.6525)  loss_ce_1_unscaled: 0.6312 (0.6342)  loss_bbox_1_unscaled: 0.2429 (0.2500)  loss_giou_1_unscaled: 0.4732 (0.4687)  cardinality_error_1_unscaled: 3.4000 (3.8762)  loss_feature_1_unscaled: 0.6477 (0.6501)  loss_ce_2_unscaled: 0.6422 (0.6378)  loss_bbox_2_unscaled: 0.2348 (0.2387)  loss_giou_2_unscaled: 0.4467 (0.4533)  cardinality_error_2_unscaled: 3.2000 (4.4000)  loss_feature_2_unscaled: 0.6382 (0.6416)  loss_ce_3_unscaled: 0.6368 (0.6459)  loss_bbox_3_unscaled: 0.2332 (0.2402)  loss_giou_3_unscaled: 0.4406 (0.4533)  cardinality_error_3_unscaled: 3.6000 (3.6952)  loss_feature_3_unscaled: 0.6308 (0.6368)  loss_ce_4_unscaled: 0.6354 (0.6399)  loss_bbox_4_unscaled: 0.2288 (0.2405)  loss_giou_4_unscaled: 0.4306 (0.4522)  cardinality_error_4_unscaled: 3.4000 (3.3619)  loss_feature_4_unscaled: 0.6263 (0.6330)  time: 1.8430  data: 0.0046  max mem: 1340\n",
      "Epoch: [5]  [ 30/105]  eta: 0:02:23  lr: 0.000100  class_error: 100.00  loss: 20.2976 (20.4871)  loss_ce: 0.6385 (0.6425)  loss_bbox: 1.1595 (1.1961)  loss_giou: 0.8790 (0.9075)  loss_feature: 0.6426 (0.6392)  loss_ce_0: 0.6232 (0.6273)  loss_bbox_0: 1.2689 (1.3063)  loss_giou_0: 0.9052 (0.9388)  loss_feature_0: 0.6610 (0.6584)  loss_ce_1: 0.6401 (0.6373)  loss_bbox_1: 1.1706 (1.2183)  loss_giou_1: 0.8704 (0.9192)  loss_feature_1: 0.6586 (0.6559)  loss_ce_2: 0.6372 (0.6381)  loss_bbox_2: 1.1742 (1.1859)  loss_giou_2: 0.8682 (0.8983)  loss_feature_2: 0.6504 (0.6477)  loss_ce_3: 0.6313 (0.6440)  loss_bbox_3: 1.1734 (1.1937)  loss_giou_3: 0.8918 (0.9055)  loss_feature_3: 0.6442 (0.6429)  loss_ce_4: 0.6316 (0.6388)  loss_bbox_4: 1.1161 (1.1934)  loss_giou_4: 0.8958 (0.9123)  loss_feature_4: 0.6435 (0.6396)  loss_ce_unscaled: 0.6385 (0.6425)  class_error_unscaled: 96.0000 (93.5484)  loss_bbox_unscaled: 0.2319 (0.2392)  loss_giou_unscaled: 0.4395 (0.4537)  cardinality_error_unscaled: 3.6000 (3.4968)  loss_feature_unscaled: 0.6426 (0.6392)  loss_ce_0_unscaled: 0.6232 (0.6273)  loss_bbox_0_unscaled: 0.2538 (0.2613)  loss_giou_0_unscaled: 0.4526 (0.4694)  cardinality_error_0_unscaled: 5.0000 (6.1355)  loss_feature_0_unscaled: 0.6610 (0.6584)  loss_ce_1_unscaled: 0.6401 (0.6373)  loss_bbox_1_unscaled: 0.2341 (0.2437)  loss_giou_1_unscaled: 0.4352 (0.4596)  cardinality_error_1_unscaled: 2.4000 (3.5161)  loss_feature_1_unscaled: 0.6586 (0.6559)  loss_ce_2_unscaled: 0.6372 (0.6381)  loss_bbox_2_unscaled: 0.2348 (0.2372)  loss_giou_2_unscaled: 0.4341 (0.4492)  cardinality_error_2_unscaled: 2.8000 (4.1097)  loss_feature_2_unscaled: 0.6504 (0.6477)  loss_ce_3_unscaled: 0.6313 (0.6440)  loss_bbox_3_unscaled: 0.2347 (0.2387)  loss_giou_3_unscaled: 0.4459 (0.4527)  cardinality_error_3_unscaled: 3.2000 (3.5290)  loss_feature_3_unscaled: 0.6442 (0.6429)  loss_ce_4_unscaled: 0.6316 (0.6388)  loss_bbox_4_unscaled: 0.2232 (0.2387)  loss_giou_4_unscaled: 0.4479 (0.4561)  cardinality_error_4_unscaled: 3.4000 (3.2258)  loss_feature_4_unscaled: 0.6435 (0.6396)  time: 1.8552  data: 0.0047  max mem: 1340\n",
      "Epoch: [5]  [ 40/105]  eta: 0:02:03  lr: 0.000100  class_error: 92.00  loss: 20.0452 (20.3985)  loss_ce: 0.6514 (0.6454)  loss_bbox: 1.1796 (1.2056)  loss_giou: 0.8588 (0.8959)  loss_feature: 0.6272 (0.6328)  loss_ce_0: 0.6397 (0.6322)  loss_bbox_0: 1.2995 (1.3122)  loss_giou_0: 0.8946 (0.9370)  loss_feature_0: 0.6442 (0.6514)  loss_ce_1: 0.6401 (0.6393)  loss_bbox_1: 1.1444 (1.2105)  loss_giou_1: 0.8192 (0.9025)  loss_feature_1: 0.6418 (0.6489)  loss_ce_2: 0.6341 (0.6377)  loss_bbox_2: 1.1555 (1.1861)  loss_giou_2: 0.8410 (0.8879)  loss_feature_2: 0.6341 (0.6408)  loss_ce_3: 0.6451 (0.6442)  loss_bbox_3: 1.1724 (1.1910)  loss_giou_3: 0.8547 (0.8942)  loss_feature_3: 0.6285 (0.6359)  loss_ce_4: 0.6395 (0.6403)  loss_bbox_4: 1.1965 (1.1941)  loss_giou_4: 0.8798 (0.8995)  loss_feature_4: 0.6272 (0.6331)  loss_ce_unscaled: 0.6514 (0.6454)  class_error_unscaled: 100.0000 (94.7317)  loss_bbox_unscaled: 0.2359 (0.2411)  loss_giou_unscaled: 0.4294 (0.4480)  cardinality_error_unscaled: 3.8000 (3.6927)  loss_feature_unscaled: 0.6272 (0.6328)  loss_ce_0_unscaled: 0.6397 (0.6322)  loss_bbox_0_unscaled: 0.2599 (0.2624)  loss_giou_0_unscaled: 0.4473 (0.4685)  cardinality_error_0_unscaled: 4.6000 (6.1512)  loss_feature_0_unscaled: 0.6442 (0.6514)  loss_ce_1_unscaled: 0.6401 (0.6393)  loss_bbox_1_unscaled: 0.2289 (0.2421)  loss_giou_1_unscaled: 0.4096 (0.4513)  cardinality_error_1_unscaled: 2.8000 (3.4829)  loss_feature_1_unscaled: 0.6418 (0.6489)  loss_ce_2_unscaled: 0.6341 (0.6377)  loss_bbox_2_unscaled: 0.2311 (0.2372)  loss_giou_2_unscaled: 0.4205 (0.4439)  cardinality_error_2_unscaled: 2.6000 (3.6585)  loss_feature_2_unscaled: 0.6341 (0.6408)  loss_ce_3_unscaled: 0.6451 (0.6442)  loss_bbox_3_unscaled: 0.2345 (0.2382)  loss_giou_3_unscaled: 0.4274 (0.4471)  cardinality_error_3_unscaled: 3.0000 (3.3463)  loss_feature_3_unscaled: 0.6285 (0.6359)  loss_ce_4_unscaled: 0.6395 (0.6403)  loss_bbox_4_unscaled: 0.2393 (0.2388)  loss_giou_4_unscaled: 0.4399 (0.4497)  cardinality_error_4_unscaled: 3.6000 (3.4000)  loss_feature_4_unscaled: 0.6272 (0.6331)  time: 1.8493  data: 0.0046  max mem: 1340\n",
      "Epoch: [5]  [ 50/105]  eta: 0:01:44  lr: 0.000100  class_error: 92.00  loss: 20.2513 (20.5029)  loss_ce: 0.6514 (0.6452)  loss_bbox: 1.2115 (1.2140)  loss_giou: 0.8680 (0.9009)  loss_feature: 0.6188 (0.6335)  loss_ce_0: 0.6461 (0.6347)  loss_bbox_0: 1.3011 (1.3142)  loss_giou_0: 0.9391 (0.9414)  loss_feature_0: 0.6382 (0.6518)  loss_ce_1: 0.6541 (0.6407)  loss_bbox_1: 1.2268 (1.2287)  loss_giou_1: 0.8858 (0.9132)  loss_feature_1: 0.6342 (0.6491)  loss_ce_2: 0.6381 (0.6401)  loss_bbox_2: 1.2069 (1.1975)  loss_giou_2: 0.8452 (0.8969)  loss_feature_2: 0.6241 (0.6413)  loss_ce_3: 0.6460 (0.6456)  loss_bbox_3: 1.2144 (1.1989)  loss_giou_3: 0.8795 (0.9004)  loss_feature_3: 0.6209 (0.6368)  loss_ce_4: 0.6410 (0.6405)  loss_bbox_4: 1.1965 (1.2000)  loss_giou_4: 0.8499 (0.9036)  loss_feature_4: 0.6186 (0.6339)  loss_ce_unscaled: 0.6514 (0.6452)  class_error_unscaled: 92.0000 (93.9608)  loss_bbox_unscaled: 0.2423 (0.2428)  loss_giou_unscaled: 0.4340 (0.4505)  cardinality_error_unscaled: 3.4000 (3.5176)  loss_feature_unscaled: 0.6188 (0.6335)  loss_ce_0_unscaled: 0.6461 (0.6347)  loss_bbox_0_unscaled: 0.2602 (0.2628)  loss_giou_0_unscaled: 0.4696 (0.4707)  cardinality_error_0_unscaled: 2.6000 (5.2863)  loss_feature_0_unscaled: 0.6382 (0.6518)  loss_ce_1_unscaled: 0.6541 (0.6407)  loss_bbox_1_unscaled: 0.2454 (0.2457)  loss_giou_1_unscaled: 0.4429 (0.4566)  cardinality_error_1_unscaled: 3.4000 (3.6196)  loss_feature_1_unscaled: 0.6342 (0.6491)  loss_ce_2_unscaled: 0.6381 (0.6401)  loss_bbox_2_unscaled: 0.2414 (0.2395)  loss_giou_2_unscaled: 0.4226 (0.4484)  cardinality_error_2_unscaled: 2.8000 (3.7569)  loss_feature_2_unscaled: 0.6241 (0.6413)  loss_ce_3_unscaled: 0.6460 (0.6456)  loss_bbox_3_unscaled: 0.2429 (0.2398)  loss_giou_3_unscaled: 0.4398 (0.4502)  cardinality_error_3_unscaled: 3.0000 (3.3843)  loss_feature_3_unscaled: 0.6209 (0.6368)  loss_ce_4_unscaled: 0.6410 (0.6405)  loss_bbox_4_unscaled: 0.2393 (0.2400)  loss_giou_4_unscaled: 0.4250 (0.4518)  cardinality_error_4_unscaled: 3.2000 (3.3294)  loss_feature_4_unscaled: 0.6186 (0.6339)  time: 1.8694  data: 0.0047  max mem: 1340\n",
      "Epoch: [5]  [ 60/105]  eta: 0:01:24  lr: 0.000100  class_error: 92.00  loss: 20.4417 (20.4174)  loss_ce: 0.6331 (0.6422)  loss_bbox: 1.1975 (1.2110)  loss_giou: 0.8892 (0.8932)  loss_feature: 0.6188 (0.6308)  loss_ce_0: 0.6333 (0.6347)  loss_bbox_0: 1.2801 (1.3106)  loss_giou_0: 0.9231 (0.9330)  loss_feature_0: 0.6382 (0.6487)  loss_ce_1: 0.6438 (0.6407)  loss_bbox_1: 1.2268 (1.2236)  loss_giou_1: 0.8671 (0.9037)  loss_feature_1: 0.6342 (0.6457)  loss_ce_2: 0.6375 (0.6395)  loss_bbox_2: 1.1756 (1.1962)  loss_giou_2: 0.8870 (0.8937)  loss_feature_2: 0.6241 (0.6384)  loss_ce_3: 0.6406 (0.6436)  loss_bbox_3: 1.2190 (1.1949)  loss_giou_3: 0.8871 (0.8946)  loss_feature_3: 0.6209 (0.6339)  loss_ce_4: 0.6352 (0.6376)  loss_bbox_4: 1.1749 (1.1983)  loss_giou_4: 0.8640 (0.8974)  loss_feature_4: 0.6186 (0.6312)  loss_ce_unscaled: 0.6331 (0.6422)  class_error_unscaled: 92.0000 (94.5574)  loss_bbox_unscaled: 0.2395 (0.2422)  loss_giou_unscaled: 0.4446 (0.4466)  cardinality_error_unscaled: 3.2000 (3.5475)  loss_feature_unscaled: 0.6188 (0.6308)  loss_ce_0_unscaled: 0.6333 (0.6347)  loss_bbox_0_unscaled: 0.2560 (0.2621)  loss_giou_0_unscaled: 0.4616 (0.4665)  cardinality_error_0_unscaled: 2.0000 (5.0885)  loss_feature_0_unscaled: 0.6382 (0.6487)  loss_ce_1_unscaled: 0.6438 (0.6407)  loss_bbox_1_unscaled: 0.2454 (0.2447)  loss_giou_1_unscaled: 0.4336 (0.4518)  cardinality_error_1_unscaled: 3.4000 (3.5934)  loss_feature_1_unscaled: 0.6342 (0.6457)  loss_ce_2_unscaled: 0.6375 (0.6395)  loss_bbox_2_unscaled: 0.2351 (0.2392)  loss_giou_2_unscaled: 0.4435 (0.4469)  cardinality_error_2_unscaled: 3.6000 (3.6328)  loss_feature_2_unscaled: 0.6241 (0.6384)  loss_ce_3_unscaled: 0.6406 (0.6436)  loss_bbox_3_unscaled: 0.2438 (0.2390)  loss_giou_3_unscaled: 0.4435 (0.4473)  cardinality_error_3_unscaled: 3.2000 (3.3541)  loss_feature_3_unscaled: 0.6209 (0.6339)  loss_ce_4_unscaled: 0.6352 (0.6376)  loss_bbox_4_unscaled: 0.2350 (0.2397)  loss_giou_4_unscaled: 0.4320 (0.4487)  cardinality_error_4_unscaled: 3.0000 (3.3115)  loss_feature_4_unscaled: 0.6186 (0.6312)  time: 1.8638  data: 0.0048  max mem: 1340\n",
      "Epoch: [5]  [ 70/105]  eta: 0:01:05  lr: 0.000100  class_error: 92.00  loss: 20.0467 (20.3439)  loss_ce: 0.6353 (0.6441)  loss_bbox: 1.1231 (1.2046)  loss_giou: 0.8329 (0.8848)  loss_feature: 0.6232 (0.6315)  loss_ce_0: 0.6341 (0.6349)  loss_bbox_0: 1.2065 (1.2987)  loss_giou_0: 0.8299 (0.9219)  loss_feature_0: 0.6432 (0.6492)  loss_ce_1: 0.6477 (0.6416)  loss_bbox_1: 1.1484 (1.2169)  loss_giou_1: 0.8309 (0.8963)  loss_feature_1: 0.6358 (0.6460)  loss_ce_2: 0.6361 (0.6393)  loss_bbox_2: 1.1511 (1.1927)  loss_giou_2: 0.8690 (0.8865)  loss_feature_2: 0.6310 (0.6389)  loss_ce_3: 0.6406 (0.6445)  loss_bbox_3: 1.1738 (1.1952)  loss_giou_3: 0.8429 (0.8878)  loss_feature_3: 0.6273 (0.6344)  loss_ce_4: 0.6352 (0.6394)  loss_bbox_4: 1.1343 (1.1919)  loss_giou_4: 0.8640 (0.8906)  loss_feature_4: 0.6245 (0.6319)  loss_ce_unscaled: 0.6353 (0.6441)  class_error_unscaled: 96.0000 (94.4789)  loss_bbox_unscaled: 0.2246 (0.2409)  loss_giou_unscaled: 0.4165 (0.4424)  cardinality_error_unscaled: 3.0000 (3.4197)  loss_feature_unscaled: 0.6232 (0.6315)  loss_ce_0_unscaled: 0.6341 (0.6349)  loss_bbox_0_unscaled: 0.2413 (0.2597)  loss_giou_0_unscaled: 0.4150 (0.4609)  cardinality_error_0_unscaled: 5.6000 (5.3690)  loss_feature_0_unscaled: 0.6432 (0.6492)  loss_ce_1_unscaled: 0.6477 (0.6416)  loss_bbox_1_unscaled: 0.2297 (0.2434)  loss_giou_1_unscaled: 0.4155 (0.4481)  cardinality_error_1_unscaled: 3.0000 (3.5239)  loss_feature_1_unscaled: 0.6358 (0.6460)  loss_ce_2_unscaled: 0.6361 (0.6393)  loss_bbox_2_unscaled: 0.2302 (0.2385)  loss_giou_2_unscaled: 0.4345 (0.4433)  cardinality_error_2_unscaled: 2.6000 (3.4197)  loss_feature_2_unscaled: 0.6310 (0.6389)  loss_ce_3_unscaled: 0.6406 (0.6445)  loss_bbox_3_unscaled: 0.2348 (0.2390)  loss_giou_3_unscaled: 0.4215 (0.4439)  cardinality_error_3_unscaled: 2.6000 (3.2423)  loss_feature_3_unscaled: 0.6273 (0.6344)  loss_ce_4_unscaled: 0.6352 (0.6394)  loss_bbox_4_unscaled: 0.2269 (0.2384)  loss_giou_4_unscaled: 0.4320 (0.4453)  cardinality_error_4_unscaled: 2.8000 (3.2085)  loss_feature_4_unscaled: 0.6245 (0.6319)  time: 1.8145  data: 0.0046  max mem: 1340\n",
      "Epoch: [5]  [ 80/105]  eta: 0:00:47  lr: 0.000100  class_error: 96.00  loss: 20.0467 (20.2885)  loss_ce: 0.6402 (0.6429)  loss_bbox: 1.1794 (1.2035)  loss_giou: 0.8370 (0.8814)  loss_feature: 0.6232 (0.6300)  loss_ce_0: 0.6366 (0.6366)  loss_bbox_0: 1.2648 (1.2975)  loss_giou_0: 0.8989 (0.9171)  loss_feature_0: 0.6432 (0.6479)  loss_ce_1: 0.6365 (0.6412)  loss_bbox_1: 1.1985 (1.2131)  loss_giou_1: 0.8536 (0.8904)  loss_feature_1: 0.6367 (0.6443)  loss_ce_2: 0.6279 (0.6380)  loss_bbox_2: 1.1593 (1.1925)  loss_giou_2: 0.8329 (0.8823)  loss_feature_2: 0.6313 (0.6372)  loss_ce_3: 0.6402 (0.6432)  loss_bbox_3: 1.1628 (1.1897)  loss_giou_3: 0.8429 (0.8834)  loss_feature_3: 0.6273 (0.6328)  loss_ce_4: 0.6331 (0.6375)  loss_bbox_4: 1.1550 (1.1902)  loss_giou_4: 0.8525 (0.8855)  loss_feature_4: 0.6245 (0.6303)  loss_ce_unscaled: 0.6402 (0.6429)  class_error_unscaled: 96.0000 (94.4691)  loss_bbox_unscaled: 0.2359 (0.2407)  loss_giou_unscaled: 0.4185 (0.4407)  cardinality_error_unscaled: 3.0000 (3.3827)  loss_feature_unscaled: 0.6232 (0.6300)  loss_ce_0_unscaled: 0.6366 (0.6366)  loss_bbox_0_unscaled: 0.2530 (0.2595)  loss_giou_0_unscaled: 0.4495 (0.4585)  cardinality_error_0_unscaled: 6.8000 (5.5235)  loss_feature_0_unscaled: 0.6432 (0.6479)  loss_ce_1_unscaled: 0.6365 (0.6412)  loss_bbox_1_unscaled: 0.2397 (0.2426)  loss_giou_1_unscaled: 0.4268 (0.4452)  cardinality_error_1_unscaled: 2.8000 (3.4716)  loss_feature_1_unscaled: 0.6367 (0.6443)  loss_ce_2_unscaled: 0.6279 (0.6380)  loss_bbox_2_unscaled: 0.2319 (0.2385)  loss_giou_2_unscaled: 0.4164 (0.4411)  cardinality_error_2_unscaled: 2.4000 (3.3630)  loss_feature_2_unscaled: 0.6313 (0.6372)  loss_ce_3_unscaled: 0.6402 (0.6432)  loss_bbox_3_unscaled: 0.2326 (0.2379)  loss_giou_3_unscaled: 0.4215 (0.4417)  cardinality_error_3_unscaled: 2.4000 (3.1556)  loss_feature_3_unscaled: 0.6273 (0.6328)  loss_ce_4_unscaled: 0.6331 (0.6375)  loss_bbox_4_unscaled: 0.2310 (0.2380)  loss_giou_4_unscaled: 0.4262 (0.4428)  cardinality_error_4_unscaled: 2.4000 (3.1185)  loss_feature_4_unscaled: 0.6245 (0.6303)  time: 1.8658  data: 0.0048  max mem: 1340\n",
      "Epoch: [5]  [ 90/105]  eta: 0:00:28  lr: 0.000100  class_error: 88.00  loss: 20.1395 (20.3064)  loss_ce: 0.6331 (0.6414)  loss_bbox: 1.2096 (1.2050)  loss_giou: 0.8700 (0.8845)  loss_feature: 0.6269 (0.6301)  loss_ce_0: 0.6249 (0.6341)  loss_bbox_0: 1.2872 (1.2974)  loss_giou_0: 0.9005 (0.9162)  loss_feature_0: 0.6466 (0.6483)  loss_ce_1: 0.6329 (0.6403)  loss_bbox_1: 1.2024 (1.2156)  loss_giou_1: 0.8598 (0.8913)  loss_feature_1: 0.6378 (0.6439)  loss_ce_2: 0.6264 (0.6365)  loss_bbox_2: 1.1969 (1.1980)  loss_giou_2: 0.8748 (0.8867)  loss_feature_2: 0.6317 (0.6370)  loss_ce_3: 0.6297 (0.6416)  loss_bbox_3: 1.1722 (1.1928)  loss_giou_3: 0.8649 (0.8865)  loss_feature_3: 0.6285 (0.6327)  loss_ce_4: 0.6199 (0.6361)  loss_bbox_4: 1.2111 (1.1931)  loss_giou_4: 0.8708 (0.8870)  loss_feature_4: 0.6275 (0.6303)  loss_ce_unscaled: 0.6331 (0.6414)  class_error_unscaled: 96.0000 (94.5055)  loss_bbox_unscaled: 0.2419 (0.2410)  loss_giou_unscaled: 0.4350 (0.4423)  cardinality_error_unscaled: 3.4000 (3.4022)  loss_feature_unscaled: 0.6269 (0.6301)  loss_ce_0_unscaled: 0.6249 (0.6341)  loss_bbox_0_unscaled: 0.2574 (0.2595)  loss_giou_0_unscaled: 0.4502 (0.4581)  cardinality_error_0_unscaled: 2.8000 (5.1297)  loss_feature_0_unscaled: 0.6466 (0.6483)  loss_ce_1_unscaled: 0.6329 (0.6403)  loss_bbox_1_unscaled: 0.2405 (0.2431)  loss_giou_1_unscaled: 0.4299 (0.4457)  cardinality_error_1_unscaled: 2.2000 (3.3275)  loss_feature_1_unscaled: 0.6378 (0.6439)  loss_ce_2_unscaled: 0.6264 (0.6365)  loss_bbox_2_unscaled: 0.2394 (0.2396)  loss_giou_2_unscaled: 0.4374 (0.4434)  cardinality_error_2_unscaled: 2.2000 (3.2593)  loss_feature_2_unscaled: 0.6317 (0.6370)  loss_ce_3_unscaled: 0.6297 (0.6416)  loss_bbox_3_unscaled: 0.2344 (0.2386)  loss_giou_3_unscaled: 0.4324 (0.4433)  cardinality_error_3_unscaled: 2.4000 (3.0615)  loss_feature_3_unscaled: 0.6285 (0.6327)  loss_ce_4_unscaled: 0.6199 (0.6361)  loss_bbox_4_unscaled: 0.2422 (0.2386)  loss_giou_4_unscaled: 0.4354 (0.4435)  cardinality_error_4_unscaled: 2.4000 (3.0615)  loss_feature_4_unscaled: 0.6275 (0.6303)  time: 1.9054  data: 0.0049  max mem: 1340\n",
      "Epoch: [5]  [100/105]  eta: 0:00:09  lr: 0.000100  class_error: 84.00  loss: 20.5523 (20.3538)  loss_ce: 0.6358 (0.6424)  loss_bbox: 1.1806 (1.2036)  loss_giou: 0.9139 (0.8898)  loss_feature: 0.6374 (0.6294)  loss_ce_0: 0.6100 (0.6301)  loss_bbox_0: 1.3568 (1.3073)  loss_giou_0: 0.9380 (0.9255)  loss_feature_0: 0.6591 (0.6479)  loss_ce_1: 0.6449 (0.6414)  loss_bbox_1: 1.2297 (1.2169)  loss_giou_1: 0.9016 (0.8962)  loss_feature_1: 0.6462 (0.6433)  loss_ce_2: 0.6382 (0.6394)  loss_bbox_2: 1.2021 (1.1986)  loss_giou_2: 0.9175 (0.8934)  loss_feature_2: 0.6396 (0.6363)  loss_ce_3: 0.6444 (0.6447)  loss_bbox_3: 1.2161 (1.1916)  loss_giou_3: 0.9053 (0.8921)  loss_feature_3: 0.6370 (0.6321)  loss_ce_4: 0.6412 (0.6383)  loss_bbox_4: 1.1659 (1.1920)  loss_giou_4: 0.8904 (0.8916)  loss_feature_4: 0.6351 (0.6297)  loss_ce_unscaled: 0.6358 (0.6424)  class_error_unscaled: 92.0000 (93.8614)  loss_bbox_unscaled: 0.2361 (0.2407)  loss_giou_unscaled: 0.4569 (0.4449)  cardinality_error_unscaled: 3.6000 (3.5109)  loss_feature_unscaled: 0.6374 (0.6294)  loss_ce_0_unscaled: 0.6100 (0.6301)  loss_bbox_0_unscaled: 0.2714 (0.2615)  loss_giou_0_unscaled: 0.4690 (0.4628)  cardinality_error_0_unscaled: 2.2000 (4.8851)  loss_feature_0_unscaled: 0.6591 (0.6479)  loss_ce_1_unscaled: 0.6449 (0.6414)  loss_bbox_1_unscaled: 0.2459 (0.2434)  loss_giou_1_unscaled: 0.4508 (0.4481)  cardinality_error_1_unscaled: 2.6000 (3.6000)  loss_feature_1_unscaled: 0.6462 (0.6433)  loss_ce_2_unscaled: 0.6382 (0.6394)  loss_bbox_2_unscaled: 0.2404 (0.2397)  loss_giou_2_unscaled: 0.4587 (0.4467)  cardinality_error_2_unscaled: 2.8000 (3.6475)  loss_feature_2_unscaled: 0.6396 (0.6363)  loss_ce_3_unscaled: 0.6444 (0.6447)  loss_bbox_3_unscaled: 0.2432 (0.2383)  loss_giou_3_unscaled: 0.4526 (0.4460)  cardinality_error_3_unscaled: 3.2000 (3.4178)  loss_feature_3_unscaled: 0.6370 (0.6321)  loss_ce_4_unscaled: 0.6412 (0.6383)  loss_bbox_4_unscaled: 0.2332 (0.2384)  loss_giou_4_unscaled: 0.4452 (0.4458)  cardinality_error_4_unscaled: 3.0000 (3.1782)  loss_feature_4_unscaled: 0.6351 (0.6297)  time: 1.8925  data: 0.0049  max mem: 1340\n",
      "Epoch: [5]  [104/105]  eta: 0:00:01  lr: 0.000100  class_error: 88.00  loss: 20.7161 (20.3592)  loss_ce: 0.6377 (0.6418)  loss_bbox: 1.1806 (1.2041)  loss_giou: 0.9139 (0.8897)  loss_feature: 0.6374 (0.6298)  loss_ce_0: 0.6100 (0.6285)  loss_bbox_0: 1.3620 (1.3142)  loss_giou_0: 0.9925 (0.9284)  loss_feature_0: 0.6591 (0.6484)  loss_ce_1: 0.6498 (0.6410)  loss_bbox_1: 1.2276 (1.2171)  loss_giou_1: 0.9077 (0.8952)  loss_feature_1: 0.6462 (0.6436)  loss_ce_2: 0.6492 (0.6396)  loss_bbox_2: 1.1852 (1.1986)  loss_giou_2: 0.9175 (0.8923)  loss_feature_2: 0.6396 (0.6367)  loss_ce_3: 0.6548 (0.6449)  loss_bbox_3: 1.1912 (1.1911)  loss_giou_3: 0.8909 (0.8902)  loss_feature_3: 0.6370 (0.6325)  loss_ce_4: 0.6441 (0.6382)  loss_bbox_4: 1.1609 (1.1921)  loss_giou_4: 0.8904 (0.8910)  loss_feature_4: 0.6351 (0.6301)  loss_ce_unscaled: 0.6377 (0.6418)  class_error_unscaled: 92.0000 (93.8667)  loss_bbox_unscaled: 0.2361 (0.2408)  loss_giou_unscaled: 0.4569 (0.4449)  cardinality_error_unscaled: 3.6000 (3.4895)  loss_feature_unscaled: 0.6374 (0.6298)  loss_ce_0_unscaled: 0.6100 (0.6285)  loss_bbox_0_unscaled: 0.2724 (0.2628)  loss_giou_0_unscaled: 0.4963 (0.4642)  cardinality_error_0_unscaled: 2.2000 (4.7771)  loss_feature_0_unscaled: 0.6591 (0.6484)  loss_ce_1_unscaled: 0.6498 (0.6410)  loss_bbox_1_unscaled: 0.2455 (0.2434)  loss_giou_1_unscaled: 0.4538 (0.4476)  cardinality_error_1_unscaled: 3.4000 (3.5562)  loss_feature_1_unscaled: 0.6462 (0.6436)  loss_ce_2_unscaled: 0.6492 (0.6396)  loss_bbox_2_unscaled: 0.2370 (0.2397)  loss_giou_2_unscaled: 0.4587 (0.4461)  cardinality_error_2_unscaled: 3.2000 (3.6076)  loss_feature_2_unscaled: 0.6396 (0.6367)  loss_ce_3_unscaled: 0.6548 (0.6449)  loss_bbox_3_unscaled: 0.2382 (0.2382)  loss_giou_3_unscaled: 0.4455 (0.4451)  cardinality_error_3_unscaled: 3.2000 (3.3752)  loss_feature_3_unscaled: 0.6370 (0.6325)  loss_ce_4_unscaled: 0.6441 (0.6382)  loss_bbox_4_unscaled: 0.2322 (0.2384)  loss_giou_4_unscaled: 0.4452 (0.4455)  cardinality_error_4_unscaled: 3.2000 (3.1676)  loss_feature_4_unscaled: 0.6351 (0.6301)  time: 1.9104  data: 0.0049  max mem: 1340\n",
      "Epoch: [5] Total time: 0:03:18 (1.8873 s / it)\n",
      "Averaged stats: lr: 0.000100  class_error: 88.00  loss: 20.7161 (20.3592)  loss_ce: 0.6377 (0.6418)  loss_bbox: 1.1806 (1.2041)  loss_giou: 0.9139 (0.8897)  loss_feature: 0.6374 (0.6298)  loss_ce_0: 0.6100 (0.6285)  loss_bbox_0: 1.3620 (1.3142)  loss_giou_0: 0.9925 (0.9284)  loss_feature_0: 0.6591 (0.6484)  loss_ce_1: 0.6498 (0.6410)  loss_bbox_1: 1.2276 (1.2171)  loss_giou_1: 0.9077 (0.8952)  loss_feature_1: 0.6462 (0.6436)  loss_ce_2: 0.6492 (0.6396)  loss_bbox_2: 1.1852 (1.1986)  loss_giou_2: 0.9175 (0.8923)  loss_feature_2: 0.6396 (0.6367)  loss_ce_3: 0.6548 (0.6449)  loss_bbox_3: 1.1912 (1.1911)  loss_giou_3: 0.8909 (0.8902)  loss_feature_3: 0.6370 (0.6325)  loss_ce_4: 0.6441 (0.6382)  loss_bbox_4: 1.1609 (1.1921)  loss_giou_4: 0.8904 (0.8910)  loss_feature_4: 0.6351 (0.6301)  loss_ce_unscaled: 0.6377 (0.6418)  class_error_unscaled: 92.0000 (93.8667)  loss_bbox_unscaled: 0.2361 (0.2408)  loss_giou_unscaled: 0.4569 (0.4449)  cardinality_error_unscaled: 3.6000 (3.4895)  loss_feature_unscaled: 0.6374 (0.6298)  loss_ce_0_unscaled: 0.6100 (0.6285)  loss_bbox_0_unscaled: 0.2724 (0.2628)  loss_giou_0_unscaled: 0.4963 (0.4642)  cardinality_error_0_unscaled: 2.2000 (4.7771)  loss_feature_0_unscaled: 0.6591 (0.6484)  loss_ce_1_unscaled: 0.6498 (0.6410)  loss_bbox_1_unscaled: 0.2455 (0.2434)  loss_giou_1_unscaled: 0.4538 (0.4476)  cardinality_error_1_unscaled: 3.4000 (3.5562)  loss_feature_1_unscaled: 0.6462 (0.6436)  loss_ce_2_unscaled: 0.6492 (0.6396)  loss_bbox_2_unscaled: 0.2370 (0.2397)  loss_giou_2_unscaled: 0.4587 (0.4461)  cardinality_error_2_unscaled: 3.2000 (3.6076)  loss_feature_2_unscaled: 0.6396 (0.6367)  loss_ce_3_unscaled: 0.6548 (0.6449)  loss_bbox_3_unscaled: 0.2382 (0.2382)  loss_giou_3_unscaled: 0.4455 (0.4451)  cardinality_error_3_unscaled: 3.2000 (3.3752)  loss_feature_3_unscaled: 0.6370 (0.6325)  loss_ce_4_unscaled: 0.6441 (0.6382)  loss_bbox_4_unscaled: 0.2322 (0.2384)  loss_giou_4_unscaled: 0.4452 (0.4455)  cardinality_error_4_unscaled: 3.2000 (3.1676)  loss_feature_4_unscaled: 0.6351 (0.6301)\n",
      "Epoch: [6]  [  0/105]  eta: 0:06:30  lr: 0.000100  class_error: 96.00  loss: 18.8176 (18.8176)  loss_ce: 0.6203 (0.6203)  loss_bbox: 1.1428 (1.1428)  loss_giou: 0.8269 (0.8269)  loss_feature: 0.5953 (0.5953)  loss_ce_0: 0.6379 (0.6379)  loss_bbox_0: 1.1264 (1.1264)  loss_giou_0: 0.7889 (0.7889)  loss_feature_0: 0.6164 (0.6164)  loss_ce_1: 0.6225 (0.6225)  loss_bbox_1: 1.0354 (1.0354)  loss_giou_1: 0.8560 (0.8560)  loss_feature_1: 0.6108 (0.6108)  loss_ce_2: 0.6194 (0.6194)  loss_bbox_2: 1.0690 (1.0690)  loss_giou_2: 0.8001 (0.8001)  loss_feature_2: 0.6032 (0.6032)  loss_ce_3: 0.6151 (0.6151)  loss_bbox_3: 1.1057 (1.1057)  loss_giou_3: 0.7669 (0.7669)  loss_feature_3: 0.5992 (0.5992)  loss_ce_4: 0.6017 (0.6017)  loss_bbox_4: 1.1530 (1.1530)  loss_giou_4: 0.8069 (0.8069)  loss_feature_4: 0.5976 (0.5976)  loss_ce_unscaled: 0.6203 (0.6203)  class_error_unscaled: 96.0000 (96.0000)  loss_bbox_unscaled: 0.2286 (0.2286)  loss_giou_unscaled: 0.4135 (0.4135)  cardinality_error_unscaled: 3.2000 (3.2000)  loss_feature_unscaled: 0.5953 (0.5953)  loss_ce_0_unscaled: 0.6379 (0.6379)  loss_bbox_0_unscaled: 0.2253 (0.2253)  loss_giou_0_unscaled: 0.3945 (0.3945)  cardinality_error_0_unscaled: 2.8000 (2.8000)  loss_feature_0_unscaled: 0.6164 (0.6164)  loss_ce_1_unscaled: 0.6225 (0.6225)  loss_bbox_1_unscaled: 0.2071 (0.2071)  loss_giou_1_unscaled: 0.4280 (0.4280)  cardinality_error_1_unscaled: 1.0000 (1.0000)  loss_feature_1_unscaled: 0.6108 (0.6108)  loss_ce_2_unscaled: 0.6194 (0.6194)  loss_bbox_2_unscaled: 0.2138 (0.2138)  loss_giou_2_unscaled: 0.4001 (0.4001)  cardinality_error_2_unscaled: 1.2000 (1.2000)  loss_feature_2_unscaled: 0.6032 (0.6032)  loss_ce_3_unscaled: 0.6151 (0.6151)  loss_bbox_3_unscaled: 0.2211 (0.2211)  loss_giou_3_unscaled: 0.3834 (0.3834)  cardinality_error_3_unscaled: 2.0000 (2.0000)  loss_feature_3_unscaled: 0.5992 (0.5992)  loss_ce_4_unscaled: 0.6017 (0.6017)  loss_bbox_4_unscaled: 0.2306 (0.2306)  loss_giou_4_unscaled: 0.4034 (0.4034)  cardinality_error_4_unscaled: 3.2000 (3.2000)  loss_feature_4_unscaled: 0.5976 (0.5976)  time: 3.7192  data: 1.8433  max mem: 1340\n",
      "Epoch: [6]  [ 10/105]  eta: 0:03:15  lr: 0.000100  class_error: 100.00  loss: 20.0742 (19.9518)  loss_ce: 0.6445 (0.6391)  loss_bbox: 1.1428 (1.1859)  loss_giou: 0.8614 (0.8770)  loss_feature: 0.5862 (0.5939)  loss_ce_0: 0.6296 (0.6216)  loss_bbox_0: 1.2378 (1.2338)  loss_giou_0: 0.8715 (0.8769)  loss_feature_0: 0.6067 (0.6109)  loss_ce_1: 0.6376 (0.6381)  loss_bbox_1: 1.2479 (1.2055)  loss_giou_1: 0.9224 (0.9214)  loss_feature_1: 0.6018 (0.6086)  loss_ce_2: 0.6450 (0.6431)  loss_bbox_2: 1.1966 (1.2044)  loss_giou_2: 0.8649 (0.8756)  loss_feature_2: 0.5952 (0.5998)  loss_ce_3: 0.6421 (0.6467)  loss_bbox_3: 1.1974 (1.2001)  loss_giou_3: 0.8711 (0.8714)  loss_feature_3: 0.5894 (0.5964)  loss_ce_4: 0.6378 (0.6406)  loss_bbox_4: 1.1572 (1.2044)  loss_giou_4: 0.8372 (0.8625)  loss_feature_4: 0.5874 (0.5940)  loss_ce_unscaled: 0.6445 (0.6391)  class_error_unscaled: 92.0000 (89.8182)  loss_bbox_unscaled: 0.2286 (0.2372)  loss_giou_unscaled: 0.4307 (0.4385)  cardinality_error_unscaled: 3.2000 (2.8909)  loss_feature_unscaled: 0.5862 (0.5939)  loss_ce_0_unscaled: 0.6296 (0.6216)  loss_bbox_0_unscaled: 0.2476 (0.2468)  loss_giou_0_unscaled: 0.4357 (0.4385)  cardinality_error_0_unscaled: 4.0000 (4.1273)  loss_feature_0_unscaled: 0.6067 (0.6109)  loss_ce_1_unscaled: 0.6376 (0.6381)  loss_bbox_1_unscaled: 0.2496 (0.2411)  loss_giou_1_unscaled: 0.4612 (0.4607)  cardinality_error_1_unscaled: 4.0000 (3.9091)  loss_feature_1_unscaled: 0.6018 (0.6086)  loss_ce_2_unscaled: 0.6450 (0.6431)  loss_bbox_2_unscaled: 0.2393 (0.2409)  loss_giou_2_unscaled: 0.4324 (0.4378)  cardinality_error_2_unscaled: 2.8000 (3.1455)  loss_feature_2_unscaled: 0.5952 (0.5998)  loss_ce_3_unscaled: 0.6421 (0.6467)  loss_bbox_3_unscaled: 0.2395 (0.2400)  loss_giou_3_unscaled: 0.4355 (0.4357)  cardinality_error_3_unscaled: 3.0000 (2.8545)  loss_feature_3_unscaled: 0.5894 (0.5964)  loss_ce_4_unscaled: 0.6378 (0.6406)  loss_bbox_4_unscaled: 0.2314 (0.2409)  loss_giou_4_unscaled: 0.4186 (0.4313)  cardinality_error_4_unscaled: 2.8000 (2.6182)  loss_feature_4_unscaled: 0.5874 (0.5940)  time: 2.0601  data: 0.1722  max mem: 1340\n",
      "Epoch: [6]  [ 20/105]  eta: 0:02:45  lr: 0.000100  class_error: 96.00  loss: 20.0742 (19.9365)  loss_ce: 0.6445 (0.6419)  loss_bbox: 1.1189 (1.1665)  loss_giou: 0.8680 (0.8681)  loss_feature: 0.5904 (0.5990)  loss_ce_0: 0.6257 (0.6207)  loss_bbox_0: 1.2480 (1.2601)  loss_giou_0: 0.9196 (0.9139)  loss_feature_0: 0.6085 (0.6162)  loss_ce_1: 0.6295 (0.6335)  loss_bbox_1: 1.2135 (1.2013)  loss_giou_1: 0.9019 (0.9096)  loss_feature_1: 0.6073 (0.6133)  loss_ce_2: 0.6301 (0.6351)  loss_bbox_2: 1.1675 (1.1856)  loss_giou_2: 0.8649 (0.8868)  loss_feature_2: 0.5952 (0.6046)  loss_ce_3: 0.6404 (0.6433)  loss_bbox_3: 1.1827 (1.1798)  loss_giou_3: 0.8711 (0.8691)  loss_feature_3: 0.5954 (0.6019)  loss_ce_4: 0.6374 (0.6394)  loss_bbox_4: 1.1572 (1.1821)  loss_giou_4: 0.8435 (0.8651)  loss_feature_4: 0.5912 (0.5994)  loss_ce_unscaled: 0.6445 (0.6419)  class_error_unscaled: 92.0000 (93.1429)  loss_bbox_unscaled: 0.2238 (0.2333)  loss_giou_unscaled: 0.4340 (0.4341)  cardinality_error_unscaled: 3.4000 (3.2095)  loss_feature_unscaled: 0.5904 (0.5990)  loss_ce_0_unscaled: 0.6257 (0.6207)  loss_bbox_0_unscaled: 0.2496 (0.2520)  loss_giou_0_unscaled: 0.4598 (0.4569)  cardinality_error_0_unscaled: 3.0000 (3.6286)  loss_feature_0_unscaled: 0.6085 (0.6162)  loss_ce_1_unscaled: 0.6295 (0.6335)  loss_bbox_1_unscaled: 0.2427 (0.2403)  loss_giou_1_unscaled: 0.4509 (0.4548)  cardinality_error_1_unscaled: 3.2000 (3.2381)  loss_feature_1_unscaled: 0.6073 (0.6133)  loss_ce_2_unscaled: 0.6301 (0.6351)  loss_bbox_2_unscaled: 0.2335 (0.2371)  loss_giou_2_unscaled: 0.4324 (0.4434)  cardinality_error_2_unscaled: 2.8000 (2.9333)  loss_feature_2_unscaled: 0.5952 (0.6046)  loss_ce_3_unscaled: 0.6404 (0.6433)  loss_bbox_3_unscaled: 0.2365 (0.2360)  loss_giou_3_unscaled: 0.4355 (0.4346)  cardinality_error_3_unscaled: 3.4000 (3.2571)  loss_feature_3_unscaled: 0.5954 (0.6019)  loss_ce_4_unscaled: 0.6374 (0.6394)  loss_bbox_4_unscaled: 0.2314 (0.2364)  loss_giou_4_unscaled: 0.4217 (0.4326)  cardinality_error_4_unscaled: 3.0000 (3.0000)  loss_feature_4_unscaled: 0.5912 (0.5994)  time: 1.8638  data: 0.0049  max mem: 1340\n",
      "Epoch: [6]  [ 30/105]  eta: 0:02:24  lr: 0.000100  class_error: 88.00  loss: 20.1773 (20.0754)  loss_ce: 0.6325 (0.6361)  loss_bbox: 1.1917 (1.1800)  loss_giou: 0.8680 (0.8779)  loss_feature: 0.6092 (0.6080)  loss_ce_0: 0.6155 (0.6195)  loss_bbox_0: 1.2759 (1.2735)  loss_giou_0: 0.9243 (0.9153)  loss_feature_0: 0.6305 (0.6257)  loss_ce_1: 0.6263 (0.6328)  loss_bbox_1: 1.2305 (1.2286)  loss_giou_1: 0.9019 (0.9121)  loss_feature_1: 0.6234 (0.6215)  loss_ce_2: 0.6260 (0.6327)  loss_bbox_2: 1.1965 (1.1930)  loss_giou_2: 0.8606 (0.8852)  loss_feature_2: 0.6161 (0.6131)  loss_ce_3: 0.6291 (0.6369)  loss_bbox_3: 1.2114 (1.1912)  loss_giou_3: 0.8674 (0.8728)  loss_feature_3: 0.6112 (0.6102)  loss_ce_4: 0.6239 (0.6326)  loss_bbox_4: 1.2116 (1.1964)  loss_giou_4: 0.8800 (0.8720)  loss_feature_4: 0.6090 (0.6082)  loss_ce_unscaled: 0.6325 (0.6361)  class_error_unscaled: 96.0000 (92.6452)  loss_bbox_unscaled: 0.2383 (0.2360)  loss_giou_unscaled: 0.4340 (0.4390)  cardinality_error_unscaled: 3.6000 (3.2387)  loss_feature_unscaled: 0.6092 (0.6080)  loss_ce_0_unscaled: 0.6155 (0.6195)  loss_bbox_0_unscaled: 0.2552 (0.2547)  loss_giou_0_unscaled: 0.4621 (0.4577)  cardinality_error_0_unscaled: 2.6000 (3.5871)  loss_feature_0_unscaled: 0.6305 (0.6257)  loss_ce_1_unscaled: 0.6263 (0.6328)  loss_bbox_1_unscaled: 0.2461 (0.2457)  loss_giou_1_unscaled: 0.4509 (0.4561)  cardinality_error_1_unscaled: 2.6000 (3.8000)  loss_feature_1_unscaled: 0.6234 (0.6215)  loss_ce_2_unscaled: 0.6260 (0.6327)  loss_bbox_2_unscaled: 0.2393 (0.2386)  loss_giou_2_unscaled: 0.4303 (0.4426)  cardinality_error_2_unscaled: 3.0000 (3.3677)  loss_feature_2_unscaled: 0.6161 (0.6131)  loss_ce_3_unscaled: 0.6291 (0.6369)  loss_bbox_3_unscaled: 0.2423 (0.2382)  loss_giou_3_unscaled: 0.4337 (0.4364)  cardinality_error_3_unscaled: 3.4000 (3.2839)  loss_feature_3_unscaled: 0.6112 (0.6102)  loss_ce_4_unscaled: 0.6239 (0.6326)  loss_bbox_4_unscaled: 0.2423 (0.2393)  loss_giou_4_unscaled: 0.4400 (0.4360)  cardinality_error_4_unscaled: 3.6000 (3.1742)  loss_feature_4_unscaled: 0.6090 (0.6082)  time: 1.8455  data: 0.0047  max mem: 1340\n",
      "Epoch: [6]  [ 40/105]  eta: 0:02:04  lr: 0.000100  class_error: 88.00  loss: 20.1773 (20.0828)  loss_ce: 0.6297 (0.6362)  loss_bbox: 1.1917 (1.1756)  loss_giou: 0.8617 (0.8782)  loss_feature: 0.6092 (0.6080)  loss_ce_0: 0.6236 (0.6218)  loss_bbox_0: 1.2805 (1.2757)  loss_giou_0: 0.9266 (0.9226)  loss_feature_0: 0.6305 (0.6263)  loss_ce_1: 0.6341 (0.6345)  loss_bbox_1: 1.2482 (1.2252)  loss_giou_1: 0.8827 (0.9133)  loss_feature_1: 0.6234 (0.6212)  loss_ce_2: 0.6307 (0.6336)  loss_bbox_2: 1.1978 (1.1992)  loss_giou_2: 0.8702 (0.8918)  loss_feature_2: 0.6161 (0.6131)  loss_ce_3: 0.6277 (0.6342)  loss_bbox_3: 1.2054 (1.1817)  loss_giou_3: 0.8751 (0.8748)  loss_feature_3: 0.6135 (0.6101)  loss_ce_4: 0.6228 (0.6317)  loss_bbox_4: 1.1964 (1.1860)  loss_giou_4: 0.8854 (0.8797)  loss_feature_4: 0.6090 (0.6082)  loss_ce_unscaled: 0.6297 (0.6362)  class_error_unscaled: 92.0000 (93.1707)  loss_bbox_unscaled: 0.2383 (0.2351)  loss_giou_unscaled: 0.4308 (0.4391)  cardinality_error_unscaled: 3.4000 (3.2976)  loss_feature_unscaled: 0.6092 (0.6080)  loss_ce_0_unscaled: 0.6236 (0.6218)  loss_bbox_0_unscaled: 0.2561 (0.2551)  loss_giou_0_unscaled: 0.4633 (0.4613)  cardinality_error_0_unscaled: 2.4000 (3.3073)  loss_feature_0_unscaled: 0.6305 (0.6263)  loss_ce_1_unscaled: 0.6341 (0.6345)  loss_bbox_1_unscaled: 0.2496 (0.2450)  loss_giou_1_unscaled: 0.4414 (0.4567)  cardinality_error_1_unscaled: 3.0000 (3.5951)  loss_feature_1_unscaled: 0.6234 (0.6212)  loss_ce_2_unscaled: 0.6307 (0.6336)  loss_bbox_2_unscaled: 0.2396 (0.2398)  loss_giou_2_unscaled: 0.4351 (0.4459)  cardinality_error_2_unscaled: 3.0000 (3.1561)  loss_feature_2_unscaled: 0.6161 (0.6131)  loss_ce_3_unscaled: 0.6277 (0.6342)  loss_bbox_3_unscaled: 0.2411 (0.2363)  loss_giou_3_unscaled: 0.4375 (0.4374)  cardinality_error_3_unscaled: 2.8000 (3.1171)  loss_feature_3_unscaled: 0.6135 (0.6101)  loss_ce_4_unscaled: 0.6228 (0.6317)  loss_bbox_4_unscaled: 0.2393 (0.2372)  loss_giou_4_unscaled: 0.4427 (0.4399)  cardinality_error_4_unscaled: 3.2000 (3.1171)  loss_feature_4_unscaled: 0.6090 (0.6082)  time: 1.8622  data: 0.0047  max mem: 1340\n",
      "Epoch: [6]  [ 50/105]  eta: 0:01:44  lr: 0.000100  class_error: 84.00  loss: 19.7132 (20.0143)  loss_ce: 0.6310 (0.6356)  loss_bbox: 1.1503 (1.1773)  loss_giou: 0.8486 (0.8710)  loss_feature: 0.6127 (0.6113)  loss_ce_0: 0.6182 (0.6202)  loss_bbox_0: 1.2596 (1.2720)  loss_giou_0: 0.9428 (0.9128)  loss_feature_0: 0.6269 (0.6299)  loss_ce_1: 0.6314 (0.6346)  loss_bbox_1: 1.2121 (1.2153)  loss_giou_1: 0.8495 (0.8953)  loss_feature_1: 0.6248 (0.6248)  loss_ce_2: 0.6249 (0.6315)  loss_bbox_2: 1.1454 (1.1936)  loss_giou_2: 0.8385 (0.8755)  loss_feature_2: 0.6220 (0.6168)  loss_ce_3: 0.6152 (0.6302)  loss_bbox_3: 1.1422 (1.1815)  loss_giou_3: 0.8699 (0.8703)  loss_feature_3: 0.6145 (0.6137)  loss_ce_4: 0.6163 (0.6287)  loss_bbox_4: 1.1855 (1.1874)  loss_giou_4: 0.8714 (0.8736)  loss_feature_4: 0.6140 (0.6117)  loss_ce_unscaled: 0.6310 (0.6356)  class_error_unscaled: 92.0000 (90.5882)  loss_bbox_unscaled: 0.2301 (0.2355)  loss_giou_unscaled: 0.4243 (0.4355)  cardinality_error_unscaled: 3.6000 (4.2157)  loss_feature_unscaled: 0.6127 (0.6113)  loss_ce_0_unscaled: 0.6182 (0.6202)  loss_bbox_0_unscaled: 0.2519 (0.2544)  loss_giou_0_unscaled: 0.4714 (0.4564)  cardinality_error_0_unscaled: 4.0000 (3.7725)  loss_feature_0_unscaled: 0.6269 (0.6299)  loss_ce_1_unscaled: 0.6314 (0.6346)  loss_bbox_1_unscaled: 0.2424 (0.2431)  loss_giou_1_unscaled: 0.4248 (0.4477)  cardinality_error_1_unscaled: 3.0000 (3.6078)  loss_feature_1_unscaled: 0.6248 (0.6248)  loss_ce_2_unscaled: 0.6249 (0.6315)  loss_bbox_2_unscaled: 0.2291 (0.2387)  loss_giou_2_unscaled: 0.4192 (0.4378)  cardinality_error_2_unscaled: 2.6000 (3.2275)  loss_feature_2_unscaled: 0.6220 (0.6168)  loss_ce_3_unscaled: 0.6152 (0.6302)  loss_bbox_3_unscaled: 0.2284 (0.2363)  loss_giou_3_unscaled: 0.4349 (0.4351)  cardinality_error_3_unscaled: 2.8000 (3.4157)  loss_feature_3_unscaled: 0.6145 (0.6137)  loss_ce_4_unscaled: 0.6163 (0.6287)  loss_bbox_4_unscaled: 0.2371 (0.2375)  loss_giou_4_unscaled: 0.4357 (0.4368)  cardinality_error_4_unscaled: 3.0000 (3.8431)  loss_feature_4_unscaled: 0.6140 (0.6117)  time: 1.8573  data: 0.0048  max mem: 1340\n",
      "Epoch: [6]  [ 60/105]  eta: 0:01:24  lr: 0.000100  class_error: 92.00  loss: 19.9930 (20.1645)  loss_ce: 0.6554 (0.6423)  loss_bbox: 1.1747 (1.1892)  loss_giou: 0.8782 (0.8786)  loss_feature: 0.6307 (0.6132)  loss_ce_0: 0.6120 (0.6202)  loss_bbox_0: 1.2723 (1.2894)  loss_giou_0: 0.9428 (0.9210)  loss_feature_0: 0.6503 (0.6322)  loss_ce_1: 0.6273 (0.6347)  loss_bbox_1: 1.2315 (1.2254)  loss_giou_1: 0.8659 (0.8992)  loss_feature_1: 0.6392 (0.6263)  loss_ce_2: 0.6207 (0.6325)  loss_bbox_2: 1.1673 (1.2034)  loss_giou_2: 0.8389 (0.8839)  loss_feature_2: 0.6341 (0.6184)  loss_ce_3: 0.6328 (0.6348)  loss_bbox_3: 1.1607 (1.1929)  loss_giou_3: 0.9119 (0.8827)  loss_feature_3: 0.6302 (0.6154)  loss_ce_4: 0.6351 (0.6341)  loss_bbox_4: 1.1977 (1.1993)  loss_giou_4: 0.8787 (0.8818)  loss_feature_4: 0.6298 (0.6133)  loss_ce_unscaled: 0.6554 (0.6423)  class_error_unscaled: 92.0000 (90.8197)  loss_bbox_unscaled: 0.2349 (0.2378)  loss_giou_unscaled: 0.4391 (0.4393)  cardinality_error_unscaled: 2.8000 (4.1311)  loss_feature_unscaled: 0.6307 (0.6132)  loss_ce_0_unscaled: 0.6120 (0.6202)  loss_bbox_0_unscaled: 0.2545 (0.2579)  loss_giou_0_unscaled: 0.4714 (0.4605)  cardinality_error_0_unscaled: 5.0000 (3.9082)  loss_feature_0_unscaled: 0.6503 (0.6322)  loss_ce_1_unscaled: 0.6273 (0.6347)  loss_bbox_1_unscaled: 0.2463 (0.2451)  loss_giou_1_unscaled: 0.4329 (0.4496)  cardinality_error_1_unscaled: 2.8000 (3.4328)  loss_feature_1_unscaled: 0.6392 (0.6263)  loss_ce_2_unscaled: 0.6207 (0.6325)  loss_bbox_2_unscaled: 0.2335 (0.2407)  loss_giou_2_unscaled: 0.4195 (0.4420)  cardinality_error_2_unscaled: 2.6000 (3.0295)  loss_feature_2_unscaled: 0.6341 (0.6184)  loss_ce_3_unscaled: 0.6328 (0.6348)  loss_bbox_3_unscaled: 0.2321 (0.2386)  loss_giou_3_unscaled: 0.4560 (0.4414)  cardinality_error_3_unscaled: 2.6000 (3.2787)  loss_feature_3_unscaled: 0.6302 (0.6154)  loss_ce_4_unscaled: 0.6351 (0.6341)  loss_bbox_4_unscaled: 0.2395 (0.2399)  loss_giou_4_unscaled: 0.4394 (0.4409)  cardinality_error_4_unscaled: 3.2000 (3.8131)  loss_feature_4_unscaled: 0.6298 (0.6133)  time: 1.8346  data: 0.0048  max mem: 1340\n",
      "Epoch: [6]  [ 70/105]  eta: 0:01:05  lr: 0.000100  class_error: 100.00  loss: 20.3082 (20.0863)  loss_ce: 0.6562 (0.6439)  loss_bbox: 1.1713 (1.1756)  loss_giou: 0.8489 (0.8716)  loss_feature: 0.6307 (0.6156)  loss_ce_0: 0.6123 (0.6201)  loss_bbox_0: 1.2723 (1.2835)  loss_giou_0: 0.9171 (0.9177)  loss_feature_0: 0.6515 (0.6350)  loss_ce_1: 0.6266 (0.6336)  loss_bbox_1: 1.2303 (1.2183)  loss_giou_1: 0.8659 (0.8911)  loss_feature_1: 0.6392 (0.6283)  loss_ce_2: 0.6208 (0.6305)  loss_bbox_2: 1.1982 (1.1997)  loss_giou_2: 0.9030 (0.8790)  loss_feature_2: 0.6341 (0.6204)  loss_ce_3: 0.6403 (0.6346)  loss_bbox_3: 1.1607 (1.1835)  loss_giou_3: 0.8532 (0.8735)  loss_feature_3: 0.6320 (0.6175)  loss_ce_4: 0.6498 (0.6348)  loss_bbox_4: 1.1785 (1.1883)  loss_giou_4: 0.8663 (0.8746)  loss_feature_4: 0.6298 (0.6157)  loss_ce_unscaled: 0.6562 (0.6439)  class_error_unscaled: 92.0000 (91.3239)  loss_bbox_unscaled: 0.2343 (0.2351)  loss_giou_unscaled: 0.4244 (0.4358)  cardinality_error_unscaled: 2.6000 (3.9239)  loss_feature_unscaled: 0.6307 (0.6156)  loss_ce_0_unscaled: 0.6123 (0.6201)  loss_bbox_0_unscaled: 0.2545 (0.2567)  loss_giou_0_unscaled: 0.4585 (0.4588)  cardinality_error_0_unscaled: 4.8000 (4.0845)  loss_feature_0_unscaled: 0.6515 (0.6350)  loss_ce_1_unscaled: 0.6266 (0.6336)  loss_bbox_1_unscaled: 0.2461 (0.2437)  loss_giou_1_unscaled: 0.4329 (0.4456)  cardinality_error_1_unscaled: 2.8000 (3.6197)  loss_feature_1_unscaled: 0.6392 (0.6283)  loss_ce_2_unscaled: 0.6208 (0.6305)  loss_bbox_2_unscaled: 0.2396 (0.2399)  loss_giou_2_unscaled: 0.4515 (0.4395)  cardinality_error_2_unscaled: 2.2000 (3.0507)  loss_feature_2_unscaled: 0.6341 (0.6204)  loss_ce_3_unscaled: 0.6403 (0.6346)  loss_bbox_3_unscaled: 0.2321 (0.2367)  loss_giou_3_unscaled: 0.4266 (0.4367)  cardinality_error_3_unscaled: 2.4000 (3.1606)  loss_feature_3_unscaled: 0.6320 (0.6175)  loss_ce_4_unscaled: 0.6498 (0.6348)  loss_bbox_4_unscaled: 0.2357 (0.2377)  loss_giou_4_unscaled: 0.4332 (0.4373)  cardinality_error_4_unscaled: 3.2000 (3.6873)  loss_feature_4_unscaled: 0.6298 (0.6157)  time: 1.8206  data: 0.0047  max mem: 1340\n",
      "Epoch: [6]  [ 80/105]  eta: 0:00:46  lr: 0.000100  class_error: 100.00  loss: 20.0740 (20.1177)  loss_ce: 0.6422 (0.6428)  loss_bbox: 1.1654 (1.1795)  loss_giou: 0.8430 (0.8734)  loss_feature: 0.6135 (0.6159)  loss_ce_0: 0.6256 (0.6222)  loss_bbox_0: 1.3009 (1.2841)  loss_giou_0: 0.8807 (0.9138)  loss_feature_0: 0.6353 (0.6351)  loss_ce_1: 0.6318 (0.6359)  loss_bbox_1: 1.2303 (1.2237)  loss_giou_1: 0.8758 (0.8934)  loss_feature_1: 0.6262 (0.6285)  loss_ce_2: 0.6312 (0.6333)  loss_bbox_2: 1.1786 (1.1989)  loss_giou_2: 0.8796 (0.8807)  loss_feature_2: 0.6163 (0.6205)  loss_ce_3: 0.6361 (0.6356)  loss_bbox_3: 1.1753 (1.1875)  loss_giou_3: 0.8507 (0.8778)  loss_feature_3: 0.6132 (0.6177)  loss_ce_4: 0.6407 (0.6357)  loss_bbox_4: 1.1724 (1.1901)  loss_giou_4: 0.8561 (0.8759)  loss_feature_4: 0.6136 (0.6160)  loss_ce_unscaled: 0.6422 (0.6428)  class_error_unscaled: 96.0000 (92.1481)  loss_bbox_unscaled: 0.2331 (0.2359)  loss_giou_unscaled: 0.4215 (0.4367)  cardinality_error_unscaled: 3.0000 (3.8988)  loss_feature_unscaled: 0.6135 (0.6159)  loss_ce_0_unscaled: 0.6256 (0.6222)  loss_bbox_0_unscaled: 0.2602 (0.2568)  loss_giou_0_unscaled: 0.4404 (0.4569)  cardinality_error_0_unscaled: 3.4000 (3.9037)  loss_feature_0_unscaled: 0.6353 (0.6351)  loss_ce_1_unscaled: 0.6318 (0.6359)  loss_bbox_1_unscaled: 0.2461 (0.2447)  loss_giou_1_unscaled: 0.4379 (0.4467)  cardinality_error_1_unscaled: 2.6000 (3.4173)  loss_feature_1_unscaled: 0.6262 (0.6285)  loss_ce_2_unscaled: 0.6312 (0.6333)  loss_bbox_2_unscaled: 0.2357 (0.2398)  loss_giou_2_unscaled: 0.4398 (0.4404)  cardinality_error_2_unscaled: 2.2000 (2.9160)  loss_feature_2_unscaled: 0.6163 (0.6205)  loss_ce_3_unscaled: 0.6361 (0.6356)  loss_bbox_3_unscaled: 0.2351 (0.2375)  loss_giou_3_unscaled: 0.4253 (0.4389)  cardinality_error_3_unscaled: 2.2000 (3.0321)  loss_feature_3_unscaled: 0.6132 (0.6177)  loss_ce_4_unscaled: 0.6407 (0.6357)  loss_bbox_4_unscaled: 0.2345 (0.2380)  loss_giou_4_unscaled: 0.4280 (0.4380)  cardinality_error_4_unscaled: 3.2000 (3.5951)  loss_feature_4_unscaled: 0.6136 (0.6160)  time: 1.8589  data: 0.0047  max mem: 1340\n",
      "Epoch: [6]  [ 90/105]  eta: 0:00:28  lr: 0.000100  class_error: 92.00  loss: 20.6663 (20.1938)  loss_ce: 0.6349 (0.6427)  loss_bbox: 1.2237 (1.1829)  loss_giou: 0.8950 (0.8774)  loss_feature: 0.6135 (0.6165)  loss_ce_0: 0.6180 (0.6216)  loss_bbox_0: 1.3316 (1.2919)  loss_giou_0: 0.9557 (0.9253)  loss_feature_0: 0.6340 (0.6354)  loss_ce_1: 0.6400 (0.6350)  loss_bbox_1: 1.2794 (1.2323)  loss_giou_1: 0.9320 (0.9017)  loss_feature_1: 0.6248 (0.6288)  loss_ce_2: 0.6458 (0.6339)  loss_bbox_2: 1.2326 (1.2067)  loss_giou_2: 0.9207 (0.8900)  loss_feature_2: 0.6163 (0.6211)  loss_ce_3: 0.6455 (0.6373)  loss_bbox_3: 1.1763 (1.1883)  loss_giou_3: 0.9305 (0.8836)  loss_feature_3: 0.6132 (0.6182)  loss_ce_4: 0.6415 (0.6370)  loss_bbox_4: 1.2228 (1.1904)  loss_giou_4: 0.8919 (0.8794)  loss_feature_4: 0.6136 (0.6166)  loss_ce_unscaled: 0.6349 (0.6427)  class_error_unscaled: 96.0000 (92.6154)  loss_bbox_unscaled: 0.2447 (0.2366)  loss_giou_unscaled: 0.4475 (0.4387)  cardinality_error_unscaled: 3.2000 (3.7890)  loss_feature_unscaled: 0.6135 (0.6165)  loss_ce_0_unscaled: 0.6180 (0.6216)  loss_bbox_0_unscaled: 0.2663 (0.2584)  loss_giou_0_unscaled: 0.4779 (0.4626)  cardinality_error_0_unscaled: 4.0000 (4.2440)  loss_feature_0_unscaled: 0.6340 (0.6354)  loss_ce_1_unscaled: 0.6400 (0.6350)  loss_bbox_1_unscaled: 0.2559 (0.2465)  loss_giou_1_unscaled: 0.4660 (0.4509)  cardinality_error_1_unscaled: 2.4000 (3.4571)  loss_feature_1_unscaled: 0.6248 (0.6288)  loss_ce_2_unscaled: 0.6458 (0.6339)  loss_bbox_2_unscaled: 0.2465 (0.2413)  loss_giou_2_unscaled: 0.4603 (0.4450)  cardinality_error_2_unscaled: 1.8000 (2.8000)  loss_feature_2_unscaled: 0.6163 (0.6211)  loss_ce_3_unscaled: 0.6455 (0.6373)  loss_bbox_3_unscaled: 0.2353 (0.2377)  loss_giou_3_unscaled: 0.4652 (0.4418)  cardinality_error_3_unscaled: 2.2000 (2.9692)  loss_feature_3_unscaled: 0.6132 (0.6182)  loss_ce_4_unscaled: 0.6415 (0.6370)  loss_bbox_4_unscaled: 0.2446 (0.2381)  loss_giou_4_unscaled: 0.4460 (0.4397)  cardinality_error_4_unscaled: 2.6000 (3.4901)  loss_feature_4_unscaled: 0.6136 (0.6166)  time: 1.8884  data: 0.0047  max mem: 1340\n",
      "Epoch: [6]  [100/105]  eta: 0:00:09  lr: 0.000100  class_error: 100.00  loss: 20.6839 (20.2117)  loss_ce: 0.6219 (0.6406)  loss_bbox: 1.2424 (1.1898)  loss_giou: 0.8942 (0.8820)  loss_feature: 0.6208 (0.6174)  loss_ce_0: 0.6140 (0.6217)  loss_bbox_0: 1.3262 (1.2930)  loss_giou_0: 0.9880 (0.9260)  loss_feature_0: 0.6377 (0.6363)  loss_ce_1: 0.6218 (0.6344)  loss_bbox_1: 1.2375 (1.2308)  loss_giou_1: 0.9090 (0.8997)  loss_feature_1: 0.6332 (0.6302)  loss_ce_2: 0.6318 (0.6330)  loss_bbox_2: 1.2293 (1.2037)  loss_giou_2: 0.9133 (0.8883)  loss_feature_2: 0.6260 (0.6223)  loss_ce_3: 0.6331 (0.6364)  loss_bbox_3: 1.1669 (1.1903)  loss_giou_3: 0.9254 (0.8849)  loss_feature_3: 0.6193 (0.6190)  loss_ce_4: 0.6352 (0.6360)  loss_bbox_4: 1.1994 (1.1946)  loss_giou_4: 0.8836 (0.8838)  loss_feature_4: 0.6183 (0.6174)  loss_ce_unscaled: 0.6219 (0.6406)  class_error_unscaled: 96.0000 (92.9109)  loss_bbox_unscaled: 0.2485 (0.2380)  loss_giou_unscaled: 0.4471 (0.4410)  cardinality_error_unscaled: 2.8000 (3.7129)  loss_feature_unscaled: 0.6208 (0.6174)  loss_ce_0_unscaled: 0.6140 (0.6217)  loss_bbox_0_unscaled: 0.2652 (0.2586)  loss_giou_0_unscaled: 0.4940 (0.4630)  cardinality_error_0_unscaled: 4.6000 (4.2198)  loss_feature_0_unscaled: 0.6377 (0.6363)  loss_ce_1_unscaled: 0.6218 (0.6344)  loss_bbox_1_unscaled: 0.2475 (0.2462)  loss_giou_1_unscaled: 0.4545 (0.4498)  cardinality_error_1_unscaled: 2.4000 (3.3168)  loss_feature_1_unscaled: 0.6332 (0.6302)  loss_ce_2_unscaled: 0.6318 (0.6330)  loss_bbox_2_unscaled: 0.2459 (0.2407)  loss_giou_2_unscaled: 0.4567 (0.4442)  cardinality_error_2_unscaled: 1.6000 (2.6990)  loss_feature_2_unscaled: 0.6260 (0.6223)  loss_ce_3_unscaled: 0.6331 (0.6364)  loss_bbox_3_unscaled: 0.2334 (0.2381)  loss_giou_3_unscaled: 0.4627 (0.4425)  cardinality_error_3_unscaled: 2.4000 (2.9505)  loss_feature_3_unscaled: 0.6193 (0.6190)  loss_ce_4_unscaled: 0.6352 (0.6360)  loss_bbox_4_unscaled: 0.2399 (0.2389)  loss_giou_4_unscaled: 0.4418 (0.4419)  cardinality_error_4_unscaled: 2.6000 (3.4257)  loss_feature_4_unscaled: 0.6183 (0.6174)  time: 1.8809  data: 0.0048  max mem: 1340\n",
      "Epoch: [6]  [104/105]  eta: 0:00:01  lr: 0.000100  class_error: 100.00  loss: 20.6663 (20.2411)  loss_ce: 0.6219 (0.6410)  loss_bbox: 1.2492 (1.1934)  loss_giou: 0.8863 (0.8843)  loss_feature: 0.6154 (0.6170)  loss_ce_0: 0.6123 (0.6211)  loss_bbox_0: 1.3262 (1.2955)  loss_giou_0: 0.9591 (0.9288)  loss_feature_0: 0.6340 (0.6360)  loss_ce_1: 0.6206 (0.6344)  loss_bbox_1: 1.2373 (1.2328)  loss_giou_1: 0.9018 (0.9014)  loss_feature_1: 0.6248 (0.6301)  loss_ce_2: 0.6284 (0.6335)  loss_bbox_2: 1.2158 (1.2071)  loss_giou_2: 0.8931 (0.8904)  loss_feature_2: 0.6178 (0.6221)  loss_ce_3: 0.6324 (0.6366)  loss_bbox_3: 1.1623 (1.1931)  loss_giou_3: 0.8682 (0.8875)  loss_feature_3: 0.6154 (0.6187)  loss_ce_4: 0.6322 (0.6363)  loss_bbox_4: 1.1994 (1.1979)  loss_giou_4: 0.8723 (0.8851)  loss_feature_4: 0.6138 (0.6171)  loss_ce_unscaled: 0.6219 (0.6410)  class_error_unscaled: 96.0000 (93.0667)  loss_bbox_unscaled: 0.2498 (0.2387)  loss_giou_unscaled: 0.4431 (0.4422)  cardinality_error_unscaled: 2.8000 (3.6743)  loss_feature_unscaled: 0.6154 (0.6170)  loss_ce_0_unscaled: 0.6123 (0.6211)  loss_bbox_0_unscaled: 0.2652 (0.2591)  loss_giou_0_unscaled: 0.4796 (0.4644)  cardinality_error_0_unscaled: 4.2000 (4.2019)  loss_feature_0_unscaled: 0.6340 (0.6360)  loss_ce_1_unscaled: 0.6206 (0.6344)  loss_bbox_1_unscaled: 0.2475 (0.2466)  loss_giou_1_unscaled: 0.4509 (0.4507)  cardinality_error_1_unscaled: 2.4000 (3.2838)  loss_feature_1_unscaled: 0.6248 (0.6301)  loss_ce_2_unscaled: 0.6284 (0.6335)  loss_bbox_2_unscaled: 0.2432 (0.2414)  loss_giou_2_unscaled: 0.4466 (0.4452)  cardinality_error_2_unscaled: 1.8000 (2.7086)  loss_feature_2_unscaled: 0.6178 (0.6221)  loss_ce_3_unscaled: 0.6324 (0.6366)  loss_bbox_3_unscaled: 0.2325 (0.2386)  loss_giou_3_unscaled: 0.4341 (0.4437)  cardinality_error_3_unscaled: 2.8000 (2.9543)  loss_feature_3_unscaled: 0.6154 (0.6187)  loss_ce_4_unscaled: 0.6322 (0.6363)  loss_bbox_4_unscaled: 0.2399 (0.2396)  loss_giou_4_unscaled: 0.4362 (0.4425)  cardinality_error_4_unscaled: 2.6000 (3.3905)  loss_feature_4_unscaled: 0.6138 (0.6171)  time: 1.8482  data: 0.0047  max mem: 1340\n",
      "Epoch: [6] Total time: 0:03:16 (1.8737 s / it)\n",
      "Averaged stats: lr: 0.000100  class_error: 100.00  loss: 20.6663 (20.2411)  loss_ce: 0.6219 (0.6410)  loss_bbox: 1.2492 (1.1934)  loss_giou: 0.8863 (0.8843)  loss_feature: 0.6154 (0.6170)  loss_ce_0: 0.6123 (0.6211)  loss_bbox_0: 1.3262 (1.2955)  loss_giou_0: 0.9591 (0.9288)  loss_feature_0: 0.6340 (0.6360)  loss_ce_1: 0.6206 (0.6344)  loss_bbox_1: 1.2373 (1.2328)  loss_giou_1: 0.9018 (0.9014)  loss_feature_1: 0.6248 (0.6301)  loss_ce_2: 0.6284 (0.6335)  loss_bbox_2: 1.2158 (1.2071)  loss_giou_2: 0.8931 (0.8904)  loss_feature_2: 0.6178 (0.6221)  loss_ce_3: 0.6324 (0.6366)  loss_bbox_3: 1.1623 (1.1931)  loss_giou_3: 0.8682 (0.8875)  loss_feature_3: 0.6154 (0.6187)  loss_ce_4: 0.6322 (0.6363)  loss_bbox_4: 1.1994 (1.1979)  loss_giou_4: 0.8723 (0.8851)  loss_feature_4: 0.6138 (0.6171)  loss_ce_unscaled: 0.6219 (0.6410)  class_error_unscaled: 96.0000 (93.0667)  loss_bbox_unscaled: 0.2498 (0.2387)  loss_giou_unscaled: 0.4431 (0.4422)  cardinality_error_unscaled: 2.8000 (3.6743)  loss_feature_unscaled: 0.6154 (0.6170)  loss_ce_0_unscaled: 0.6123 (0.6211)  loss_bbox_0_unscaled: 0.2652 (0.2591)  loss_giou_0_unscaled: 0.4796 (0.4644)  cardinality_error_0_unscaled: 4.2000 (4.2019)  loss_feature_0_unscaled: 0.6340 (0.6360)  loss_ce_1_unscaled: 0.6206 (0.6344)  loss_bbox_1_unscaled: 0.2475 (0.2466)  loss_giou_1_unscaled: 0.4509 (0.4507)  cardinality_error_1_unscaled: 2.4000 (3.2838)  loss_feature_1_unscaled: 0.6248 (0.6301)  loss_ce_2_unscaled: 0.6284 (0.6335)  loss_bbox_2_unscaled: 0.2432 (0.2414)  loss_giou_2_unscaled: 0.4466 (0.4452)  cardinality_error_2_unscaled: 1.8000 (2.7086)  loss_feature_2_unscaled: 0.6178 (0.6221)  loss_ce_3_unscaled: 0.6324 (0.6366)  loss_bbox_3_unscaled: 0.2325 (0.2386)  loss_giou_3_unscaled: 0.4341 (0.4437)  cardinality_error_3_unscaled: 2.8000 (2.9543)  loss_feature_3_unscaled: 0.6154 (0.6187)  loss_ce_4_unscaled: 0.6322 (0.6363)  loss_bbox_4_unscaled: 0.2399 (0.2396)  loss_giou_4_unscaled: 0.4362 (0.4425)  cardinality_error_4_unscaled: 2.6000 (3.3905)  loss_feature_4_unscaled: 0.6138 (0.6171)\n",
      "Epoch: [7]  [  0/105]  eta: 0:06:53  lr: 0.000100  class_error: 96.00  loss: 19.8843 (19.8843)  loss_ce: 0.6737 (0.6737)  loss_bbox: 1.0531 (1.0531)  loss_giou: 0.9139 (0.9139)  loss_feature: 0.5595 (0.5595)  loss_ce_0: 0.6653 (0.6653)  loss_bbox_0: 1.2758 (1.2758)  loss_giou_0: 0.9224 (0.9224)  loss_feature_0: 0.5820 (0.5820)  loss_ce_1: 0.6849 (0.6849)  loss_bbox_1: 1.1482 (1.1482)  loss_giou_1: 0.8654 (0.8654)  loss_feature_1: 0.5744 (0.5744)  loss_ce_2: 0.6688 (0.6688)  loss_bbox_2: 1.2114 (1.2114)  loss_giou_2: 0.9729 (0.9729)  loss_feature_2: 0.5660 (0.5660)  loss_ce_3: 0.6356 (0.6356)  loss_bbox_3: 1.1903 (1.1903)  loss_giou_3: 0.9187 (0.9187)  loss_feature_3: 0.5644 (0.5644)  loss_ce_4: 0.6546 (0.6546)  loss_bbox_4: 1.1533 (1.1533)  loss_giou_4: 0.8674 (0.8674)  loss_feature_4: 0.5623 (0.5623)  loss_ce_unscaled: 0.6737 (0.6737)  class_error_unscaled: 96.0000 (96.0000)  loss_bbox_unscaled: 0.2106 (0.2106)  loss_giou_unscaled: 0.4569 (0.4569)  cardinality_error_unscaled: 3.8000 (3.8000)  loss_feature_unscaled: 0.5595 (0.5595)  loss_ce_0_unscaled: 0.6653 (0.6653)  loss_bbox_0_unscaled: 0.2552 (0.2552)  loss_giou_0_unscaled: 0.4612 (0.4612)  cardinality_error_0_unscaled: 4.8000 (4.8000)  loss_feature_0_unscaled: 0.5820 (0.5820)  loss_ce_1_unscaled: 0.6849 (0.6849)  loss_bbox_1_unscaled: 0.2296 (0.2296)  loss_giou_1_unscaled: 0.4327 (0.4327)  cardinality_error_1_unscaled: 1.2000 (1.2000)  loss_feature_1_unscaled: 0.5744 (0.5744)  loss_ce_2_unscaled: 0.6688 (0.6688)  loss_bbox_2_unscaled: 0.2423 (0.2423)  loss_giou_2_unscaled: 0.4864 (0.4864)  cardinality_error_2_unscaled: 3.2000 (3.2000)  loss_feature_2_unscaled: 0.5660 (0.5660)  loss_ce_3_unscaled: 0.6356 (0.6356)  loss_bbox_3_unscaled: 0.2381 (0.2381)  loss_giou_3_unscaled: 0.4594 (0.4594)  cardinality_error_3_unscaled: 3.8000 (3.8000)  loss_feature_3_unscaled: 0.5644 (0.5644)  loss_ce_4_unscaled: 0.6546 (0.6546)  loss_bbox_4_unscaled: 0.2307 (0.2307)  loss_giou_4_unscaled: 0.4337 (0.4337)  cardinality_error_4_unscaled: 4.4000 (4.4000)  loss_feature_4_unscaled: 0.5623 (0.5623)  time: 3.9421  data: 1.9723  max mem: 1340\n",
      "Epoch: [7]  [ 10/105]  eta: 0:03:17  lr: 0.000100  class_error: 96.00  loss: 20.4036 (20.5169)  loss_ce: 0.6417 (0.6441)  loss_bbox: 1.2048 (1.2176)  loss_giou: 0.8997 (0.9089)  loss_feature: 0.6157 (0.6116)  loss_ce_0: 0.6439 (0.6464)  loss_bbox_0: 1.2965 (1.2821)  loss_giou_0: 0.9269 (0.9312)  loss_feature_0: 0.6314 (0.6281)  loss_ce_1: 0.6543 (0.6556)  loss_bbox_1: 1.2150 (1.2102)  loss_giou_1: 0.9051 (0.9183)  loss_feature_1: 0.6267 (0.6252)  loss_ce_2: 0.6359 (0.6377)  loss_bbox_2: 1.2169 (1.2452)  loss_giou_2: 0.9058 (0.9309)  loss_feature_2: 0.6271 (0.6208)  loss_ce_3: 0.6320 (0.6267)  loss_bbox_3: 1.1903 (1.2522)  loss_giou_3: 0.9187 (0.9299)  loss_feature_3: 0.6186 (0.6170)  loss_ce_4: 0.6430 (0.6381)  loss_bbox_4: 1.1916 (1.2178)  loss_giou_4: 0.8753 (0.9083)  loss_feature_4: 0.6160 (0.6134)  loss_ce_unscaled: 0.6417 (0.6441)  class_error_unscaled: 96.0000 (93.8182)  loss_bbox_unscaled: 0.2410 (0.2435)  loss_giou_unscaled: 0.4499 (0.4544)  cardinality_error_unscaled: 2.4000 (2.4727)  loss_feature_unscaled: 0.6157 (0.6116)  loss_ce_0_unscaled: 0.6439 (0.6464)  loss_bbox_0_unscaled: 0.2593 (0.2564)  loss_giou_0_unscaled: 0.4634 (0.4656)  cardinality_error_0_unscaled: 4.8000 (4.8727)  loss_feature_0_unscaled: 0.6314 (0.6281)  loss_ce_1_unscaled: 0.6543 (0.6556)  loss_bbox_1_unscaled: 0.2430 (0.2420)  loss_giou_1_unscaled: 0.4526 (0.4591)  cardinality_error_1_unscaled: 2.6000 (2.7455)  loss_feature_1_unscaled: 0.6267 (0.6252)  loss_ce_2_unscaled: 0.6359 (0.6377)  loss_bbox_2_unscaled: 0.2434 (0.2490)  loss_giou_2_unscaled: 0.4529 (0.4654)  cardinality_error_2_unscaled: 3.2000 (2.8909)  loss_feature_2_unscaled: 0.6271 (0.6208)  loss_ce_3_unscaled: 0.6320 (0.6267)  loss_bbox_3_unscaled: 0.2381 (0.2504)  loss_giou_3_unscaled: 0.4594 (0.4649)  cardinality_error_3_unscaled: 2.4000 (2.3636)  loss_feature_3_unscaled: 0.6186 (0.6170)  loss_ce_4_unscaled: 0.6430 (0.6381)  loss_bbox_4_unscaled: 0.2383 (0.2436)  loss_giou_4_unscaled: 0.4377 (0.4542)  cardinality_error_4_unscaled: 2.4000 (2.5091)  loss_feature_4_unscaled: 0.6160 (0.6134)  time: 2.0747  data: 0.1837  max mem: 1340\n",
      "Epoch: [7]  [ 20/105]  eta: 0:02:51  lr: 0.000100  class_error: 92.00  loss: 20.2212 (20.3504)  loss_ce: 0.6367 (0.6402)  loss_bbox: 1.2048 (1.2038)  loss_giou: 0.8887 (0.8946)  loss_feature: 0.5924 (0.5993)  loss_ce_0: 0.6343 (0.6339)  loss_bbox_0: 1.2965 (1.2949)  loss_giou_0: 0.9355 (0.9586)  loss_feature_0: 0.6074 (0.6145)  loss_ce_1: 0.6483 (0.6509)  loss_bbox_1: 1.2251 (1.2369)  loss_giou_1: 0.9312 (0.9234)  loss_feature_1: 0.6060 (0.6114)  loss_ce_2: 0.6341 (0.6380)  loss_bbox_2: 1.2291 (1.2234)  loss_giou_2: 0.8988 (0.9193)  loss_feature_2: 0.6020 (0.6061)  loss_ce_3: 0.6393 (0.6334)  loss_bbox_3: 1.1903 (1.2188)  loss_giou_3: 0.9100 (0.9095)  loss_feature_3: 0.5957 (0.6024)  loss_ce_4: 0.6421 (0.6415)  loss_bbox_4: 1.1916 (1.2020)  loss_giou_4: 0.8753 (0.8927)  loss_feature_4: 0.5966 (0.6009)  loss_ce_unscaled: 0.6367 (0.6402)  class_error_unscaled: 92.0000 (93.9048)  loss_bbox_unscaled: 0.2410 (0.2408)  loss_giou_unscaled: 0.4444 (0.4473)  cardinality_error_unscaled: 2.4000 (2.5714)  loss_feature_unscaled: 0.5924 (0.5993)  loss_ce_0_unscaled: 0.6343 (0.6339)  loss_bbox_0_unscaled: 0.2593 (0.2590)  loss_giou_0_unscaled: 0.4677 (0.4793)  cardinality_error_0_unscaled: 4.8000 (4.9714)  loss_feature_0_unscaled: 0.6074 (0.6145)  loss_ce_1_unscaled: 0.6483 (0.6509)  loss_bbox_1_unscaled: 0.2450 (0.2474)  loss_giou_1_unscaled: 0.4656 (0.4617)  cardinality_error_1_unscaled: 2.8000 (3.4762)  loss_feature_1_unscaled: 0.6060 (0.6114)  loss_ce_2_unscaled: 0.6341 (0.6380)  loss_bbox_2_unscaled: 0.2458 (0.2447)  loss_giou_2_unscaled: 0.4494 (0.4597)  cardinality_error_2_unscaled: 2.8000 (3.4571)  loss_feature_2_unscaled: 0.6020 (0.6061)  loss_ce_3_unscaled: 0.6393 (0.6334)  loss_bbox_3_unscaled: 0.2381 (0.2438)  loss_giou_3_unscaled: 0.4550 (0.4547)  cardinality_error_3_unscaled: 2.4000 (2.5429)  loss_feature_3_unscaled: 0.5957 (0.6024)  loss_ce_4_unscaled: 0.6421 (0.6415)  loss_bbox_4_unscaled: 0.2383 (0.2404)  loss_giou_4_unscaled: 0.4377 (0.4463)  cardinality_error_4_unscaled: 2.2000 (2.4476)  loss_feature_4_unscaled: 0.5966 (0.6009)  time: 1.9183  data: 0.0050  max mem: 1340\n",
      "Epoch: [7]  [ 30/105]  eta: 0:02:26  lr: 0.000100  class_error: 88.00  loss: 19.8461 (20.1363)  loss_ce: 0.6367 (0.6389)  loss_bbox: 1.1515 (1.1897)  loss_giou: 0.8527 (0.8833)  loss_feature: 0.5816 (0.5986)  loss_ce_0: 0.6229 (0.6298)  loss_bbox_0: 1.2525 (1.2768)  loss_giou_0: 0.9332 (0.9462)  loss_feature_0: 0.5973 (0.6149)  loss_ce_1: 0.6369 (0.6469)  loss_bbox_1: 1.1855 (1.2006)  loss_giou_1: 0.8816 (0.9029)  loss_feature_1: 0.5928 (0.6103)  loss_ce_2: 0.6408 (0.6398)  loss_bbox_2: 1.1649 (1.2023)  loss_giou_2: 0.8789 (0.8974)  loss_feature_2: 0.5872 (0.6045)  loss_ce_3: 0.6455 (0.6377)  loss_bbox_3: 1.1682 (1.2003)  loss_giou_3: 0.8749 (0.8945)  loss_feature_3: 0.5824 (0.6014)  loss_ce_4: 0.6422 (0.6424)  loss_bbox_4: 1.1579 (1.1917)  loss_giou_4: 0.8731 (0.8859)  loss_feature_4: 0.5797 (0.5996)  loss_ce_unscaled: 0.6367 (0.6389)  class_error_unscaled: 92.0000 (93.6774)  loss_bbox_unscaled: 0.2303 (0.2379)  loss_giou_unscaled: 0.4263 (0.4416)  cardinality_error_unscaled: 2.6000 (2.6581)  loss_feature_unscaled: 0.5816 (0.5986)  loss_ce_0_unscaled: 0.6229 (0.6298)  loss_bbox_0_unscaled: 0.2505 (0.2554)  loss_giou_0_unscaled: 0.4666 (0.4731)  cardinality_error_0_unscaled: 3.0000 (4.1806)  loss_feature_0_unscaled: 0.5973 (0.6149)  loss_ce_1_unscaled: 0.6369 (0.6469)  loss_bbox_1_unscaled: 0.2371 (0.2401)  loss_giou_1_unscaled: 0.4408 (0.4515)  cardinality_error_1_unscaled: 3.6000 (3.4903)  loss_feature_1_unscaled: 0.5928 (0.6103)  loss_ce_2_unscaled: 0.6408 (0.6398)  loss_bbox_2_unscaled: 0.2330 (0.2405)  loss_giou_2_unscaled: 0.4394 (0.4487)  cardinality_error_2_unscaled: 3.0000 (3.3097)  loss_feature_2_unscaled: 0.5872 (0.6045)  loss_ce_3_unscaled: 0.6455 (0.6377)  loss_bbox_3_unscaled: 0.2336 (0.2401)  loss_giou_3_unscaled: 0.4374 (0.4473)  cardinality_error_3_unscaled: 2.4000 (2.4581)  loss_feature_3_unscaled: 0.5824 (0.6014)  loss_ce_4_unscaled: 0.6422 (0.6424)  loss_bbox_4_unscaled: 0.2316 (0.2383)  loss_giou_4_unscaled: 0.4366 (0.4430)  cardinality_error_4_unscaled: 2.2000 (2.4065)  loss_feature_4_unscaled: 0.5797 (0.5996)  time: 1.8968  data: 0.0050  max mem: 1340\n",
      "Epoch: [7]  [ 40/105]  eta: 0:02:06  lr: 0.000100  class_error: 100.00  loss: 19.9167 (20.2872)  loss_ce: 0.6380 (0.6379)  loss_bbox: 1.1815 (1.2060)  loss_giou: 0.8802 (0.9112)  loss_feature: 0.6074 (0.6016)  loss_ce_0: 0.6384 (0.6350)  loss_bbox_0: 1.2316 (1.2788)  loss_giou_0: 0.9146 (0.9478)  loss_feature_0: 0.6230 (0.6186)  loss_ce_1: 0.6326 (0.6464)  loss_bbox_1: 1.1666 (1.2052)  loss_giou_1: 0.8816 (0.9113)  loss_feature_1: 0.6146 (0.6131)  loss_ce_2: 0.6454 (0.6420)  loss_bbox_2: 1.1636 (1.2053)  loss_giou_2: 0.8779 (0.9075)  loss_feature_2: 0.6117 (0.6071)  loss_ce_3: 0.6526 (0.6406)  loss_bbox_3: 1.1519 (1.2038)  loss_giou_3: 0.9022 (0.9116)  loss_feature_3: 0.6086 (0.6039)  loss_ce_4: 0.6434 (0.6434)  loss_bbox_4: 1.1640 (1.2004)  loss_giou_4: 0.8780 (0.9064)  loss_feature_4: 0.6062 (0.6023)  loss_ce_unscaled: 0.6380 (0.6379)  class_error_unscaled: 96.0000 (93.9512)  loss_bbox_unscaled: 0.2363 (0.2412)  loss_giou_unscaled: 0.4401 (0.4556)  cardinality_error_unscaled: 2.6000 (2.6439)  loss_feature_unscaled: 0.6074 (0.6016)  loss_ce_0_unscaled: 0.6384 (0.6350)  loss_bbox_0_unscaled: 0.2463 (0.2558)  loss_giou_0_unscaled: 0.4573 (0.4739)  cardinality_error_0_unscaled: 2.2000 (3.7659)  loss_feature_0_unscaled: 0.6230 (0.6186)  loss_ce_1_unscaled: 0.6326 (0.6464)  loss_bbox_1_unscaled: 0.2333 (0.2410)  loss_giou_1_unscaled: 0.4408 (0.4556)  cardinality_error_1_unscaled: 3.0000 (3.5707)  loss_feature_1_unscaled: 0.6146 (0.6131)  loss_ce_2_unscaled: 0.6454 (0.6420)  loss_bbox_2_unscaled: 0.2327 (0.2411)  loss_giou_2_unscaled: 0.4390 (0.4537)  cardinality_error_2_unscaled: 2.6000 (3.3122)  loss_feature_2_unscaled: 0.6117 (0.6071)  loss_ce_3_unscaled: 0.6526 (0.6406)  loss_bbox_3_unscaled: 0.2304 (0.2408)  loss_giou_3_unscaled: 0.4511 (0.4558)  cardinality_error_3_unscaled: 2.4000 (2.5171)  loss_feature_3_unscaled: 0.6086 (0.6039)  loss_ce_4_unscaled: 0.6434 (0.6434)  loss_bbox_4_unscaled: 0.2328 (0.2401)  loss_giou_4_unscaled: 0.4390 (0.4532)  cardinality_error_4_unscaled: 2.2000 (2.4585)  loss_feature_4_unscaled: 0.6062 (0.6023)  time: 1.8844  data: 0.0050  max mem: 1340\n",
      "Epoch: [7]  [ 50/105]  eta: 0:01:46  lr: 0.000100  class_error: 100.00  loss: 19.8070 (20.1648)  loss_ce: 0.6417 (0.6407)  loss_bbox: 1.2081 (1.2045)  loss_giou: 0.8717 (0.8981)  loss_feature: 0.5782 (0.5960)  loss_ce_0: 0.6388 (0.6337)  loss_bbox_0: 1.2021 (1.2688)  loss_giou_0: 0.9090 (0.9367)  loss_feature_0: 0.5951 (0.6133)  loss_ce_1: 0.6326 (0.6422)  loss_bbox_1: 1.1888 (1.2068)  loss_giou_1: 0.8992 (0.9057)  loss_feature_1: 0.5831 (0.6071)  loss_ce_2: 0.6375 (0.6391)  loss_bbox_2: 1.1979 (1.2033)  loss_giou_2: 0.8779 (0.8934)  loss_feature_2: 0.5824 (0.6011)  loss_ce_3: 0.6453 (0.6406)  loss_bbox_3: 1.1894 (1.1997)  loss_giou_3: 0.8626 (0.8974)  loss_feature_3: 0.5795 (0.5983)  loss_ce_4: 0.6465 (0.6441)  loss_bbox_4: 1.1912 (1.2017)  loss_giou_4: 0.8791 (0.8959)  loss_feature_4: 0.5795 (0.5964)  loss_ce_unscaled: 0.6417 (0.6407)  class_error_unscaled: 96.0000 (94.5882)  loss_bbox_unscaled: 0.2416 (0.2409)  loss_giou_unscaled: 0.4358 (0.4491)  cardinality_error_unscaled: 2.8000 (2.6902)  loss_feature_unscaled: 0.5782 (0.5960)  loss_ce_0_unscaled: 0.6388 (0.6337)  loss_bbox_0_unscaled: 0.2404 (0.2538)  loss_giou_0_unscaled: 0.4545 (0.4684)  cardinality_error_0_unscaled: 2.6000 (3.8980)  loss_feature_0_unscaled: 0.5951 (0.6133)  loss_ce_1_unscaled: 0.6326 (0.6422)  loss_bbox_1_unscaled: 0.2378 (0.2414)  loss_giou_1_unscaled: 0.4496 (0.4528)  cardinality_error_1_unscaled: 2.2000 (3.2902)  loss_feature_1_unscaled: 0.5831 (0.6071)  loss_ce_2_unscaled: 0.6375 (0.6391)  loss_bbox_2_unscaled: 0.2396 (0.2407)  loss_giou_2_unscaled: 0.4390 (0.4467)  cardinality_error_2_unscaled: 2.6000 (3.2000)  loss_feature_2_unscaled: 0.5824 (0.6011)  loss_ce_3_unscaled: 0.6453 (0.6406)  loss_bbox_3_unscaled: 0.2379 (0.2399)  loss_giou_3_unscaled: 0.4313 (0.4487)  cardinality_error_3_unscaled: 2.8000 (2.5176)  loss_feature_3_unscaled: 0.5795 (0.5983)  loss_ce_4_unscaled: 0.6465 (0.6441)  loss_bbox_4_unscaled: 0.2382 (0.2403)  loss_giou_4_unscaled: 0.4395 (0.4480)  cardinality_error_4_unscaled: 2.4000 (2.4863)  loss_feature_4_unscaled: 0.5795 (0.5964)  time: 1.8848  data: 0.0051  max mem: 1340\n",
      "Epoch: [7]  [ 60/105]  eta: 0:01:26  lr: 0.000100  class_error: 100.00  loss: 19.7577 (20.1736)  loss_ce: 0.6405 (0.6391)  loss_bbox: 1.1722 (1.2033)  loss_giou: 0.8693 (0.8957)  loss_feature: 0.5782 (0.5976)  loss_ce_0: 0.6214 (0.6316)  loss_bbox_0: 1.2021 (1.2605)  loss_giou_0: 0.8844 (0.9333)  loss_feature_0: 0.5931 (0.6142)  loss_ce_1: 0.6326 (0.6413)  loss_bbox_1: 1.1880 (1.2058)  loss_giou_1: 0.8941 (0.9047)  loss_feature_1: 0.5831 (0.6077)  loss_ce_2: 0.6269 (0.6368)  loss_bbox_2: 1.2360 (1.2114)  loss_giou_2: 0.8996 (0.9016)  loss_feature_2: 0.5824 (0.6018)  loss_ce_3: 0.6309 (0.6380)  loss_bbox_3: 1.2168 (1.2082)  loss_giou_3: 0.8828 (0.9018)  loss_feature_3: 0.5795 (0.5993)  loss_ce_4: 0.6333 (0.6408)  loss_bbox_4: 1.1967 (1.2050)  loss_giou_4: 0.9063 (0.8968)  loss_feature_4: 0.5795 (0.5975)  loss_ce_unscaled: 0.6405 (0.6391)  class_error_unscaled: 100.0000 (95.2787)  loss_bbox_unscaled: 0.2344 (0.2407)  loss_giou_unscaled: 0.4346 (0.4478)  cardinality_error_unscaled: 4.2000 (3.0230)  loss_feature_unscaled: 0.5782 (0.5976)  loss_ce_0_unscaled: 0.6214 (0.6316)  loss_bbox_0_unscaled: 0.2404 (0.2521)  loss_giou_0_unscaled: 0.4422 (0.4666)  cardinality_error_0_unscaled: 4.0000 (4.2033)  loss_feature_0_unscaled: 0.5931 (0.6142)  loss_ce_1_unscaled: 0.6326 (0.6413)  loss_bbox_1_unscaled: 0.2376 (0.2412)  loss_giou_1_unscaled: 0.4471 (0.4523)  cardinality_error_1_unscaled: 2.2000 (3.1607)  loss_feature_1_unscaled: 0.5831 (0.6077)  loss_ce_2_unscaled: 0.6269 (0.6368)  loss_bbox_2_unscaled: 0.2472 (0.2423)  loss_giou_2_unscaled: 0.4498 (0.4508)  cardinality_error_2_unscaled: 2.6000 (3.0820)  loss_feature_2_unscaled: 0.5824 (0.6018)  loss_ce_3_unscaled: 0.6309 (0.6380)  loss_bbox_3_unscaled: 0.2434 (0.2416)  loss_giou_3_unscaled: 0.4414 (0.4509)  cardinality_error_3_unscaled: 2.8000 (2.5607)  loss_feature_3_unscaled: 0.5795 (0.5993)  loss_ce_4_unscaled: 0.6333 (0.6408)  loss_bbox_4_unscaled: 0.2393 (0.2410)  loss_giou_4_unscaled: 0.4532 (0.4484)  cardinality_error_4_unscaled: 3.8000 (2.7934)  loss_feature_4_unscaled: 0.5795 (0.5975)  time: 1.8902  data: 0.0050  max mem: 1340\n",
      "Epoch: [7]  [ 70/105]  eta: 0:01:07  lr: 0.000100  class_error: 80.00  loss: 19.7577 (20.0781)  loss_ce: 0.6330 (0.6377)  loss_bbox: 1.1617 (1.1928)  loss_giou: 0.8772 (0.8864)  loss_feature: 0.6013 (0.6007)  loss_ce_0: 0.6161 (0.6291)  loss_bbox_0: 1.2467 (1.2655)  loss_giou_0: 0.8844 (0.9255)  loss_feature_0: 0.6169 (0.6172)  loss_ce_1: 0.6447 (0.6443)  loss_bbox_1: 1.1838 (1.2032)  loss_giou_1: 0.8868 (0.8983)  loss_feature_1: 0.6054 (0.6101)  loss_ce_2: 0.6310 (0.6376)  loss_bbox_2: 1.1567 (1.1962)  loss_giou_2: 0.8916 (0.8920)  loss_feature_2: 0.5986 (0.6042)  loss_ce_3: 0.6292 (0.6375)  loss_bbox_3: 1.1721 (1.1949)  loss_giou_3: 0.8764 (0.8880)  loss_feature_3: 0.6031 (0.6019)  loss_ce_4: 0.6250 (0.6389)  loss_bbox_4: 1.1557 (1.1919)  loss_giou_4: 0.8635 (0.8838)  loss_feature_4: 0.5975 (0.6005)  loss_ce_unscaled: 0.6330 (0.6377)  class_error_unscaled: 96.0000 (94.8169)  loss_bbox_unscaled: 0.2323 (0.2386)  loss_giou_unscaled: 0.4386 (0.4432)  cardinality_error_unscaled: 4.2000 (3.0141)  loss_feature_unscaled: 0.6013 (0.6007)  loss_ce_0_unscaled: 0.6161 (0.6291)  loss_bbox_0_unscaled: 0.2493 (0.2531)  loss_giou_0_unscaled: 0.4422 (0.4628)  cardinality_error_0_unscaled: 2.4000 (4.0704)  loss_feature_0_unscaled: 0.6169 (0.6172)  loss_ce_1_unscaled: 0.6447 (0.6443)  loss_bbox_1_unscaled: 0.2368 (0.2406)  loss_giou_1_unscaled: 0.4434 (0.4492)  cardinality_error_1_unscaled: 2.0000 (3.0366)  loss_feature_1_unscaled: 0.6054 (0.6101)  loss_ce_2_unscaled: 0.6310 (0.6376)  loss_bbox_2_unscaled: 0.2313 (0.2392)  loss_giou_2_unscaled: 0.4458 (0.4460)  cardinality_error_2_unscaled: 2.6000 (3.0648)  loss_feature_2_unscaled: 0.5986 (0.6042)  loss_ce_3_unscaled: 0.6292 (0.6375)  loss_bbox_3_unscaled: 0.2344 (0.2390)  loss_giou_3_unscaled: 0.4382 (0.4440)  cardinality_error_3_unscaled: 2.4000 (2.5324)  loss_feature_3_unscaled: 0.6031 (0.6019)  loss_ce_4_unscaled: 0.6250 (0.6389)  loss_bbox_4_unscaled: 0.2311 (0.2384)  loss_giou_4_unscaled: 0.4317 (0.4419)  cardinality_error_4_unscaled: 3.8000 (2.8000)  loss_feature_4_unscaled: 0.5975 (0.6005)  time: 1.8974  data: 0.0050  max mem: 1340\n",
      "Epoch: [7]  [ 80/105]  eta: 0:00:47  lr: 0.000100  class_error: 88.00  loss: 19.3847 (20.0758)  loss_ce: 0.6330 (0.6373)  loss_bbox: 1.1484 (1.1891)  loss_giou: 0.8655 (0.8864)  loss_feature: 0.6131 (0.6034)  loss_ce_0: 0.6189 (0.6277)  loss_bbox_0: 1.2802 (1.2591)  loss_giou_0: 0.8872 (0.9240)  loss_feature_0: 0.6275 (0.6199)  loss_ce_1: 0.6475 (0.6427)  loss_bbox_1: 1.1476 (1.2015)  loss_giou_1: 0.8407 (0.8966)  loss_feature_1: 0.6210 (0.6132)  loss_ce_2: 0.6341 (0.6352)  loss_bbox_2: 1.1419 (1.1967)  loss_giou_2: 0.8220 (0.8899)  loss_feature_2: 0.6234 (0.6075)  loss_ce_3: 0.6292 (0.6361)  loss_bbox_3: 1.1341 (1.1969)  loss_giou_3: 0.8349 (0.8888)  loss_feature_3: 0.6169 (0.6053)  loss_ce_4: 0.6277 (0.6381)  loss_bbox_4: 1.1439 (1.1923)  loss_giou_4: 0.8589 (0.8848)  loss_feature_4: 0.6121 (0.6034)  loss_ce_unscaled: 0.6330 (0.6373)  class_error_unscaled: 92.0000 (93.9259)  loss_bbox_unscaled: 0.2297 (0.2378)  loss_giou_unscaled: 0.4328 (0.4432)  cardinality_error_unscaled: 3.4000 (3.2148)  loss_feature_unscaled: 0.6131 (0.6034)  loss_ce_0_unscaled: 0.6189 (0.6277)  loss_bbox_0_unscaled: 0.2560 (0.2518)  loss_giou_0_unscaled: 0.4436 (0.4620)  cardinality_error_0_unscaled: 5.4000 (4.4272)  loss_feature_0_unscaled: 0.6275 (0.6199)  loss_ce_1_unscaled: 0.6475 (0.6427)  loss_bbox_1_unscaled: 0.2295 (0.2403)  loss_giou_1_unscaled: 0.4204 (0.4483)  cardinality_error_1_unscaled: 2.4000 (2.9951)  loss_feature_1_unscaled: 0.6210 (0.6132)  loss_ce_2_unscaled: 0.6341 (0.6352)  loss_bbox_2_unscaled: 0.2284 (0.2393)  loss_giou_2_unscaled: 0.4110 (0.4449)  cardinality_error_2_unscaled: 3.2000 (3.1185)  loss_feature_2_unscaled: 0.6234 (0.6075)  loss_ce_3_unscaled: 0.6292 (0.6361)  loss_bbox_3_unscaled: 0.2268 (0.2394)  loss_giou_3_unscaled: 0.4174 (0.4444)  cardinality_error_3_unscaled: 2.4000 (2.6000)  loss_feature_3_unscaled: 0.6169 (0.6053)  loss_ce_4_unscaled: 0.6277 (0.6381)  loss_bbox_4_unscaled: 0.2288 (0.2385)  loss_giou_4_unscaled: 0.4295 (0.4424)  cardinality_error_4_unscaled: 3.2000 (2.9704)  loss_feature_4_unscaled: 0.6121 (0.6034)  time: 1.8364  data: 0.0047  max mem: 1340\n",
      "Epoch: [7]  [ 90/105]  eta: 0:00:28  lr: 0.000100  class_error: 100.00  loss: 19.6007 (20.0534)  loss_ce: 0.6387 (0.6383)  loss_bbox: 1.1674 (1.1877)  loss_giou: 0.8869 (0.8871)  loss_feature: 0.5970 (0.6018)  loss_ce_0: 0.6209 (0.6271)  loss_bbox_0: 1.2138 (1.2548)  loss_giou_0: 0.8946 (0.9232)  loss_feature_0: 0.6123 (0.6185)  loss_ce_1: 0.6354 (0.6424)  loss_bbox_1: 1.1591 (1.2010)  loss_giou_1: 0.8310 (0.8935)  loss_feature_1: 0.6070 (0.6118)  loss_ce_2: 0.6410 (0.6366)  loss_bbox_2: 1.1259 (1.1924)  loss_giou_2: 0.8389 (0.8887)  loss_feature_2: 0.6085 (0.6060)  loss_ce_3: 0.6410 (0.6376)  loss_bbox_3: 1.1663 (1.1947)  loss_giou_3: 0.8648 (0.8892)  loss_feature_3: 0.6028 (0.6037)  loss_ce_4: 0.6356 (0.6383)  loss_bbox_4: 1.1466 (1.1911)  loss_giou_4: 0.8667 (0.8861)  loss_feature_4: 0.6001 (0.6018)  loss_ce_unscaled: 0.6387 (0.6383)  class_error_unscaled: 92.0000 (94.1099)  loss_bbox_unscaled: 0.2335 (0.2375)  loss_giou_unscaled: 0.4434 (0.4436)  cardinality_error_unscaled: 3.6000 (3.2571)  loss_feature_unscaled: 0.5970 (0.6018)  loss_ce_0_unscaled: 0.6209 (0.6271)  loss_bbox_0_unscaled: 0.2428 (0.2510)  loss_giou_0_unscaled: 0.4473 (0.4616)  cardinality_error_0_unscaled: 5.6000 (4.4308)  loss_feature_0_unscaled: 0.6123 (0.6185)  loss_ce_1_unscaled: 0.6354 (0.6424)  loss_bbox_1_unscaled: 0.2318 (0.2402)  loss_giou_1_unscaled: 0.4155 (0.4468)  cardinality_error_1_unscaled: 2.2000 (2.8857)  loss_feature_1_unscaled: 0.6070 (0.6118)  loss_ce_2_unscaled: 0.6410 (0.6366)  loss_bbox_2_unscaled: 0.2252 (0.2385)  loss_giou_2_unscaled: 0.4195 (0.4444)  cardinality_error_2_unscaled: 3.2000 (3.1121)  loss_feature_2_unscaled: 0.6085 (0.6060)  loss_ce_3_unscaled: 0.6410 (0.6376)  loss_bbox_3_unscaled: 0.2333 (0.2389)  loss_giou_3_unscaled: 0.4324 (0.4446)  cardinality_error_3_unscaled: 3.6000 (2.7187)  loss_feature_3_unscaled: 0.6028 (0.6037)  loss_ce_4_unscaled: 0.6356 (0.6383)  loss_bbox_4_unscaled: 0.2293 (0.2382)  loss_giou_4_unscaled: 0.4334 (0.4431)  cardinality_error_4_unscaled: 3.6000 (3.1363)  loss_feature_4_unscaled: 0.6001 (0.6018)  time: 1.8462  data: 0.0047  max mem: 1340\n",
      "Epoch: [7]  [100/105]  eta: 0:00:09  lr: 0.000100  class_error: 84.00  loss: 19.4829 (20.0291)  loss_ce: 0.6483 (0.6385)  loss_bbox: 1.1674 (1.1855)  loss_giou: 0.8625 (0.8859)  loss_feature: 0.5830 (0.6015)  loss_ce_0: 0.6215 (0.6272)  loss_bbox_0: 1.2117 (1.2530)  loss_giou_0: 0.9193 (0.9249)  loss_feature_0: 0.6048 (0.6184)  loss_ce_1: 0.6354 (0.6427)  loss_bbox_1: 1.1722 (1.2007)  loss_giou_1: 0.8393 (0.8937)  loss_feature_1: 0.5950 (0.6112)  loss_ce_2: 0.6403 (0.6365)  loss_bbox_2: 1.1126 (1.1877)  loss_giou_2: 0.8389 (0.8862)  loss_feature_2: 0.5872 (0.6055)  loss_ce_3: 0.6423 (0.6374)  loss_bbox_3: 1.1223 (1.1926)  loss_giou_3: 0.8289 (0.8853)  loss_feature_3: 0.5851 (0.6032)  loss_ce_4: 0.6448 (0.6385)  loss_bbox_4: 1.1263 (1.1889)  loss_giou_4: 0.8323 (0.8831)  loss_feature_4: 0.5849 (0.6014)  loss_ce_unscaled: 0.6483 (0.6385)  class_error_unscaled: 96.0000 (94.1782)  loss_bbox_unscaled: 0.2335 (0.2371)  loss_giou_unscaled: 0.4312 (0.4429)  cardinality_error_unscaled: 3.0000 (3.1782)  loss_feature_unscaled: 0.5830 (0.6015)  loss_ce_0_unscaled: 0.6215 (0.6272)  loss_bbox_0_unscaled: 0.2423 (0.2506)  loss_giou_0_unscaled: 0.4596 (0.4624)  cardinality_error_0_unscaled: 2.6000 (4.1703)  loss_feature_0_unscaled: 0.6048 (0.6184)  loss_ce_1_unscaled: 0.6354 (0.6427)  loss_bbox_1_unscaled: 0.2344 (0.2401)  loss_giou_1_unscaled: 0.4197 (0.4468)  cardinality_error_1_unscaled: 2.2000 (2.8792)  loss_feature_1_unscaled: 0.5950 (0.6112)  loss_ce_2_unscaled: 0.6403 (0.6365)  loss_bbox_2_unscaled: 0.2225 (0.2375)  loss_giou_2_unscaled: 0.4195 (0.4431)  cardinality_error_2_unscaled: 2.6000 (3.0851)  loss_feature_2_unscaled: 0.5872 (0.6055)  loss_ce_3_unscaled: 0.6423 (0.6374)  loss_bbox_3_unscaled: 0.2245 (0.2385)  loss_giou_3_unscaled: 0.4145 (0.4426)  cardinality_error_3_unscaled: 3.2000 (2.7446)  loss_feature_3_unscaled: 0.5851 (0.6032)  loss_ce_4_unscaled: 0.6448 (0.6385)  loss_bbox_4_unscaled: 0.2253 (0.2378)  loss_giou_4_unscaled: 0.4162 (0.4415)  cardinality_error_4_unscaled: 3.0000 (3.0990)  loss_feature_4_unscaled: 0.5849 (0.6014)  time: 1.9120  data: 0.0051  max mem: 1340\n",
      "Epoch: [7]  [104/105]  eta: 0:00:01  lr: 0.000100  class_error: 88.00  loss: 19.7318 (20.0370)  loss_ce: 0.6303 (0.6378)  loss_bbox: 1.1583 (1.1857)  loss_giou: 0.8625 (0.8865)  loss_feature: 0.5784 (0.6014)  loss_ce_0: 0.6249 (0.6275)  loss_bbox_0: 1.2138 (1.2607)  loss_giou_0: 0.9441 (0.9295)  loss_feature_0: 0.6048 (0.6184)  loss_ce_1: 0.6374 (0.6427)  loss_bbox_1: 1.1758 (1.2026)  loss_giou_1: 0.8616 (0.8938)  loss_feature_1: 0.5854 (0.6110)  loss_ce_2: 0.6389 (0.6363)  loss_bbox_2: 1.1228 (1.1854)  loss_giou_2: 0.8389 (0.8860)  loss_feature_2: 0.5830 (0.6053)  loss_ce_3: 0.6406 (0.6375)  loss_bbox_3: 1.1223 (1.1898)  loss_giou_3: 0.8289 (0.8853)  loss_feature_3: 0.5820 (0.6030)  loss_ce_4: 0.6303 (0.6378)  loss_bbox_4: 1.1425 (1.1881)  loss_giou_4: 0.8323 (0.8836)  loss_feature_4: 0.5778 (0.6012)  loss_ce_unscaled: 0.6303 (0.6378)  class_error_unscaled: 96.0000 (94.1714)  loss_bbox_unscaled: 0.2317 (0.2371)  loss_giou_unscaled: 0.4312 (0.4433)  cardinality_error_unscaled: 2.6000 (3.1410)  loss_feature_unscaled: 0.5784 (0.6014)  loss_ce_0_unscaled: 0.6249 (0.6275)  loss_bbox_0_unscaled: 0.2428 (0.2521)  loss_giou_0_unscaled: 0.4721 (0.4647)  cardinality_error_0_unscaled: 2.0000 (4.1029)  loss_feature_0_unscaled: 0.6048 (0.6184)  loss_ce_1_unscaled: 0.6374 (0.6427)  loss_bbox_1_unscaled: 0.2352 (0.2405)  loss_giou_1_unscaled: 0.4308 (0.4469)  cardinality_error_1_unscaled: 2.4000 (2.8762)  loss_feature_1_unscaled: 0.5854 (0.6110)  loss_ce_2_unscaled: 0.6389 (0.6363)  loss_bbox_2_unscaled: 0.2246 (0.2371)  loss_giou_2_unscaled: 0.4195 (0.4430)  cardinality_error_2_unscaled: 2.4000 (3.1048)  loss_feature_2_unscaled: 0.5830 (0.6053)  loss_ce_3_unscaled: 0.6406 (0.6375)  loss_bbox_3_unscaled: 0.2245 (0.2380)  loss_giou_3_unscaled: 0.4145 (0.4427)  cardinality_error_3_unscaled: 3.2000 (2.7505)  loss_feature_3_unscaled: 0.5820 (0.6030)  loss_ce_4_unscaled: 0.6303 (0.6378)  loss_bbox_4_unscaled: 0.2285 (0.2376)  loss_giou_4_unscaled: 0.4162 (0.4418)  cardinality_error_4_unscaled: 2.4000 (3.0705)  loss_feature_4_unscaled: 0.5778 (0.6012)  time: 1.8682  data: 0.0051  max mem: 1340\n",
      "Epoch: [7] Total time: 0:03:19 (1.9011 s / it)\n",
      "Averaged stats: lr: 0.000100  class_error: 88.00  loss: 19.7318 (20.0370)  loss_ce: 0.6303 (0.6378)  loss_bbox: 1.1583 (1.1857)  loss_giou: 0.8625 (0.8865)  loss_feature: 0.5784 (0.6014)  loss_ce_0: 0.6249 (0.6275)  loss_bbox_0: 1.2138 (1.2607)  loss_giou_0: 0.9441 (0.9295)  loss_feature_0: 0.6048 (0.6184)  loss_ce_1: 0.6374 (0.6427)  loss_bbox_1: 1.1758 (1.2026)  loss_giou_1: 0.8616 (0.8938)  loss_feature_1: 0.5854 (0.6110)  loss_ce_2: 0.6389 (0.6363)  loss_bbox_2: 1.1228 (1.1854)  loss_giou_2: 0.8389 (0.8860)  loss_feature_2: 0.5830 (0.6053)  loss_ce_3: 0.6406 (0.6375)  loss_bbox_3: 1.1223 (1.1898)  loss_giou_3: 0.8289 (0.8853)  loss_feature_3: 0.5820 (0.6030)  loss_ce_4: 0.6303 (0.6378)  loss_bbox_4: 1.1425 (1.1881)  loss_giou_4: 0.8323 (0.8836)  loss_feature_4: 0.5778 (0.6012)  loss_ce_unscaled: 0.6303 (0.6378)  class_error_unscaled: 96.0000 (94.1714)  loss_bbox_unscaled: 0.2317 (0.2371)  loss_giou_unscaled: 0.4312 (0.4433)  cardinality_error_unscaled: 2.6000 (3.1410)  loss_feature_unscaled: 0.5784 (0.6014)  loss_ce_0_unscaled: 0.6249 (0.6275)  loss_bbox_0_unscaled: 0.2428 (0.2521)  loss_giou_0_unscaled: 0.4721 (0.4647)  cardinality_error_0_unscaled: 2.0000 (4.1029)  loss_feature_0_unscaled: 0.6048 (0.6184)  loss_ce_1_unscaled: 0.6374 (0.6427)  loss_bbox_1_unscaled: 0.2352 (0.2405)  loss_giou_1_unscaled: 0.4308 (0.4469)  cardinality_error_1_unscaled: 2.4000 (2.8762)  loss_feature_1_unscaled: 0.5854 (0.6110)  loss_ce_2_unscaled: 0.6389 (0.6363)  loss_bbox_2_unscaled: 0.2246 (0.2371)  loss_giou_2_unscaled: 0.4195 (0.4430)  cardinality_error_2_unscaled: 2.4000 (3.1048)  loss_feature_2_unscaled: 0.5830 (0.6053)  loss_ce_3_unscaled: 0.6406 (0.6375)  loss_bbox_3_unscaled: 0.2245 (0.2380)  loss_giou_3_unscaled: 0.4145 (0.4427)  cardinality_error_3_unscaled: 3.2000 (2.7505)  loss_feature_3_unscaled: 0.5820 (0.6030)  loss_ce_4_unscaled: 0.6303 (0.6378)  loss_bbox_4_unscaled: 0.2285 (0.2376)  loss_giou_4_unscaled: 0.4162 (0.4418)  cardinality_error_4_unscaled: 2.4000 (3.0705)  loss_feature_4_unscaled: 0.5778 (0.6012)\n",
      "Epoch: [8]  [  0/105]  eta: 0:07:11  lr: 0.000100  class_error: 96.00  loss: 20.2774 (20.2774)  loss_ce: 0.6079 (0.6079)  loss_bbox: 1.1791 (1.1791)  loss_giou: 0.8732 (0.8732)  loss_feature: 0.6384 (0.6384)  loss_ce_0: 0.6479 (0.6479)  loss_bbox_0: 1.3649 (1.3649)  loss_giou_0: 0.9463 (0.9463)  loss_feature_0: 0.6564 (0.6564)  loss_ce_1: 0.6370 (0.6370)  loss_bbox_1: 1.3198 (1.3198)  loss_giou_1: 0.8581 (0.8581)  loss_feature_1: 0.6477 (0.6477)  loss_ce_2: 0.6160 (0.6160)  loss_bbox_2: 1.2448 (1.2448)  loss_giou_2: 0.8581 (0.8581)  loss_feature_2: 0.6413 (0.6413)  loss_ce_3: 0.5837 (0.5837)  loss_bbox_3: 1.1540 (1.1540)  loss_giou_3: 0.8501 (0.8501)  loss_feature_3: 0.6387 (0.6387)  loss_ce_4: 0.5899 (0.5899)  loss_bbox_4: 1.1925 (1.1925)  loss_giou_4: 0.8912 (0.8912)  loss_feature_4: 0.6403 (0.6403)  loss_ce_unscaled: 0.6079 (0.6079)  class_error_unscaled: 96.0000 (96.0000)  loss_bbox_unscaled: 0.2358 (0.2358)  loss_giou_unscaled: 0.4366 (0.4366)  cardinality_error_unscaled: 3.2000 (3.2000)  loss_feature_unscaled: 0.6384 (0.6384)  loss_ce_0_unscaled: 0.6479 (0.6479)  loss_bbox_0_unscaled: 0.2730 (0.2730)  loss_giou_0_unscaled: 0.4731 (0.4731)  cardinality_error_0_unscaled: 2.0000 (2.0000)  loss_feature_0_unscaled: 0.6564 (0.6564)  loss_ce_1_unscaled: 0.6370 (0.6370)  loss_bbox_1_unscaled: 0.2640 (0.2640)  loss_giou_1_unscaled: 0.4291 (0.4291)  cardinality_error_1_unscaled: 1.0000 (1.0000)  loss_feature_1_unscaled: 0.6477 (0.6477)  loss_ce_2_unscaled: 0.6160 (0.6160)  loss_bbox_2_unscaled: 0.2490 (0.2490)  loss_giou_2_unscaled: 0.4291 (0.4291)  cardinality_error_2_unscaled: 1.2000 (1.2000)  loss_feature_2_unscaled: 0.6413 (0.6413)  loss_ce_3_unscaled: 0.5837 (0.5837)  loss_bbox_3_unscaled: 0.2308 (0.2308)  loss_giou_3_unscaled: 0.4251 (0.4251)  cardinality_error_3_unscaled: 1.8000 (1.8000)  loss_feature_3_unscaled: 0.6387 (0.6387)  loss_ce_4_unscaled: 0.5899 (0.5899)  loss_bbox_4_unscaled: 0.2385 (0.2385)  loss_giou_4_unscaled: 0.4456 (0.4456)  cardinality_error_4_unscaled: 1.8000 (1.8000)  loss_feature_4_unscaled: 0.6403 (0.6403)  time: 4.1080  data: 2.1317  max mem: 1340\n",
      "Epoch: [8]  [ 10/105]  eta: 0:03:14  lr: 0.000100  class_error: 100.00  loss: 20.0954 (19.9634)  loss_ce: 0.6419 (0.6413)  loss_bbox: 1.1651 (1.1631)  loss_giou: 0.8597 (0.8691)  loss_feature: 0.6328 (0.6153)  loss_ce_0: 0.6333 (0.6351)  loss_bbox_0: 1.2276 (1.2390)  loss_giou_0: 0.8807 (0.8875)  loss_feature_0: 0.6482 (0.6316)  loss_ce_1: 0.6344 (0.6345)  loss_bbox_1: 1.2642 (1.2473)  loss_giou_1: 0.8940 (0.8938)  loss_feature_1: 0.6477 (0.6254)  loss_ce_2: 0.6332 (0.6306)  loss_bbox_2: 1.2222 (1.2189)  loss_giou_2: 0.8581 (0.8871)  loss_feature_2: 0.6370 (0.6187)  loss_ce_3: 0.6339 (0.6391)  loss_bbox_3: 1.1540 (1.1658)  loss_giou_3: 0.8501 (0.8543)  loss_feature_3: 0.6361 (0.6171)  loss_ce_4: 0.6372 (0.6401)  loss_bbox_4: 1.1520 (1.1471)  loss_giou_4: 0.8291 (0.8460)  loss_feature_4: 0.6324 (0.6157)  loss_ce_unscaled: 0.6419 (0.6413)  class_error_unscaled: 96.0000 (96.3636)  loss_bbox_unscaled: 0.2330 (0.2326)  loss_giou_unscaled: 0.4298 (0.4345)  cardinality_error_unscaled: 2.6000 (2.7091)  loss_feature_unscaled: 0.6328 (0.6153)  loss_ce_0_unscaled: 0.6333 (0.6351)  loss_bbox_0_unscaled: 0.2455 (0.2478)  loss_giou_0_unscaled: 0.4404 (0.4438)  cardinality_error_0_unscaled: 2.2000 (3.0909)  loss_feature_0_unscaled: 0.6482 (0.6316)  loss_ce_1_unscaled: 0.6344 (0.6345)  loss_bbox_1_unscaled: 0.2528 (0.2495)  loss_giou_1_unscaled: 0.4470 (0.4469)  cardinality_error_1_unscaled: 2.4000 (2.8545)  loss_feature_1_unscaled: 0.6477 (0.6254)  loss_ce_2_unscaled: 0.6332 (0.6306)  loss_bbox_2_unscaled: 0.2444 (0.2438)  loss_giou_2_unscaled: 0.4291 (0.4435)  cardinality_error_2_unscaled: 2.2000 (2.2000)  loss_feature_2_unscaled: 0.6370 (0.6187)  loss_ce_3_unscaled: 0.6339 (0.6391)  loss_bbox_3_unscaled: 0.2308 (0.2332)  loss_giou_3_unscaled: 0.4251 (0.4271)  cardinality_error_3_unscaled: 2.8000 (2.4909)  loss_feature_3_unscaled: 0.6361 (0.6171)  loss_ce_4_unscaled: 0.6372 (0.6401)  loss_bbox_4_unscaled: 0.2304 (0.2294)  loss_giou_4_unscaled: 0.4146 (0.4230)  cardinality_error_4_unscaled: 2.6000 (2.4000)  loss_feature_4_unscaled: 0.6324 (0.6157)  time: 2.0483  data: 0.1983  max mem: 1340\n",
      "Epoch: [8]  [ 20/105]  eta: 0:02:45  lr: 0.000100  class_error: 96.00  loss: 20.0594 (19.9195)  loss_ce: 0.6360 (0.6410)  loss_bbox: 1.1525 (1.1603)  loss_giou: 0.8560 (0.8603)  loss_feature: 0.5872 (0.5990)  loss_ce_0: 0.6349 (0.6374)  loss_bbox_0: 1.2276 (1.2523)  loss_giou_0: 0.8807 (0.9022)  loss_feature_0: 0.6009 (0.6156)  loss_ce_1: 0.6367 (0.6421)  loss_bbox_1: 1.2104 (1.2343)  loss_giou_1: 0.8940 (0.8999)  loss_feature_1: 0.6007 (0.6096)  loss_ce_2: 0.6563 (0.6479)  loss_bbox_2: 1.2030 (1.2131)  loss_giou_2: 0.8572 (0.8823)  loss_feature_2: 0.5955 (0.6033)  loss_ce_3: 0.6467 (0.6488)  loss_bbox_3: 1.1458 (1.1667)  loss_giou_3: 0.8276 (0.8565)  loss_feature_3: 0.5920 (0.6004)  loss_ce_4: 0.6372 (0.6405)  loss_bbox_4: 1.1520 (1.1534)  loss_giou_4: 0.8291 (0.8528)  loss_feature_4: 0.5882 (0.5996)  loss_ce_unscaled: 0.6360 (0.6410)  class_error_unscaled: 100.0000 (97.7143)  loss_bbox_unscaled: 0.2305 (0.2321)  loss_giou_unscaled: 0.4280 (0.4302)  cardinality_error_unscaled: 3.4000 (3.5333)  loss_feature_unscaled: 0.5872 (0.5990)  loss_ce_0_unscaled: 0.6349 (0.6374)  loss_bbox_0_unscaled: 0.2455 (0.2505)  loss_giou_0_unscaled: 0.4404 (0.4511)  cardinality_error_0_unscaled: 2.2000 (3.0190)  loss_feature_0_unscaled: 0.6009 (0.6156)  loss_ce_1_unscaled: 0.6367 (0.6421)  loss_bbox_1_unscaled: 0.2421 (0.2469)  loss_giou_1_unscaled: 0.4470 (0.4500)  cardinality_error_1_unscaled: 2.4000 (2.5810)  loss_feature_1_unscaled: 0.6007 (0.6096)  loss_ce_2_unscaled: 0.6563 (0.6479)  loss_bbox_2_unscaled: 0.2406 (0.2426)  loss_giou_2_unscaled: 0.4286 (0.4412)  cardinality_error_2_unscaled: 2.0000 (2.1048)  loss_feature_2_unscaled: 0.5955 (0.6033)  loss_ce_3_unscaled: 0.6467 (0.6488)  loss_bbox_3_unscaled: 0.2292 (0.2333)  loss_giou_3_unscaled: 0.4138 (0.4283)  cardinality_error_3_unscaled: 2.8000 (2.5524)  loss_feature_3_unscaled: 0.5920 (0.6004)  loss_ce_4_unscaled: 0.6372 (0.6405)  loss_bbox_4_unscaled: 0.2304 (0.2307)  loss_giou_4_unscaled: 0.4146 (0.4264)  cardinality_error_4_unscaled: 3.0000 (3.1619)  loss_feature_4_unscaled: 0.5882 (0.5996)  time: 1.8420  data: 0.0050  max mem: 1340\n",
      "Epoch: [8]  [ 30/105]  eta: 0:02:22  lr: 0.000100  class_error: 88.00  loss: 19.1365 (19.7525)  loss_ce: 0.6360 (0.6395)  loss_bbox: 1.1605 (1.1608)  loss_giou: 0.8560 (0.8566)  loss_feature: 0.5872 (0.5972)  loss_ce_0: 0.6225 (0.6313)  loss_bbox_0: 1.2471 (1.2682)  loss_giou_0: 0.8990 (0.8938)  loss_feature_0: 0.6009 (0.6140)  loss_ce_1: 0.6371 (0.6389)  loss_bbox_1: 1.1734 (1.2077)  loss_giou_1: 0.8403 (0.8812)  loss_feature_1: 0.6007 (0.6076)  loss_ce_2: 0.6563 (0.6447)  loss_bbox_2: 1.1374 (1.1806)  loss_giou_2: 0.8220 (0.8618)  loss_feature_2: 0.5955 (0.6013)  loss_ce_3: 0.6395 (0.6437)  loss_bbox_3: 1.1354 (1.1535)  loss_giou_3: 0.8088 (0.8444)  loss_feature_3: 0.5920 (0.5984)  loss_ce_4: 0.6326 (0.6373)  loss_bbox_4: 1.1582 (1.1494)  loss_giou_4: 0.8408 (0.8429)  loss_feature_4: 0.5882 (0.5976)  loss_ce_unscaled: 0.6360 (0.6395)  class_error_unscaled: 96.0000 (95.7419)  loss_bbox_unscaled: 0.2321 (0.2322)  loss_giou_unscaled: 0.4280 (0.4283)  cardinality_error_unscaled: 3.4000 (3.1484)  loss_feature_unscaled: 0.5872 (0.5972)  loss_ce_0_unscaled: 0.6225 (0.6313)  loss_bbox_0_unscaled: 0.2494 (0.2536)  loss_giou_0_unscaled: 0.4495 (0.4469)  cardinality_error_0_unscaled: 2.2000 (2.8581)  loss_feature_0_unscaled: 0.6009 (0.6140)  loss_ce_1_unscaled: 0.6371 (0.6389)  loss_bbox_1_unscaled: 0.2347 (0.2415)  loss_giou_1_unscaled: 0.4201 (0.4406)  cardinality_error_1_unscaled: 2.4000 (2.6129)  loss_feature_1_unscaled: 0.6007 (0.6076)  loss_ce_2_unscaled: 0.6563 (0.6447)  loss_bbox_2_unscaled: 0.2275 (0.2361)  loss_giou_2_unscaled: 0.4110 (0.4309)  cardinality_error_2_unscaled: 2.0000 (2.2903)  loss_feature_2_unscaled: 0.5955 (0.6013)  loss_ce_3_unscaled: 0.6395 (0.6437)  loss_bbox_3_unscaled: 0.2271 (0.2307)  loss_giou_3_unscaled: 0.4044 (0.4222)  cardinality_error_3_unscaled: 2.4000 (2.4645)  loss_feature_3_unscaled: 0.5920 (0.5984)  loss_ce_4_unscaled: 0.6326 (0.6373)  loss_bbox_4_unscaled: 0.2316 (0.2299)  loss_giou_4_unscaled: 0.4204 (0.4215)  cardinality_error_4_unscaled: 2.8000 (2.8323)  loss_feature_4_unscaled: 0.5882 (0.5976)  time: 1.8269  data: 0.0055  max mem: 1340\n"
     ]
    }
   ],
   "source": [
    "pretrain_detr(Pretraining_Config())"
   ]
  },
  {
   "cell_type": "code",
   "execution_count": null,
   "metadata": {},
   "outputs": [],
   "source": [
    "%cd .."
   ]
  },
  {
   "attachments": {},
   "cell_type": "markdown",
   "metadata": {},
   "source": [
    "## DETR Fork"
   ]
  },
  {
   "cell_type": "code",
   "execution_count": null,
   "metadata": {},
   "outputs": [],
   "source": [
    "os.getcwd()"
   ]
  },
  {
   "cell_type": "code",
   "execution_count": null,
   "metadata": {},
   "outputs": [],
   "source": [
    "# !rm -rf detr\n",
    "!git clone https://github.com/ahmfrz/detr.git\n",
    "%cd detr"
   ]
  },
  {
   "cell_type": "code",
   "execution_count": null,
   "metadata": {},
   "outputs": [],
   "source": [
    "import dataclasses\n",
    "\n",
    "@dataclasses.dataclass\n",
    "class Config():\n",
    "    epochs: int=200\n",
    "    obj_types_to_be_selected: int=5\n",
    "    lr: float=1e-4\n",
    "    weight_decay: float=1e-4\n",
    "    output_dir: str=\"..\\output\"\n",
    "    backbone: str=\"resnet50\"\n",
    "    batch_size: int=9\n",
    "    resume: str=\"..\\detr-r50_no-class-head.pth\"\n",
    "    has_custom_detection_class: bool=False\n",
    "    transform_type: str = 'None'\n",
    "    coco_path=\"..\\data\\coco\"\n"
   ]
  },
  {
   "cell_type": "code",
   "execution_count": null,
   "metadata": {},
   "outputs": [],
   "source": [
    "from detr.main import main, get_args_parser\n",
    "import argparse\n",
    "from pathlib import Path\n",
    "\n",
    "def train_detr(config: Config):\n",
    "    parser = argparse.ArgumentParser(\n",
    "        'DETR training and evaluation script', parents=[get_args_parser()])\n",
    "    args = parser.parse_args([\n",
    "        '--num_queries', str(config.obj_types_to_be_selected),\n",
    "        '--coco_path', config.coco_path,\n",
    "        '--lr', str(config.lr),\n",
    "        '--weight_decay', str(config.weight_decay),\n",
    "        '--output_dir', config.output_dir,\n",
    "        '--backbone', config.backbone,\n",
    "        '--batch_size', str(config.batch_size),\n",
    "        '--resume', \"..\\detr-r50_no-class-head.pth\",\n",
    "        '--epochs', str(config.epochs),\n",
    "        '--has_custom_detection_class', config.has_custom_detection_class,\n",
    "        '--transform_type', config.transform_type\n",
    "    ])\n",
    "\n",
    "    if args.output_dir:\n",
    "        Path(args.output_dir).mkdir(parents=True, exist_ok=True)\n",
    "\n",
    "    main(args)\n"
   ]
  },
  {
   "cell_type": "code",
   "execution_count": null,
   "metadata": {},
   "outputs": [],
   "source": [
    "import torch\n",
    "\n",
    "# Get pretrained weights\n",
    "checkpoint = torch.hub.load_state_dict_from_url(\n",
    "    url='https://dl.fbaipublicfiles.com/detr/detr-r50-e632da11.pth',\n",
    "    map_location='cpu',\n",
    "    check_hash=True)\n",
    "\n",
    "# Remove class weights\n",
    "del checkpoint[\"model\"][\"class_embed.weight\"]\n",
    "del checkpoint[\"model\"][\"class_embed.bias\"]\n",
    "del checkpoint[\"model\"][\"query_embed.weight\"]\n",
    "\n",
    "# Save\n",
    "torch.save(checkpoint,\n",
    "           '../detr-r50_no-class-head.pth')\n"
   ]
  },
  {
   "cell_type": "code",
   "execution_count": null,
   "metadata": {},
   "outputs": [],
   "source": [
    "os.getcwd()"
   ]
  },
  {
   "attachments": {},
   "cell_type": "markdown",
   "metadata": {},
   "source": [
    "## Base DETR"
   ]
  },
  {
   "cell_type": "code",
   "execution_count": null,
   "metadata": {},
   "outputs": [],
   "source": [
    "train_detr(Config(output_dir='../output/base'))"
   ]
  },
  {
   "cell_type": "code",
   "execution_count": null,
   "metadata": {},
   "outputs": [],
   "source": [
    "from util.plot_utils import plot_logs\n",
    "from pathlib import Path\n",
    "\n",
    "log_directory = [Path('../output/base')]"
   ]
  },
  {
   "cell_type": "code",
   "execution_count": null,
   "metadata": {},
   "outputs": [],
   "source": [
    "fields_of_interest = (\n",
    "    'loss',\n",
    "    'mAP',\n",
    "    )\n",
    "\n",
    "plot_logs(log_directory,\n",
    "          fields_of_interest)"
   ]
  },
  {
   "cell_type": "code",
   "execution_count": null,
   "metadata": {},
   "outputs": [],
   "source": [
    "fields_of_interest = (\n",
    "    'loss_ce',\n",
    "    'loss_bbox',\n",
    "    'loss_giou',\n",
    "    )\n",
    "\n",
    "plot_logs(log_directory,\n",
    "          fields_of_interest)"
   ]
  },
  {
   "cell_type": "code",
   "execution_count": null,
   "metadata": {},
   "outputs": [],
   "source": [
    "\n",
    "fields_of_interest = (\n",
    "    'class_error',\n",
    "    'cardinality_error_unscaled',\n",
    "    )\n",
    "\n",
    "plot_logs(log_directory,\n",
    "          fields_of_interest)   "
   ]
  },
  {
   "attachments": {},
   "cell_type": "markdown",
   "metadata": {},
   "source": [
    "Load the fine-tuned model"
   ]
  },
  {
   "cell_type": "code",
   "execution_count": null,
   "metadata": {},
   "outputs": [],
   "source": [
    "import torch\n",
    "model = torch.hub.load('facebookresearch/detr',\n",
    "                       'detr_resnet50',\n",
    "                       pretrained=False,\n",
    "                       num_classes=obj_types_to_be_selected)\n",
    "\n",
    "checkpoint = torch.load('../output/base/checkpoint.pth',\n",
    "                        map_location='cpu')\n",
    "\n",
    "del checkpoint[\"model\"][\"class_embed.weight\"]\n",
    "del checkpoint[\"model\"][\"class_embed.bias\"]\n",
    "del checkpoint[\"model\"][\"query_embed.weight\"]\n",
    "\n",
    "model.load_state_dict(checkpoint['model'],\n",
    "                      strict=False)\n",
    "\n",
    "# model.eval()"
   ]
  },
  {
   "cell_type": "markdown",
   "metadata": {},
   "source": [
    "Boilerplate functions to display fine-tuned results"
   ]
  },
  {
   "cell_type": "code",
   "execution_count": null,
   "metadata": {},
   "outputs": [],
   "source": [
    "# colors for visualization\n",
    "import torchvision.transforms as T\n",
    "COLORS = [[0.000, 0.447, 0.741], [0.850, 0.325, 0.098], [0.929, 0.694, 0.125],\n",
    "          [0.494, 0.184, 0.556], [0.466, 0.674, 0.188], [0.301, 0.745, 0.933]]\n",
    "\n",
    "\n",
    "# standard PyTorch mean-std input image normalization\n",
    "transform = T.Compose([\n",
    "    T.Resize(800),\n",
    "    T.ToTensor(),\n",
    "    T.Normalize([0.485, 0.456, 0.406], [0.229, 0.224, 0.225])\n",
    "])\n",
    "\n",
    "# for output bounding box post-processing\n",
    "\n",
    "\n",
    "def box_cxcywh_to_xyxy(x):\n",
    "    x_c, y_c, w, h = x.unbind(1)\n",
    "    b = [(x_c - 0.5 * w), (y_c - 0.5 * h),\n",
    "         (x_c + 0.5 * w), (y_c + 0.5 * h)]\n",
    "    return torch.stack(b, dim=1)\n",
    "\n",
    "\n",
    "def rescale_bboxes(out_bbox, size):\n",
    "    img_w, img_h = size\n",
    "    b = box_cxcywh_to_xyxy(out_bbox)\n",
    "    b = b * torch.tensor([img_w, img_h, img_w, img_h], dtype=torch.float32)\n",
    "    return b\n",
    "\n",
    "def filter_bboxes_from_outputs(outputs,\n",
    "                               threshold=0.7):\n",
    "\n",
    "  # keep only predictions with confidence above threshold\n",
    "  probas = outputs['pred_logits'].softmax(-1)[0, :, :-1]\n",
    "  keep = probas.max(-1).values > threshold\n",
    "\n",
    "  probas_to_keep = probas[keep]\n",
    "\n",
    "  # convert boxes from [0; 1] to image scales\n",
    "  bboxes_scaled = rescale_bboxes(outputs['pred_boxes'][0, keep], im.size)\n",
    "\n",
    "  return probas_to_keep, bboxes_scaled\n"
   ]
  },
  {
   "cell_type": "code",
   "execution_count": null,
   "metadata": {},
   "outputs": [],
   "source": [
    "\n",
    "\n",
    "def plot_finetuned_results(pil_img, prob=None, boxes=None):\n",
    "    plt.figure(figsize=(16, 10))\n",
    "    plt.imshow(pil_img)\n",
    "    ax = plt.gca()\n",
    "    colors = COLORS * 100\n",
    "    if prob is not None and boxes is not None:\n",
    "      for p, (xmin, ymin, xmax, ymax), c in zip(prob, boxes.tolist(), colors):\n",
    "          ax.add_patch(plt.Rectangle((xmin, ymin), xmax - xmin, ymax - ymin,\n",
    "                                     fill=False, color=c, linewidth=3))\n",
    "          cl = p.argmax()\n",
    "          text = f'{coco_class_names[cl]}: {p[cl]:0.2f}'\n",
    "          ax.text(xmin, ymin, text, fontsize=15,\n",
    "                  bbox=dict(facecolor='yellow', alpha=0.5))\n",
    "    plt.axis('off')\n",
    "    plt.show()\n"
   ]
  },
  {
   "cell_type": "code",
   "execution_count": null,
   "metadata": {},
   "outputs": [],
   "source": [
    "def run_workflow(my_image, my_model):\n",
    "  # mean-std normalize the input image (batch-size: 1)\n",
    "  img = transform(my_image).unsqueeze(0)\n",
    "\n",
    "  # propagate through the model\n",
    "  outputs = my_model(img)\n",
    "\n",
    "  for threshold in [0.5, 0.4]:\n",
    "\n",
    "    probas_to_keep, bboxes_scaled = filter_bboxes_from_outputs(outputs,\n",
    "                                                               threshold=threshold)\n",
    "\n",
    "    plot_finetuned_results(my_image,\n",
    "                           probas_to_keep,\n",
    "                           bboxes_scaled)\n"
   ]
  },
  {
   "cell_type": "markdown",
   "metadata": {},
   "source": [
    "With a training image\n"
   ]
  },
  {
   "cell_type": "code",
   "execution_count": null,
   "metadata": {},
   "outputs": [],
   "source": [
    "%cd .."
   ]
  },
  {
   "cell_type": "code",
   "execution_count": null,
   "metadata": {},
   "outputs": [],
   "source": [
    "import json\n",
    "coco_class_names = load_config()['coco_selected_object_names']\n"
   ]
  },
  {
   "cell_type": "code",
   "execution_count": null,
   "metadata": {},
   "outputs": [],
   "source": [
    "from PIL import Image\n",
    "\n",
    "data_dir = './data/coco/'\n",
    "train_img_ids = load_config()['train_img_ids']\n",
    "coco = COCO(f'{data_dir}/annotations/instances_train2017.json')\n",
    "img_obj = coco.loadImgs(train_img_ids[:5])[4]\n",
    "img_name = f'{data_dir}/train2017/{img_obj[\"file_name\"]}'\n",
    "im = Image.open(img_name)\n",
    "\n",
    "run_workflow(im,\n",
    "            model)\n"
   ]
  },
  {
   "attachments": {},
   "cell_type": "markdown",
   "metadata": {},
   "source": [
    "With a validation image"
   ]
  },
  {
   "cell_type": "code",
   "execution_count": null,
   "metadata": {},
   "outputs": [],
   "source": [
    "from PIL import Image\n",
    "\n",
    "val_img_ids = load_config()['val_img_ids']\n",
    "coco = COCO(f'{data_dir}/annotations/instances_val2017.json')\n",
    "img_obj = coco.loadImgs(val_img_ids[:5])[2]\n",
    "img_name = f'{data_dir}/val2017/{img_obj[\"file_name\"]}'\n",
    "im = Image.open(img_name)\n",
    "\n",
    "run_workflow(im, model)\n"
   ]
  },
  {
   "cell_type": "code",
   "execution_count": null,
   "metadata": {},
   "outputs": [],
   "source": [
    "%cd detr/"
   ]
  },
  {
   "attachments": {},
   "cell_type": "markdown",
   "metadata": {},
   "source": [
    "## DETR with geometric augmentations"
   ]
  },
  {
   "cell_type": "code",
   "execution_count": null,
   "metadata": {},
   "outputs": [],
   "source": [
    "train_detr(Config(output_dir='../output/geometric', \n",
    "                  has_custom_detection_class='True',\n",
    "                  transform_type='geometric'))"
   ]
  },
  {
   "attachments": {},
   "cell_type": "markdown",
   "metadata": {},
   "source": [
    "## DETR with Copy Paste augmentation"
   ]
  },
  {
   "cell_type": "code",
   "execution_count": null,
   "metadata": {},
   "outputs": [],
   "source": [
    "train_detr(Config(output_dir='../output/copypaste', \n",
    "                  has_custom_detection_class='True',\n",
    "                  transform_type='copypaste',\n",
    "                  batch_size=5))"
   ]
  },
  {
   "attachments": {},
   "cell_type": "markdown",
   "metadata": {},
   "source": [
    "## DETR with Random Erasing augmentation"
   ]
  },
  {
   "cell_type": "code",
   "execution_count": null,
   "metadata": {},
   "outputs": [],
   "source": [
    "train_detr(Config(output_dir='../output/randomerasing', \n",
    "                  has_custom_detection_class='True',\n",
    "                  transform_type='randomerasing'))"
   ]
  },
  {
   "attachments": {},
   "cell_type": "markdown",
   "metadata": {},
   "source": [
    "## DETR with Noise Injection augmentation"
   ]
  },
  {
   "cell_type": "code",
   "execution_count": null,
   "metadata": {},
   "outputs": [],
   "source": [
    "train_detr(Config(output_dir='../output/noise', \n",
    "                  has_custom_detection_class='True',\n",
    "                  transform_type='noise'))"
   ]
  },
  {
   "attachments": {},
   "cell_type": "markdown",
   "metadata": {},
   "source": [
    "## DETR with Geometric+Noise Injection augmentation"
   ]
  },
  {
   "cell_type": "code",
   "execution_count": null,
   "metadata": {},
   "outputs": [],
   "source": [
    "train_detr(Config(output_dir='../output/geometric+noise', \n",
    "                  has_custom_detection_class='True',\n",
    "                  transform_type='geometric+noise'))"
   ]
  },
  {
   "attachments": {},
   "cell_type": "markdown",
   "metadata": {},
   "source": [
    "## DETR with Pretrained model"
   ]
  },
  {
   "cell_type": "code",
   "execution_count": null,
   "metadata": {},
   "outputs": [],
   "source": [
    "train_detr(Config(output_dir='../output/pretrained_finetuning', \n",
    "                  has_custom_detection_class=False,\n",
    "                  transform_type='None',\n",
    "                  resume='../output/pretrain/checkpoint.pth',\n",
    "                  epochs=1,\n",
    "                  batch_size=2))"
   ]
  }
 ],
 "metadata": {
  "kernelspec": {
   "display_name": "env",
   "language": "python",
   "name": "python3"
  },
  "language_info": {
   "codemirror_mode": {
    "name": "ipython",
    "version": 3
   },
   "file_extension": ".py",
   "mimetype": "text/x-python",
   "name": "python",
   "nbconvert_exporter": "python",
   "pygments_lexer": "ipython3",
   "version": "3.9.7"
  },
  "orig_nbformat": 4,
  "vscode": {
   "interpreter": {
    "hash": "5f143ba3d2ff9ccf049485e31b2488cd089888a1e124f6ea17afce21c13a32fc"
   }
  }
 },
 "nbformat": 4,
 "nbformat_minor": 2
}
